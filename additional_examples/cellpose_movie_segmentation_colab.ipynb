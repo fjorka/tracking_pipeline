{
 "cells": [
  {
   "cell_type": "code",
   "execution_count": 4,
   "metadata": {
    "colab": {
     "base_uri": "https://localhost:8080/"
    },
    "id": "ygiDcDuekWxe",
    "outputId": "a5cba7d7-4b1c-4894-95cc-bfd1aa7939b5"
   },
   "outputs": [
    {
     "name": "stdout",
     "output_type": "stream",
     "text": [
      "Collecting cellpose\n",
      "  Downloading cellpose-0.6.5.tar.gz (13.3 MB)\n",
      "\u001b[K     |████████████████████████████████| 13.3 MB 74 kB/s \n",
      "\u001b[?25hRequirement already satisfied: numpy in /usr/local/lib/python3.7/dist-packages (from cellpose) (1.19.5)\n",
      "Requirement already satisfied: scipy in /usr/local/lib/python3.7/dist-packages (from cellpose) (1.4.1)\n",
      "Requirement already satisfied: natsort in /usr/local/lib/python3.7/dist-packages (from cellpose) (5.5.0)\n",
      "Requirement already satisfied: tifffile in /usr/local/lib/python3.7/dist-packages (from cellpose) (2021.8.8)\n",
      "Requirement already satisfied: tqdm in /usr/local/lib/python3.7/dist-packages (from cellpose) (4.62.0)\n",
      "Requirement already satisfied: numba in /usr/local/lib/python3.7/dist-packages (from cellpose) (0.51.2)\n",
      "Requirement already satisfied: torch>=1.6 in /usr/local/lib/python3.7/dist-packages (from cellpose) (1.9.0+cu102)\n",
      "Collecting opencv-python-headless\n",
      "  Downloading opencv_python_headless-4.5.3.56-cp37-cp37m-manylinux2014_x86_64.whl (37.1 MB)\n",
      "\u001b[K     |████████████████████████████████| 37.1 MB 47 kB/s \n",
      "\u001b[?25hRequirement already satisfied: typing-extensions in /usr/local/lib/python3.7/dist-packages (from torch>=1.6->cellpose) (3.7.4.3)\n",
      "Requirement already satisfied: llvmlite<0.35,>=0.34.0.dev0 in /usr/local/lib/python3.7/dist-packages (from numba->cellpose) (0.34.0)\n",
      "Requirement already satisfied: setuptools in /usr/local/lib/python3.7/dist-packages (from numba->cellpose) (57.4.0)\n",
      "Building wheels for collected packages: cellpose\n",
      "  Building wheel for cellpose (setup.py) ... \u001b[?25l\u001b[?25hdone\n",
      "  Created wheel for cellpose: filename=cellpose-0.6.5-py3-none-any.whl size=152511 sha256=3af1ee1b197469711f09a664e30fc0d2be378a6a41bca4329c563f2270a7e71e\n",
      "  Stored in directory: /root/.cache/pip/wheels/0e/6a/fc/e28edbe6b2f78b3ee4c011e97236b996818d86bec88e78dc64\n",
      "Successfully built cellpose\n",
      "Installing collected packages: opencv-python-headless, cellpose\n",
      "Successfully installed cellpose-0.6.5 opencv-python-headless-4.5.3.56\n"
     ]
    }
   ],
   "source": [
    "# install cellpose on the VM\n",
    "!pip install cellpose"
   ]
  },
  {
   "cell_type": "code",
   "execution_count": 5,
   "metadata": {
    "colab": {
     "base_uri": "https://localhost:8080/"
    },
    "id": "Eg9z-ZOgllwB",
    "outputId": "6fb568f5-41fb-4f47-d605-90b4f58149d5"
   },
   "outputs": [
    {
     "name": "stdout",
     "output_type": "stream",
     "text": [
      "Collecting nd2reader\n",
      "  Downloading nd2reader-3.3.0-py2.py3-none-any.whl (36 kB)\n",
      "Requirement already satisfied: numpy>=1.14 in /usr/local/lib/python3.7/dist-packages (from nd2reader) (1.19.5)\n",
      "Collecting xmltodict>=0.9.2\n",
      "  Downloading xmltodict-0.12.0-py2.py3-none-any.whl (9.2 kB)\n",
      "Collecting pims>=0.3.0\n",
      "  Downloading PIMS-0.5.tar.gz (85 kB)\n",
      "\u001b[K     |████████████████████████████████| 85 kB 3.5 MB/s \n",
      "\u001b[?25hRequirement already satisfied: six>=1.4 in /usr/local/lib/python3.7/dist-packages (from nd2reader) (1.15.0)\n",
      "Collecting slicerator>=0.9.8\n",
      "  Downloading slicerator-1.0.0-py3-none-any.whl (9.3 kB)\n",
      "Building wheels for collected packages: pims\n",
      "  Building wheel for pims (setup.py) ... \u001b[?25l\u001b[?25hdone\n",
      "  Created wheel for pims: filename=PIMS-0.5-py3-none-any.whl size=84326 sha256=504aaf71e08271cf17a19d007acc2cdff018fefbf5f106851d03319454262c6a\n",
      "  Stored in directory: /root/.cache/pip/wheels/75/02/a9/86571c38081ba4c1832eb95430b5d588dfa15a738e2a603737\n",
      "Successfully built pims\n",
      "Installing collected packages: slicerator, xmltodict, pims, nd2reader\n",
      "Successfully installed nd2reader-3.3.0 pims-0.5 slicerator-1.0.0 xmltodict-0.12.0\n"
     ]
    }
   ],
   "source": [
    "!pip install nd2reader"
   ]
  },
  {
   "cell_type": "code",
   "execution_count": 1,
   "metadata": {
    "colab": {
     "base_uri": "https://localhost:8080/"
    },
    "id": "RSPaSKx2m1an",
    "outputId": "fa1efe16-3156-47aa-c23f-0f7ee5a14c21"
   },
   "outputs": [
    {
     "name": "stdout",
     "output_type": "stream",
     "text": [
      "nvcc: NVIDIA (R) Cuda compiler driver\n",
      "Copyright (c) 2005-2020 NVIDIA Corporation\n",
      "Built on Wed_Jul_22_19:09:09_PDT_2020\n",
      "Cuda compilation tools, release 11.0, V11.0.221\n",
      "Build cuda_11.0_bu.TC445_37.28845127_0\n",
      "Thu Aug 26 13:21:07 2021       \n",
      "+-----------------------------------------------------------------------------+\n",
      "| NVIDIA-SMI 470.57.02    Driver Version: 460.32.03    CUDA Version: 11.2     |\n",
      "|-------------------------------+----------------------+----------------------+\n",
      "| GPU  Name        Persistence-M| Bus-Id        Disp.A | Volatile Uncorr. ECC |\n",
      "| Fan  Temp  Perf  Pwr:Usage/Cap|         Memory-Usage | GPU-Util  Compute M. |\n",
      "|                               |                      |               MIG M. |\n",
      "|===============================+======================+======================|\n",
      "|   0  Tesla K80           Off  | 00000000:00:04.0 Off |                    0 |\n",
      "| N/A   34C    P8    26W / 149W |      0MiB / 11441MiB |      0%      Default |\n",
      "|                               |                      |                  N/A |\n",
      "+-------------------------------+----------------------+----------------------+\n",
      "                                                                               \n",
      "+-----------------------------------------------------------------------------+\n",
      "| Processes:                                                                  |\n",
      "|  GPU   GI   CI        PID   Type   Process name                  GPU Memory |\n",
      "|        ID   ID                                                   Usage      |\n",
      "|=============================================================================|\n",
      "|  No running processes found                                                 |\n",
      "+-----------------------------------------------------------------------------+\n"
     ]
    }
   ],
   "source": [
    "!nvcc --version\n",
    "!nvidia-smi"
   ]
  },
  {
   "cell_type": "code",
   "execution_count": null,
   "metadata": {
    "id": "dElQxtT7kRmy"
   },
   "outputs": [],
   "source": [
    "from cellpose import models"
   ]
  },
  {
   "cell_type": "code",
   "execution_count": 39,
   "metadata": {
    "id": "tO7E1pCAo8Kc"
   },
   "outputs": [],
   "source": [
    "import os\n",
    "from skimage.io import imsave \n",
    "from tifffile import imread,TiffFile"
   ]
  },
  {
   "cell_type": "code",
   "execution_count": 36,
   "metadata": {
    "colab": {
     "base_uri": "https://localhost:8080/"
    },
    "id": "nzsq6lUBjV6d",
    "outputId": "693ee9af-d912-4815-a5a0-cd23d723115a"
   },
   "outputs": [
    {
     "name": "stdout",
     "output_type": "stream",
     "text": [
      "Mounted at /content/drive\n"
     ]
    }
   ],
   "source": [
    "from google.colab import drive\n",
    "drive.mount('/content/drive', force_remount=True)"
   ]
  },
  {
   "cell_type": "code",
   "execution_count": 37,
   "metadata": {
    "colab": {
     "base_uri": "https://localhost:8080/"
    },
    "id": "v2JigGQ5jZ2t",
    "outputId": "73bb8e21-ac19-4650-f947-6cb855741ffa"
   },
   "outputs": [
    {
     "data": {
      "text/plain": [
       "['01.nd2', '01_ch0.tif']"
      ]
     },
     "execution_count": 37,
     "metadata": {},
     "output_type": "execute_result"
    }
   ],
   "source": [
    "dir_path = '/content/drive/MyDrive/data_test'\n",
    "os.listdir(dir_path)"
   ]
  },
  {
   "cell_type": "code",
   "execution_count": 47,
   "metadata": {
    "id": "lCjjR3hMmXaT"
   },
   "outputs": [],
   "source": [
    "im_file = r'01_ch0.tif'\n",
    "im_path = os.path.join(dir_path,im_file)"
   ]
  },
  {
   "cell_type": "code",
   "execution_count": 9,
   "metadata": {
    "colab": {
     "base_uri": "https://localhost:8080/"
    },
    "id": "kBhvHNRUljgD",
    "outputId": "ce0fb907-f288-41c0-f007-b57fcfe3316c"
   },
   "outputs": [
    {
     "name": "stdout",
     "output_type": "stream",
     "text": [
      "2021-08-26 13:25:07,826 [INFO] ** TORCH CUDA version installed and working. **\n",
      "2021-08-26 13:25:07,829 [INFO] >>>> using GPU\n"
     ]
    }
   ],
   "source": [
    "# load cellpose model\n",
    "model = models.Cellpose(gpu=True, model_type='cyto')"
   ]
  },
  {
   "cell_type": "code",
   "execution_count": 45,
   "metadata": {
    "id": "y4UV0eWg5Xxr"
   },
   "outputs": [],
   "source": [
    "frames_num = len(TiffFile(os.path.join(dir_path,im_file)).pages)"
   ]
  },
  {
   "cell_type": "code",
   "execution_count": 46,
   "metadata": {
    "colab": {
     "base_uri": "https://localhost:8080/"
    },
    "id": "1hLE2oydpUwk",
    "outputId": "a56eaf5b-09a6-4e6e-ac82-50b12c87cec0"
   },
   "outputs": [
    {
     "name": "stdout",
     "output_type": "stream",
     "text": [
      "Directory for saving created.\n"
     ]
    }
   ],
   "source": [
    "save_dir = os.path.join(dir_path,'results')\n",
    "\n",
    "try:\n",
    "    os.mkdir(save_dir)\n",
    "    print('Directory for saving created.')\n",
    "except:\n",
    "    print('Directory not created.')"
   ]
  },
  {
   "cell_type": "code",
   "execution_count": null,
   "metadata": {
    "colab": {
     "base_uri": "https://localhost:8080/"
    },
    "id": "SOG4BDuKpIO0",
    "outputId": "924f2bce-57ad-4bec-f76d-ce69268a4530"
   },
   "outputs": [
    {
     "name": "stdout",
     "output_type": "stream",
     "text": [
      "2021-08-26 14:43:50,613 [INFO] ~~~ FINDING MASKS ~~~\n"
     ]
    },
    {
     "name": "stderr",
     "output_type": "stream",
     "text": [
      "/usr/local/lib/python3.7/dist-packages/torch/nn/functional.py:3982: UserWarning: Default grid_sample and affine_grid behavior has changed to align_corners=False since 1.3.0. Please specify align_corners=True if the old behavior is desired. See the documentation of grid_sample for details.\n",
      "  \"Default grid_sample and affine_grid behavior has changed \"\n"
     ]
    },
    {
     "name": "stdout",
     "output_type": "stream",
     "text": [
      "2021-08-26 14:44:12,901 [INFO] >>>> TOTAL TIME 22.29 sec\n"
     ]
    },
    {
     "name": "stderr",
     "output_type": "stream",
     "text": [
      "/usr/local/lib/python3.7/dist-packages/ipykernel_launcher.py:13: UserWarning: /content/drive/MyDrive/data_test/results/01_ch0_000.png is a low contrast image\n",
      "  del sys.path[0]\n"
     ]
    },
    {
     "name": "stdout",
     "output_type": "stream",
     "text": [
      "2021-08-26 14:44:13,149 [INFO] ~~~ FINDING MASKS ~~~\n",
      "2021-08-26 14:44:35,498 [INFO] >>>> TOTAL TIME 22.35 sec\n"
     ]
    },
    {
     "name": "stderr",
     "output_type": "stream",
     "text": [
      "/usr/local/lib/python3.7/dist-packages/ipykernel_launcher.py:13: UserWarning: /content/drive/MyDrive/data_test/results/01_ch0_001.png is a low contrast image\n",
      "  del sys.path[0]\n"
     ]
    },
    {
     "name": "stdout",
     "output_type": "stream",
     "text": [
      "2021-08-26 14:44:35,726 [INFO] ~~~ FINDING MASKS ~~~\n",
      "2021-08-26 14:44:57,992 [INFO] >>>> TOTAL TIME 22.27 sec\n"
     ]
    },
    {
     "name": "stderr",
     "output_type": "stream",
     "text": [
      "/usr/local/lib/python3.7/dist-packages/ipykernel_launcher.py:13: UserWarning: /content/drive/MyDrive/data_test/results/01_ch0_002.png is a low contrast image\n",
      "  del sys.path[0]\n"
     ]
    },
    {
     "name": "stdout",
     "output_type": "stream",
     "text": [
      "2021-08-26 14:44:58,218 [INFO] ~~~ FINDING MASKS ~~~\n",
      "2021-08-26 14:45:20,603 [INFO] >>>> TOTAL TIME 22.38 sec\n"
     ]
    },
    {
     "name": "stderr",
     "output_type": "stream",
     "text": [
      "/usr/local/lib/python3.7/dist-packages/ipykernel_launcher.py:13: UserWarning: /content/drive/MyDrive/data_test/results/01_ch0_003.png is a low contrast image\n",
      "  del sys.path[0]\n"
     ]
    },
    {
     "name": "stdout",
     "output_type": "stream",
     "text": [
      "2021-08-26 14:45:20,836 [INFO] ~~~ FINDING MASKS ~~~\n",
      "2021-08-26 14:45:43,163 [INFO] >>>> TOTAL TIME 22.33 sec\n"
     ]
    },
    {
     "name": "stderr",
     "output_type": "stream",
     "text": [
      "/usr/local/lib/python3.7/dist-packages/ipykernel_launcher.py:13: UserWarning: /content/drive/MyDrive/data_test/results/01_ch0_004.png is a low contrast image\n",
      "  del sys.path[0]\n"
     ]
    },
    {
     "name": "stdout",
     "output_type": "stream",
     "text": [
      "2021-08-26 14:45:43,393 [INFO] ~~~ FINDING MASKS ~~~\n",
      "2021-08-26 14:46:05,765 [INFO] >>>> TOTAL TIME 22.37 sec\n"
     ]
    },
    {
     "name": "stderr",
     "output_type": "stream",
     "text": [
      "/usr/local/lib/python3.7/dist-packages/ipykernel_launcher.py:13: UserWarning: /content/drive/MyDrive/data_test/results/01_ch0_005.png is a low contrast image\n",
      "  del sys.path[0]\n"
     ]
    },
    {
     "name": "stdout",
     "output_type": "stream",
     "text": [
      "2021-08-26 14:46:05,988 [INFO] ~~~ FINDING MASKS ~~~\n",
      "2021-08-26 14:46:28,296 [INFO] >>>> TOTAL TIME 22.31 sec\n",
      "2021-08-26 14:46:28,507 [INFO] ~~~ FINDING MASKS ~~~\n"
     ]
    },
    {
     "name": "stderr",
     "output_type": "stream",
     "text": [
      "/usr/local/lib/python3.7/dist-packages/ipykernel_launcher.py:13: UserWarning: /content/drive/MyDrive/data_test/results/01_ch0_006.png is a low contrast image\n",
      "  del sys.path[0]\n"
     ]
    },
    {
     "name": "stdout",
     "output_type": "stream",
     "text": [
      "2021-08-26 14:46:50,819 [INFO] >>>> TOTAL TIME 22.31 sec\n",
      "2021-08-26 14:46:51,040 [INFO] ~~~ FINDING MASKS ~~~\n"
     ]
    },
    {
     "name": "stderr",
     "output_type": "stream",
     "text": [
      "/usr/local/lib/python3.7/dist-packages/ipykernel_launcher.py:13: UserWarning: /content/drive/MyDrive/data_test/results/01_ch0_007.png is a low contrast image\n",
      "  del sys.path[0]\n"
     ]
    },
    {
     "name": "stdout",
     "output_type": "stream",
     "text": [
      "2021-08-26 14:47:13,333 [INFO] >>>> TOTAL TIME 22.29 sec\n",
      "2021-08-26 14:47:13,547 [INFO] ~~~ FINDING MASKS ~~~\n"
     ]
    },
    {
     "name": "stderr",
     "output_type": "stream",
     "text": [
      "/usr/local/lib/python3.7/dist-packages/ipykernel_launcher.py:13: UserWarning: /content/drive/MyDrive/data_test/results/01_ch0_008.png is a low contrast image\n",
      "  del sys.path[0]\n"
     ]
    },
    {
     "name": "stdout",
     "output_type": "stream",
     "text": [
      "2021-08-26 14:47:35,841 [INFO] >>>> TOTAL TIME 22.29 sec\n",
      "2021-08-26 14:47:36,051 [INFO] ~~~ FINDING MASKS ~~~\n"
     ]
    },
    {
     "name": "stderr",
     "output_type": "stream",
     "text": [
      "/usr/local/lib/python3.7/dist-packages/ipykernel_launcher.py:13: UserWarning: /content/drive/MyDrive/data_test/results/01_ch0_009.png is a low contrast image\n",
      "  del sys.path[0]\n"
     ]
    },
    {
     "name": "stdout",
     "output_type": "stream",
     "text": [
      "2021-08-26 14:47:58,261 [INFO] >>>> TOTAL TIME 22.21 sec\n"
     ]
    },
    {
     "name": "stderr",
     "output_type": "stream",
     "text": [
      "/usr/local/lib/python3.7/dist-packages/ipykernel_launcher.py:13: UserWarning: /content/drive/MyDrive/data_test/results/01_ch0_010.png is a low contrast image\n",
      "  del sys.path[0]\n"
     ]
    },
    {
     "name": "stdout",
     "output_type": "stream",
     "text": [
      "2021-08-26 14:47:58,479 [INFO] ~~~ FINDING MASKS ~~~\n",
      "2021-08-26 14:48:20,681 [INFO] >>>> TOTAL TIME 22.20 sec\n",
      "2021-08-26 14:48:20,896 [INFO] ~~~ FINDING MASKS ~~~\n"
     ]
    },
    {
     "name": "stderr",
     "output_type": "stream",
     "text": [
      "/usr/local/lib/python3.7/dist-packages/ipykernel_launcher.py:13: UserWarning: /content/drive/MyDrive/data_test/results/01_ch0_011.png is a low contrast image\n",
      "  del sys.path[0]\n"
     ]
    },
    {
     "name": "stdout",
     "output_type": "stream",
     "text": [
      "2021-08-26 14:48:43,077 [INFO] >>>> TOTAL TIME 22.18 sec\n"
     ]
    },
    {
     "name": "stderr",
     "output_type": "stream",
     "text": [
      "/usr/local/lib/python3.7/dist-packages/ipykernel_launcher.py:13: UserWarning: /content/drive/MyDrive/data_test/results/01_ch0_012.png is a low contrast image\n",
      "  del sys.path[0]\n"
     ]
    },
    {
     "name": "stdout",
     "output_type": "stream",
     "text": [
      "2021-08-26 14:48:43,300 [INFO] ~~~ FINDING MASKS ~~~\n",
      "2021-08-26 14:49:05,729 [INFO] >>>> TOTAL TIME 22.43 sec\n"
     ]
    },
    {
     "name": "stderr",
     "output_type": "stream",
     "text": [
      "/usr/local/lib/python3.7/dist-packages/ipykernel_launcher.py:13: UserWarning: /content/drive/MyDrive/data_test/results/01_ch0_013.png is a low contrast image\n",
      "  del sys.path[0]\n"
     ]
    },
    {
     "name": "stdout",
     "output_type": "stream",
     "text": [
      "2021-08-26 14:49:05,961 [INFO] ~~~ FINDING MASKS ~~~\n",
      "2021-08-26 14:49:28,135 [INFO] >>>> TOTAL TIME 22.17 sec\n",
      "2021-08-26 14:49:28,348 [INFO] ~~~ FINDING MASKS ~~~\n"
     ]
    },
    {
     "name": "stderr",
     "output_type": "stream",
     "text": [
      "/usr/local/lib/python3.7/dist-packages/ipykernel_launcher.py:13: UserWarning: /content/drive/MyDrive/data_test/results/01_ch0_014.png is a low contrast image\n",
      "  del sys.path[0]\n"
     ]
    },
    {
     "name": "stdout",
     "output_type": "stream",
     "text": [
      "2021-08-26 14:49:50,740 [INFO] >>>> TOTAL TIME 22.39 sec\n",
      "2021-08-26 14:49:50,958 [INFO] ~~~ FINDING MASKS ~~~\n"
     ]
    },
    {
     "name": "stderr",
     "output_type": "stream",
     "text": [
      "/usr/local/lib/python3.7/dist-packages/ipykernel_launcher.py:13: UserWarning: /content/drive/MyDrive/data_test/results/01_ch0_015.png is a low contrast image\n",
      "  del sys.path[0]\n"
     ]
    },
    {
     "name": "stdout",
     "output_type": "stream",
     "text": [
      "2021-08-26 14:50:13,222 [INFO] >>>> TOTAL TIME 22.26 sec\n"
     ]
    },
    {
     "name": "stderr",
     "output_type": "stream",
     "text": [
      "/usr/local/lib/python3.7/dist-packages/ipykernel_launcher.py:13: UserWarning: /content/drive/MyDrive/data_test/results/01_ch0_016.png is a low contrast image\n",
      "  del sys.path[0]\n"
     ]
    },
    {
     "name": "stdout",
     "output_type": "stream",
     "text": [
      "2021-08-26 14:50:13,443 [INFO] ~~~ FINDING MASKS ~~~\n",
      "2021-08-26 14:50:35,698 [INFO] >>>> TOTAL TIME 22.26 sec\n"
     ]
    },
    {
     "name": "stderr",
     "output_type": "stream",
     "text": [
      "/usr/local/lib/python3.7/dist-packages/ipykernel_launcher.py:13: UserWarning: /content/drive/MyDrive/data_test/results/01_ch0_017.png is a low contrast image\n",
      "  del sys.path[0]\n"
     ]
    },
    {
     "name": "stdout",
     "output_type": "stream",
     "text": [
      "2021-08-26 14:50:35,928 [INFO] ~~~ FINDING MASKS ~~~\n",
      "2021-08-26 14:50:58,186 [INFO] >>>> TOTAL TIME 22.26 sec\n"
     ]
    },
    {
     "name": "stderr",
     "output_type": "stream",
     "text": [
      "/usr/local/lib/python3.7/dist-packages/ipykernel_launcher.py:13: UserWarning: /content/drive/MyDrive/data_test/results/01_ch0_018.png is a low contrast image\n",
      "  del sys.path[0]\n"
     ]
    },
    {
     "name": "stdout",
     "output_type": "stream",
     "text": [
      "2021-08-26 14:50:58,421 [INFO] ~~~ FINDING MASKS ~~~\n",
      "2021-08-26 14:51:20,685 [INFO] >>>> TOTAL TIME 22.26 sec\n"
     ]
    },
    {
     "name": "stderr",
     "output_type": "stream",
     "text": [
      "/usr/local/lib/python3.7/dist-packages/ipykernel_launcher.py:13: UserWarning: /content/drive/MyDrive/data_test/results/01_ch0_019.png is a low contrast image\n",
      "  del sys.path[0]\n"
     ]
    },
    {
     "name": "stdout",
     "output_type": "stream",
     "text": [
      "2021-08-26 14:51:20,928 [INFO] ~~~ FINDING MASKS ~~~\n",
      "2021-08-26 14:51:43,306 [INFO] >>>> TOTAL TIME 22.38 sec\n"
     ]
    },
    {
     "name": "stderr",
     "output_type": "stream",
     "text": [
      "/usr/local/lib/python3.7/dist-packages/ipykernel_launcher.py:13: UserWarning: /content/drive/MyDrive/data_test/results/01_ch0_020.png is a low contrast image\n",
      "  del sys.path[0]\n"
     ]
    },
    {
     "name": "stdout",
     "output_type": "stream",
     "text": [
      "2021-08-26 14:51:43,550 [INFO] ~~~ FINDING MASKS ~~~\n",
      "2021-08-26 14:52:05,958 [INFO] >>>> TOTAL TIME 22.41 sec\n"
     ]
    },
    {
     "name": "stderr",
     "output_type": "stream",
     "text": [
      "/usr/local/lib/python3.7/dist-packages/ipykernel_launcher.py:13: UserWarning: /content/drive/MyDrive/data_test/results/01_ch0_021.png is a low contrast image\n",
      "  del sys.path[0]\n"
     ]
    },
    {
     "name": "stdout",
     "output_type": "stream",
     "text": [
      "2021-08-26 14:52:06,192 [INFO] ~~~ FINDING MASKS ~~~\n",
      "2021-08-26 14:52:28,613 [INFO] >>>> TOTAL TIME 22.42 sec\n"
     ]
    },
    {
     "name": "stderr",
     "output_type": "stream",
     "text": [
      "/usr/local/lib/python3.7/dist-packages/ipykernel_launcher.py:13: UserWarning: /content/drive/MyDrive/data_test/results/01_ch0_022.png is a low contrast image\n",
      "  del sys.path[0]\n"
     ]
    },
    {
     "name": "stdout",
     "output_type": "stream",
     "text": [
      "2021-08-26 14:52:28,832 [INFO] ~~~ FINDING MASKS ~~~\n",
      "2021-08-26 14:52:51,088 [INFO] >>>> TOTAL TIME 22.26 sec\n"
     ]
    },
    {
     "name": "stderr",
     "output_type": "stream",
     "text": [
      "/usr/local/lib/python3.7/dist-packages/ipykernel_launcher.py:13: UserWarning: /content/drive/MyDrive/data_test/results/01_ch0_023.png is a low contrast image\n",
      "  del sys.path[0]\n"
     ]
    },
    {
     "name": "stdout",
     "output_type": "stream",
     "text": [
      "2021-08-26 14:52:51,330 [INFO] ~~~ FINDING MASKS ~~~\n",
      "2021-08-26 14:53:13,684 [INFO] >>>> TOTAL TIME 22.35 sec\n"
     ]
    },
    {
     "name": "stderr",
     "output_type": "stream",
     "text": [
      "/usr/local/lib/python3.7/dist-packages/ipykernel_launcher.py:13: UserWarning: /content/drive/MyDrive/data_test/results/01_ch0_024.png is a low contrast image\n",
      "  del sys.path[0]\n"
     ]
    },
    {
     "name": "stdout",
     "output_type": "stream",
     "text": [
      "2021-08-26 14:53:13,916 [INFO] ~~~ FINDING MASKS ~~~\n",
      "2021-08-26 14:53:36,136 [INFO] >>>> TOTAL TIME 22.22 sec\n"
     ]
    },
    {
     "name": "stderr",
     "output_type": "stream",
     "text": [
      "/usr/local/lib/python3.7/dist-packages/ipykernel_launcher.py:13: UserWarning: /content/drive/MyDrive/data_test/results/01_ch0_025.png is a low contrast image\n",
      "  del sys.path[0]\n"
     ]
    },
    {
     "name": "stdout",
     "output_type": "stream",
     "text": [
      "2021-08-26 14:53:36,366 [INFO] ~~~ FINDING MASKS ~~~\n",
      "2021-08-26 14:53:58,668 [INFO] >>>> TOTAL TIME 22.30 sec\n"
     ]
    },
    {
     "name": "stderr",
     "output_type": "stream",
     "text": [
      "/usr/local/lib/python3.7/dist-packages/ipykernel_launcher.py:13: UserWarning: /content/drive/MyDrive/data_test/results/01_ch0_026.png is a low contrast image\n",
      "  del sys.path[0]\n"
     ]
    },
    {
     "name": "stdout",
     "output_type": "stream",
     "text": [
      "2021-08-26 14:53:58,897 [INFO] ~~~ FINDING MASKS ~~~\n",
      "2021-08-26 14:54:21,000 [INFO] >>>> TOTAL TIME 22.10 sec\n"
     ]
    },
    {
     "name": "stderr",
     "output_type": "stream",
     "text": [
      "/usr/local/lib/python3.7/dist-packages/ipykernel_launcher.py:13: UserWarning: /content/drive/MyDrive/data_test/results/01_ch0_027.png is a low contrast image\n",
      "  del sys.path[0]\n"
     ]
    },
    {
     "name": "stdout",
     "output_type": "stream",
     "text": [
      "2021-08-26 14:54:21,232 [INFO] ~~~ FINDING MASKS ~~~\n",
      "2021-08-26 14:54:43,562 [INFO] >>>> TOTAL TIME 22.33 sec\n"
     ]
    },
    {
     "name": "stderr",
     "output_type": "stream",
     "text": [
      "/usr/local/lib/python3.7/dist-packages/ipykernel_launcher.py:13: UserWarning: /content/drive/MyDrive/data_test/results/01_ch0_028.png is a low contrast image\n",
      "  del sys.path[0]\n"
     ]
    },
    {
     "name": "stdout",
     "output_type": "stream",
     "text": [
      "2021-08-26 14:54:43,794 [INFO] ~~~ FINDING MASKS ~~~\n",
      "2021-08-26 14:55:06,111 [INFO] >>>> TOTAL TIME 22.32 sec\n"
     ]
    },
    {
     "name": "stderr",
     "output_type": "stream",
     "text": [
      "/usr/local/lib/python3.7/dist-packages/ipykernel_launcher.py:13: UserWarning: /content/drive/MyDrive/data_test/results/01_ch0_029.png is a low contrast image\n",
      "  del sys.path[0]\n"
     ]
    },
    {
     "name": "stdout",
     "output_type": "stream",
     "text": [
      "2021-08-26 14:55:06,345 [INFO] ~~~ FINDING MASKS ~~~\n"
     ]
    }
   ],
   "source": [
    "# loop for segmentation \n",
    "\n",
    "for i in range(frames_num): # use this line to segment all frames\n",
    "    \n",
    "    # get an image\n",
    "    im = imread(im_path,key=i)\n",
    "\n",
    "    # segment the right plane\n",
    "    labels, _, _, _ = model.eval(im, diameter=30, channels=[0,0])\n",
    "\n",
    "    # save segmentation\n",
    "    save_path = os.path.join(save_dir,im_file.replace('.tif',f'_{str(i).zfill(3)}.png'))\n",
    "    imsave(save_path,labels) "
   ]
  },
  {
   "cell_type": "code",
   "execution_count": 17,
   "metadata": {
    "colab": {
     "base_uri": "https://localhost:8080/"
    },
    "id": "-3nhYOnJrlwr",
    "outputId": "3d9b269e-7533-4ec5-8eee-e6e902105a7d"
   },
   "outputs": [
    {
     "name": "stdout",
     "output_type": "stream",
     "text": [
      "All changes made in this colab session should now be visible in Drive.\n"
     ]
    }
   ],
   "source": [
    "drive.flush_and_unmount()\n",
    "print('All changes made in this colab session should now be visible in Drive.')"
   ]
  }
 ],
 "metadata": {
  "accelerator": "GPU",
  "colab": {
   "name": "cellpose_movie_segmentation.ipynb",
   "provenance": []
  },
  "kernelspec": {
   "display_name": "Python 3 (ipykernel)",
   "language": "python",
   "name": "python3"
  },
  "language_info": {
   "codemirror_mode": {
    "name": "ipython",
    "version": 3
   },
   "file_extension": ".py",
   "mimetype": "text/x-python",
   "name": "python",
   "nbconvert_exporter": "python",
   "pygments_lexer": "ipython3",
   "version": "3.9.6"
  }
 },
 "nbformat": 4,
 "nbformat_minor": 1
}
