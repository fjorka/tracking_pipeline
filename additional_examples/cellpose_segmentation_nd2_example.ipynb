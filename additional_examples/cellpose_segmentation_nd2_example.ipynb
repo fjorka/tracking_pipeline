{
 "cells": [
  {
   "cell_type": "markdown",
   "id": "fc90b15e",
   "metadata": {},
   "source": [
    "# Cellpose segmentation"
   ]
  },
  {
   "cell_type": "markdown",
   "id": "368ae4cf",
   "metadata": {},
   "source": [
    "Notebook showing how to segment cells using Cellpose."
   ]
  },
  {
   "cell_type": "code",
   "execution_count": 1,
   "id": "fb02ff19",
   "metadata": {},
   "outputs": [
    {
     "name": "stdout",
     "output_type": "stream",
     "text": [
      "2021-09-20 18:09:28,471 [INFO] WRITING LOG OUTPUT TO C:\\Users\\martjohn\\.cellpose\\run.log\n"
     ]
    }
   ],
   "source": [
    "import os\n",
    "import numpy as np\n",
    "\n",
    "from nd2reader import ND2Reader\n",
    "from tifffile import imread\n",
    "from skimage.io import imsave\n",
    "from skimage.io import imread as imread_png\n",
    "\n",
    "#from cellpose import models\n",
    "\n",
    "from cellpose import models\n",
    "\n",
    "import napari\n",
    "from skimage.filters import gaussian"
   ]
  },
  {
   "cell_type": "code",
   "execution_count": 2,
   "id": "1be3c2da",
   "metadata": {
    "scrolled": false
   },
   "outputs": [
    {
     "name": "stdout",
     "output_type": "stream",
     "text": [
      "2021-09-20 18:09:29,491 [INFO] >>>> using CPU\n"
     ]
    }
   ],
   "source": [
    "# load cellpose model\n",
    "model = models.Cellpose(gpu=False, model_type='cyto')"
   ]
  },
  {
   "cell_type": "code",
   "execution_count": 14,
   "id": "edef9c1d",
   "metadata": {},
   "outputs": [],
   "source": [
    "im_dir = r'E:\\Martha\\2021Imaging\\08242021p27\\08242021loca'\n",
    "im_file = r'08.nd2'\n",
    "\n",
    "save_dir = r'E:\\Martha\\2021Imaging\\08242021p27\\Segmentation_Test_MJ\\08'"
   ]
  },
  {
   "cell_type": "code",
   "execution_count": 15,
   "id": "f1c78f6c",
   "metadata": {},
   "outputs": [],
   "source": [
    "# reading of nd2 files\n",
    "nd2_movie = ND2Reader(os.path.join(im_dir,im_file))"
   ]
  },
  {
   "cell_type": "code",
   "execution_count": 16,
   "id": "db9c25b9",
   "metadata": {},
   "outputs": [
    {
     "data": {
      "text/plain": [
       "{'x': 3789, 'y': 3789, 'c': 4, 't': 289}"
      ]
     },
     "execution_count": 16,
     "metadata": {},
     "output_type": "execute_result"
    }
   ],
   "source": [
    "nd2_movie.sizes"
   ]
  },
  {
   "cell_type": "code",
   "execution_count": 17,
   "id": "badddbd7",
   "metadata": {},
   "outputs": [
    {
     "name": "stdout",
     "output_type": "stream",
     "text": [
      "Total frame number: 289\n"
     ]
    }
   ],
   "source": [
    "# check how many timepoints are there in the file\n",
    "frames_num = nd2_movie.sizes['t']\n",
    "\n",
    "print(f'Total frame number: {frames_num}')"
   ]
  },
  {
   "cell_type": "code",
   "execution_count": null,
   "id": "4011d4d9",
   "metadata": {},
   "outputs": [
    {
     "name": "stdout",
     "output_type": "stream",
     "text": [
      "2021-09-22 16:49:25,735 [INFO] ~~~ FINDING MASKS ~~~\n",
      "2021-09-22 16:56:32,966 [INFO] >>>> TOTAL TIME 427.23 sec\n"
     ]
    },
    {
     "name": "stderr",
     "output_type": "stream",
     "text": [
      "C:\\Users\\martjohn\\AppData\\Local\\Temp/ipykernel_15976/2398957157.py:14: UserWarning: E:\\Martha\\2021Imaging\\08242021p27\\Segmentation_Test_MJ\\08\\08_000.tif is a low contrast image\n",
      "  imsave(save_path,labels.astype('uint16'))\n"
     ]
    },
    {
     "name": "stdout",
     "output_type": "stream",
     "text": [
      "2021-09-22 16:56:34,605 [INFO] ~~~ FINDING MASKS ~~~\n",
      "2021-09-22 17:04:07,862 [INFO] >>>> TOTAL TIME 453.26 sec\n"
     ]
    },
    {
     "name": "stderr",
     "output_type": "stream",
     "text": [
      "C:\\Users\\martjohn\\AppData\\Local\\Temp/ipykernel_15976/2398957157.py:14: UserWarning: E:\\Martha\\2021Imaging\\08242021p27\\Segmentation_Test_MJ\\08\\08_001.tif is a low contrast image\n",
      "  imsave(save_path,labels.astype('uint16'))\n"
     ]
    },
    {
     "name": "stdout",
     "output_type": "stream",
     "text": [
      "2021-09-22 17:04:09,496 [INFO] ~~~ FINDING MASKS ~~~\n",
      "2021-09-22 17:11:01,949 [INFO] >>>> TOTAL TIME 412.45 sec\n"
     ]
    },
    {
     "name": "stderr",
     "output_type": "stream",
     "text": [
      "C:\\Users\\martjohn\\AppData\\Local\\Temp/ipykernel_15976/2398957157.py:14: UserWarning: E:\\Martha\\2021Imaging\\08242021p27\\Segmentation_Test_MJ\\08\\08_002.tif is a low contrast image\n",
      "  imsave(save_path,labels.astype('uint16'))\n"
     ]
    },
    {
     "name": "stdout",
     "output_type": "stream",
     "text": [
      "2021-09-22 17:11:03,330 [INFO] ~~~ FINDING MASKS ~~~\n",
      "2021-09-22 17:17:53,846 [INFO] >>>> TOTAL TIME 410.52 sec\n"
     ]
    },
    {
     "name": "stderr",
     "output_type": "stream",
     "text": [
      "C:\\Users\\martjohn\\AppData\\Local\\Temp/ipykernel_15976/2398957157.py:14: UserWarning: E:\\Martha\\2021Imaging\\08242021p27\\Segmentation_Test_MJ\\08\\08_003.tif is a low contrast image\n",
      "  imsave(save_path,labels.astype('uint16'))\n"
     ]
    },
    {
     "name": "stdout",
     "output_type": "stream",
     "text": [
      "2021-09-22 17:17:55,589 [INFO] ~~~ FINDING MASKS ~~~\n",
      "2021-09-22 17:25:00,066 [INFO] >>>> TOTAL TIME 424.48 sec\n"
     ]
    },
    {
     "name": "stderr",
     "output_type": "stream",
     "text": [
      "C:\\Users\\martjohn\\AppData\\Local\\Temp/ipykernel_15976/2398957157.py:14: UserWarning: E:\\Martha\\2021Imaging\\08242021p27\\Segmentation_Test_MJ\\08\\08_004.tif is a low contrast image\n",
      "  imsave(save_path,labels.astype('uint16'))\n"
     ]
    },
    {
     "name": "stdout",
     "output_type": "stream",
     "text": [
      "2021-09-22 17:25:01,416 [INFO] ~~~ FINDING MASKS ~~~\n",
      "2021-09-22 17:32:05,197 [INFO] >>>> TOTAL TIME 423.78 sec\n"
     ]
    },
    {
     "name": "stderr",
     "output_type": "stream",
     "text": [
      "C:\\Users\\martjohn\\AppData\\Local\\Temp/ipykernel_15976/2398957157.py:14: UserWarning: E:\\Martha\\2021Imaging\\08242021p27\\Segmentation_Test_MJ\\08\\08_005.tif is a low contrast image\n",
      "  imsave(save_path,labels.astype('uint16'))\n"
     ]
    },
    {
     "name": "stdout",
     "output_type": "stream",
     "text": [
      "2021-09-22 17:32:06,937 [INFO] ~~~ FINDING MASKS ~~~\n",
      "2021-09-22 17:39:05,443 [INFO] >>>> TOTAL TIME 418.51 sec\n"
     ]
    },
    {
     "name": "stderr",
     "output_type": "stream",
     "text": [
      "C:\\Users\\martjohn\\AppData\\Local\\Temp/ipykernel_15976/2398957157.py:14: UserWarning: E:\\Martha\\2021Imaging\\08242021p27\\Segmentation_Test_MJ\\08\\08_006.tif is a low contrast image\n",
      "  imsave(save_path,labels.astype('uint16'))\n"
     ]
    },
    {
     "name": "stdout",
     "output_type": "stream",
     "text": [
      "2021-09-22 17:39:07,107 [INFO] ~~~ FINDING MASKS ~~~\n",
      "2021-09-22 17:46:10,095 [INFO] >>>> TOTAL TIME 422.99 sec\n"
     ]
    },
    {
     "name": "stderr",
     "output_type": "stream",
     "text": [
      "C:\\Users\\martjohn\\AppData\\Local\\Temp/ipykernel_15976/2398957157.py:14: UserWarning: E:\\Martha\\2021Imaging\\08242021p27\\Segmentation_Test_MJ\\08\\08_007.tif is a low contrast image\n",
      "  imsave(save_path,labels.astype('uint16'))\n"
     ]
    },
    {
     "name": "stdout",
     "output_type": "stream",
     "text": [
      "2021-09-22 17:46:11,741 [INFO] ~~~ FINDING MASKS ~~~\n",
      "2021-09-22 17:53:13,299 [INFO] >>>> TOTAL TIME 421.56 sec\n"
     ]
    },
    {
     "name": "stderr",
     "output_type": "stream",
     "text": [
      "C:\\Users\\martjohn\\AppData\\Local\\Temp/ipykernel_15976/2398957157.py:14: UserWarning: E:\\Martha\\2021Imaging\\08242021p27\\Segmentation_Test_MJ\\08\\08_008.tif is a low contrast image\n",
      "  imsave(save_path,labels.astype('uint16'))\n"
     ]
    },
    {
     "name": "stdout",
     "output_type": "stream",
     "text": [
      "2021-09-22 17:53:14,795 [INFO] ~~~ FINDING MASKS ~~~\n",
      "2021-09-22 18:00:18,489 [INFO] >>>> TOTAL TIME 423.69 sec\n"
     ]
    },
    {
     "name": "stderr",
     "output_type": "stream",
     "text": [
      "C:\\Users\\martjohn\\AppData\\Local\\Temp/ipykernel_15976/2398957157.py:14: UserWarning: E:\\Martha\\2021Imaging\\08242021p27\\Segmentation_Test_MJ\\08\\08_009.tif is a low contrast image\n",
      "  imsave(save_path,labels.astype('uint16'))\n"
     ]
    },
    {
     "name": "stdout",
     "output_type": "stream",
     "text": [
      "2021-09-22 18:00:20,103 [INFO] ~~~ FINDING MASKS ~~~\n",
      "2021-09-22 18:07:25,179 [INFO] >>>> TOTAL TIME 425.08 sec\n"
     ]
    },
    {
     "name": "stderr",
     "output_type": "stream",
     "text": [
      "C:\\Users\\martjohn\\AppData\\Local\\Temp/ipykernel_15976/2398957157.py:14: UserWarning: E:\\Martha\\2021Imaging\\08242021p27\\Segmentation_Test_MJ\\08\\08_010.tif is a low contrast image\n",
      "  imsave(save_path,labels.astype('uint16'))\n"
     ]
    },
    {
     "name": "stdout",
     "output_type": "stream",
     "text": [
      "2021-09-22 18:07:26,853 [INFO] ~~~ FINDING MASKS ~~~\n",
      "2021-09-22 18:14:27,161 [INFO] >>>> TOTAL TIME 420.31 sec\n"
     ]
    },
    {
     "name": "stderr",
     "output_type": "stream",
     "text": [
      "C:\\Users\\martjohn\\AppData\\Local\\Temp/ipykernel_15976/2398957157.py:14: UserWarning: E:\\Martha\\2021Imaging\\08242021p27\\Segmentation_Test_MJ\\08\\08_011.tif is a low contrast image\n",
      "  imsave(save_path,labels.astype('uint16'))\n"
     ]
    },
    {
     "name": "stdout",
     "output_type": "stream",
     "text": [
      "2021-09-22 18:14:28,756 [INFO] ~~~ FINDING MASKS ~~~\n",
      "2021-09-22 18:21:28,742 [INFO] >>>> TOTAL TIME 419.99 sec\n"
     ]
    },
    {
     "name": "stderr",
     "output_type": "stream",
     "text": [
      "C:\\Users\\martjohn\\AppData\\Local\\Temp/ipykernel_15976/2398957157.py:14: UserWarning: E:\\Martha\\2021Imaging\\08242021p27\\Segmentation_Test_MJ\\08\\08_012.tif is a low contrast image\n",
      "  imsave(save_path,labels.astype('uint16'))\n"
     ]
    },
    {
     "name": "stdout",
     "output_type": "stream",
     "text": [
      "2021-09-22 18:21:30,447 [INFO] ~~~ FINDING MASKS ~~~\n",
      "2021-09-22 18:28:31,806 [INFO] >>>> TOTAL TIME 421.36 sec\n"
     ]
    },
    {
     "name": "stderr",
     "output_type": "stream",
     "text": [
      "C:\\Users\\martjohn\\AppData\\Local\\Temp/ipykernel_15976/2398957157.py:14: UserWarning: E:\\Martha\\2021Imaging\\08242021p27\\Segmentation_Test_MJ\\08\\08_013.tif is a low contrast image\n",
      "  imsave(save_path,labels.astype('uint16'))\n"
     ]
    },
    {
     "name": "stdout",
     "output_type": "stream",
     "text": [
      "2021-09-22 18:28:33,486 [INFO] ~~~ FINDING MASKS ~~~\n",
      "2021-09-22 18:35:33,118 [INFO] >>>> TOTAL TIME 419.63 sec\n"
     ]
    },
    {
     "name": "stderr",
     "output_type": "stream",
     "text": [
      "C:\\Users\\martjohn\\AppData\\Local\\Temp/ipykernel_15976/2398957157.py:14: UserWarning: E:\\Martha\\2021Imaging\\08242021p27\\Segmentation_Test_MJ\\08\\08_014.tif is a low contrast image\n",
      "  imsave(save_path,labels.astype('uint16'))\n"
     ]
    },
    {
     "name": "stdout",
     "output_type": "stream",
     "text": [
      "2021-09-22 18:35:34,722 [INFO] ~~~ FINDING MASKS ~~~\n",
      "2021-09-22 18:45:28,877 [INFO] >>>> TOTAL TIME 594.15 sec\n"
     ]
    },
    {
     "name": "stderr",
     "output_type": "stream",
     "text": [
      "C:\\Users\\martjohn\\AppData\\Local\\Temp/ipykernel_15976/2398957157.py:14: UserWarning: E:\\Martha\\2021Imaging\\08242021p27\\Segmentation_Test_MJ\\08\\08_015.tif is a low contrast image\n",
      "  imsave(save_path,labels.astype('uint16'))\n"
     ]
    },
    {
     "name": "stdout",
     "output_type": "stream",
     "text": [
      "2021-09-22 18:45:30,451 [INFO] ~~~ FINDING MASKS ~~~\n",
      "2021-09-22 18:53:11,648 [INFO] >>>> TOTAL TIME 461.20 sec\n"
     ]
    },
    {
     "name": "stderr",
     "output_type": "stream",
     "text": [
      "C:\\Users\\martjohn\\AppData\\Local\\Temp/ipykernel_15976/2398957157.py:14: UserWarning: E:\\Martha\\2021Imaging\\08242021p27\\Segmentation_Test_MJ\\08\\08_016.tif is a low contrast image\n",
      "  imsave(save_path,labels.astype('uint16'))\n"
     ]
    },
    {
     "name": "stdout",
     "output_type": "stream",
     "text": [
      "2021-09-22 18:53:13,265 [INFO] ~~~ FINDING MASKS ~~~\n",
      "2021-09-22 19:00:05,195 [INFO] >>>> TOTAL TIME 411.93 sec\n"
     ]
    },
    {
     "name": "stderr",
     "output_type": "stream",
     "text": [
      "C:\\Users\\martjohn\\AppData\\Local\\Temp/ipykernel_15976/2398957157.py:14: UserWarning: E:\\Martha\\2021Imaging\\08242021p27\\Segmentation_Test_MJ\\08\\08_017.tif is a low contrast image\n",
      "  imsave(save_path,labels.astype('uint16'))\n"
     ]
    },
    {
     "name": "stdout",
     "output_type": "stream",
     "text": [
      "2021-09-22 19:00:06,825 [INFO] ~~~ FINDING MASKS ~~~\n",
      "2021-09-22 19:07:01,160 [INFO] >>>> TOTAL TIME 414.34 sec\n"
     ]
    },
    {
     "name": "stderr",
     "output_type": "stream",
     "text": [
      "C:\\Users\\martjohn\\AppData\\Local\\Temp/ipykernel_15976/2398957157.py:14: UserWarning: E:\\Martha\\2021Imaging\\08242021p27\\Segmentation_Test_MJ\\08\\08_018.tif is a low contrast image\n",
      "  imsave(save_path,labels.astype('uint16'))\n"
     ]
    },
    {
     "name": "stdout",
     "output_type": "stream",
     "text": [
      "2021-09-22 19:07:02,711 [INFO] ~~~ FINDING MASKS ~~~\n",
      "2021-09-22 19:14:10,327 [INFO] >>>> TOTAL TIME 427.62 sec\n"
     ]
    },
    {
     "name": "stderr",
     "output_type": "stream",
     "text": [
      "C:\\Users\\martjohn\\AppData\\Local\\Temp/ipykernel_15976/2398957157.py:14: UserWarning: E:\\Martha\\2021Imaging\\08242021p27\\Segmentation_Test_MJ\\08\\08_019.tif is a low contrast image\n",
      "  imsave(save_path,labels.astype('uint16'))\n"
     ]
    },
    {
     "name": "stdout",
     "output_type": "stream",
     "text": [
      "2021-09-22 19:14:11,888 [INFO] ~~~ FINDING MASKS ~~~\n",
      "2021-09-22 19:21:13,561 [INFO] >>>> TOTAL TIME 421.67 sec\n"
     ]
    },
    {
     "name": "stderr",
     "output_type": "stream",
     "text": [
      "C:\\Users\\martjohn\\AppData\\Local\\Temp/ipykernel_15976/2398957157.py:14: UserWarning: E:\\Martha\\2021Imaging\\08242021p27\\Segmentation_Test_MJ\\08\\08_020.tif is a low contrast image\n",
      "  imsave(save_path,labels.astype('uint16'))\n"
     ]
    },
    {
     "name": "stdout",
     "output_type": "stream",
     "text": [
      "2021-09-22 19:21:15,258 [INFO] ~~~ FINDING MASKS ~~~\n",
      "2021-09-22 19:28:15,610 [INFO] >>>> TOTAL TIME 420.35 sec\n"
     ]
    },
    {
     "name": "stderr",
     "output_type": "stream",
     "text": [
      "C:\\Users\\martjohn\\AppData\\Local\\Temp/ipykernel_15976/2398957157.py:14: UserWarning: E:\\Martha\\2021Imaging\\08242021p27\\Segmentation_Test_MJ\\08\\08_021.tif is a low contrast image\n",
      "  imsave(save_path,labels.astype('uint16'))\n"
     ]
    },
    {
     "name": "stdout",
     "output_type": "stream",
     "text": [
      "2021-09-22 19:28:17,206 [INFO] ~~~ FINDING MASKS ~~~\n",
      "2021-09-22 19:35:19,924 [INFO] >>>> TOTAL TIME 422.72 sec\n"
     ]
    },
    {
     "name": "stderr",
     "output_type": "stream",
     "text": [
      "C:\\Users\\martjohn\\AppData\\Local\\Temp/ipykernel_15976/2398957157.py:14: UserWarning: E:\\Martha\\2021Imaging\\08242021p27\\Segmentation_Test_MJ\\08\\08_022.tif is a low contrast image\n",
      "  imsave(save_path,labels.astype('uint16'))\n"
     ]
    },
    {
     "name": "stdout",
     "output_type": "stream",
     "text": [
      "2021-09-22 19:35:21,589 [INFO] ~~~ FINDING MASKS ~~~\n",
      "2021-09-22 19:44:53,338 [INFO] >>>> TOTAL TIME 571.75 sec\n"
     ]
    },
    {
     "name": "stderr",
     "output_type": "stream",
     "text": [
      "C:\\Users\\martjohn\\AppData\\Local\\Temp/ipykernel_15976/2398957157.py:14: UserWarning: E:\\Martha\\2021Imaging\\08242021p27\\Segmentation_Test_MJ\\08\\08_023.tif is a low contrast image\n",
      "  imsave(save_path,labels.astype('uint16'))\n"
     ]
    },
    {
     "name": "stdout",
     "output_type": "stream",
     "text": [
      "2021-09-22 19:44:54,804 [INFO] ~~~ FINDING MASKS ~~~\n",
      "2021-09-22 19:51:57,644 [INFO] >>>> TOTAL TIME 422.84 sec\n"
     ]
    },
    {
     "name": "stderr",
     "output_type": "stream",
     "text": [
      "C:\\Users\\martjohn\\AppData\\Local\\Temp/ipykernel_15976/2398957157.py:14: UserWarning: E:\\Martha\\2021Imaging\\08242021p27\\Segmentation_Test_MJ\\08\\08_024.tif is a low contrast image\n",
      "  imsave(save_path,labels.astype('uint16'))\n"
     ]
    },
    {
     "name": "stdout",
     "output_type": "stream",
     "text": [
      "2021-09-22 19:51:59,359 [INFO] ~~~ FINDING MASKS ~~~\n",
      "2021-09-22 19:59:54,730 [INFO] >>>> TOTAL TIME 475.37 sec\n"
     ]
    },
    {
     "name": "stderr",
     "output_type": "stream",
     "text": [
      "C:\\Users\\martjohn\\AppData\\Local\\Temp/ipykernel_15976/2398957157.py:14: UserWarning: E:\\Martha\\2021Imaging\\08242021p27\\Segmentation_Test_MJ\\08\\08_025.tif is a low contrast image\n",
      "  imsave(save_path,labels.astype('uint16'))\n"
     ]
    },
    {
     "name": "stdout",
     "output_type": "stream",
     "text": [
      "2021-09-22 19:59:56,440 [INFO] ~~~ FINDING MASKS ~~~\n",
      "2021-09-22 20:07:12,965 [INFO] >>>> TOTAL TIME 436.52 sec\n"
     ]
    },
    {
     "name": "stderr",
     "output_type": "stream",
     "text": [
      "C:\\Users\\martjohn\\AppData\\Local\\Temp/ipykernel_15976/2398957157.py:14: UserWarning: E:\\Martha\\2021Imaging\\08242021p27\\Segmentation_Test_MJ\\08\\08_026.tif is a low contrast image\n",
      "  imsave(save_path,labels.astype('uint16'))\n"
     ]
    },
    {
     "name": "stdout",
     "output_type": "stream",
     "text": [
      "2021-09-22 20:07:14,732 [INFO] ~~~ FINDING MASKS ~~~\n",
      "2021-09-22 20:14:37,120 [INFO] >>>> TOTAL TIME 442.39 sec\n"
     ]
    },
    {
     "name": "stderr",
     "output_type": "stream",
     "text": [
      "C:\\Users\\martjohn\\AppData\\Local\\Temp/ipykernel_15976/2398957157.py:14: UserWarning: E:\\Martha\\2021Imaging\\08242021p27\\Segmentation_Test_MJ\\08\\08_027.tif is a low contrast image\n",
      "  imsave(save_path,labels.astype('uint16'))\n"
     ]
    },
    {
     "name": "stdout",
     "output_type": "stream",
     "text": [
      "2021-09-22 20:14:38,805 [INFO] ~~~ FINDING MASKS ~~~\n",
      "2021-09-22 20:21:59,754 [INFO] >>>> TOTAL TIME 440.95 sec\n"
     ]
    },
    {
     "name": "stderr",
     "output_type": "stream",
     "text": [
      "C:\\Users\\martjohn\\AppData\\Local\\Temp/ipykernel_15976/2398957157.py:14: UserWarning: E:\\Martha\\2021Imaging\\08242021p27\\Segmentation_Test_MJ\\08\\08_028.tif is a low contrast image\n",
      "  imsave(save_path,labels.astype('uint16'))\n"
     ]
    },
    {
     "name": "stdout",
     "output_type": "stream",
     "text": [
      "2021-09-22 20:22:01,339 [INFO] ~~~ FINDING MASKS ~~~\n",
      "2021-09-22 20:29:15,801 [INFO] >>>> TOTAL TIME 434.46 sec\n"
     ]
    },
    {
     "name": "stderr",
     "output_type": "stream",
     "text": [
      "C:\\Users\\martjohn\\AppData\\Local\\Temp/ipykernel_15976/2398957157.py:14: UserWarning: E:\\Martha\\2021Imaging\\08242021p27\\Segmentation_Test_MJ\\08\\08_029.tif is a low contrast image\n",
      "  imsave(save_path,labels.astype('uint16'))\n"
     ]
    },
    {
     "name": "stdout",
     "output_type": "stream",
     "text": [
      "2021-09-22 20:29:17,206 [INFO] ~~~ FINDING MASKS ~~~\n",
      "2021-09-22 20:36:24,220 [INFO] >>>> TOTAL TIME 427.01 sec\n"
     ]
    },
    {
     "name": "stderr",
     "output_type": "stream",
     "text": [
      "C:\\Users\\martjohn\\AppData\\Local\\Temp/ipykernel_15976/2398957157.py:14: UserWarning: E:\\Martha\\2021Imaging\\08242021p27\\Segmentation_Test_MJ\\08\\08_030.tif is a low contrast image\n",
      "  imsave(save_path,labels.astype('uint16'))\n"
     ]
    },
    {
     "name": "stdout",
     "output_type": "stream",
     "text": [
      "2021-09-22 20:36:25,984 [INFO] ~~~ FINDING MASKS ~~~\n",
      "2021-09-22 20:43:30,128 [INFO] >>>> TOTAL TIME 424.14 sec\n"
     ]
    },
    {
     "name": "stderr",
     "output_type": "stream",
     "text": [
      "C:\\Users\\martjohn\\AppData\\Local\\Temp/ipykernel_15976/2398957157.py:14: UserWarning: E:\\Martha\\2021Imaging\\08242021p27\\Segmentation_Test_MJ\\08\\08_031.tif is a low contrast image\n",
      "  imsave(save_path,labels.astype('uint16'))\n"
     ]
    },
    {
     "name": "stdout",
     "output_type": "stream",
     "text": [
      "2021-09-22 20:43:31,794 [INFO] ~~~ FINDING MASKS ~~~\n",
      "2021-09-22 20:50:30,351 [INFO] >>>> TOTAL TIME 418.56 sec\n"
     ]
    },
    {
     "name": "stderr",
     "output_type": "stream",
     "text": [
      "C:\\Users\\martjohn\\AppData\\Local\\Temp/ipykernel_15976/2398957157.py:14: UserWarning: E:\\Martha\\2021Imaging\\08242021p27\\Segmentation_Test_MJ\\08\\08_032.tif is a low contrast image\n",
      "  imsave(save_path,labels.astype('uint16'))\n"
     ]
    },
    {
     "name": "stdout",
     "output_type": "stream",
     "text": [
      "2021-09-22 20:50:32,007 [INFO] ~~~ FINDING MASKS ~~~\n",
      "2021-09-22 20:57:36,368 [INFO] >>>> TOTAL TIME 424.36 sec\n"
     ]
    },
    {
     "name": "stderr",
     "output_type": "stream",
     "text": [
      "C:\\Users\\martjohn\\AppData\\Local\\Temp/ipykernel_15976/2398957157.py:14: UserWarning: E:\\Martha\\2021Imaging\\08242021p27\\Segmentation_Test_MJ\\08\\08_033.tif is a low contrast image\n",
      "  imsave(save_path,labels.astype('uint16'))\n"
     ]
    },
    {
     "name": "stdout",
     "output_type": "stream",
     "text": [
      "2021-09-22 20:57:37,999 [INFO] ~~~ FINDING MASKS ~~~\n",
      "2021-09-22 21:04:38,726 [INFO] >>>> TOTAL TIME 420.73 sec\n"
     ]
    },
    {
     "name": "stderr",
     "output_type": "stream",
     "text": [
      "C:\\Users\\martjohn\\AppData\\Local\\Temp/ipykernel_15976/2398957157.py:14: UserWarning: E:\\Martha\\2021Imaging\\08242021p27\\Segmentation_Test_MJ\\08\\08_034.tif is a low contrast image\n",
      "  imsave(save_path,labels.astype('uint16'))\n"
     ]
    },
    {
     "name": "stdout",
     "output_type": "stream",
     "text": [
      "2021-09-22 21:04:40,537 [INFO] ~~~ FINDING MASKS ~~~\n",
      "2021-09-22 21:11:40,969 [INFO] >>>> TOTAL TIME 420.43 sec\n"
     ]
    },
    {
     "name": "stderr",
     "output_type": "stream",
     "text": [
      "C:\\Users\\martjohn\\AppData\\Local\\Temp/ipykernel_15976/2398957157.py:14: UserWarning: E:\\Martha\\2021Imaging\\08242021p27\\Segmentation_Test_MJ\\08\\08_035.tif is a low contrast image\n",
      "  imsave(save_path,labels.astype('uint16'))\n"
     ]
    },
    {
     "name": "stdout",
     "output_type": "stream",
     "text": [
      "2021-09-22 21:11:42,563 [INFO] ~~~ FINDING MASKS ~~~\n",
      "2021-09-22 21:18:43,614 [INFO] >>>> TOTAL TIME 421.05 sec\n"
     ]
    },
    {
     "name": "stderr",
     "output_type": "stream",
     "text": [
      "C:\\Users\\martjohn\\AppData\\Local\\Temp/ipykernel_15976/2398957157.py:14: UserWarning: E:\\Martha\\2021Imaging\\08242021p27\\Segmentation_Test_MJ\\08\\08_036.tif is a low contrast image\n",
      "  imsave(save_path,labels.astype('uint16'))\n"
     ]
    },
    {
     "name": "stdout",
     "output_type": "stream",
     "text": [
      "2021-09-22 21:18:45,278 [INFO] ~~~ FINDING MASKS ~~~\n",
      "2021-09-22 21:25:48,283 [INFO] >>>> TOTAL TIME 423.00 sec\n"
     ]
    },
    {
     "name": "stderr",
     "output_type": "stream",
     "text": [
      "C:\\Users\\martjohn\\AppData\\Local\\Temp/ipykernel_15976/2398957157.py:14: UserWarning: E:\\Martha\\2021Imaging\\08242021p27\\Segmentation_Test_MJ\\08\\08_037.tif is a low contrast image\n",
      "  imsave(save_path,labels.astype('uint16'))\n"
     ]
    },
    {
     "name": "stdout",
     "output_type": "stream",
     "text": [
      "2021-09-22 21:25:49,894 [INFO] ~~~ FINDING MASKS ~~~\n",
      "2021-09-22 21:32:51,383 [INFO] >>>> TOTAL TIME 421.49 sec\n"
     ]
    },
    {
     "name": "stderr",
     "output_type": "stream",
     "text": [
      "C:\\Users\\martjohn\\AppData\\Local\\Temp/ipykernel_15976/2398957157.py:14: UserWarning: E:\\Martha\\2021Imaging\\08242021p27\\Segmentation_Test_MJ\\08\\08_038.tif is a low contrast image\n",
      "  imsave(save_path,labels.astype('uint16'))\n"
     ]
    },
    {
     "name": "stdout",
     "output_type": "stream",
     "text": [
      "2021-09-22 21:32:53,141 [INFO] ~~~ FINDING MASKS ~~~\n",
      "2021-09-22 21:39:57,159 [INFO] >>>> TOTAL TIME 424.02 sec\n"
     ]
    },
    {
     "name": "stderr",
     "output_type": "stream",
     "text": [
      "C:\\Users\\martjohn\\AppData\\Local\\Temp/ipykernel_15976/2398957157.py:14: UserWarning: E:\\Martha\\2021Imaging\\08242021p27\\Segmentation_Test_MJ\\08\\08_039.tif is a low contrast image\n",
      "  imsave(save_path,labels.astype('uint16'))\n"
     ]
    },
    {
     "name": "stdout",
     "output_type": "stream",
     "text": [
      "2021-09-22 21:39:58,786 [INFO] ~~~ FINDING MASKS ~~~\n",
      "2021-09-22 21:47:00,990 [INFO] >>>> TOTAL TIME 422.20 sec\n"
     ]
    },
    {
     "name": "stderr",
     "output_type": "stream",
     "text": [
      "C:\\Users\\martjohn\\AppData\\Local\\Temp/ipykernel_15976/2398957157.py:14: UserWarning: E:\\Martha\\2021Imaging\\08242021p27\\Segmentation_Test_MJ\\08\\08_040.tif is a low contrast image\n",
      "  imsave(save_path,labels.astype('uint16'))\n"
     ]
    },
    {
     "name": "stdout",
     "output_type": "stream",
     "text": [
      "2021-09-22 21:47:02,613 [INFO] ~~~ FINDING MASKS ~~~\n",
      "2021-09-22 21:54:03,362 [INFO] >>>> TOTAL TIME 420.75 sec\n"
     ]
    },
    {
     "name": "stderr",
     "output_type": "stream",
     "text": [
      "C:\\Users\\martjohn\\AppData\\Local\\Temp/ipykernel_15976/2398957157.py:14: UserWarning: E:\\Martha\\2021Imaging\\08242021p27\\Segmentation_Test_MJ\\08\\08_041.tif is a low contrast image\n",
      "  imsave(save_path,labels.astype('uint16'))\n"
     ]
    },
    {
     "name": "stdout",
     "output_type": "stream",
     "text": [
      "2021-09-22 21:54:05,087 [INFO] ~~~ FINDING MASKS ~~~\n",
      "2021-09-22 22:01:08,556 [INFO] >>>> TOTAL TIME 423.47 sec\n"
     ]
    },
    {
     "name": "stderr",
     "output_type": "stream",
     "text": [
      "C:\\Users\\martjohn\\AppData\\Local\\Temp/ipykernel_15976/2398957157.py:14: UserWarning: E:\\Martha\\2021Imaging\\08242021p27\\Segmentation_Test_MJ\\08\\08_042.tif is a low contrast image\n",
      "  imsave(save_path,labels.astype('uint16'))\n"
     ]
    },
    {
     "name": "stdout",
     "output_type": "stream",
     "text": [
      "2021-09-22 22:01:10,270 [INFO] ~~~ FINDING MASKS ~~~\n",
      "2021-09-22 22:08:10,901 [INFO] >>>> TOTAL TIME 420.63 sec\n"
     ]
    },
    {
     "name": "stderr",
     "output_type": "stream",
     "text": [
      "C:\\Users\\martjohn\\AppData\\Local\\Temp/ipykernel_15976/2398957157.py:14: UserWarning: E:\\Martha\\2021Imaging\\08242021p27\\Segmentation_Test_MJ\\08\\08_043.tif is a low contrast image\n",
      "  imsave(save_path,labels.astype('uint16'))\n"
     ]
    },
    {
     "name": "stdout",
     "output_type": "stream",
     "text": [
      "2021-09-22 22:08:12,565 [INFO] ~~~ FINDING MASKS ~~~\n",
      "2021-09-22 22:15:09,976 [INFO] >>>> TOTAL TIME 417.41 sec\n"
     ]
    },
    {
     "name": "stderr",
     "output_type": "stream",
     "text": [
      "C:\\Users\\martjohn\\AppData\\Local\\Temp/ipykernel_15976/2398957157.py:14: UserWarning: E:\\Martha\\2021Imaging\\08242021p27\\Segmentation_Test_MJ\\08\\08_044.tif is a low contrast image\n",
      "  imsave(save_path,labels.astype('uint16'))\n"
     ]
    },
    {
     "name": "stdout",
     "output_type": "stream",
     "text": [
      "2021-09-22 22:15:11,516 [INFO] ~~~ FINDING MASKS ~~~\n",
      "2021-09-22 22:22:11,026 [INFO] >>>> TOTAL TIME 419.51 sec\n"
     ]
    },
    {
     "name": "stderr",
     "output_type": "stream",
     "text": [
      "C:\\Users\\martjohn\\AppData\\Local\\Temp/ipykernel_15976/2398957157.py:14: UserWarning: E:\\Martha\\2021Imaging\\08242021p27\\Segmentation_Test_MJ\\08\\08_045.tif is a low contrast image\n",
      "  imsave(save_path,labels.astype('uint16'))\n"
     ]
    },
    {
     "name": "stdout",
     "output_type": "stream",
     "text": [
      "2021-09-22 22:22:12,685 [INFO] ~~~ FINDING MASKS ~~~\n",
      "2021-09-22 22:29:18,436 [INFO] >>>> TOTAL TIME 425.75 sec\n"
     ]
    },
    {
     "name": "stderr",
     "output_type": "stream",
     "text": [
      "C:\\Users\\martjohn\\AppData\\Local\\Temp/ipykernel_15976/2398957157.py:14: UserWarning: E:\\Martha\\2021Imaging\\08242021p27\\Segmentation_Test_MJ\\08\\08_046.tif is a low contrast image\n",
      "  imsave(save_path,labels.astype('uint16'))\n"
     ]
    },
    {
     "name": "stdout",
     "output_type": "stream",
     "text": [
      "2021-09-22 22:29:20,222 [INFO] ~~~ FINDING MASKS ~~~\n",
      "2021-09-22 22:36:23,604 [INFO] >>>> TOTAL TIME 423.38 sec\n"
     ]
    },
    {
     "name": "stderr",
     "output_type": "stream",
     "text": [
      "C:\\Users\\martjohn\\AppData\\Local\\Temp/ipykernel_15976/2398957157.py:14: UserWarning: E:\\Martha\\2021Imaging\\08242021p27\\Segmentation_Test_MJ\\08\\08_047.tif is a low contrast image\n",
      "  imsave(save_path,labels.astype('uint16'))\n"
     ]
    },
    {
     "name": "stdout",
     "output_type": "stream",
     "text": [
      "2021-09-22 22:36:25,366 [INFO] ~~~ FINDING MASKS ~~~\n",
      "2021-09-22 22:43:25,678 [INFO] >>>> TOTAL TIME 420.31 sec\n"
     ]
    },
    {
     "name": "stderr",
     "output_type": "stream",
     "text": [
      "C:\\Users\\martjohn\\AppData\\Local\\Temp/ipykernel_15976/2398957157.py:14: UserWarning: E:\\Martha\\2021Imaging\\08242021p27\\Segmentation_Test_MJ\\08\\08_048.tif is a low contrast image\n",
      "  imsave(save_path,labels.astype('uint16'))\n"
     ]
    },
    {
     "name": "stdout",
     "output_type": "stream",
     "text": [
      "2021-09-22 22:43:27,299 [INFO] ~~~ FINDING MASKS ~~~\n",
      "2021-09-22 22:50:34,122 [INFO] >>>> TOTAL TIME 426.82 sec\n"
     ]
    },
    {
     "name": "stderr",
     "output_type": "stream",
     "text": [
      "C:\\Users\\martjohn\\AppData\\Local\\Temp/ipykernel_15976/2398957157.py:14: UserWarning: E:\\Martha\\2021Imaging\\08242021p27\\Segmentation_Test_MJ\\08\\08_049.tif is a low contrast image\n",
      "  imsave(save_path,labels.astype('uint16'))\n"
     ]
    },
    {
     "name": "stdout",
     "output_type": "stream",
     "text": [
      "2021-09-22 22:50:35,857 [INFO] ~~~ FINDING MASKS ~~~\n",
      "2021-09-22 22:57:35,963 [INFO] >>>> TOTAL TIME 420.11 sec\n"
     ]
    },
    {
     "name": "stderr",
     "output_type": "stream",
     "text": [
      "C:\\Users\\martjohn\\AppData\\Local\\Temp/ipykernel_15976/2398957157.py:14: UserWarning: E:\\Martha\\2021Imaging\\08242021p27\\Segmentation_Test_MJ\\08\\08_050.tif is a low contrast image\n",
      "  imsave(save_path,labels.astype('uint16'))\n"
     ]
    },
    {
     "name": "stdout",
     "output_type": "stream",
     "text": [
      "2021-09-22 22:57:37,577 [INFO] ~~~ FINDING MASKS ~~~\n",
      "2021-09-22 23:04:35,048 [INFO] >>>> TOTAL TIME 417.47 sec\n"
     ]
    },
    {
     "name": "stderr",
     "output_type": "stream",
     "text": [
      "C:\\Users\\martjohn\\AppData\\Local\\Temp/ipykernel_15976/2398957157.py:14: UserWarning: E:\\Martha\\2021Imaging\\08242021p27\\Segmentation_Test_MJ\\08\\08_051.tif is a low contrast image\n",
      "  imsave(save_path,labels.astype('uint16'))\n"
     ]
    },
    {
     "name": "stdout",
     "output_type": "stream",
     "text": [
      "2021-09-22 23:04:36,639 [INFO] ~~~ FINDING MASKS ~~~\n",
      "2021-09-22 23:11:38,826 [INFO] >>>> TOTAL TIME 422.19 sec\n"
     ]
    },
    {
     "name": "stderr",
     "output_type": "stream",
     "text": [
      "C:\\Users\\martjohn\\AppData\\Local\\Temp/ipykernel_15976/2398957157.py:14: UserWarning: E:\\Martha\\2021Imaging\\08242021p27\\Segmentation_Test_MJ\\08\\08_052.tif is a low contrast image\n",
      "  imsave(save_path,labels.astype('uint16'))\n"
     ]
    },
    {
     "name": "stdout",
     "output_type": "stream",
     "text": [
      "2021-09-22 23:11:40,409 [INFO] ~~~ FINDING MASKS ~~~\n",
      "2021-09-22 23:18:43,575 [INFO] >>>> TOTAL TIME 423.17 sec\n"
     ]
    },
    {
     "name": "stderr",
     "output_type": "stream",
     "text": [
      "C:\\Users\\martjohn\\AppData\\Local\\Temp/ipykernel_15976/2398957157.py:14: UserWarning: E:\\Martha\\2021Imaging\\08242021p27\\Segmentation_Test_MJ\\08\\08_053.tif is a low contrast image\n",
      "  imsave(save_path,labels.astype('uint16'))\n"
     ]
    },
    {
     "name": "stdout",
     "output_type": "stream",
     "text": [
      "2021-09-22 23:18:45,242 [INFO] ~~~ FINDING MASKS ~~~\n",
      "2021-09-22 23:25:48,869 [INFO] >>>> TOTAL TIME 423.63 sec\n"
     ]
    },
    {
     "name": "stderr",
     "output_type": "stream",
     "text": [
      "C:\\Users\\martjohn\\AppData\\Local\\Temp/ipykernel_15976/2398957157.py:14: UserWarning: E:\\Martha\\2021Imaging\\08242021p27\\Segmentation_Test_MJ\\08\\08_054.tif is a low contrast image\n",
      "  imsave(save_path,labels.astype('uint16'))\n"
     ]
    },
    {
     "name": "stdout",
     "output_type": "stream",
     "text": [
      "2021-09-22 23:25:50,389 [INFO] ~~~ FINDING MASKS ~~~\n",
      "2021-09-22 23:32:53,744 [INFO] >>>> TOTAL TIME 423.36 sec\n"
     ]
    },
    {
     "name": "stderr",
     "output_type": "stream",
     "text": [
      "C:\\Users\\martjohn\\AppData\\Local\\Temp/ipykernel_15976/2398957157.py:14: UserWarning: E:\\Martha\\2021Imaging\\08242021p27\\Segmentation_Test_MJ\\08\\08_055.tif is a low contrast image\n",
      "  imsave(save_path,labels.astype('uint16'))\n"
     ]
    },
    {
     "name": "stdout",
     "output_type": "stream",
     "text": [
      "2021-09-22 23:32:55,363 [INFO] ~~~ FINDING MASKS ~~~\n",
      "2021-09-22 23:39:56,868 [INFO] >>>> TOTAL TIME 421.51 sec\n"
     ]
    },
    {
     "name": "stderr",
     "output_type": "stream",
     "text": [
      "C:\\Users\\martjohn\\AppData\\Local\\Temp/ipykernel_15976/2398957157.py:14: UserWarning: E:\\Martha\\2021Imaging\\08242021p27\\Segmentation_Test_MJ\\08\\08_056.tif is a low contrast image\n",
      "  imsave(save_path,labels.astype('uint16'))\n"
     ]
    },
    {
     "name": "stdout",
     "output_type": "stream",
     "text": [
      "2021-09-22 23:39:58,571 [INFO] ~~~ FINDING MASKS ~~~\n",
      "2021-09-22 23:47:00,217 [INFO] >>>> TOTAL TIME 421.65 sec\n"
     ]
    },
    {
     "name": "stderr",
     "output_type": "stream",
     "text": [
      "C:\\Users\\martjohn\\AppData\\Local\\Temp/ipykernel_15976/2398957157.py:14: UserWarning: E:\\Martha\\2021Imaging\\08242021p27\\Segmentation_Test_MJ\\08\\08_057.tif is a low contrast image\n",
      "  imsave(save_path,labels.astype('uint16'))\n"
     ]
    },
    {
     "name": "stdout",
     "output_type": "stream",
     "text": [
      "2021-09-22 23:47:01,906 [INFO] ~~~ FINDING MASKS ~~~\n",
      "2021-09-22 23:54:08,676 [INFO] >>>> TOTAL TIME 426.77 sec\n"
     ]
    },
    {
     "name": "stderr",
     "output_type": "stream",
     "text": [
      "C:\\Users\\martjohn\\AppData\\Local\\Temp/ipykernel_15976/2398957157.py:14: UserWarning: E:\\Martha\\2021Imaging\\08242021p27\\Segmentation_Test_MJ\\08\\08_058.tif is a low contrast image\n",
      "  imsave(save_path,labels.astype('uint16'))\n"
     ]
    },
    {
     "name": "stdout",
     "output_type": "stream",
     "text": [
      "2021-09-22 23:54:10,369 [INFO] ~~~ FINDING MASKS ~~~\n",
      "2021-09-23 00:01:13,161 [INFO] >>>> TOTAL TIME 422.79 sec\n"
     ]
    },
    {
     "name": "stderr",
     "output_type": "stream",
     "text": [
      "C:\\Users\\martjohn\\AppData\\Local\\Temp/ipykernel_15976/2398957157.py:14: UserWarning: E:\\Martha\\2021Imaging\\08242021p27\\Segmentation_Test_MJ\\08\\08_059.tif is a low contrast image\n",
      "  imsave(save_path,labels.astype('uint16'))\n"
     ]
    },
    {
     "name": "stdout",
     "output_type": "stream",
     "text": [
      "2021-09-23 00:01:14,799 [INFO] ~~~ FINDING MASKS ~~~\n",
      "2021-09-23 00:08:18,033 [INFO] >>>> TOTAL TIME 423.23 sec\n"
     ]
    },
    {
     "name": "stderr",
     "output_type": "stream",
     "text": [
      "C:\\Users\\martjohn\\AppData\\Local\\Temp/ipykernel_15976/2398957157.py:14: UserWarning: E:\\Martha\\2021Imaging\\08242021p27\\Segmentation_Test_MJ\\08\\08_060.tif is a low contrast image\n",
      "  imsave(save_path,labels.astype('uint16'))\n"
     ]
    },
    {
     "name": "stdout",
     "output_type": "stream",
     "text": [
      "2021-09-23 00:08:19,642 [INFO] ~~~ FINDING MASKS ~~~\n",
      "2021-09-23 00:15:20,615 [INFO] >>>> TOTAL TIME 420.97 sec\n"
     ]
    },
    {
     "name": "stderr",
     "output_type": "stream",
     "text": [
      "C:\\Users\\martjohn\\AppData\\Local\\Temp/ipykernel_15976/2398957157.py:14: UserWarning: E:\\Martha\\2021Imaging\\08242021p27\\Segmentation_Test_MJ\\08\\08_061.tif is a low contrast image\n",
      "  imsave(save_path,labels.astype('uint16'))\n"
     ]
    },
    {
     "name": "stdout",
     "output_type": "stream",
     "text": [
      "2021-09-23 00:15:22,296 [INFO] ~~~ FINDING MASKS ~~~\n",
      "2021-09-23 00:22:29,618 [INFO] >>>> TOTAL TIME 427.32 sec\n"
     ]
    },
    {
     "name": "stderr",
     "output_type": "stream",
     "text": [
      "C:\\Users\\martjohn\\AppData\\Local\\Temp/ipykernel_15976/2398957157.py:14: UserWarning: E:\\Martha\\2021Imaging\\08242021p27\\Segmentation_Test_MJ\\08\\08_062.tif is a low contrast image\n",
      "  imsave(save_path,labels.astype('uint16'))\n"
     ]
    },
    {
     "name": "stdout",
     "output_type": "stream",
     "text": [
      "2021-09-23 00:22:31,194 [INFO] ~~~ FINDING MASKS ~~~\n",
      "2021-09-23 00:29:39,618 [INFO] >>>> TOTAL TIME 428.42 sec\n"
     ]
    },
    {
     "name": "stderr",
     "output_type": "stream",
     "text": [
      "C:\\Users\\martjohn\\AppData\\Local\\Temp/ipykernel_15976/2398957157.py:14: UserWarning: E:\\Martha\\2021Imaging\\08242021p27\\Segmentation_Test_MJ\\08\\08_063.tif is a low contrast image\n",
      "  imsave(save_path,labels.astype('uint16'))\n"
     ]
    },
    {
     "name": "stdout",
     "output_type": "stream",
     "text": [
      "2021-09-23 00:29:41,338 [INFO] ~~~ FINDING MASKS ~~~\n",
      "2021-09-23 00:36:42,921 [INFO] >>>> TOTAL TIME 421.58 sec\n"
     ]
    },
    {
     "name": "stderr",
     "output_type": "stream",
     "text": [
      "C:\\Users\\martjohn\\AppData\\Local\\Temp/ipykernel_15976/2398957157.py:14: UserWarning: E:\\Martha\\2021Imaging\\08242021p27\\Segmentation_Test_MJ\\08\\08_064.tif is a low contrast image\n",
      "  imsave(save_path,labels.astype('uint16'))\n"
     ]
    },
    {
     "name": "stdout",
     "output_type": "stream",
     "text": [
      "2021-09-23 00:36:44,519 [INFO] ~~~ FINDING MASKS ~~~\n",
      "2021-09-23 00:43:45,614 [INFO] >>>> TOTAL TIME 421.09 sec\n"
     ]
    },
    {
     "name": "stderr",
     "output_type": "stream",
     "text": [
      "C:\\Users\\martjohn\\AppData\\Local\\Temp/ipykernel_15976/2398957157.py:14: UserWarning: E:\\Martha\\2021Imaging\\08242021p27\\Segmentation_Test_MJ\\08\\08_065.tif is a low contrast image\n",
      "  imsave(save_path,labels.astype('uint16'))\n"
     ]
    },
    {
     "name": "stdout",
     "output_type": "stream",
     "text": [
      "2021-09-23 00:43:47,257 [INFO] ~~~ FINDING MASKS ~~~\n",
      "2021-09-23 00:50:50,668 [INFO] >>>> TOTAL TIME 423.41 sec\n"
     ]
    },
    {
     "name": "stderr",
     "output_type": "stream",
     "text": [
      "C:\\Users\\martjohn\\AppData\\Local\\Temp/ipykernel_15976/2398957157.py:14: UserWarning: E:\\Martha\\2021Imaging\\08242021p27\\Segmentation_Test_MJ\\08\\08_066.tif is a low contrast image\n",
      "  imsave(save_path,labels.astype('uint16'))\n"
     ]
    },
    {
     "name": "stdout",
     "output_type": "stream",
     "text": [
      "2021-09-23 00:50:52,274 [INFO] ~~~ FINDING MASKS ~~~\n",
      "2021-09-23 00:57:52,998 [INFO] >>>> TOTAL TIME 420.72 sec\n"
     ]
    },
    {
     "name": "stderr",
     "output_type": "stream",
     "text": [
      "C:\\Users\\martjohn\\AppData\\Local\\Temp/ipykernel_15976/2398957157.py:14: UserWarning: E:\\Martha\\2021Imaging\\08242021p27\\Segmentation_Test_MJ\\08\\08_067.tif is a low contrast image\n",
      "  imsave(save_path,labels.astype('uint16'))\n"
     ]
    },
    {
     "name": "stdout",
     "output_type": "stream",
     "text": [
      "2021-09-23 00:57:54,664 [INFO] ~~~ FINDING MASKS ~~~\n",
      "2021-09-23 01:04:56,068 [INFO] >>>> TOTAL TIME 421.40 sec\n"
     ]
    },
    {
     "name": "stderr",
     "output_type": "stream",
     "text": [
      "C:\\Users\\martjohn\\AppData\\Local\\Temp/ipykernel_15976/2398957157.py:14: UserWarning: E:\\Martha\\2021Imaging\\08242021p27\\Segmentation_Test_MJ\\08\\08_068.tif is a low contrast image\n",
      "  imsave(save_path,labels.astype('uint16'))\n"
     ]
    },
    {
     "name": "stdout",
     "output_type": "stream",
     "text": [
      "2021-09-23 01:04:57,642 [INFO] ~~~ FINDING MASKS ~~~\n",
      "2021-09-23 01:12:00,222 [INFO] >>>> TOTAL TIME 422.58 sec\n"
     ]
    },
    {
     "name": "stderr",
     "output_type": "stream",
     "text": [
      "C:\\Users\\martjohn\\AppData\\Local\\Temp/ipykernel_15976/2398957157.py:14: UserWarning: E:\\Martha\\2021Imaging\\08242021p27\\Segmentation_Test_MJ\\08\\08_069.tif is a low contrast image\n",
      "  imsave(save_path,labels.astype('uint16'))\n"
     ]
    },
    {
     "name": "stdout",
     "output_type": "stream",
     "text": [
      "2021-09-23 01:12:01,808 [INFO] ~~~ FINDING MASKS ~~~\n",
      "2021-09-23 01:19:02,909 [INFO] >>>> TOTAL TIME 421.10 sec\n"
     ]
    },
    {
     "name": "stderr",
     "output_type": "stream",
     "text": [
      "C:\\Users\\martjohn\\AppData\\Local\\Temp/ipykernel_15976/2398957157.py:14: UserWarning: E:\\Martha\\2021Imaging\\08242021p27\\Segmentation_Test_MJ\\08\\08_070.tif is a low contrast image\n",
      "  imsave(save_path,labels.astype('uint16'))\n"
     ]
    },
    {
     "name": "stdout",
     "output_type": "stream",
     "text": [
      "2021-09-23 01:19:04,535 [INFO] ~~~ FINDING MASKS ~~~\n",
      "2021-09-23 01:26:07,141 [INFO] >>>> TOTAL TIME 422.61 sec\n"
     ]
    },
    {
     "name": "stderr",
     "output_type": "stream",
     "text": [
      "C:\\Users\\martjohn\\AppData\\Local\\Temp/ipykernel_15976/2398957157.py:14: UserWarning: E:\\Martha\\2021Imaging\\08242021p27\\Segmentation_Test_MJ\\08\\08_071.tif is a low contrast image\n",
      "  imsave(save_path,labels.astype('uint16'))\n"
     ]
    },
    {
     "name": "stdout",
     "output_type": "stream",
     "text": [
      "2021-09-23 01:26:08,671 [INFO] ~~~ FINDING MASKS ~~~\n",
      "2021-09-23 01:33:12,013 [INFO] >>>> TOTAL TIME 423.34 sec\n"
     ]
    },
    {
     "name": "stderr",
     "output_type": "stream",
     "text": [
      "C:\\Users\\martjohn\\AppData\\Local\\Temp/ipykernel_15976/2398957157.py:14: UserWarning: E:\\Martha\\2021Imaging\\08242021p27\\Segmentation_Test_MJ\\08\\08_072.tif is a low contrast image\n",
      "  imsave(save_path,labels.astype('uint16'))\n"
     ]
    },
    {
     "name": "stdout",
     "output_type": "stream",
     "text": [
      "2021-09-23 01:33:13,629 [INFO] ~~~ FINDING MASKS ~~~\n",
      "2021-09-23 01:40:17,358 [INFO] >>>> TOTAL TIME 423.73 sec\n"
     ]
    },
    {
     "name": "stderr",
     "output_type": "stream",
     "text": [
      "C:\\Users\\martjohn\\AppData\\Local\\Temp/ipykernel_15976/2398957157.py:14: UserWarning: E:\\Martha\\2021Imaging\\08242021p27\\Segmentation_Test_MJ\\08\\08_073.tif is a low contrast image\n",
      "  imsave(save_path,labels.astype('uint16'))\n"
     ]
    },
    {
     "name": "stdout",
     "output_type": "stream",
     "text": [
      "2021-09-23 01:40:18,907 [INFO] ~~~ FINDING MASKS ~~~\n",
      "2021-09-23 01:47:26,843 [INFO] >>>> TOTAL TIME 427.94 sec\n"
     ]
    },
    {
     "name": "stderr",
     "output_type": "stream",
     "text": [
      "C:\\Users\\martjohn\\AppData\\Local\\Temp/ipykernel_15976/2398957157.py:14: UserWarning: E:\\Martha\\2021Imaging\\08242021p27\\Segmentation_Test_MJ\\08\\08_074.tif is a low contrast image\n",
      "  imsave(save_path,labels.astype('uint16'))\n"
     ]
    },
    {
     "name": "stdout",
     "output_type": "stream",
     "text": [
      "2021-09-23 01:47:28,529 [INFO] ~~~ FINDING MASKS ~~~\n",
      "2021-09-23 01:54:30,596 [INFO] >>>> TOTAL TIME 422.07 sec\n"
     ]
    },
    {
     "name": "stderr",
     "output_type": "stream",
     "text": [
      "C:\\Users\\martjohn\\AppData\\Local\\Temp/ipykernel_15976/2398957157.py:14: UserWarning: E:\\Martha\\2021Imaging\\08242021p27\\Segmentation_Test_MJ\\08\\08_075.tif is a low contrast image\n",
      "  imsave(save_path,labels.astype('uint16'))\n"
     ]
    },
    {
     "name": "stdout",
     "output_type": "stream",
     "text": [
      "2021-09-23 01:54:32,218 [INFO] ~~~ FINDING MASKS ~~~\n",
      "2021-09-23 02:01:35,325 [INFO] >>>> TOTAL TIME 423.11 sec\n"
     ]
    },
    {
     "name": "stderr",
     "output_type": "stream",
     "text": [
      "C:\\Users\\martjohn\\AppData\\Local\\Temp/ipykernel_15976/2398957157.py:14: UserWarning: E:\\Martha\\2021Imaging\\08242021p27\\Segmentation_Test_MJ\\08\\08_076.tif is a low contrast image\n",
      "  imsave(save_path,labels.astype('uint16'))\n"
     ]
    },
    {
     "name": "stdout",
     "output_type": "stream",
     "text": [
      "2021-09-23 02:01:36,953 [INFO] ~~~ FINDING MASKS ~~~\n",
      "2021-09-23 02:08:42,763 [INFO] >>>> TOTAL TIME 425.81 sec\n"
     ]
    },
    {
     "name": "stderr",
     "output_type": "stream",
     "text": [
      "C:\\Users\\martjohn\\AppData\\Local\\Temp/ipykernel_15976/2398957157.py:14: UserWarning: E:\\Martha\\2021Imaging\\08242021p27\\Segmentation_Test_MJ\\08\\08_077.tif is a low contrast image\n",
      "  imsave(save_path,labels.astype('uint16'))\n"
     ]
    },
    {
     "name": "stdout",
     "output_type": "stream",
     "text": [
      "2021-09-23 02:08:44,478 [INFO] ~~~ FINDING MASKS ~~~\n",
      "2021-09-23 02:15:48,754 [INFO] >>>> TOTAL TIME 424.28 sec\n"
     ]
    },
    {
     "name": "stderr",
     "output_type": "stream",
     "text": [
      "C:\\Users\\martjohn\\AppData\\Local\\Temp/ipykernel_15976/2398957157.py:14: UserWarning: E:\\Martha\\2021Imaging\\08242021p27\\Segmentation_Test_MJ\\08\\08_078.tif is a low contrast image\n",
      "  imsave(save_path,labels.astype('uint16'))\n"
     ]
    },
    {
     "name": "stdout",
     "output_type": "stream",
     "text": [
      "2021-09-23 02:15:50,432 [INFO] ~~~ FINDING MASKS ~~~\n",
      "2021-09-23 02:22:51,760 [INFO] >>>> TOTAL TIME 421.33 sec\n"
     ]
    },
    {
     "name": "stderr",
     "output_type": "stream",
     "text": [
      "C:\\Users\\martjohn\\AppData\\Local\\Temp/ipykernel_15976/2398957157.py:14: UserWarning: E:\\Martha\\2021Imaging\\08242021p27\\Segmentation_Test_MJ\\08\\08_079.tif is a low contrast image\n",
      "  imsave(save_path,labels.astype('uint16'))\n"
     ]
    },
    {
     "name": "stdout",
     "output_type": "stream",
     "text": [
      "2021-09-23 02:22:53,406 [INFO] ~~~ FINDING MASKS ~~~\n",
      "2021-09-23 02:29:57,003 [INFO] >>>> TOTAL TIME 423.60 sec\n"
     ]
    },
    {
     "name": "stderr",
     "output_type": "stream",
     "text": [
      "C:\\Users\\martjohn\\AppData\\Local\\Temp/ipykernel_15976/2398957157.py:14: UserWarning: E:\\Martha\\2021Imaging\\08242021p27\\Segmentation_Test_MJ\\08\\08_080.tif is a low contrast image\n",
      "  imsave(save_path,labels.astype('uint16'))\n"
     ]
    },
    {
     "name": "stdout",
     "output_type": "stream",
     "text": [
      "2021-09-23 02:29:58,569 [INFO] ~~~ FINDING MASKS ~~~\n",
      "2021-09-23 02:37:04,802 [INFO] >>>> TOTAL TIME 426.23 sec\n"
     ]
    },
    {
     "name": "stderr",
     "output_type": "stream",
     "text": [
      "C:\\Users\\martjohn\\AppData\\Local\\Temp/ipykernel_15976/2398957157.py:14: UserWarning: E:\\Martha\\2021Imaging\\08242021p27\\Segmentation_Test_MJ\\08\\08_081.tif is a low contrast image\n",
      "  imsave(save_path,labels.astype('uint16'))\n"
     ]
    },
    {
     "name": "stdout",
     "output_type": "stream",
     "text": [
      "2021-09-23 02:37:06,506 [INFO] ~~~ FINDING MASKS ~~~\n",
      "2021-09-23 02:44:07,575 [INFO] >>>> TOTAL TIME 421.07 sec\n"
     ]
    },
    {
     "name": "stderr",
     "output_type": "stream",
     "text": [
      "C:\\Users\\martjohn\\AppData\\Local\\Temp/ipykernel_15976/2398957157.py:14: UserWarning: E:\\Martha\\2021Imaging\\08242021p27\\Segmentation_Test_MJ\\08\\08_082.tif is a low contrast image\n",
      "  imsave(save_path,labels.astype('uint16'))\n"
     ]
    },
    {
     "name": "stdout",
     "output_type": "stream",
     "text": [
      "2021-09-23 02:44:09,316 [INFO] ~~~ FINDING MASKS ~~~\n",
      "2021-09-23 02:51:11,934 [INFO] >>>> TOTAL TIME 422.62 sec\n"
     ]
    },
    {
     "name": "stderr",
     "output_type": "stream",
     "text": [
      "C:\\Users\\martjohn\\AppData\\Local\\Temp/ipykernel_15976/2398957157.py:14: UserWarning: E:\\Martha\\2021Imaging\\08242021p27\\Segmentation_Test_MJ\\08\\08_083.tif is a low contrast image\n",
      "  imsave(save_path,labels.astype('uint16'))\n"
     ]
    },
    {
     "name": "stdout",
     "output_type": "stream",
     "text": [
      "2021-09-23 02:51:13,591 [INFO] ~~~ FINDING MASKS ~~~\n",
      "2021-09-23 02:58:18,197 [INFO] >>>> TOTAL TIME 424.61 sec\n"
     ]
    },
    {
     "name": "stderr",
     "output_type": "stream",
     "text": [
      "C:\\Users\\martjohn\\AppData\\Local\\Temp/ipykernel_15976/2398957157.py:14: UserWarning: E:\\Martha\\2021Imaging\\08242021p27\\Segmentation_Test_MJ\\08\\08_084.tif is a low contrast image\n",
      "  imsave(save_path,labels.astype('uint16'))\n"
     ]
    },
    {
     "name": "stdout",
     "output_type": "stream",
     "text": [
      "2021-09-23 02:58:19,764 [INFO] ~~~ FINDING MASKS ~~~\n",
      "2021-09-23 03:05:21,337 [INFO] >>>> TOTAL TIME 421.57 sec\n"
     ]
    },
    {
     "name": "stderr",
     "output_type": "stream",
     "text": [
      "C:\\Users\\martjohn\\AppData\\Local\\Temp/ipykernel_15976/2398957157.py:14: UserWarning: E:\\Martha\\2021Imaging\\08242021p27\\Segmentation_Test_MJ\\08\\08_085.tif is a low contrast image\n",
      "  imsave(save_path,labels.astype('uint16'))\n"
     ]
    },
    {
     "name": "stdout",
     "output_type": "stream",
     "text": [
      "2021-09-23 03:05:23,151 [INFO] ~~~ FINDING MASKS ~~~\n",
      "2021-09-23 03:12:34,226 [INFO] >>>> TOTAL TIME 431.07 sec\n"
     ]
    },
    {
     "name": "stderr",
     "output_type": "stream",
     "text": [
      "C:\\Users\\martjohn\\AppData\\Local\\Temp/ipykernel_15976/2398957157.py:14: UserWarning: E:\\Martha\\2021Imaging\\08242021p27\\Segmentation_Test_MJ\\08\\08_086.tif is a low contrast image\n",
      "  imsave(save_path,labels.astype('uint16'))\n"
     ]
    },
    {
     "name": "stdout",
     "output_type": "stream",
     "text": [
      "2021-09-23 03:12:35,595 [INFO] ~~~ FINDING MASKS ~~~\n",
      "2021-09-23 03:19:35,685 [INFO] >>>> TOTAL TIME 420.09 sec\n"
     ]
    },
    {
     "name": "stderr",
     "output_type": "stream",
     "text": [
      "C:\\Users\\martjohn\\AppData\\Local\\Temp/ipykernel_15976/2398957157.py:14: UserWarning: E:\\Martha\\2021Imaging\\08242021p27\\Segmentation_Test_MJ\\08\\08_087.tif is a low contrast image\n",
      "  imsave(save_path,labels.astype('uint16'))\n"
     ]
    },
    {
     "name": "stdout",
     "output_type": "stream",
     "text": [
      "2021-09-23 03:19:37,256 [INFO] ~~~ FINDING MASKS ~~~\n",
      "2021-09-23 03:26:35,985 [INFO] >>>> TOTAL TIME 418.73 sec\n"
     ]
    },
    {
     "name": "stderr",
     "output_type": "stream",
     "text": [
      "C:\\Users\\martjohn\\AppData\\Local\\Temp/ipykernel_15976/2398957157.py:14: UserWarning: E:\\Martha\\2021Imaging\\08242021p27\\Segmentation_Test_MJ\\08\\08_088.tif is a low contrast image\n",
      "  imsave(save_path,labels.astype('uint16'))\n"
     ]
    },
    {
     "name": "stdout",
     "output_type": "stream",
     "text": [
      "2021-09-23 03:26:37,615 [INFO] ~~~ FINDING MASKS ~~~\n",
      "2021-09-23 03:33:39,515 [INFO] >>>> TOTAL TIME 421.90 sec\n"
     ]
    },
    {
     "name": "stderr",
     "output_type": "stream",
     "text": [
      "C:\\Users\\martjohn\\AppData\\Local\\Temp/ipykernel_15976/2398957157.py:14: UserWarning: E:\\Martha\\2021Imaging\\08242021p27\\Segmentation_Test_MJ\\08\\08_089.tif is a low contrast image\n",
      "  imsave(save_path,labels.astype('uint16'))\n"
     ]
    },
    {
     "name": "stdout",
     "output_type": "stream",
     "text": [
      "2021-09-23 03:33:41,166 [INFO] ~~~ FINDING MASKS ~~~\n",
      "2021-09-23 03:40:40,077 [INFO] >>>> TOTAL TIME 418.91 sec\n"
     ]
    },
    {
     "name": "stderr",
     "output_type": "stream",
     "text": [
      "C:\\Users\\martjohn\\AppData\\Local\\Temp/ipykernel_15976/2398957157.py:14: UserWarning: E:\\Martha\\2021Imaging\\08242021p27\\Segmentation_Test_MJ\\08\\08_090.tif is a low contrast image\n",
      "  imsave(save_path,labels.astype('uint16'))\n"
     ]
    },
    {
     "name": "stdout",
     "output_type": "stream",
     "text": [
      "2021-09-23 03:40:41,624 [INFO] ~~~ FINDING MASKS ~~~\n",
      "2021-09-23 03:47:44,712 [INFO] >>>> TOTAL TIME 423.09 sec\n"
     ]
    },
    {
     "name": "stderr",
     "output_type": "stream",
     "text": [
      "C:\\Users\\martjohn\\AppData\\Local\\Temp/ipykernel_15976/2398957157.py:14: UserWarning: E:\\Martha\\2021Imaging\\08242021p27\\Segmentation_Test_MJ\\08\\08_091.tif is a low contrast image\n",
      "  imsave(save_path,labels.astype('uint16'))\n"
     ]
    },
    {
     "name": "stdout",
     "output_type": "stream",
     "text": [
      "2021-09-23 03:47:46,433 [INFO] ~~~ FINDING MASKS ~~~\n",
      "2021-09-23 03:54:49,417 [INFO] >>>> TOTAL TIME 422.98 sec\n"
     ]
    },
    {
     "name": "stderr",
     "output_type": "stream",
     "text": [
      "C:\\Users\\martjohn\\AppData\\Local\\Temp/ipykernel_15976/2398957157.py:14: UserWarning: E:\\Martha\\2021Imaging\\08242021p27\\Segmentation_Test_MJ\\08\\08_092.tif is a low contrast image\n",
      "  imsave(save_path,labels.astype('uint16'))\n"
     ]
    },
    {
     "name": "stdout",
     "output_type": "stream",
     "text": [
      "2021-09-23 03:54:50,965 [INFO] ~~~ FINDING MASKS ~~~\n",
      "2021-09-23 04:01:53,600 [INFO] >>>> TOTAL TIME 422.63 sec\n"
     ]
    },
    {
     "name": "stderr",
     "output_type": "stream",
     "text": [
      "C:\\Users\\martjohn\\AppData\\Local\\Temp/ipykernel_15976/2398957157.py:14: UserWarning: E:\\Martha\\2021Imaging\\08242021p27\\Segmentation_Test_MJ\\08\\08_093.tif is a low contrast image\n",
      "  imsave(save_path,labels.astype('uint16'))\n"
     ]
    },
    {
     "name": "stdout",
     "output_type": "stream",
     "text": [
      "2021-09-23 04:01:55,085 [INFO] ~~~ FINDING MASKS ~~~\n",
      "2021-09-23 04:09:02,297 [INFO] >>>> TOTAL TIME 427.21 sec\n"
     ]
    },
    {
     "name": "stderr",
     "output_type": "stream",
     "text": [
      "C:\\Users\\martjohn\\AppData\\Local\\Temp/ipykernel_15976/2398957157.py:14: UserWarning: E:\\Martha\\2021Imaging\\08242021p27\\Segmentation_Test_MJ\\08\\08_094.tif is a low contrast image\n",
      "  imsave(save_path,labels.astype('uint16'))\n"
     ]
    },
    {
     "name": "stdout",
     "output_type": "stream",
     "text": [
      "2021-09-23 04:09:03,898 [INFO] ~~~ FINDING MASKS ~~~\n",
      "2021-09-23 04:16:05,368 [INFO] >>>> TOTAL TIME 421.47 sec\n"
     ]
    },
    {
     "name": "stderr",
     "output_type": "stream",
     "text": [
      "C:\\Users\\martjohn\\AppData\\Local\\Temp/ipykernel_15976/2398957157.py:14: UserWarning: E:\\Martha\\2021Imaging\\08242021p27\\Segmentation_Test_MJ\\08\\08_095.tif is a low contrast image\n",
      "  imsave(save_path,labels.astype('uint16'))\n"
     ]
    },
    {
     "name": "stdout",
     "output_type": "stream",
     "text": [
      "2021-09-23 04:16:07,390 [INFO] ~~~ FINDING MASKS ~~~\n",
      "2021-09-23 04:23:09,859 [INFO] >>>> TOTAL TIME 422.47 sec\n"
     ]
    },
    {
     "name": "stderr",
     "output_type": "stream",
     "text": [
      "C:\\Users\\martjohn\\AppData\\Local\\Temp/ipykernel_15976/2398957157.py:14: UserWarning: E:\\Martha\\2021Imaging\\08242021p27\\Segmentation_Test_MJ\\08\\08_096.tif is a low contrast image\n",
      "  imsave(save_path,labels.astype('uint16'))\n"
     ]
    },
    {
     "name": "stdout",
     "output_type": "stream",
     "text": [
      "2021-09-23 04:23:11,408 [INFO] ~~~ FINDING MASKS ~~~\n",
      "2021-09-23 04:30:13,768 [INFO] >>>> TOTAL TIME 422.36 sec\n"
     ]
    },
    {
     "name": "stderr",
     "output_type": "stream",
     "text": [
      "C:\\Users\\martjohn\\AppData\\Local\\Temp/ipykernel_15976/2398957157.py:14: UserWarning: E:\\Martha\\2021Imaging\\08242021p27\\Segmentation_Test_MJ\\08\\08_097.tif is a low contrast image\n",
      "  imsave(save_path,labels.astype('uint16'))\n"
     ]
    },
    {
     "name": "stdout",
     "output_type": "stream",
     "text": [
      "2021-09-23 04:30:15,359 [INFO] ~~~ FINDING MASKS ~~~\n",
      "2021-09-23 04:37:16,800 [INFO] >>>> TOTAL TIME 421.44 sec\n"
     ]
    },
    {
     "name": "stderr",
     "output_type": "stream",
     "text": [
      "C:\\Users\\martjohn\\AppData\\Local\\Temp/ipykernel_15976/2398957157.py:14: UserWarning: E:\\Martha\\2021Imaging\\08242021p27\\Segmentation_Test_MJ\\08\\08_098.tif is a low contrast image\n",
      "  imsave(save_path,labels.astype('uint16'))\n"
     ]
    },
    {
     "name": "stdout",
     "output_type": "stream",
     "text": [
      "2021-09-23 04:37:18,467 [INFO] ~~~ FINDING MASKS ~~~\n",
      "2021-09-23 04:44:19,647 [INFO] >>>> TOTAL TIME 421.18 sec\n"
     ]
    },
    {
     "name": "stderr",
     "output_type": "stream",
     "text": [
      "C:\\Users\\martjohn\\AppData\\Local\\Temp/ipykernel_15976/2398957157.py:14: UserWarning: E:\\Martha\\2021Imaging\\08242021p27\\Segmentation_Test_MJ\\08\\08_099.tif is a low contrast image\n",
      "  imsave(save_path,labels.astype('uint16'))\n"
     ]
    },
    {
     "name": "stdout",
     "output_type": "stream",
     "text": [
      "2021-09-23 04:44:21,437 [INFO] ~~~ FINDING MASKS ~~~\n",
      "2021-09-23 04:51:23,003 [INFO] >>>> TOTAL TIME 421.57 sec\n"
     ]
    },
    {
     "name": "stderr",
     "output_type": "stream",
     "text": [
      "C:\\Users\\martjohn\\AppData\\Local\\Temp/ipykernel_15976/2398957157.py:14: UserWarning: E:\\Martha\\2021Imaging\\08242021p27\\Segmentation_Test_MJ\\08\\08_100.tif is a low contrast image\n",
      "  imsave(save_path,labels.astype('uint16'))\n"
     ]
    },
    {
     "name": "stdout",
     "output_type": "stream",
     "text": [
      "2021-09-23 04:51:24,637 [INFO] ~~~ FINDING MASKS ~~~\n",
      "2021-09-23 04:58:23,575 [INFO] >>>> TOTAL TIME 418.94 sec\n"
     ]
    },
    {
     "name": "stderr",
     "output_type": "stream",
     "text": [
      "C:\\Users\\martjohn\\AppData\\Local\\Temp/ipykernel_15976/2398957157.py:14: UserWarning: E:\\Martha\\2021Imaging\\08242021p27\\Segmentation_Test_MJ\\08\\08_101.tif is a low contrast image\n",
      "  imsave(save_path,labels.astype('uint16'))\n"
     ]
    },
    {
     "name": "stdout",
     "output_type": "stream",
     "text": [
      "2021-09-23 04:58:25,234 [INFO] ~~~ FINDING MASKS ~~~\n",
      "2021-09-23 05:05:27,818 [INFO] >>>> TOTAL TIME 422.58 sec\n"
     ]
    },
    {
     "name": "stderr",
     "output_type": "stream",
     "text": [
      "C:\\Users\\martjohn\\AppData\\Local\\Temp/ipykernel_15976/2398957157.py:14: UserWarning: E:\\Martha\\2021Imaging\\08242021p27\\Segmentation_Test_MJ\\08\\08_102.tif is a low contrast image\n",
      "  imsave(save_path,labels.astype('uint16'))\n"
     ]
    },
    {
     "name": "stdout",
     "output_type": "stream",
     "text": [
      "2021-09-23 05:05:29,479 [INFO] ~~~ FINDING MASKS ~~~\n",
      "2021-09-23 05:12:35,310 [INFO] >>>> TOTAL TIME 425.83 sec\n"
     ]
    },
    {
     "name": "stderr",
     "output_type": "stream",
     "text": [
      "C:\\Users\\martjohn\\AppData\\Local\\Temp/ipykernel_15976/2398957157.py:14: UserWarning: E:\\Martha\\2021Imaging\\08242021p27\\Segmentation_Test_MJ\\08\\08_103.tif is a low contrast image\n",
      "  imsave(save_path,labels.astype('uint16'))\n"
     ]
    },
    {
     "name": "stdout",
     "output_type": "stream",
     "text": [
      "2021-09-23 05:12:37,034 [INFO] ~~~ FINDING MASKS ~~~\n",
      "2021-09-23 05:19:54,984 [INFO] >>>> TOTAL TIME 437.95 sec\n"
     ]
    },
    {
     "name": "stderr",
     "output_type": "stream",
     "text": [
      "C:\\Users\\martjohn\\AppData\\Local\\Temp/ipykernel_15976/2398957157.py:14: UserWarning: E:\\Martha\\2021Imaging\\08242021p27\\Segmentation_Test_MJ\\08\\08_104.tif is a low contrast image\n",
      "  imsave(save_path,labels.astype('uint16'))\n"
     ]
    },
    {
     "name": "stdout",
     "output_type": "stream",
     "text": [
      "2021-09-23 05:19:56,622 [INFO] ~~~ FINDING MASKS ~~~\n",
      "2021-09-23 05:27:00,086 [INFO] >>>> TOTAL TIME 423.47 sec\n"
     ]
    },
    {
     "name": "stderr",
     "output_type": "stream",
     "text": [
      "C:\\Users\\martjohn\\AppData\\Local\\Temp/ipykernel_15976/2398957157.py:14: UserWarning: E:\\Martha\\2021Imaging\\08242021p27\\Segmentation_Test_MJ\\08\\08_105.tif is a low contrast image\n",
      "  imsave(save_path,labels.astype('uint16'))\n"
     ]
    },
    {
     "name": "stdout",
     "output_type": "stream",
     "text": [
      "2021-09-23 05:27:01,734 [INFO] ~~~ FINDING MASKS ~~~\n",
      "2021-09-23 05:34:05,754 [INFO] >>>> TOTAL TIME 424.02 sec\n"
     ]
    },
    {
     "name": "stderr",
     "output_type": "stream",
     "text": [
      "C:\\Users\\martjohn\\AppData\\Local\\Temp/ipykernel_15976/2398957157.py:14: UserWarning: E:\\Martha\\2021Imaging\\08242021p27\\Segmentation_Test_MJ\\08\\08_106.tif is a low contrast image\n",
      "  imsave(save_path,labels.astype('uint16'))\n"
     ]
    },
    {
     "name": "stdout",
     "output_type": "stream",
     "text": [
      "2021-09-23 05:34:07,486 [INFO] ~~~ FINDING MASKS ~~~\n",
      "2021-09-23 05:41:13,377 [INFO] >>>> TOTAL TIME 425.89 sec\n"
     ]
    },
    {
     "name": "stderr",
     "output_type": "stream",
     "text": [
      "C:\\Users\\martjohn\\AppData\\Local\\Temp/ipykernel_15976/2398957157.py:14: UserWarning: E:\\Martha\\2021Imaging\\08242021p27\\Segmentation_Test_MJ\\08\\08_107.tif is a low contrast image\n",
      "  imsave(save_path,labels.astype('uint16'))\n"
     ]
    },
    {
     "name": "stdout",
     "output_type": "stream",
     "text": [
      "2021-09-23 05:41:15,065 [INFO] ~~~ FINDING MASKS ~~~\n",
      "2021-09-23 05:48:22,368 [INFO] >>>> TOTAL TIME 427.30 sec\n"
     ]
    },
    {
     "name": "stderr",
     "output_type": "stream",
     "text": [
      "C:\\Users\\martjohn\\AppData\\Local\\Temp/ipykernel_15976/2398957157.py:14: UserWarning: E:\\Martha\\2021Imaging\\08242021p27\\Segmentation_Test_MJ\\08\\08_108.tif is a low contrast image\n",
      "  imsave(save_path,labels.astype('uint16'))\n"
     ]
    },
    {
     "name": "stdout",
     "output_type": "stream",
     "text": [
      "2021-09-23 05:48:23,991 [INFO] ~~~ FINDING MASKS ~~~\n",
      "2021-09-23 05:55:27,208 [INFO] >>>> TOTAL TIME 423.22 sec\n"
     ]
    },
    {
     "name": "stderr",
     "output_type": "stream",
     "text": [
      "C:\\Users\\martjohn\\AppData\\Local\\Temp/ipykernel_15976/2398957157.py:14: UserWarning: E:\\Martha\\2021Imaging\\08242021p27\\Segmentation_Test_MJ\\08\\08_109.tif is a low contrast image\n",
      "  imsave(save_path,labels.astype('uint16'))\n"
     ]
    },
    {
     "name": "stdout",
     "output_type": "stream",
     "text": [
      "2021-09-23 05:55:28,914 [INFO] ~~~ FINDING MASKS ~~~\n",
      "2021-09-23 06:02:35,251 [INFO] >>>> TOTAL TIME 426.34 sec\n"
     ]
    },
    {
     "name": "stderr",
     "output_type": "stream",
     "text": [
      "C:\\Users\\martjohn\\AppData\\Local\\Temp/ipykernel_15976/2398957157.py:14: UserWarning: E:\\Martha\\2021Imaging\\08242021p27\\Segmentation_Test_MJ\\08\\08_110.tif is a low contrast image\n",
      "  imsave(save_path,labels.astype('uint16'))\n"
     ]
    },
    {
     "name": "stdout",
     "output_type": "stream",
     "text": [
      "2021-09-23 06:02:36,999 [INFO] ~~~ FINDING MASKS ~~~\n",
      "2021-09-23 06:09:37,269 [INFO] >>>> TOTAL TIME 420.27 sec\n"
     ]
    },
    {
     "name": "stderr",
     "output_type": "stream",
     "text": [
      "C:\\Users\\martjohn\\AppData\\Local\\Temp/ipykernel_15976/2398957157.py:14: UserWarning: E:\\Martha\\2021Imaging\\08242021p27\\Segmentation_Test_MJ\\08\\08_111.tif is a low contrast image\n",
      "  imsave(save_path,labels.astype('uint16'))\n"
     ]
    },
    {
     "name": "stdout",
     "output_type": "stream",
     "text": [
      "2021-09-23 06:09:38,752 [INFO] ~~~ FINDING MASKS ~~~\n",
      "2021-09-23 06:16:42,471 [INFO] >>>> TOTAL TIME 423.72 sec\n"
     ]
    },
    {
     "name": "stderr",
     "output_type": "stream",
     "text": [
      "C:\\Users\\martjohn\\AppData\\Local\\Temp/ipykernel_15976/2398957157.py:14: UserWarning: E:\\Martha\\2021Imaging\\08242021p27\\Segmentation_Test_MJ\\08\\08_112.tif is a low contrast image\n",
      "  imsave(save_path,labels.astype('uint16'))\n"
     ]
    },
    {
     "name": "stdout",
     "output_type": "stream",
     "text": [
      "2021-09-23 06:16:44,161 [INFO] ~~~ FINDING MASKS ~~~\n",
      "2021-09-23 06:23:49,487 [INFO] >>>> TOTAL TIME 425.33 sec\n"
     ]
    },
    {
     "name": "stderr",
     "output_type": "stream",
     "text": [
      "C:\\Users\\martjohn\\AppData\\Local\\Temp/ipykernel_15976/2398957157.py:14: UserWarning: E:\\Martha\\2021Imaging\\08242021p27\\Segmentation_Test_MJ\\08\\08_113.tif is a low contrast image\n",
      "  imsave(save_path,labels.astype('uint16'))\n"
     ]
    },
    {
     "name": "stdout",
     "output_type": "stream",
     "text": [
      "2021-09-23 06:23:51,106 [INFO] ~~~ FINDING MASKS ~~~\n",
      "2021-09-23 06:30:52,669 [INFO] >>>> TOTAL TIME 421.56 sec\n"
     ]
    },
    {
     "name": "stderr",
     "output_type": "stream",
     "text": [
      "C:\\Users\\martjohn\\AppData\\Local\\Temp/ipykernel_15976/2398957157.py:14: UserWarning: E:\\Martha\\2021Imaging\\08242021p27\\Segmentation_Test_MJ\\08\\08_114.tif is a low contrast image\n",
      "  imsave(save_path,labels.astype('uint16'))\n"
     ]
    },
    {
     "name": "stdout",
     "output_type": "stream",
     "text": [
      "2021-09-23 06:30:54,365 [INFO] ~~~ FINDING MASKS ~~~\n",
      "2021-09-23 06:38:10,502 [INFO] >>>> TOTAL TIME 436.14 sec\n"
     ]
    },
    {
     "name": "stderr",
     "output_type": "stream",
     "text": [
      "C:\\Users\\martjohn\\AppData\\Local\\Temp/ipykernel_15976/2398957157.py:14: UserWarning: E:\\Martha\\2021Imaging\\08242021p27\\Segmentation_Test_MJ\\08\\08_115.tif is a low contrast image\n",
      "  imsave(save_path,labels.astype('uint16'))\n"
     ]
    },
    {
     "name": "stdout",
     "output_type": "stream",
     "text": [
      "2021-09-23 06:38:12,167 [INFO] ~~~ FINDING MASKS ~~~\n",
      "2021-09-23 06:45:19,627 [INFO] >>>> TOTAL TIME 427.46 sec\n"
     ]
    },
    {
     "name": "stderr",
     "output_type": "stream",
     "text": [
      "C:\\Users\\martjohn\\AppData\\Local\\Temp/ipykernel_15976/2398957157.py:14: UserWarning: E:\\Martha\\2021Imaging\\08242021p27\\Segmentation_Test_MJ\\08\\08_116.tif is a low contrast image\n",
      "  imsave(save_path,labels.astype('uint16'))\n"
     ]
    },
    {
     "name": "stdout",
     "output_type": "stream",
     "text": [
      "2021-09-23 06:45:21,112 [INFO] ~~~ FINDING MASKS ~~~\n",
      "2021-09-23 06:52:23,424 [INFO] >>>> TOTAL TIME 422.31 sec\n"
     ]
    },
    {
     "name": "stderr",
     "output_type": "stream",
     "text": [
      "C:\\Users\\martjohn\\AppData\\Local\\Temp/ipykernel_15976/2398957157.py:14: UserWarning: E:\\Martha\\2021Imaging\\08242021p27\\Segmentation_Test_MJ\\08\\08_117.tif is a low contrast image\n",
      "  imsave(save_path,labels.astype('uint16'))\n"
     ]
    },
    {
     "name": "stdout",
     "output_type": "stream",
     "text": [
      "2021-09-23 06:52:25,074 [INFO] ~~~ FINDING MASKS ~~~\n",
      "2021-09-23 06:59:25,721 [INFO] >>>> TOTAL TIME 420.65 sec\n"
     ]
    },
    {
     "name": "stderr",
     "output_type": "stream",
     "text": [
      "C:\\Users\\martjohn\\AppData\\Local\\Temp/ipykernel_15976/2398957157.py:14: UserWarning: E:\\Martha\\2021Imaging\\08242021p27\\Segmentation_Test_MJ\\08\\08_118.tif is a low contrast image\n",
      "  imsave(save_path,labels.astype('uint16'))\n"
     ]
    },
    {
     "name": "stdout",
     "output_type": "stream",
     "text": [
      "2021-09-23 06:59:27,466 [INFO] ~~~ FINDING MASKS ~~~\n",
      "2021-09-23 07:06:32,930 [INFO] >>>> TOTAL TIME 425.46 sec\n"
     ]
    },
    {
     "name": "stderr",
     "output_type": "stream",
     "text": [
      "C:\\Users\\martjohn\\AppData\\Local\\Temp/ipykernel_15976/2398957157.py:14: UserWarning: E:\\Martha\\2021Imaging\\08242021p27\\Segmentation_Test_MJ\\08\\08_119.tif is a low contrast image\n",
      "  imsave(save_path,labels.astype('uint16'))\n"
     ]
    },
    {
     "name": "stdout",
     "output_type": "stream",
     "text": [
      "2021-09-23 07:06:34,555 [INFO] ~~~ FINDING MASKS ~~~\n",
      "2021-09-23 07:13:35,134 [INFO] >>>> TOTAL TIME 420.58 sec\n"
     ]
    },
    {
     "name": "stderr",
     "output_type": "stream",
     "text": [
      "C:\\Users\\martjohn\\AppData\\Local\\Temp/ipykernel_15976/2398957157.py:14: UserWarning: E:\\Martha\\2021Imaging\\08242021p27\\Segmentation_Test_MJ\\08\\08_120.tif is a low contrast image\n",
      "  imsave(save_path,labels.astype('uint16'))\n"
     ]
    },
    {
     "name": "stdout",
     "output_type": "stream",
     "text": [
      "2021-09-23 07:13:36,851 [INFO] ~~~ FINDING MASKS ~~~\n",
      "2021-09-23 07:20:37,047 [INFO] >>>> TOTAL TIME 420.20 sec\n"
     ]
    },
    {
     "name": "stderr",
     "output_type": "stream",
     "text": [
      "C:\\Users\\martjohn\\AppData\\Local\\Temp/ipykernel_15976/2398957157.py:14: UserWarning: E:\\Martha\\2021Imaging\\08242021p27\\Segmentation_Test_MJ\\08\\08_121.tif is a low contrast image\n",
      "  imsave(save_path,labels.astype('uint16'))\n"
     ]
    },
    {
     "name": "stdout",
     "output_type": "stream",
     "text": [
      "2021-09-23 07:20:38,592 [INFO] ~~~ FINDING MASKS ~~~\n",
      "2021-09-23 07:27:48,760 [INFO] >>>> TOTAL TIME 430.17 sec\n"
     ]
    },
    {
     "name": "stderr",
     "output_type": "stream",
     "text": [
      "C:\\Users\\martjohn\\AppData\\Local\\Temp/ipykernel_15976/2398957157.py:14: UserWarning: E:\\Martha\\2021Imaging\\08242021p27\\Segmentation_Test_MJ\\08\\08_122.tif is a low contrast image\n",
      "  imsave(save_path,labels.astype('uint16'))\n"
     ]
    },
    {
     "name": "stdout",
     "output_type": "stream",
     "text": [
      "2021-09-23 07:27:50,261 [INFO] ~~~ FINDING MASKS ~~~\n",
      "2021-09-23 07:34:54,718 [INFO] >>>> TOTAL TIME 424.46 sec\n"
     ]
    },
    {
     "name": "stderr",
     "output_type": "stream",
     "text": [
      "C:\\Users\\martjohn\\AppData\\Local\\Temp/ipykernel_15976/2398957157.py:14: UserWarning: E:\\Martha\\2021Imaging\\08242021p27\\Segmentation_Test_MJ\\08\\08_123.tif is a low contrast image\n",
      "  imsave(save_path,labels.astype('uint16'))\n"
     ]
    },
    {
     "name": "stdout",
     "output_type": "stream",
     "text": [
      "2021-09-23 07:34:56,363 [INFO] ~~~ FINDING MASKS ~~~\n",
      "2021-09-23 07:42:01,272 [INFO] >>>> TOTAL TIME 424.91 sec\n"
     ]
    },
    {
     "name": "stderr",
     "output_type": "stream",
     "text": [
      "C:\\Users\\martjohn\\AppData\\Local\\Temp/ipykernel_15976/2398957157.py:14: UserWarning: E:\\Martha\\2021Imaging\\08242021p27\\Segmentation_Test_MJ\\08\\08_124.tif is a low contrast image\n",
      "  imsave(save_path,labels.astype('uint16'))\n"
     ]
    },
    {
     "name": "stdout",
     "output_type": "stream",
     "text": [
      "2021-09-23 07:42:02,878 [INFO] ~~~ FINDING MASKS ~~~\n",
      "2021-09-23 07:49:06,618 [INFO] >>>> TOTAL TIME 423.74 sec\n"
     ]
    },
    {
     "name": "stderr",
     "output_type": "stream",
     "text": [
      "C:\\Users\\martjohn\\AppData\\Local\\Temp/ipykernel_15976/2398957157.py:14: UserWarning: E:\\Martha\\2021Imaging\\08242021p27\\Segmentation_Test_MJ\\08\\08_125.tif is a low contrast image\n",
      "  imsave(save_path,labels.astype('uint16'))\n"
     ]
    },
    {
     "name": "stdout",
     "output_type": "stream",
     "text": [
      "2021-09-23 07:49:08,150 [INFO] ~~~ FINDING MASKS ~~~\n",
      "2021-09-23 07:56:13,187 [INFO] >>>> TOTAL TIME 425.04 sec\n"
     ]
    },
    {
     "name": "stderr",
     "output_type": "stream",
     "text": [
      "C:\\Users\\martjohn\\AppData\\Local\\Temp/ipykernel_15976/2398957157.py:14: UserWarning: E:\\Martha\\2021Imaging\\08242021p27\\Segmentation_Test_MJ\\08\\08_126.tif is a low contrast image\n",
      "  imsave(save_path,labels.astype('uint16'))\n"
     ]
    },
    {
     "name": "stdout",
     "output_type": "stream",
     "text": [
      "2021-09-23 07:56:14,845 [INFO] ~~~ FINDING MASKS ~~~\n",
      "2021-09-23 08:03:18,044 [INFO] >>>> TOTAL TIME 423.20 sec\n"
     ]
    },
    {
     "name": "stderr",
     "output_type": "stream",
     "text": [
      "C:\\Users\\martjohn\\AppData\\Local\\Temp/ipykernel_15976/2398957157.py:14: UserWarning: E:\\Martha\\2021Imaging\\08242021p27\\Segmentation_Test_MJ\\08\\08_127.tif is a low contrast image\n",
      "  imsave(save_path,labels.astype('uint16'))\n"
     ]
    },
    {
     "name": "stdout",
     "output_type": "stream",
     "text": [
      "2021-09-23 08:03:19,680 [INFO] ~~~ FINDING MASKS ~~~\n",
      "2021-09-23 08:10:22,769 [INFO] >>>> TOTAL TIME 423.09 sec\n"
     ]
    },
    {
     "name": "stderr",
     "output_type": "stream",
     "text": [
      "C:\\Users\\martjohn\\AppData\\Local\\Temp/ipykernel_15976/2398957157.py:14: UserWarning: E:\\Martha\\2021Imaging\\08242021p27\\Segmentation_Test_MJ\\08\\08_128.tif is a low contrast image\n",
      "  imsave(save_path,labels.astype('uint16'))\n"
     ]
    },
    {
     "name": "stdout",
     "output_type": "stream",
     "text": [
      "2021-09-23 08:10:24,450 [INFO] ~~~ FINDING MASKS ~~~\n",
      "2021-09-23 08:17:27,606 [INFO] >>>> TOTAL TIME 423.16 sec\n"
     ]
    },
    {
     "name": "stderr",
     "output_type": "stream",
     "text": [
      "C:\\Users\\martjohn\\AppData\\Local\\Temp/ipykernel_15976/2398957157.py:14: UserWarning: E:\\Martha\\2021Imaging\\08242021p27\\Segmentation_Test_MJ\\08\\08_129.tif is a low contrast image\n",
      "  imsave(save_path,labels.astype('uint16'))\n"
     ]
    },
    {
     "name": "stdout",
     "output_type": "stream",
     "text": [
      "2021-09-23 08:17:29,279 [INFO] ~~~ FINDING MASKS ~~~\n",
      "2021-09-23 08:24:34,774 [INFO] >>>> TOTAL TIME 425.49 sec\n"
     ]
    },
    {
     "name": "stderr",
     "output_type": "stream",
     "text": [
      "C:\\Users\\martjohn\\AppData\\Local\\Temp/ipykernel_15976/2398957157.py:14: UserWarning: E:\\Martha\\2021Imaging\\08242021p27\\Segmentation_Test_MJ\\08\\08_130.tif is a low contrast image\n",
      "  imsave(save_path,labels.astype('uint16'))\n"
     ]
    },
    {
     "name": "stdout",
     "output_type": "stream",
     "text": [
      "2021-09-23 08:24:36,382 [INFO] ~~~ FINDING MASKS ~~~\n",
      "2021-09-23 08:31:39,531 [INFO] >>>> TOTAL TIME 423.15 sec\n"
     ]
    },
    {
     "name": "stderr",
     "output_type": "stream",
     "text": [
      "C:\\Users\\martjohn\\AppData\\Local\\Temp/ipykernel_15976/2398957157.py:14: UserWarning: E:\\Martha\\2021Imaging\\08242021p27\\Segmentation_Test_MJ\\08\\08_131.tif is a low contrast image\n",
      "  imsave(save_path,labels.astype('uint16'))\n"
     ]
    },
    {
     "name": "stdout",
     "output_type": "stream",
     "text": [
      "2021-09-23 08:31:41,281 [INFO] ~~~ FINDING MASKS ~~~\n",
      "2021-09-23 08:38:47,148 [INFO] >>>> TOTAL TIME 425.87 sec\n"
     ]
    },
    {
     "name": "stderr",
     "output_type": "stream",
     "text": [
      "C:\\Users\\martjohn\\AppData\\Local\\Temp/ipykernel_15976/2398957157.py:14: UserWarning: E:\\Martha\\2021Imaging\\08242021p27\\Segmentation_Test_MJ\\08\\08_132.tif is a low contrast image\n",
      "  imsave(save_path,labels.astype('uint16'))\n"
     ]
    },
    {
     "name": "stdout",
     "output_type": "stream",
     "text": [
      "2021-09-23 08:38:48,826 [INFO] ~~~ FINDING MASKS ~~~\n",
      "2021-09-23 08:45:50,984 [INFO] >>>> TOTAL TIME 422.16 sec\n"
     ]
    },
    {
     "name": "stderr",
     "output_type": "stream",
     "text": [
      "C:\\Users\\martjohn\\AppData\\Local\\Temp/ipykernel_15976/2398957157.py:14: UserWarning: E:\\Martha\\2021Imaging\\08242021p27\\Segmentation_Test_MJ\\08\\08_133.tif is a low contrast image\n",
      "  imsave(save_path,labels.astype('uint16'))\n"
     ]
    },
    {
     "name": "stdout",
     "output_type": "stream",
     "text": [
      "2021-09-23 08:45:52,643 [INFO] ~~~ FINDING MASKS ~~~\n",
      "2021-09-23 08:52:54,866 [INFO] >>>> TOTAL TIME 422.22 sec\n"
     ]
    },
    {
     "name": "stderr",
     "output_type": "stream",
     "text": [
      "C:\\Users\\martjohn\\AppData\\Local\\Temp/ipykernel_15976/2398957157.py:14: UserWarning: E:\\Martha\\2021Imaging\\08242021p27\\Segmentation_Test_MJ\\08\\08_134.tif is a low contrast image\n",
      "  imsave(save_path,labels.astype('uint16'))\n"
     ]
    },
    {
     "name": "stdout",
     "output_type": "stream",
     "text": [
      "2021-09-23 08:52:56,548 [INFO] ~~~ FINDING MASKS ~~~\n",
      "2021-09-23 09:00:04,287 [INFO] >>>> TOTAL TIME 427.74 sec\n"
     ]
    },
    {
     "name": "stderr",
     "output_type": "stream",
     "text": [
      "C:\\Users\\martjohn\\AppData\\Local\\Temp/ipykernel_15976/2398957157.py:14: UserWarning: E:\\Martha\\2021Imaging\\08242021p27\\Segmentation_Test_MJ\\08\\08_135.tif is a low contrast image\n",
      "  imsave(save_path,labels.astype('uint16'))\n"
     ]
    },
    {
     "name": "stdout",
     "output_type": "stream",
     "text": [
      "2021-09-23 09:00:05,894 [INFO] ~~~ FINDING MASKS ~~~\n",
      "2021-09-23 09:07:08,596 [INFO] >>>> TOTAL TIME 422.70 sec\n"
     ]
    },
    {
     "name": "stderr",
     "output_type": "stream",
     "text": [
      "C:\\Users\\martjohn\\AppData\\Local\\Temp/ipykernel_15976/2398957157.py:14: UserWarning: E:\\Martha\\2021Imaging\\08242021p27\\Segmentation_Test_MJ\\08\\08_136.tif is a low contrast image\n",
      "  imsave(save_path,labels.astype('uint16'))\n"
     ]
    },
    {
     "name": "stdout",
     "output_type": "stream",
     "text": [
      "2021-09-23 09:07:10,348 [INFO] ~~~ FINDING MASKS ~~~\n",
      "2021-09-23 09:14:12,856 [INFO] >>>> TOTAL TIME 422.51 sec\n"
     ]
    },
    {
     "name": "stderr",
     "output_type": "stream",
     "text": [
      "C:\\Users\\martjohn\\AppData\\Local\\Temp/ipykernel_15976/2398957157.py:14: UserWarning: E:\\Martha\\2021Imaging\\08242021p27\\Segmentation_Test_MJ\\08\\08_137.tif is a low contrast image\n",
      "  imsave(save_path,labels.astype('uint16'))\n"
     ]
    },
    {
     "name": "stdout",
     "output_type": "stream",
     "text": [
      "2021-09-23 09:14:14,447 [INFO] ~~~ FINDING MASKS ~~~\n",
      "2021-09-23 09:21:16,048 [INFO] >>>> TOTAL TIME 421.60 sec\n"
     ]
    },
    {
     "name": "stderr",
     "output_type": "stream",
     "text": [
      "C:\\Users\\martjohn\\AppData\\Local\\Temp/ipykernel_15976/2398957157.py:14: UserWarning: E:\\Martha\\2021Imaging\\08242021p27\\Segmentation_Test_MJ\\08\\08_138.tif is a low contrast image\n",
      "  imsave(save_path,labels.astype('uint16'))\n"
     ]
    },
    {
     "name": "stdout",
     "output_type": "stream",
     "text": [
      "2021-09-23 09:21:17,691 [INFO] ~~~ FINDING MASKS ~~~\n",
      "2021-09-23 09:28:22,427 [INFO] >>>> TOTAL TIME 424.74 sec\n"
     ]
    },
    {
     "name": "stderr",
     "output_type": "stream",
     "text": [
      "C:\\Users\\martjohn\\AppData\\Local\\Temp/ipykernel_15976/2398957157.py:14: UserWarning: E:\\Martha\\2021Imaging\\08242021p27\\Segmentation_Test_MJ\\08\\08_139.tif is a low contrast image\n",
      "  imsave(save_path,labels.astype('uint16'))\n"
     ]
    },
    {
     "name": "stdout",
     "output_type": "stream",
     "text": [
      "2021-09-23 09:28:24,126 [INFO] ~~~ FINDING MASKS ~~~\n",
      "2021-09-23 09:35:27,486 [INFO] >>>> TOTAL TIME 423.36 sec\n"
     ]
    },
    {
     "name": "stderr",
     "output_type": "stream",
     "text": [
      "C:\\Users\\martjohn\\AppData\\Local\\Temp/ipykernel_15976/2398957157.py:14: UserWarning: E:\\Martha\\2021Imaging\\08242021p27\\Segmentation_Test_MJ\\08\\08_140.tif is a low contrast image\n",
      "  imsave(save_path,labels.astype('uint16'))\n"
     ]
    },
    {
     "name": "stdout",
     "output_type": "stream",
     "text": [
      "2021-09-23 09:35:29,114 [INFO] ~~~ FINDING MASKS ~~~\n",
      "2021-09-23 09:42:33,567 [INFO] >>>> TOTAL TIME 424.45 sec\n"
     ]
    },
    {
     "name": "stderr",
     "output_type": "stream",
     "text": [
      "C:\\Users\\martjohn\\AppData\\Local\\Temp/ipykernel_15976/2398957157.py:14: UserWarning: E:\\Martha\\2021Imaging\\08242021p27\\Segmentation_Test_MJ\\08\\08_141.tif is a low contrast image\n",
      "  imsave(save_path,labels.astype('uint16'))\n"
     ]
    },
    {
     "name": "stdout",
     "output_type": "stream",
     "text": [
      "2021-09-23 09:42:35,213 [INFO] ~~~ FINDING MASKS ~~~\n",
      "2021-09-23 09:49:41,908 [INFO] >>>> TOTAL TIME 426.69 sec\n"
     ]
    },
    {
     "name": "stderr",
     "output_type": "stream",
     "text": [
      "C:\\Users\\martjohn\\AppData\\Local\\Temp/ipykernel_15976/2398957157.py:14: UserWarning: E:\\Martha\\2021Imaging\\08242021p27\\Segmentation_Test_MJ\\08\\08_142.tif is a low contrast image\n",
      "  imsave(save_path,labels.astype('uint16'))\n"
     ]
    },
    {
     "name": "stdout",
     "output_type": "stream",
     "text": [
      "2021-09-23 09:49:43,699 [INFO] ~~~ FINDING MASKS ~~~\n",
      "2021-09-23 09:56:52,322 [INFO] >>>> TOTAL TIME 428.62 sec\n"
     ]
    },
    {
     "name": "stderr",
     "output_type": "stream",
     "text": [
      "C:\\Users\\martjohn\\AppData\\Local\\Temp/ipykernel_15976/2398957157.py:14: UserWarning: E:\\Martha\\2021Imaging\\08242021p27\\Segmentation_Test_MJ\\08\\08_143.tif is a low contrast image\n",
      "  imsave(save_path,labels.astype('uint16'))\n"
     ]
    },
    {
     "name": "stdout",
     "output_type": "stream",
     "text": [
      "2021-09-23 09:56:54,066 [INFO] ~~~ FINDING MASKS ~~~\n",
      "2021-09-23 10:03:56,908 [INFO] >>>> TOTAL TIME 422.84 sec\n"
     ]
    },
    {
     "name": "stderr",
     "output_type": "stream",
     "text": [
      "C:\\Users\\martjohn\\AppData\\Local\\Temp/ipykernel_15976/2398957157.py:14: UserWarning: E:\\Martha\\2021Imaging\\08242021p27\\Segmentation_Test_MJ\\08\\08_144.tif is a low contrast image\n",
      "  imsave(save_path,labels.astype('uint16'))\n"
     ]
    },
    {
     "name": "stdout",
     "output_type": "stream",
     "text": [
      "2021-09-23 10:03:58,548 [INFO] ~~~ FINDING MASKS ~~~\n",
      "2021-09-23 10:11:00,309 [INFO] >>>> TOTAL TIME 421.76 sec\n"
     ]
    },
    {
     "name": "stderr",
     "output_type": "stream",
     "text": [
      "C:\\Users\\martjohn\\AppData\\Local\\Temp/ipykernel_15976/2398957157.py:14: UserWarning: E:\\Martha\\2021Imaging\\08242021p27\\Segmentation_Test_MJ\\08\\08_145.tif is a low contrast image\n",
      "  imsave(save_path,labels.astype('uint16'))\n"
     ]
    },
    {
     "name": "stdout",
     "output_type": "stream",
     "text": [
      "2021-09-23 10:11:01,997 [INFO] ~~~ FINDING MASKS ~~~\n",
      "2021-09-23 10:18:07,965 [INFO] >>>> TOTAL TIME 425.97 sec\n"
     ]
    },
    {
     "name": "stderr",
     "output_type": "stream",
     "text": [
      "C:\\Users\\martjohn\\AppData\\Local\\Temp/ipykernel_15976/2398957157.py:14: UserWarning: E:\\Martha\\2021Imaging\\08242021p27\\Segmentation_Test_MJ\\08\\08_146.tif is a low contrast image\n",
      "  imsave(save_path,labels.astype('uint16'))\n"
     ]
    },
    {
     "name": "stdout",
     "output_type": "stream",
     "text": [
      "2021-09-23 10:18:09,540 [INFO] ~~~ FINDING MASKS ~~~\n",
      "2021-09-23 10:25:16,329 [INFO] >>>> TOTAL TIME 426.79 sec\n"
     ]
    },
    {
     "name": "stderr",
     "output_type": "stream",
     "text": [
      "C:\\Users\\martjohn\\AppData\\Local\\Temp/ipykernel_15976/2398957157.py:14: UserWarning: E:\\Martha\\2021Imaging\\08242021p27\\Segmentation_Test_MJ\\08\\08_147.tif is a low contrast image\n",
      "  imsave(save_path,labels.astype('uint16'))\n"
     ]
    },
    {
     "name": "stdout",
     "output_type": "stream",
     "text": [
      "2021-09-23 10:25:17,961 [INFO] ~~~ FINDING MASKS ~~~\n",
      "2021-09-23 10:32:25,530 [INFO] >>>> TOTAL TIME 427.57 sec\n"
     ]
    },
    {
     "name": "stderr",
     "output_type": "stream",
     "text": [
      "C:\\Users\\martjohn\\AppData\\Local\\Temp/ipykernel_15976/2398957157.py:14: UserWarning: E:\\Martha\\2021Imaging\\08242021p27\\Segmentation_Test_MJ\\08\\08_148.tif is a low contrast image\n",
      "  imsave(save_path,labels.astype('uint16'))\n"
     ]
    },
    {
     "name": "stdout",
     "output_type": "stream",
     "text": [
      "2021-09-23 10:32:27,228 [INFO] ~~~ FINDING MASKS ~~~\n",
      "2021-09-23 10:39:31,547 [INFO] >>>> TOTAL TIME 424.32 sec\n"
     ]
    },
    {
     "name": "stderr",
     "output_type": "stream",
     "text": [
      "C:\\Users\\martjohn\\AppData\\Local\\Temp/ipykernel_15976/2398957157.py:14: UserWarning: E:\\Martha\\2021Imaging\\08242021p27\\Segmentation_Test_MJ\\08\\08_149.tif is a low contrast image\n",
      "  imsave(save_path,labels.astype('uint16'))\n"
     ]
    },
    {
     "name": "stdout",
     "output_type": "stream",
     "text": [
      "2021-09-23 10:39:33,165 [INFO] ~~~ FINDING MASKS ~~~\n",
      "2021-09-23 10:46:35,567 [INFO] >>>> TOTAL TIME 422.40 sec\n"
     ]
    },
    {
     "name": "stderr",
     "output_type": "stream",
     "text": [
      "C:\\Users\\martjohn\\AppData\\Local\\Temp/ipykernel_15976/2398957157.py:14: UserWarning: E:\\Martha\\2021Imaging\\08242021p27\\Segmentation_Test_MJ\\08\\08_150.tif is a low contrast image\n",
      "  imsave(save_path,labels.astype('uint16'))\n"
     ]
    },
    {
     "name": "stdout",
     "output_type": "stream",
     "text": [
      "2021-09-23 10:46:37,224 [INFO] ~~~ FINDING MASKS ~~~\n",
      "2021-09-23 10:53:39,513 [INFO] >>>> TOTAL TIME 422.29 sec\n"
     ]
    },
    {
     "name": "stderr",
     "output_type": "stream",
     "text": [
      "C:\\Users\\martjohn\\AppData\\Local\\Temp/ipykernel_15976/2398957157.py:14: UserWarning: E:\\Martha\\2021Imaging\\08242021p27\\Segmentation_Test_MJ\\08\\08_151.tif is a low contrast image\n",
      "  imsave(save_path,labels.astype('uint16'))\n"
     ]
    },
    {
     "name": "stdout",
     "output_type": "stream",
     "text": [
      "2021-09-23 10:53:41,295 [INFO] ~~~ FINDING MASKS ~~~\n",
      "2021-09-23 11:00:43,375 [INFO] >>>> TOTAL TIME 422.08 sec\n"
     ]
    },
    {
     "name": "stderr",
     "output_type": "stream",
     "text": [
      "C:\\Users\\martjohn\\AppData\\Local\\Temp/ipykernel_15976/2398957157.py:14: UserWarning: E:\\Martha\\2021Imaging\\08242021p27\\Segmentation_Test_MJ\\08\\08_152.tif is a low contrast image\n",
      "  imsave(save_path,labels.astype('uint16'))\n"
     ]
    },
    {
     "name": "stdout",
     "output_type": "stream",
     "text": [
      "2021-09-23 11:00:45,057 [INFO] ~~~ FINDING MASKS ~~~\n",
      "2021-09-23 11:07:48,121 [INFO] >>>> TOTAL TIME 423.06 sec\n"
     ]
    },
    {
     "name": "stderr",
     "output_type": "stream",
     "text": [
      "C:\\Users\\martjohn\\AppData\\Local\\Temp/ipykernel_15976/2398957157.py:14: UserWarning: E:\\Martha\\2021Imaging\\08242021p27\\Segmentation_Test_MJ\\08\\08_153.tif is a low contrast image\n",
      "  imsave(save_path,labels.astype('uint16'))\n"
     ]
    },
    {
     "name": "stdout",
     "output_type": "stream",
     "text": [
      "2021-09-23 11:07:49,788 [INFO] ~~~ FINDING MASKS ~~~\n",
      "2021-09-23 11:14:53,866 [INFO] >>>> TOTAL TIME 424.08 sec\n"
     ]
    },
    {
     "name": "stderr",
     "output_type": "stream",
     "text": [
      "C:\\Users\\martjohn\\AppData\\Local\\Temp/ipykernel_15976/2398957157.py:14: UserWarning: E:\\Martha\\2021Imaging\\08242021p27\\Segmentation_Test_MJ\\08\\08_154.tif is a low contrast image\n",
      "  imsave(save_path,labels.astype('uint16'))\n"
     ]
    },
    {
     "name": "stdout",
     "output_type": "stream",
     "text": [
      "2021-09-23 11:14:55,368 [INFO] ~~~ FINDING MASKS ~~~\n",
      "2021-09-23 11:21:55,928 [INFO] >>>> TOTAL TIME 420.56 sec\n"
     ]
    },
    {
     "name": "stderr",
     "output_type": "stream",
     "text": [
      "C:\\Users\\martjohn\\AppData\\Local\\Temp/ipykernel_15976/2398957157.py:14: UserWarning: E:\\Martha\\2021Imaging\\08242021p27\\Segmentation_Test_MJ\\08\\08_155.tif is a low contrast image\n",
      "  imsave(save_path,labels.astype('uint16'))\n"
     ]
    },
    {
     "name": "stdout",
     "output_type": "stream",
     "text": [
      "2021-09-23 11:21:57,569 [INFO] ~~~ FINDING MASKS ~~~\n",
      "2021-09-23 11:29:02,859 [INFO] >>>> TOTAL TIME 425.29 sec\n"
     ]
    },
    {
     "name": "stderr",
     "output_type": "stream",
     "text": [
      "C:\\Users\\martjohn\\AppData\\Local\\Temp/ipykernel_15976/2398957157.py:14: UserWarning: E:\\Martha\\2021Imaging\\08242021p27\\Segmentation_Test_MJ\\08\\08_156.tif is a low contrast image\n",
      "  imsave(save_path,labels.astype('uint16'))\n"
     ]
    },
    {
     "name": "stdout",
     "output_type": "stream",
     "text": [
      "2021-09-23 11:29:04,547 [INFO] ~~~ FINDING MASKS ~~~\n"
     ]
    }
   ],
   "source": [
    "# loop for segmentation \n",
    "\n",
    "#for i in range(frames_num): # use this line to segment all frames\n",
    "for i in range(0,frames_num): # it's a small example - just 4 first frames\n",
    "    \n",
    "    # get an image\n",
    "    im = nd2_movie.get_frame_2D(c=0, z=i) # depending on a file it may work with t or z\n",
    "\n",
    "    # segment the right plane\n",
    "    labels, _, _, _ = model.eval(im, diameter=30, channels=[0,0])\n",
    "\n",
    "    # save segmentation\n",
    "    save_path = os.path.join(save_dir,im_file.replace('.nd2',f'_{str(i).zfill(3)}.tif'))\n",
    "    imsave(save_path,labels.astype('uint16')) "
   ]
  },
  {
   "cell_type": "code",
   "execution_count": 20,
   "id": "04e25464",
   "metadata": {
    "scrolled": false
   },
   "outputs": [
    {
     "name": "stderr",
     "output_type": "stream",
     "text": [
      "C:\\Users\\martjohn\\AppData\\Local\\Temp/ipykernel_21956/2968871168.py:2: UserWarning: E:\\Martha\\2021Imaging\\08242021p27\\Segmentation_Test_MJ\\02\\02_000.png is a low contrast image\n",
      "  imsave(save_path,labels.astype('uint16'))\n"
     ]
    }
   ],
   "source": [
    "save_path = os.path.join(save_dir,im_file.replace('.nd2',f'_{str(i).zfill(3)}.png'))\n",
    "imsave(save_path,labels.astype('uint16')) "
   ]
  },
  {
   "cell_type": "markdown",
   "id": "0f1121be",
   "metadata": {},
   "source": [
    "## Visualize results"
   ]
  },
  {
   "cell_type": "code",
   "execution_count": 21,
   "id": "4f48f6cf",
   "metadata": {},
   "outputs": [
    {
     "data": {
      "text/plain": [
       "'02.nd2'"
      ]
     },
     "execution_count": 21,
     "metadata": {},
     "output_type": "execute_result"
    }
   ],
   "source": [
    "im_file"
   ]
  },
  {
   "cell_type": "code",
   "execution_count": 19,
   "id": "93eeced3",
   "metadata": {},
   "outputs": [
    {
     "ename": "TiffFileError",
     "evalue": "not a TIFF file",
     "output_type": "error",
     "traceback": [
      "\u001b[1;31m---------------------------------------------------------------------------\u001b[0m",
      "\u001b[1;31mKeyError\u001b[0m                                  Traceback (most recent call last)",
      "\u001b[1;32mC:\\ProgramData\\Anaconda3\\envs\\cellwork\\lib\\site-packages\\tifffile\\tifffile.py\u001b[0m in \u001b[0;36m__init__\u001b[1;34m(self, arg, mode, name, offset, size, _multifile, _useframes, _parent, **kwargs)\u001b[0m\n\u001b[0;32m   3038\u001b[0m             \u001b[1;32mtry\u001b[0m\u001b[1;33m:\u001b[0m\u001b[1;33m\u001b[0m\u001b[1;33m\u001b[0m\u001b[0m\n\u001b[1;32m-> 3039\u001b[1;33m                 \u001b[0mbyteorder\u001b[0m \u001b[1;33m=\u001b[0m \u001b[1;33m{\u001b[0m\u001b[1;34mb'II'\u001b[0m\u001b[1;33m:\u001b[0m \u001b[1;34m'<'\u001b[0m\u001b[1;33m,\u001b[0m \u001b[1;34mb'MM'\u001b[0m\u001b[1;33m:\u001b[0m \u001b[1;34m'>'\u001b[0m\u001b[1;33m,\u001b[0m \u001b[1;34mb'EP'\u001b[0m\u001b[1;33m:\u001b[0m \u001b[1;34m'<'\u001b[0m\u001b[1;33m}\u001b[0m\u001b[1;33m[\u001b[0m\u001b[0mheader\u001b[0m\u001b[1;33m[\u001b[0m\u001b[1;33m:\u001b[0m\u001b[1;36m2\u001b[0m\u001b[1;33m]\u001b[0m\u001b[1;33m]\u001b[0m\u001b[1;33m\u001b[0m\u001b[1;33m\u001b[0m\u001b[0m\n\u001b[0m\u001b[0;32m   3040\u001b[0m             \u001b[1;32mexcept\u001b[0m \u001b[0mKeyError\u001b[0m\u001b[1;33m:\u001b[0m\u001b[1;33m\u001b[0m\u001b[1;33m\u001b[0m\u001b[0m\n",
      "\u001b[1;31mKeyError\u001b[0m: b'\\xda\\xce'",
      "\nDuring handling of the above exception, another exception occurred:\n",
      "\u001b[1;31mTiffFileError\u001b[0m                             Traceback (most recent call last)",
      "\u001b[1;32m~\\AppData\\Local\\Temp/ipykernel_21956/4083921659.py\u001b[0m in \u001b[0;36m<module>\u001b[1;34m\u001b[0m\n\u001b[0;32m      9\u001b[0m \u001b[1;33m\u001b[0m\u001b[0m\n\u001b[0;32m     10\u001b[0m     \u001b[1;31m# get an image\u001b[0m\u001b[1;33m\u001b[0m\u001b[1;33m\u001b[0m\u001b[1;33m\u001b[0m\u001b[0m\n\u001b[1;32m---> 11\u001b[1;33m     \u001b[0mim\u001b[0m \u001b[1;33m=\u001b[0m \u001b[0mimread\u001b[0m\u001b[1;33m(\u001b[0m\u001b[0mos\u001b[0m\u001b[1;33m.\u001b[0m\u001b[0mpath\u001b[0m\u001b[1;33m.\u001b[0m\u001b[0mjoin\u001b[0m\u001b[1;33m(\u001b[0m\u001b[0mim_dir\u001b[0m\u001b[1;33m,\u001b[0m\u001b[0mim_file\u001b[0m\u001b[1;33m)\u001b[0m\u001b[1;33m,\u001b[0m\u001b[0mkey\u001b[0m\u001b[1;33m=\u001b[0m\u001b[0mi\u001b[0m\u001b[1;33m)\u001b[0m\u001b[1;33m\u001b[0m\u001b[1;33m\u001b[0m\u001b[0m\n\u001b[0m\u001b[0;32m     12\u001b[0m \u001b[1;33m\u001b[0m\u001b[0m\n\u001b[0;32m     13\u001b[0m     \u001b[1;31m# store the image in the list\u001b[0m\u001b[1;33m\u001b[0m\u001b[1;33m\u001b[0m\u001b[1;33m\u001b[0m\u001b[0m\n",
      "\u001b[1;32mC:\\ProgramData\\Anaconda3\\envs\\cellwork\\lib\\site-packages\\tifffile\\tifffile.py\u001b[0m in \u001b[0;36mimread\u001b[1;34m(files, aszarr, **kwargs)\u001b[0m\n\u001b[0;32m    830\u001b[0m \u001b[1;33m\u001b[0m\u001b[0m\n\u001b[0;32m    831\u001b[0m         \u001b[1;32mif\u001b[0m \u001b[0misinstance\u001b[0m\u001b[1;33m(\u001b[0m\u001b[0mfiles\u001b[0m\u001b[1;33m,\u001b[0m \u001b[1;33m(\u001b[0m\u001b[0mstr\u001b[0m\u001b[1;33m,\u001b[0m \u001b[0mos\u001b[0m\u001b[1;33m.\u001b[0m\u001b[0mPathLike\u001b[0m\u001b[1;33m)\u001b[0m\u001b[1;33m)\u001b[0m \u001b[1;32mor\u001b[0m \u001b[0mhasattr\u001b[0m\u001b[1;33m(\u001b[0m\u001b[0mfiles\u001b[0m\u001b[1;33m,\u001b[0m \u001b[1;34m'seek'\u001b[0m\u001b[1;33m)\u001b[0m\u001b[1;33m:\u001b[0m\u001b[1;33m\u001b[0m\u001b[1;33m\u001b[0m\u001b[0m\n\u001b[1;32m--> 832\u001b[1;33m             \u001b[1;32mwith\u001b[0m \u001b[0mTiffFile\u001b[0m\u001b[1;33m(\u001b[0m\u001b[0mfiles\u001b[0m\u001b[1;33m,\u001b[0m \u001b[1;33m**\u001b[0m\u001b[0mkwargs_file\u001b[0m\u001b[1;33m)\u001b[0m \u001b[1;32mas\u001b[0m \u001b[0mtif\u001b[0m\u001b[1;33m:\u001b[0m\u001b[1;33m\u001b[0m\u001b[1;33m\u001b[0m\u001b[0m\n\u001b[0m\u001b[0;32m    833\u001b[0m                 \u001b[1;32mif\u001b[0m \u001b[0maszarr\u001b[0m\u001b[1;33m:\u001b[0m\u001b[1;33m\u001b[0m\u001b[1;33m\u001b[0m\u001b[0m\n\u001b[0;32m    834\u001b[0m                     \u001b[1;32mreturn\u001b[0m \u001b[0mtif\u001b[0m\u001b[1;33m.\u001b[0m\u001b[0maszarr\u001b[0m\u001b[1;33m(\u001b[0m\u001b[1;33m**\u001b[0m\u001b[0mkwargs\u001b[0m\u001b[1;33m)\u001b[0m\u001b[1;33m\u001b[0m\u001b[1;33m\u001b[0m\u001b[0m\n",
      "\u001b[1;32mC:\\ProgramData\\Anaconda3\\envs\\cellwork\\lib\\site-packages\\tifffile\\tifffile.py\u001b[0m in \u001b[0;36m__init__\u001b[1;34m(self, arg, mode, name, offset, size, _multifile, _useframes, _parent, **kwargs)\u001b[0m\n\u001b[0;32m   3039\u001b[0m                 \u001b[0mbyteorder\u001b[0m \u001b[1;33m=\u001b[0m \u001b[1;33m{\u001b[0m\u001b[1;34mb'II'\u001b[0m\u001b[1;33m:\u001b[0m \u001b[1;34m'<'\u001b[0m\u001b[1;33m,\u001b[0m \u001b[1;34mb'MM'\u001b[0m\u001b[1;33m:\u001b[0m \u001b[1;34m'>'\u001b[0m\u001b[1;33m,\u001b[0m \u001b[1;34mb'EP'\u001b[0m\u001b[1;33m:\u001b[0m \u001b[1;34m'<'\u001b[0m\u001b[1;33m}\u001b[0m\u001b[1;33m[\u001b[0m\u001b[0mheader\u001b[0m\u001b[1;33m[\u001b[0m\u001b[1;33m:\u001b[0m\u001b[1;36m2\u001b[0m\u001b[1;33m]\u001b[0m\u001b[1;33m]\u001b[0m\u001b[1;33m\u001b[0m\u001b[1;33m\u001b[0m\u001b[0m\n\u001b[0;32m   3040\u001b[0m             \u001b[1;32mexcept\u001b[0m \u001b[0mKeyError\u001b[0m\u001b[1;33m:\u001b[0m\u001b[1;33m\u001b[0m\u001b[1;33m\u001b[0m\u001b[0m\n\u001b[1;32m-> 3041\u001b[1;33m                 \u001b[1;32mraise\u001b[0m \u001b[0mTiffFileError\u001b[0m\u001b[1;33m(\u001b[0m\u001b[1;34m'not a TIFF file'\u001b[0m\u001b[1;33m)\u001b[0m\u001b[1;33m\u001b[0m\u001b[1;33m\u001b[0m\u001b[0m\n\u001b[0m\u001b[0;32m   3042\u001b[0m \u001b[1;33m\u001b[0m\u001b[0m\n\u001b[0;32m   3043\u001b[0m             \u001b[0mversion\u001b[0m \u001b[1;33m=\u001b[0m \u001b[0mstruct\u001b[0m\u001b[1;33m.\u001b[0m\u001b[0munpack\u001b[0m\u001b[1;33m(\u001b[0m\u001b[0mbyteorder\u001b[0m \u001b[1;33m+\u001b[0m \u001b[1;34m'H'\u001b[0m\u001b[1;33m,\u001b[0m \u001b[0mheader\u001b[0m\u001b[1;33m[\u001b[0m\u001b[1;36m2\u001b[0m\u001b[1;33m:\u001b[0m\u001b[1;36m4\u001b[0m\u001b[1;33m]\u001b[0m\u001b[1;33m)\u001b[0m\u001b[1;33m[\u001b[0m\u001b[1;36m0\u001b[0m\u001b[1;33m]\u001b[0m\u001b[1;33m\u001b[0m\u001b[1;33m\u001b[0m\u001b[0m\n",
      "\u001b[1;31mTiffFileError\u001b[0m: not a TIFF file"
     ]
    }
   ],
   "source": [
    "# we need to read in both images and masks now\n",
    "# for segmentation we were keeping only one mask at the time\n",
    "\n",
    "# empty lists as containers\n",
    "all_im = []\n",
    "all_masks = []\n",
    "\n",
    "for i in range(2):\n",
    "    \n",
    "    # get an image\n",
    "    im = imread(os.path.join(im_dir,im_file),key=i)\n",
    "    \n",
    "    # store the image in the list\n",
    "    all_im.append(im)\n",
    "    \n",
    "    # get the mask\n",
    "    mask_path = os.path.join(save_dir,im_file.replace('.tif',f'_{str(i).zfill(3)}.tif'))\n",
    "    mask = imread_png(mask_path)\n",
    "    \n",
    "    # store the mask in the list\n",
    "    all_masks.append(mask)\n",
    "\n",
    "# change the format\n",
    "all_im = np.array(all_im)\n",
    "all_masks = np.array(all_masks)"
   ]
  },
  {
   "cell_type": "code",
   "execution_count": 7,
   "id": "2727614e",
   "metadata": {},
   "outputs": [
    {
     "name": "stderr",
     "output_type": "stream",
     "text": [
      "C:\\ProgramData\\Anaconda3\\lib\\site-packages\\napari\\_vispy\\vispy_camera.py:109: RuntimeWarning: divide by zero encountered in true_divide\n",
      "  zoom = np.min(canvas_size / scale)\n"
     ]
    },
    {
     "data": {
      "text/plain": [
       "<Labels layer 'all_masks' at 0x21c06d78df0>"
      ]
     },
     "execution_count": 7,
     "metadata": {},
     "output_type": "execute_result"
    }
   ],
   "source": [
    "# visualize\n",
    "viewer = napari.Viewer()\n",
    "viewer.add_image(all_im,blending='additive')\n",
    "viewer.add_labels(all_masks,opacity = 0.5)"
   ]
  },
  {
   "cell_type": "markdown",
   "id": "edc089fd",
   "metadata": {},
   "source": [
    "## Example - segmentation for all the files in a given directory"
   ]
  },
  {
   "cell_type": "code",
   "execution_count": null,
   "id": "52ff777c",
   "metadata": {},
   "outputs": [],
   "source": [
    "im_dir = r'Z:\\COOK_LAB\\CELL_TRACKING\\example_images'\n",
    "im_file = r'01.nd2'\n",
    "\n",
    "save_dir = r'Z:\\COOK_LAB\\CELL_TRACKING\\example_results'"
   ]
  },
  {
   "cell_type": "code",
   "execution_count": 36,
   "id": "99c7716b",
   "metadata": {},
   "outputs": [
    {
     "data": {
      "text/plain": [
       "['01.nd2',\n",
       " '02.nd2',\n",
       " '03.nd2',\n",
       " '04.nd2',\n",
       " '05.nd2',\n",
       " '06.nd2',\n",
       " '07.nd2',\n",
       " '08.nd2',\n",
       " '09.nd2',\n",
       " '10.nd2',\n",
       " '11.nd2',\n",
       " '12.nd2',\n",
       " '13.nd2',\n",
       " '14.nd2',\n",
       " '15.nd2']"
      ]
     },
     "execution_count": 36,
     "metadata": {},
     "output_type": "execute_result"
    }
   ],
   "source": [
    "# main loop over all the files in the directory\n",
    "for my_file in os.listdir(im_dir):\n",
    "    \n",
    "    nd2_movie = ND2Reader(os.path.join(im_dir,im_file))\n",
    "    frames_num = nd2_movie.sizes['t']\n",
    "    \n",
    "    # internal loop through all the frames in each movie\n",
    "    for i in range(frames_num):\n",
    "   \n",
    "        # get an image\n",
    "        im = nd2_movie.get_frame_2D(c=0, t=i)\n",
    "\n",
    "        # segment the right plane\n",
    "        labels, _, _, _ = model.eval(im, diameter=30, channels=[[0, ]])\n",
    "\n",
    "        # save segmentation\n",
    "        save_path = os.path.join(save_dir,my_file.replace('.nd2',f'_{str(i).zfill(3)}.tif'))\n",
    "        imsave(save_path,labels.astype('uint16'))"
   ]
  },
  {
   "cell_type": "markdown",
   "id": "44642aa5",
   "metadata": {},
   "source": [
    "## Example - preprocessing to improve segmentation"
   ]
  },
  {
   "cell_type": "code",
   "execution_count": 28,
   "id": "656637c0",
   "metadata": {},
   "outputs": [
    {
     "name": "stdout",
     "output_type": "stream",
     "text": [
      "2021-08-25 15:18:54,123 [INFO] ~~~ FINDING MASKS ~~~\n",
      "2021-08-25 15:20:25,430 [INFO] >>>> TOTAL TIME 91.31 sec\n",
      "2021-08-25 15:20:25,729 [INFO] ~~~ FINDING MASKS ~~~\n",
      "2021-08-25 15:21:55,866 [INFO] >>>> TOTAL TIME 90.14 sec\n",
      "2021-08-25 15:21:56,169 [INFO] ~~~ FINDING MASKS ~~~\n",
      "2021-08-25 15:23:26,696 [INFO] >>>> TOTAL TIME 90.53 sec\n",
      "2021-08-25 15:23:26,981 [INFO] ~~~ FINDING MASKS ~~~\n",
      "2021-08-25 15:24:56,787 [INFO] >>>> TOTAL TIME 89.81 sec\n"
     ]
    }
   ],
   "source": [
    "# in this particular movie PCNA pattern is not a problem for detection (but it was observed in the past)\n",
    "# segmentation with smoothing\n",
    "\n",
    "# loop for segmentation \n",
    "\n",
    "#for i in range(frames_num): # use this line to segment all frames\n",
    "for i in range(4): # it's a small example - just 4 first frames\n",
    "    \n",
    "    # get an image\n",
    "    im = nd2_movie.get_frame_2D(c=0, t=i)\n",
    "    \n",
    "    # smooth the image\n",
    "    im = gaussian(im, sigma=2)\n",
    "\n",
    "    # segment the right plane\n",
    "    labels, _, _, _ = model.eval(im, diameter=30, channels=[0,0])\n",
    "\n",
    "    # save segmentation\n",
    "    save_path = os.path.join(save_dir,im_file.replace('.nd2',f'_{str(i).zfill(3)}_smooth.tif'))\n",
    "    imsave(save_path,labels.astype('uint16')) "
   ]
  },
  {
   "cell_type": "code",
   "execution_count": 30,
   "id": "7a463588",
   "metadata": {},
   "outputs": [],
   "source": [
    "# we need to read in both images and masks now\n",
    "# for segmentation we were keeping only one mask at the time\n",
    "\n",
    "# empty lists as containers\n",
    "all_masks_smooth = []\n",
    "\n",
    "for i in range(4):\n",
    "    \n",
    "    # get the mask\n",
    "    mask_path = os.path.join(save_dir,im_file.replace('.nd2',f'_{str(i).zfill(3)}.tif'))\n",
    "    mask = imread(mask_path)\n",
    "    \n",
    "    # store the mask in the list\n",
    "    all_masks_smooth.append(mask)\n",
    "\n",
    "# change the format\n",
    "all_masks_smooth = np.array(all_masks_smooth)\n",
    "\n",
    "# prepare smooth images for visualizatin\n",
    "all_im_smooth = gaussian(all_im, sigma=2)"
   ]
  },
  {
   "cell_type": "code",
   "execution_count": 31,
   "id": "2f708aee",
   "metadata": {},
   "outputs": [
    {
     "name": "stderr",
     "output_type": "stream",
     "text": [
      "C:\\ProgramData\\Anaconda3\\envs\\cellpose\\lib\\site-packages\\napari\\_vispy\\vispy_camera.py:109: RuntimeWarning: divide by zero encountered in true_divide\n",
      "  zoom = np.min(canvas_size / scale)\n"
     ]
    },
    {
     "data": {
      "text/plain": [
       "<Labels layer 'all_masks' at 0x2e75b8b7f08>"
      ]
     },
     "execution_count": 31,
     "metadata": {},
     "output_type": "execute_result"
    }
   ],
   "source": [
    "# visualize\n",
    "viewer = napari.Viewer()\n",
    "viewer.add_image(all_im,blending='additive')\n",
    "viewer.add_image(all_im_smooth,blending='additive')\n",
    "viewer.add_labels(all_masks,opacity = 0.5)"
   ]
  },
  {
   "cell_type": "code",
   "execution_count": null,
   "id": "3b663a58",
   "metadata": {},
   "outputs": [],
   "source": []
  }
 ],
 "metadata": {
  "kernelspec": {
   "display_name": "Python 3 (ipykernel)",
   "language": "python",
   "name": "python3"
  },
  "language_info": {
   "codemirror_mode": {
    "name": "ipython",
    "version": 3
   },
   "file_extension": ".py",
   "mimetype": "text/x-python",
   "name": "python",
   "nbconvert_exporter": "python",
   "pygments_lexer": "ipython3",
   "version": "3.9.6"
  }
 },
 "nbformat": 4,
 "nbformat_minor": 5
}
