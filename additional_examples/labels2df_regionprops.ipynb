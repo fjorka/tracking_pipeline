{
 "cells": [
  {
   "cell_type": "code",
   "execution_count": 26,
   "id": "fb02ff19",
   "metadata": {},
   "outputs": [],
   "source": [
    "import os\n",
    "import pandas as pd\n",
    "\n",
    "from skimage import measure\n",
    "from skimage.segmentation import clear_border\n",
    "\n",
    "from skimage.io import imread\n",
    "\n"
   ]
  },
  {
   "cell_type": "code",
   "execution_count": 27,
   "id": "edef9c1d",
   "metadata": {},
   "outputs": [],
   "source": [
    "myPathSource = r'E:\\Martha\\2021Imaging\\08242021p27\\Segmentation_Test_MJ\\01'\n",
    "myDirSave = r'E:\\Martha\\2021Imaging\\08242021p27\\data_analysis\\01' "
   ]
  },
  {
   "cell_type": "code",
   "execution_count": 28,
   "id": "ab3507df",
   "metadata": {},
   "outputs": [],
   "source": [
    "# settings for properties to calculate\n",
    "properties = ['label', 'area','centroid','orientation','major_axis_length','minor_axis_length','bbox','image']"
   ]
  },
  {
   "cell_type": "code",
   "execution_count": 29,
   "id": "b62c11b1",
   "metadata": {},
   "outputs": [],
   "source": [
    "fileList = [x for x in os.listdir(myPathSource) if 'tif' in x]"
   ]
  },
  {
   "cell_type": "code",
   "execution_count": 37,
   "id": "e6de2b14",
   "metadata": {
    "scrolled": true
   },
   "outputs": [
    {
     "data": {
      "text/plain": [
       "'000'"
      ]
     },
     "execution_count": 37,
     "metadata": {},
     "output_type": "execute_result"
    }
   ],
   "source": [
    "fileList[0].split('_')[1][:-4]"
   ]
  },
  {
   "cell_type": "code",
   "execution_count": 31,
   "id": "4faa74aa",
   "metadata": {},
   "outputs": [],
   "source": [
    "curr_movie='01'"
   ]
  },
  {
   "cell_type": "code",
   "execution_count": 38,
   "id": "84c06bcd",
   "metadata": {},
   "outputs": [],
   "source": [
    "cellDataList=[]\n",
    "\n",
    "fileList = [x for x in os.listdir(myPathSource) if 'tif' in x]\n",
    "\n",
    "# example runs for the first 'num_im' images\n",
    "num_im = 289\n",
    "for myFile in fileList[:num_im]:\n",
    "\n",
    "    myFilePath = os.path.join(myPathSource,myFile)\n",
    "\n",
    "    labels_2D = imread(myFilePath)\n",
    "    \n",
    "    # optional removing objects that sit at the edge of an image\n",
    "    labels_2D = clear_border(labels_2D)\n",
    "\n",
    "    # calculate properties of regions\n",
    "    cellData = measure.regionprops_table(labels_2D, properties=properties)\n",
    "    cellData = pd.DataFrame(cellData)\n",
    "\n",
    "    # add info of these measurements\n",
    "    cellData['file'] = myFile\n",
    "    cellData['t'] = int(myFile.split('_')[1][:-4])\n",
    "    cellData['size_x'] = labels_2D.shape[0]\n",
    "    cellData['size_y'] = labels_2D.shape[1]\n",
    "\n",
    "    cellDataList.append(cellData)\n",
    "\n",
    "# put all together\n",
    "cellDataAll = pd.concat(cellDataList,ignore_index=True)\n",
    "\n",
    "# save calculations\n",
    "cellDataAll.to_csv(os.path.join(myDirSave,f'cellPose_regionprops{curr_movie}.csv'),index=False)\n",
    "cellDataAll.to_pickle(os.path.join(myDirSave,f'cellPose_regionprops{curr_movie}.pkl'),protocol = 4)"
   ]
  },
  {
   "cell_type": "code",
   "execution_count": 8,
   "id": "56a29d43",
   "metadata": {
    "scrolled": true
   },
   "outputs": [
    {
     "data": {
      "text/plain": [
       "3740"
      ]
     },
     "execution_count": 8,
     "metadata": {},
     "output_type": "execute_result"
    }
   ],
   "source": [
    "len(cellDataAll)"
   ]
  },
  {
   "cell_type": "code",
   "execution_count": 9,
   "id": "6d03efe7",
   "metadata": {},
   "outputs": [
    {
     "data": {
      "text/plain": [
       "16"
      ]
     },
     "execution_count": 9,
     "metadata": {},
     "output_type": "execute_result"
    }
   ],
   "source": [
    "len(cellDataAll.columns)"
   ]
  },
  {
   "cell_type": "code",
   "execution_count": 10,
   "id": "cbc35a9f",
   "metadata": {},
   "outputs": [
    {
     "data": {
      "text/plain": [
       "Index(['label', 'area', 'centroid-0', 'centroid-1', 'orientation',\n",
       "       'major_axis_length', 'minor_axis_length', 'bbox-0', 'bbox-1', 'bbox-2',\n",
       "       'bbox-3', 'image', 'file', 't', 'size_x', 'size_y'],\n",
       "      dtype='object')"
      ]
     },
     "execution_count": 10,
     "metadata": {},
     "output_type": "execute_result"
    }
   ],
   "source": [
    "cellDataAll.columns"
   ]
  },
  {
   "cell_type": "code",
   "execution_count": 14,
   "id": "d017141f",
   "metadata": {},
   "outputs": [
    {
     "data": {
      "text/html": [
       "<div>\n",
       "<style scoped>\n",
       "    .dataframe tbody tr th:only-of-type {\n",
       "        vertical-align: middle;\n",
       "    }\n",
       "\n",
       "    .dataframe tbody tr th {\n",
       "        vertical-align: top;\n",
       "    }\n",
       "\n",
       "    .dataframe thead th {\n",
       "        text-align: right;\n",
       "    }\n",
       "</style>\n",
       "<table border=\"1\" class=\"dataframe\">\n",
       "  <thead>\n",
       "    <tr style=\"text-align: right;\">\n",
       "      <th></th>\n",
       "      <th>label</th>\n",
       "      <th>area</th>\n",
       "      <th>centroid-0</th>\n",
       "      <th>centroid-1</th>\n",
       "      <th>orientation</th>\n",
       "      <th>major_axis_length</th>\n",
       "      <th>minor_axis_length</th>\n",
       "      <th>bbox-0</th>\n",
       "      <th>bbox-1</th>\n",
       "      <th>bbox-2</th>\n",
       "      <th>bbox-3</th>\n",
       "      <th>image</th>\n",
       "      <th>file</th>\n",
       "      <th>t</th>\n",
       "      <th>size_x</th>\n",
       "      <th>size_y</th>\n",
       "    </tr>\n",
       "  </thead>\n",
       "  <tbody>\n",
       "    <tr>\n",
       "      <th>0</th>\n",
       "      <td>3</td>\n",
       "      <td>670</td>\n",
       "      <td>21.959701</td>\n",
       "      <td>863.031343</td>\n",
       "      <td>0.859500</td>\n",
       "      <td>38.916625</td>\n",
       "      <td>22.064443</td>\n",
       "      <td>7</td>\n",
       "      <td>847</td>\n",
       "      <td>38</td>\n",
       "      <td>880</td>\n",
       "      <td>[[False, False, False, False, False, False, Fa...</td>\n",
       "      <td>01_ch0_000.png</td>\n",
       "      <td>0</td>\n",
       "      <td>1946</td>\n",
       "      <td>1946</td>\n",
       "    </tr>\n",
       "    <tr>\n",
       "      <th>1</th>\n",
       "      <td>4</td>\n",
       "      <td>646</td>\n",
       "      <td>45.170279</td>\n",
       "      <td>1153.159443</td>\n",
       "      <td>-0.660946</td>\n",
       "      <td>33.668349</td>\n",
       "      <td>24.462243</td>\n",
       "      <td>31</td>\n",
       "      <td>1140</td>\n",
       "      <td>61</td>\n",
       "      <td>1168</td>\n",
       "      <td>[[False, False, False, False, False, False, Fa...</td>\n",
       "      <td>01_ch0_000.png</td>\n",
       "      <td>0</td>\n",
       "      <td>1946</td>\n",
       "      <td>1946</td>\n",
       "    </tr>\n",
       "    <tr>\n",
       "      <th>2</th>\n",
       "      <td>5</td>\n",
       "      <td>770</td>\n",
       "      <td>50.325974</td>\n",
       "      <td>394.742857</td>\n",
       "      <td>-0.086673</td>\n",
       "      <td>35.855595</td>\n",
       "      <td>27.370902</td>\n",
       "      <td>33</td>\n",
       "      <td>382</td>\n",
       "      <td>69</td>\n",
       "      <td>409</td>\n",
       "      <td>[[False, False, False, False, False, False, Fa...</td>\n",
       "      <td>01_ch0_000.png</td>\n",
       "      <td>0</td>\n",
       "      <td>1946</td>\n",
       "      <td>1946</td>\n",
       "    </tr>\n",
       "    <tr>\n",
       "      <th>3</th>\n",
       "      <td>6</td>\n",
       "      <td>696</td>\n",
       "      <td>58.857759</td>\n",
       "      <td>1110.521552</td>\n",
       "      <td>1.420108</td>\n",
       "      <td>33.783068</td>\n",
       "      <td>26.455876</td>\n",
       "      <td>46</td>\n",
       "      <td>1095</td>\n",
       "      <td>73</td>\n",
       "      <td>1128</td>\n",
       "      <td>[[False, False, False, False, False, False, Fa...</td>\n",
       "      <td>01_ch0_000.png</td>\n",
       "      <td>0</td>\n",
       "      <td>1946</td>\n",
       "      <td>1946</td>\n",
       "    </tr>\n",
       "    <tr>\n",
       "      <th>4</th>\n",
       "      <td>7</td>\n",
       "      <td>809</td>\n",
       "      <td>74.687268</td>\n",
       "      <td>466.436341</td>\n",
       "      <td>0.680750</td>\n",
       "      <td>34.879034</td>\n",
       "      <td>29.537244</td>\n",
       "      <td>59</td>\n",
       "      <td>451</td>\n",
       "      <td>92</td>\n",
       "      <td>483</td>\n",
       "      <td>[[False, False, False, False, False, False, Fa...</td>\n",
       "      <td>01_ch0_000.png</td>\n",
       "      <td>0</td>\n",
       "      <td>1946</td>\n",
       "      <td>1946</td>\n",
       "    </tr>\n",
       "  </tbody>\n",
       "</table>\n",
       "</div>"
      ],
      "text/plain": [
       "   label  area  centroid-0   centroid-1  orientation  major_axis_length  \\\n",
       "0      3   670   21.959701   863.031343     0.859500          38.916625   \n",
       "1      4   646   45.170279  1153.159443    -0.660946          33.668349   \n",
       "2      5   770   50.325974   394.742857    -0.086673          35.855595   \n",
       "3      6   696   58.857759  1110.521552     1.420108          33.783068   \n",
       "4      7   809   74.687268   466.436341     0.680750          34.879034   \n",
       "\n",
       "   minor_axis_length  bbox-0  bbox-1  bbox-2  bbox-3  \\\n",
       "0          22.064443       7     847      38     880   \n",
       "1          24.462243      31    1140      61    1168   \n",
       "2          27.370902      33     382      69     409   \n",
       "3          26.455876      46    1095      73    1128   \n",
       "4          29.537244      59     451      92     483   \n",
       "\n",
       "                                               image            file  t  \\\n",
       "0  [[False, False, False, False, False, False, Fa...  01_ch0_000.png  0   \n",
       "1  [[False, False, False, False, False, False, Fa...  01_ch0_000.png  0   \n",
       "2  [[False, False, False, False, False, False, Fa...  01_ch0_000.png  0   \n",
       "3  [[False, False, False, False, False, False, Fa...  01_ch0_000.png  0   \n",
       "4  [[False, False, False, False, False, False, Fa...  01_ch0_000.png  0   \n",
       "\n",
       "   size_x  size_y  \n",
       "0    1946    1946  \n",
       "1    1946    1946  \n",
       "2    1946    1946  \n",
       "3    1946    1946  \n",
       "4    1946    1946  "
      ]
     },
     "execution_count": 14,
     "metadata": {},
     "output_type": "execute_result"
    }
   ],
   "source": [
    "cellDataAll.head()"
   ]
  },
  {
   "cell_type": "code",
   "execution_count": 44,
   "id": "de3ae7e2",
   "metadata": {},
   "outputs": [],
   "source": [
    "myBigPathSource = r'E:\\Martha\\2021Imaging\\08242021p27\\Segmentation_Test_MJ'\n",
    "myBigDirSave = r'E:\\Martha\\2021Imaging\\08242021p27\\data_analysis' \n",
    "\n",
    "myListMovies=[x for x in os.listdir(myBigPathSource)]\n"
   ]
  },
  {
   "cell_type": "code",
   "execution_count": 45,
   "id": "0fbe8bf9",
   "metadata": {},
   "outputs": [
    {
     "name": "stdout",
     "output_type": "stream",
     "text": [
      "E:\\Martha\\2021Imaging\\08242021p27\\Segmentation_Test_MJ\\01\n",
      "01\n",
      "E:\\Martha\\2021Imaging\\08242021p27\\Segmentation_Test_MJ\\02\n",
      "02\n",
      "E:\\Martha\\2021Imaging\\08242021p27\\Segmentation_Test_MJ\\03\n",
      "03\n",
      "E:\\Martha\\2021Imaging\\08242021p27\\Segmentation_Test_MJ\\04\n",
      "04\n",
      "E:\\Martha\\2021Imaging\\08242021p27\\Segmentation_Test_MJ\\05\n",
      "05\n",
      "E:\\Martha\\2021Imaging\\08242021p27\\Segmentation_Test_MJ\\06\n",
      "E:\\Martha\\2021Imaging\\08242021p27\\Segmentation_Test_MJ\\07\n",
      "E:\\Martha\\2021Imaging\\08242021p27\\Segmentation_Test_MJ\\08\n",
      "E:\\Martha\\2021Imaging\\08242021p27\\Segmentation_Test_MJ\\09\n",
      "09\n"
     ]
    }
   ],
   "source": [
    "for i in myListMovies:\n",
    "    myPathSource = os.path.join(myBigPathSource, i)\n",
    "    print(myPathSource)\n",
    "    myDirSave = os.path.join(myBigDirSave,i)\n",
    "    fileList = [x for x in os.listdir(myPathSource) if 'tif' in x]\n",
    "    if len(fileList)==289:\n",
    "        print(i)"
   ]
  },
  {
   "cell_type": "code",
   "execution_count": 48,
   "id": "4160b7cd",
   "metadata": {},
   "outputs": [
    {
     "ename": "KeyboardInterrupt",
     "evalue": "",
     "output_type": "error",
     "traceback": [
      "\u001b[1;31m---------------------------------------------------------------------------\u001b[0m",
      "\u001b[1;31mKeyboardInterrupt\u001b[0m                         Traceback (most recent call last)",
      "\u001b[1;32m~\\AppData\\Local\\Temp/ipykernel_5072/2882667529.py\u001b[0m in \u001b[0;36m<module>\u001b[1;34m\u001b[0m\n\u001b[0;32m     39\u001b[0m \u001b[1;33m\u001b[0m\u001b[0m\n\u001b[0;32m     40\u001b[0m         \u001b[1;31m# save calculations\u001b[0m\u001b[1;33m\u001b[0m\u001b[1;33m\u001b[0m\u001b[1;33m\u001b[0m\u001b[0m\n\u001b[1;32m---> 41\u001b[1;33m         \u001b[0mcellDataAll\u001b[0m\u001b[1;33m.\u001b[0m\u001b[0mto_csv\u001b[0m\u001b[1;33m(\u001b[0m\u001b[0mos\u001b[0m\u001b[1;33m.\u001b[0m\u001b[0mpath\u001b[0m\u001b[1;33m.\u001b[0m\u001b[0mjoin\u001b[0m\u001b[1;33m(\u001b[0m\u001b[0mmyDirSave\u001b[0m\u001b[1;33m,\u001b[0m\u001b[1;34mf'cellPose_regionprops{curr_movie}.csv'\u001b[0m\u001b[1;33m)\u001b[0m\u001b[1;33m,\u001b[0m\u001b[0mindex\u001b[0m\u001b[1;33m=\u001b[0m\u001b[1;32mFalse\u001b[0m\u001b[1;33m)\u001b[0m\u001b[1;33m\u001b[0m\u001b[1;33m\u001b[0m\u001b[0m\n\u001b[0m\u001b[0;32m     42\u001b[0m         \u001b[0mcellDataAll\u001b[0m\u001b[1;33m.\u001b[0m\u001b[0mto_pickle\u001b[0m\u001b[1;33m(\u001b[0m\u001b[0mos\u001b[0m\u001b[1;33m.\u001b[0m\u001b[0mpath\u001b[0m\u001b[1;33m.\u001b[0m\u001b[0mjoin\u001b[0m\u001b[1;33m(\u001b[0m\u001b[0mmyDirSave\u001b[0m\u001b[1;33m,\u001b[0m\u001b[1;34mf'cellPose_regionprops{curr_movie}.pkl'\u001b[0m\u001b[1;33m)\u001b[0m\u001b[1;33m,\u001b[0m\u001b[0mprotocol\u001b[0m \u001b[1;33m=\u001b[0m \u001b[1;36m4\u001b[0m\u001b[1;33m)\u001b[0m\u001b[1;33m\u001b[0m\u001b[1;33m\u001b[0m\u001b[0m\n\u001b[0;32m     43\u001b[0m \u001b[1;33m\u001b[0m\u001b[0m\n",
      "\u001b[1;32mC:\\ProgramData\\Anaconda3\\envs\\cellwork\\lib\\site-packages\\pandas\\core\\generic.py\u001b[0m in \u001b[0;36mto_csv\u001b[1;34m(self, path_or_buf, sep, na_rep, float_format, columns, header, index, index_label, mode, encoding, compression, quoting, quotechar, line_terminator, chunksize, date_format, doublequote, escapechar, decimal, errors, storage_options)\u001b[0m\n\u001b[0;32m   3464\u001b[0m         )\n\u001b[0;32m   3465\u001b[0m \u001b[1;33m\u001b[0m\u001b[0m\n\u001b[1;32m-> 3466\u001b[1;33m         return DataFrameRenderer(formatter).to_csv(\n\u001b[0m\u001b[0;32m   3467\u001b[0m             \u001b[0mpath_or_buf\u001b[0m\u001b[1;33m,\u001b[0m\u001b[1;33m\u001b[0m\u001b[1;33m\u001b[0m\u001b[0m\n\u001b[0;32m   3468\u001b[0m             \u001b[0mline_terminator\u001b[0m\u001b[1;33m=\u001b[0m\u001b[0mline_terminator\u001b[0m\u001b[1;33m,\u001b[0m\u001b[1;33m\u001b[0m\u001b[1;33m\u001b[0m\u001b[0m\n",
      "\u001b[1;32mC:\\ProgramData\\Anaconda3\\envs\\cellwork\\lib\\site-packages\\pandas\\io\\formats\\format.py\u001b[0m in \u001b[0;36mto_csv\u001b[1;34m(self, path_or_buf, encoding, sep, columns, index_label, mode, compression, quoting, quotechar, line_terminator, chunksize, date_format, doublequote, escapechar, errors, storage_options)\u001b[0m\n\u001b[0;32m   1103\u001b[0m             \u001b[0mformatter\u001b[0m\u001b[1;33m=\u001b[0m\u001b[0mself\u001b[0m\u001b[1;33m.\u001b[0m\u001b[0mfmt\u001b[0m\u001b[1;33m,\u001b[0m\u001b[1;33m\u001b[0m\u001b[1;33m\u001b[0m\u001b[0m\n\u001b[0;32m   1104\u001b[0m         )\n\u001b[1;32m-> 1105\u001b[1;33m         \u001b[0mcsv_formatter\u001b[0m\u001b[1;33m.\u001b[0m\u001b[0msave\u001b[0m\u001b[1;33m(\u001b[0m\u001b[1;33m)\u001b[0m\u001b[1;33m\u001b[0m\u001b[1;33m\u001b[0m\u001b[0m\n\u001b[0m\u001b[0;32m   1106\u001b[0m \u001b[1;33m\u001b[0m\u001b[0m\n\u001b[0;32m   1107\u001b[0m         \u001b[1;32mif\u001b[0m \u001b[0mcreated_buffer\u001b[0m\u001b[1;33m:\u001b[0m\u001b[1;33m\u001b[0m\u001b[1;33m\u001b[0m\u001b[0m\n",
      "\u001b[1;32mC:\\ProgramData\\Anaconda3\\envs\\cellwork\\lib\\site-packages\\pandas\\io\\formats\\csvs.py\u001b[0m in \u001b[0;36msave\u001b[1;34m(self)\u001b[0m\n\u001b[0;32m    255\u001b[0m             )\n\u001b[0;32m    256\u001b[0m \u001b[1;33m\u001b[0m\u001b[0m\n\u001b[1;32m--> 257\u001b[1;33m             \u001b[0mself\u001b[0m\u001b[1;33m.\u001b[0m\u001b[0m_save\u001b[0m\u001b[1;33m(\u001b[0m\u001b[1;33m)\u001b[0m\u001b[1;33m\u001b[0m\u001b[1;33m\u001b[0m\u001b[0m\n\u001b[0m\u001b[0;32m    258\u001b[0m \u001b[1;33m\u001b[0m\u001b[0m\n\u001b[0;32m    259\u001b[0m     \u001b[1;32mdef\u001b[0m \u001b[0m_save\u001b[0m\u001b[1;33m(\u001b[0m\u001b[0mself\u001b[0m\u001b[1;33m)\u001b[0m \u001b[1;33m->\u001b[0m \u001b[1;32mNone\u001b[0m\u001b[1;33m:\u001b[0m\u001b[1;33m\u001b[0m\u001b[1;33m\u001b[0m\u001b[0m\n",
      "\u001b[1;32mC:\\ProgramData\\Anaconda3\\envs\\cellwork\\lib\\site-packages\\pandas\\io\\formats\\csvs.py\u001b[0m in \u001b[0;36m_save\u001b[1;34m(self)\u001b[0m\n\u001b[0;32m    260\u001b[0m         \u001b[1;32mif\u001b[0m \u001b[0mself\u001b[0m\u001b[1;33m.\u001b[0m\u001b[0m_need_to_save_header\u001b[0m\u001b[1;33m:\u001b[0m\u001b[1;33m\u001b[0m\u001b[1;33m\u001b[0m\u001b[0m\n\u001b[0;32m    261\u001b[0m             \u001b[0mself\u001b[0m\u001b[1;33m.\u001b[0m\u001b[0m_save_header\u001b[0m\u001b[1;33m(\u001b[0m\u001b[1;33m)\u001b[0m\u001b[1;33m\u001b[0m\u001b[1;33m\u001b[0m\u001b[0m\n\u001b[1;32m--> 262\u001b[1;33m         \u001b[0mself\u001b[0m\u001b[1;33m.\u001b[0m\u001b[0m_save_body\u001b[0m\u001b[1;33m(\u001b[0m\u001b[1;33m)\u001b[0m\u001b[1;33m\u001b[0m\u001b[1;33m\u001b[0m\u001b[0m\n\u001b[0m\u001b[0;32m    263\u001b[0m \u001b[1;33m\u001b[0m\u001b[0m\n\u001b[0;32m    264\u001b[0m     \u001b[1;32mdef\u001b[0m \u001b[0m_save_header\u001b[0m\u001b[1;33m(\u001b[0m\u001b[0mself\u001b[0m\u001b[1;33m)\u001b[0m \u001b[1;33m->\u001b[0m \u001b[1;32mNone\u001b[0m\u001b[1;33m:\u001b[0m\u001b[1;33m\u001b[0m\u001b[1;33m\u001b[0m\u001b[0m\n",
      "\u001b[1;32mC:\\ProgramData\\Anaconda3\\envs\\cellwork\\lib\\site-packages\\pandas\\io\\formats\\csvs.py\u001b[0m in \u001b[0;36m_save_body\u001b[1;34m(self)\u001b[0m\n\u001b[0;32m    298\u001b[0m             \u001b[1;32mif\u001b[0m \u001b[0mstart_i\u001b[0m \u001b[1;33m>=\u001b[0m \u001b[0mend_i\u001b[0m\u001b[1;33m:\u001b[0m\u001b[1;33m\u001b[0m\u001b[1;33m\u001b[0m\u001b[0m\n\u001b[0;32m    299\u001b[0m                 \u001b[1;32mbreak\u001b[0m\u001b[1;33m\u001b[0m\u001b[1;33m\u001b[0m\u001b[0m\n\u001b[1;32m--> 300\u001b[1;33m             \u001b[0mself\u001b[0m\u001b[1;33m.\u001b[0m\u001b[0m_save_chunk\u001b[0m\u001b[1;33m(\u001b[0m\u001b[0mstart_i\u001b[0m\u001b[1;33m,\u001b[0m \u001b[0mend_i\u001b[0m\u001b[1;33m)\u001b[0m\u001b[1;33m\u001b[0m\u001b[1;33m\u001b[0m\u001b[0m\n\u001b[0m\u001b[0;32m    301\u001b[0m \u001b[1;33m\u001b[0m\u001b[0m\n\u001b[0;32m    302\u001b[0m     \u001b[1;32mdef\u001b[0m \u001b[0m_save_chunk\u001b[0m\u001b[1;33m(\u001b[0m\u001b[0mself\u001b[0m\u001b[1;33m,\u001b[0m \u001b[0mstart_i\u001b[0m\u001b[1;33m:\u001b[0m \u001b[0mint\u001b[0m\u001b[1;33m,\u001b[0m \u001b[0mend_i\u001b[0m\u001b[1;33m:\u001b[0m \u001b[0mint\u001b[0m\u001b[1;33m)\u001b[0m \u001b[1;33m->\u001b[0m \u001b[1;32mNone\u001b[0m\u001b[1;33m:\u001b[0m\u001b[1;33m\u001b[0m\u001b[1;33m\u001b[0m\u001b[0m\n",
      "\u001b[1;32mC:\\ProgramData\\Anaconda3\\envs\\cellwork\\lib\\site-packages\\pandas\\io\\formats\\csvs.py\u001b[0m in \u001b[0;36m_save_chunk\u001b[1;34m(self, start_i, end_i)\u001b[0m\n\u001b[0;32m    309\u001b[0m \u001b[1;33m\u001b[0m\u001b[0m\n\u001b[0;32m    310\u001b[0m         \u001b[0mix\u001b[0m \u001b[1;33m=\u001b[0m \u001b[0mself\u001b[0m\u001b[1;33m.\u001b[0m\u001b[0mdata_index\u001b[0m\u001b[1;33m[\u001b[0m\u001b[0mslicer\u001b[0m\u001b[1;33m]\u001b[0m\u001b[1;33m.\u001b[0m\u001b[0m_format_native_types\u001b[0m\u001b[1;33m(\u001b[0m\u001b[1;33m**\u001b[0m\u001b[0mself\u001b[0m\u001b[1;33m.\u001b[0m\u001b[0m_number_format\u001b[0m\u001b[1;33m)\u001b[0m\u001b[1;33m\u001b[0m\u001b[1;33m\u001b[0m\u001b[0m\n\u001b[1;32m--> 311\u001b[1;33m         libwriters.write_csv_rows(\n\u001b[0m\u001b[0;32m    312\u001b[0m             \u001b[0mdata\u001b[0m\u001b[1;33m,\u001b[0m\u001b[1;33m\u001b[0m\u001b[1;33m\u001b[0m\u001b[0m\n\u001b[0;32m    313\u001b[0m             \u001b[0mix\u001b[0m\u001b[1;33m,\u001b[0m\u001b[1;33m\u001b[0m\u001b[1;33m\u001b[0m\u001b[0m\n",
      "\u001b[1;32mC:\\ProgramData\\Anaconda3\\envs\\cellwork\\lib\\site-packages\\pandas\\_libs\\writers.pyx\u001b[0m in \u001b[0;36mpandas._libs.writers.write_csv_rows\u001b[1;34m()\u001b[0m\n",
      "\u001b[1;31mKeyboardInterrupt\u001b[0m: "
     ]
    }
   ],
   "source": [
    "myBigPathSource = r'E:\\Martha\\2021Imaging\\08242021p27\\Segmentation_Test_MJ'\n",
    "myBigDirSave = r'E:\\Martha\\2021Imaging\\08242021p27\\data_analysis' \n",
    "\n",
    "myListMovies=[x for x in os.listdir(myBigPathSource)]\n",
    "\n",
    "for i in myListMovies:\n",
    "    myPathSource = os.path.join(myBigPathSource, i)\n",
    "    myDirSave = os.path.join(myBigDirSave,i)\n",
    "    \n",
    "    cellDataList=[]\n",
    "\n",
    "    fileList = [x for x in os.listdir(myPathSource) if 'tif' in x]\n",
    "    if len(fileList)==289: \n",
    "        # example runs for the first 'num_im' images\n",
    "        num_im = 289\n",
    "        for myFile in fileList[:num_im]:\n",
    "\n",
    "            myFilePath = os.path.join(myPathSource,myFile)\n",
    "\n",
    "            labels_2D = imread(myFilePath)\n",
    "\n",
    "            # optional removing objects that sit at the edge of an image\n",
    "            labels_2D = clear_border(labels_2D)\n",
    "\n",
    "            # calculate properties of regions\n",
    "            cellData = measure.regionprops_table(labels_2D, properties=properties)\n",
    "            cellData = pd.DataFrame(cellData)\n",
    "\n",
    "            # add info of these measurements\n",
    "            cellData['file'] = myFile\n",
    "            cellData['t'] = int(myFile.split('_')[1][:-4])\n",
    "            cellData['size_x'] = labels_2D.shape[0]\n",
    "            cellData['size_y'] = labels_2D.shape[1]\n",
    "\n",
    "            cellDataList.append(cellData)\n",
    "\n",
    "        # put all together\n",
    "        cellDataAll = pd.concat(cellDataList,ignore_index=True)\n",
    "\n",
    "        # save calculations\n",
    "        cellDataAll.to_csv(os.path.join(myDirSave,f'cellPose_regionprops{i}.csv'),index=False)\n",
    "        cellDataAll.to_pickle(os.path.join(myDirSave,f'cellPose_regionprops{i}.pkl'),protocol = 4)\n",
    "    "
   ]
  },
  {
   "cell_type": "code",
   "execution_count": null,
   "id": "704a8442",
   "metadata": {},
   "outputs": [],
   "source": []
  }
 ],
 "metadata": {
  "kernelspec": {
   "display_name": "Python 3 (ipykernel)",
   "language": "python",
   "name": "python3"
  },
  "language_info": {
   "codemirror_mode": {
    "name": "ipython",
    "version": 3
   },
   "file_extension": ".py",
   "mimetype": "text/x-python",
   "name": "python",
   "nbconvert_exporter": "python",
   "pygments_lexer": "ipython3",
   "version": "3.9.6"
  }
 },
 "nbformat": 4,
 "nbformat_minor": 5
}
