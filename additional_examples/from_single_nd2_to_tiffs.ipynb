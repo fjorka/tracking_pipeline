{
 "cells": [
  {
   "cell_type": "code",
   "execution_count": 18,
   "id": "fb336d37",
   "metadata": {},
   "outputs": [],
   "source": [
    "import os\n",
    "import numpy as np\n",
    "from nd2reader import ND2Reader\n",
    "from tifffile import imsave"
   ]
  },
  {
   "cell_type": "code",
   "execution_count": 19,
   "id": "92166d69",
   "metadata": {},
   "outputs": [],
   "source": [
    "nd2_dir = r'Z:\\Wayne\\20210928_timelapse_arrest'\n",
    "nd2_file = r'20210928_cycd1_p21_ST004.nd2'\n",
    "\n",
    "dir_save = r'Z:\\Wayne\\20210928_timelapse_arrest\\tiffs'"
   ]
  },
  {
   "cell_type": "code",
   "execution_count": 20,
   "id": "0184a5f7",
   "metadata": {},
   "outputs": [],
   "source": [
    "file_path = os.path.join(nd2_dir,nd2_file)\n",
    "\n",
    "im_reader = ND2Reader(file_path)"
   ]
  },
  {
   "cell_type": "code",
   "execution_count": 21,
   "id": "4683834b",
   "metadata": {},
   "outputs": [
    {
     "data": {
      "text/plain": [
       "{'x': 2765, 'y': 2765, 'c': 4, 't': 577, 'v': 15}"
      ]
     },
     "execution_count": 21,
     "metadata": {},
     "output_type": "execute_result"
    }
   ],
   "source": [
    "im_reader.sizes"
   ]
  },
  {
   "cell_type": "code",
   "execution_count": 22,
   "id": "b9c5dfad",
   "metadata": {},
   "outputs": [],
   "source": [
    "# to convert everything use:\n",
    "v_array = np.arange(im_reader.sizes['v'])\n",
    "c_array = np.arange(im_reader.sizes['c'])\n",
    "t_array = np.arange(im_reader.sizes['t'])\n",
    "\n",
    "# or specify accordingly:\n",
    "v_array = [0]\n",
    "c_array = [0]\n",
    "t_array = np.arange(3)"
   ]
  },
  {
   "cell_type": "code",
   "execution_count": 25,
   "id": "21a69fd0",
   "metadata": {},
   "outputs": [],
   "source": [
    "for v in v_array:\n",
    "    \n",
    "    for c in c_array:\n",
    "        \n",
    "        im_list = []\n",
    "        \n",
    "        for t in t_array:\n",
    "\n",
    "            im = im_reader.get_frame_2D(v=v, c=c, t=t)\n",
    "            \n",
    "            im_list.append(im)\n",
    "            \n",
    "        im = np.array(im_list)\n",
    "            \n",
    "        im_path = os.path.join(dir_save,nd2_file.replace('.nd2',f'_v{str(v).zfill(3)}_c{c}.tif'))    \n",
    "        imsave(im_path,im,imagej=True)"
   ]
  },
  {
   "cell_type": "code",
   "execution_count": null,
   "id": "ecdded91",
   "metadata": {},
   "outputs": [],
   "source": []
  }
 ],
 "metadata": {
  "kernelspec": {
   "display_name": "Python 3 (ipykernel)",
   "language": "python",
   "name": "python3"
  },
  "language_info": {
   "codemirror_mode": {
    "name": "ipython",
    "version": 3
   },
   "file_extension": ".py",
   "mimetype": "text/x-python",
   "name": "python",
   "nbconvert_exporter": "python",
   "pygments_lexer": "ipython3",
   "version": "3.7.10"
  }
 },
 "nbformat": 4,
 "nbformat_minor": 5
}
