{
 "cells": [
  {
   "cell_type": "code",
   "execution_count": 1,
   "id": "f49352f4",
   "metadata": {},
   "outputs": [],
   "source": [
    "%load_ext autoreload\n",
    "%autoreload 2\n",
    "\n",
    "import os\n",
    "import sys\n",
    "import warnings\n",
    "import pandas as pd\n",
    "import numpy as np\n",
    "from tifffile import imread\n",
    "from nd2reader import ND2Reader\n",
    "\n",
    "import napari\n",
    "from napari import Viewer\n",
    "from magicgui.widgets import Container\n",
    "from magicgui import magicgui\n",
    "\n",
    "sys.path.append('../libraries')\n",
    "import general_functions as gen\n",
    "import napari_build_viewer as bv_f\n",
    "import input_functions as inp_f"
   ]
  },
  {
   "cell_type": "code",
   "execution_count": 2,
   "id": "af34d0ec",
   "metadata": {},
   "outputs": [],
   "source": [
    "warnings.filterwarnings('ignore')"
   ]
  },
  {
   "cell_type": "markdown",
   "id": "e43bd461",
   "metadata": {},
   "source": [
    "## Define experiment"
   ]
  },
  {
   "cell_type": "code",
   "execution_count": 3,
   "id": "40d35e83",
   "metadata": {},
   "outputs": [],
   "source": [
    "info_file_path = r'D:\\BARC\\BARC_Wanjuan\\210603_B3_5\\210603_halo_B3_5_info.txt'"
   ]
  },
  {
   "cell_type": "code",
   "execution_count": 4,
   "id": "5123d1f1",
   "metadata": {},
   "outputs": [],
   "source": [
    "# read the file\n",
    "info_file = open(info_file_path, 'r')\n",
    "info_lines = info_file.readlines()\n",
    "info_file.close()\n",
    "\n",
    "# read info about the data frame\n",
    "exp_dir,df_name = inp_f.read_df_info(info_lines)\n",
    "\n",
    "# read in the data frame\n",
    "df = pd.read_pickle(os.path.join(exp_dir,'df',df_name))\n",
    "\n",
    "# get info about the channels\n",
    "channel_list = inp_f.read_channels(info_lines,check=True,df=df,exp_dir=exp_dir)\n",
    "\n",
    "# get info about the tags\n",
    "tag_list = inp_f.read_tags(info_lines,df=df)\n",
    "\n",
    "# get info about what will be plotted\n",
    "graph_list = inp_f.read_graphs(info_lines,df,channel_list)\n",
    "\n",
    "# get info about the general settings\n",
    "time_threshold,small_im_size,label_contour,gen_track_columns = inp_f.read_settings(info_lines)\n",
    "\n",
    "# get info about the caluclations \n",
    "object_properties = inp_f.read_properties(info_lines)\n",
    "# consider pushing properties_ring too"
   ]
  },
  {
   "cell_type": "markdown",
   "id": "be7b999a",
   "metadata": {},
   "source": [
    "## Extract info from the data frame"
   ]
  },
  {
   "cell_type": "code",
   "execution_count": 5,
   "id": "b18a3561",
   "metadata": {},
   "outputs": [],
   "source": [
    "# sort \n",
    "df = df.sort_values(by=['track_id','t'])"
   ]
  },
  {
   "cell_type": "markdown",
   "id": "5f421af9",
   "metadata": {},
   "source": [
    "Expected execution time < 1min."
   ]
  },
  {
   "cell_type": "code",
   "execution_count": 6,
   "id": "54c16abc",
   "metadata": {},
   "outputs": [
    {
     "name": "stdout",
     "output_type": "stream",
     "text": [
      "Wall time: 6.31 s\n"
     ]
    }
   ],
   "source": [
    "%%time\n",
    "\n",
    "# generate labels layer\n",
    "labels = gen.labels_from_df(df)"
   ]
  },
  {
   "cell_type": "code",
   "execution_count": 7,
   "id": "b2924595",
   "metadata": {},
   "outputs": [],
   "source": [
    "# generate data for the tracking layer\n",
    "data,properties,graph = gen.trackData_from_df(df,col_list = gen_track_columns)"
   ]
  },
  {
   "cell_type": "code",
   "execution_count": 8,
   "id": "8c174de8",
   "metadata": {},
   "outputs": [],
   "source": [
    "# create data for tagging\n",
    "tag_data = gen.tags_from_df(df,tag_list)"
   ]
  },
  {
   "cell_type": "markdown",
   "id": "c450ffba",
   "metadata": {},
   "source": [
    "## Read in images"
   ]
  },
  {
   "cell_type": "markdown",
   "id": "a34e96b9",
   "metadata": {},
   "source": [
    "Expected execution time ~ 10s/1GB"
   ]
  },
  {
   "cell_type": "code",
   "execution_count": 9,
   "id": "51b68f1e",
   "metadata": {},
   "outputs": [
    {
     "name": "stdout",
     "output_type": "stream",
     "text": [
      "Wall time: 812 ms\n"
     ]
    }
   ],
   "source": [
    "%%time\n",
    "\n",
    "for ind,ch in enumerate(channel_list):\n",
    "    \n",
    "    im_path = os.path.join(exp_dir,'data',ch['file_name'])\n",
    "    c = ch['channel_in_file']\n",
    "    \n",
    "    channel_list[ind]['image'] = inp_f.open_movie(im_path,c)"
   ]
  },
  {
   "cell_type": "markdown",
   "id": "f8077a1f",
   "metadata": {},
   "source": [
    "## Create a viewer"
   ]
  },
  {
   "cell_type": "code",
   "execution_count": 24,
   "id": "8887aa3d",
   "metadata": {},
   "outputs": [],
   "source": [
    "viewer = napari.Viewer()\n",
    "\n",
    "# add a labels layer\n",
    "labels_layer = viewer.add_labels(labels,name='Labels',opacity = 0.4)\n",
    "\n",
    "# add a helper layer\n",
    "layer_mod = viewer.add_points([],name='Helper Points',face_color='red',ndim=3)\n",
    "\n",
    "# add a tracking layer\n",
    "track_layer=viewer.add_tracks(data, properties=properties,graph=graph,name='Tracking') #graph=graph\n",
    "\n",
    "track_layer.display_id=True\n",
    "\n",
    "# add tracks annotations\n",
    "for tag,tag_points in zip(tag_list,tag_data): \n",
    "    \n",
    "    viewer.add_points(tag_points,name=tag['tag_name'],face_color=tag['tag_color'],opacity = 1,ndim = 3)\n",
    "\n",
    "# add image layers\n",
    "for ind,ch in reversed(list(enumerate(channel_list))):\n",
    "    \n",
    "    viewer.add_image(ch['image'],name=ch['channel_name'],colormap=ch['color'],blending='additive')\n"
   ]
  },
  {
   "cell_type": "code",
   "execution_count": 25,
   "id": "874bb104",
   "metadata": {},
   "outputs": [],
   "source": [
    "# create a plot widget\n",
    "t_max = viewer.dims.range[0][1]\n",
    "plot_widget = bv_f.build_lineage_widget(t_max)"
   ]
  },
  {
   "cell_type": "markdown",
   "id": "45397f71",
   "metadata": {},
   "source": [
    "## Build viewer functionality"
   ]
  },
  {
   "cell_type": "code",
   "execution_count": 27,
   "id": "b11ffa1a",
   "metadata": {},
   "outputs": [],
   "source": [
    "# inject global variables to the module\n",
    "\n",
    "global_variables = ['viewer','plot_widget',\n",
    "                    'exp_dir','df_name','df',\n",
    "                    'channel_list','graph_list',\n",
    "                    'object_properties',\n",
    "                    'time_threshold',\n",
    "                    'tag_list','gen_track_columns',\n",
    "                    'small_im_size',\n",
    "                    'label_contour'\n",
    "                   ]\n",
    "\n",
    "for var in global_variables:\n",
    "    \n",
    "    exec(f'bv_f.{var} = {var}')"
   ]
  },
  {
   "cell_type": "code",
   "execution_count": 28,
   "id": "d4a876af",
   "metadata": {},
   "outputs": [
    {
     "data": {
      "text/plain": [
       "<napari._qt.widgets.qt_viewer_dock_widget.QtViewerDockWidget at 0x11dc3e99678>"
      ]
     },
     "execution_count": 28,
     "metadata": {},
     "output_type": "execute_result"
    }
   ],
   "source": [
    "######################################################################\n",
    "# add saving button\n",
    "save_data = magicgui(bv_f.save_data, call_button='Save Data')\n",
    "viewer.window.add_dock_widget(save_data,area='right')\n",
    "\n",
    "######################################################################\n",
    "# add right-click to make a label active\n",
    "select_label = labels_layer.mouse_drag_callbacks.append(bv_f.select_label)\n",
    "\n",
    "######################################################################\n",
    "# add label modifications\n",
    "\n",
    "mod_label = magicgui(bv_f.mod_label,call_button='Modify Label')\n",
    "viewer.window.add_dock_widget(mod_label,area='right')\n",
    "\n",
    "mod_key = viewer.bind_key('Enter',overwrite=True,func=bv_f.mod_label)\n",
    "\n",
    "######################################################################\n",
    "# add track modifying buttons\n",
    "\n",
    "cut_track = magicgui(bv_f.cut_track, call_button='Cut Track')\n",
    "merge_track = magicgui(bv_f.merge_track, call_button='Merge Track')\n",
    "connect_track = magicgui(bv_f.connect_track, call_button='Connect Track')\n",
    "\n",
    "container_tracks = Container(widgets=[cut_track,merge_track,connect_track],labels=False)\n",
    "viewer.window.add_dock_widget(container_tracks,area='right') \n",
    "\n",
    "######################################################################\n",
    "# add right-click toggle track tags\n",
    "for tag_name in [x['tag_name'] for x in tag_list]:\n",
    "    \n",
    "    viewer.layers[tag_name].mouse_drag_callbacks.append(bv_f.toggle_track)\n",
    "    \n",
    "######################################################################\n",
    "# add small stack display button\n",
    "\n",
    "stack_button = magicgui(bv_f.show_stack, call_button='Show Stack')\n",
    "viewer.window.add_dock_widget(stack_button,area='right')\n",
    "\n",
    "########################################################################\n",
    "# add lineage graph\n",
    "viewer.window.add_dock_widget(plot_widget,area='bottom',name='family')\n",
    "\n",
    "# connect lineage graph update\n",
    "labels_layer.events.selected_label.connect(bv_f.update_lineage_display)"
   ]
  },
  {
   "cell_type": "code",
   "execution_count": 29,
   "id": "c56a3e63",
   "metadata": {},
   "outputs": [
    {
     "data": {
      "text/plain": [
       "<function napari_build_viewer.update_lineage_display(event)>"
      ]
     },
     "execution_count": 29,
     "metadata": {},
     "output_type": "execute_result"
    }
   ],
   "source": [
    "# add lineage graph\n",
    "#viewer.window.add_dock_widget(plot_widget,area='bottom',name='family')\n",
    "\n",
    "# connect lineage graph update\n",
    "labels_layer.events.selected_label.connect(bv_f.update_lineage_display)"
   ]
  },
  {
   "cell_type": "code",
   "execution_count": 137,
   "id": "39f96587",
   "metadata": {},
   "outputs": [
    {
     "name": "stdout",
     "output_type": "stream",
     "text": [
      "The autoreload extension is already loaded. To reload it, use:\n",
      "  %reload_ext autoreload\n"
     ]
    }
   ],
   "source": [
    "%load_ext autoreload\n",
    "%autoreload 2\n",
    "\n",
    "import napari_display_functions as my_napari"
   ]
  },
  {
   "cell_type": "code",
   "execution_count": 167,
   "id": "0a4aae0e",
   "metadata": {},
   "outputs": [],
   "source": [
    "# clear the widget\n",
    "plot_view = plot_widget.getItem(0,0)\n",
    "plot_view.clear()\n",
    "\n",
    "# get for whom the update will be\n",
    "active_label = viewer.layers['Labels'].selected_label\n",
    "\n",
    "# find graph for everyone\n",
    "_,_,graph = gen.trackData_from_df(df,col_list = ['track_id'])\n",
    "\n",
    "# find the root\n",
    "my_root = int(list(df.loc[df.track_id==active_label,'root'])[0])\n",
    "paths=gen.find_all_paths(graph,my_root)\n",
    "\n",
    "# generate the family tree\n",
    "t = my_napari.generate_tree_min(paths,df)\n",
    "\n",
    "# calculate rendering\n",
    "t_rendering = t.render('family_tree.png')\n",
    "\n",
    "# add positions to the tree\n",
    "t = my_napari.add_y_rendering(t,t_rendering)\n",
    "\n",
    "# create view\n",
    "plot_view = bv_f.render_tree_view(plot_view,t,viewer)"
   ]
  },
  {
   "cell_type": "code",
   "execution_count": 160,
   "id": "a4049945",
   "metadata": {},
   "outputs": [],
   "source": [
    "t = my_napari.add_y_rendering(t,t_rendering)"
   ]
  },
  {
   "cell_type": "code",
   "execution_count": 166,
   "id": "d4db88d3",
   "metadata": {},
   "outputs": [
    {
     "name": "stdout",
     "output_type": "stream",
     "text": [
      "17.0\n"
     ]
    }
   ],
   "source": [
    "for n in t.traverse():\n",
    "    \n",
    "    if n.is_root():\n",
    "        pass\n",
    "    else:\n",
    "        print(t_rendering['node_areas'][n.n][3])"
   ]
  },
  {
   "cell_type": "code",
   "execution_count": 163,
   "id": "72a8eb21",
   "metadata": {},
   "outputs": [
    {
     "data": {
      "text/plain": [
       "{'nodes': [[5.846534653465348, 7.0, 9.846534653465348, 11.0, 0, None],\n",
       "  [188.84653465346534, 7.0, 192.84653465346534, 11.0, 1, None]],\n",
       " 'faces': [[192.34653465346534, 1.0, 213.34653465346534, 17.0, 1, '154']],\n",
       " 'node_areas': {0: [1.0, 1.0, 213.34653465346534, 17.0],\n",
       "  1: [9.346534653465348, 1.0, 213.34653465346534, 17.0]}}"
      ]
     },
     "execution_count": 163,
     "metadata": {},
     "output_type": "execute_result"
    }
   ],
   "source": [
    "t_rendering"
   ]
  },
  {
   "cell_type": "code",
   "execution_count": 154,
   "id": "c6d8a55d",
   "metadata": {},
   "outputs": [
    {
     "ename": "AttributeError",
     "evalue": "'TreeNode' object has no attribute 'y'",
     "output_type": "error",
     "traceback": [
      "\u001b[1;31m---------------------------------------------------------------------------\u001b[0m",
      "\u001b[1;31mAttributeError\u001b[0m                            Traceback (most recent call last)",
      "\u001b[1;32m~\\AppData\\Local\\Temp/ipykernel_10924/1610733622.py\u001b[0m in \u001b[0;36m<module>\u001b[1;34m\u001b[0m\n\u001b[1;32m----> 1\u001b[1;33m \u001b[0mupdate_lineage_display\u001b[0m\u001b[1;33m(\u001b[0m\u001b[1;33m)\u001b[0m\u001b[1;33m\u001b[0m\u001b[1;33m\u001b[0m\u001b[0m\n\u001b[0m",
      "\u001b[1;32m~\\AppData\\Local\\Temp/ipykernel_10924/3985950887.py\u001b[0m in \u001b[0;36mupdate_lineage_display\u001b[1;34m()\u001b[0m\n\u001b[0;32m     27\u001b[0m \u001b[1;33m\u001b[0m\u001b[0m\n\u001b[0;32m     28\u001b[0m     \u001b[1;31m# create view\u001b[0m\u001b[1;33m\u001b[0m\u001b[1;33m\u001b[0m\u001b[1;33m\u001b[0m\u001b[0m\n\u001b[1;32m---> 29\u001b[1;33m     \u001b[0mplot_view\u001b[0m \u001b[1;33m=\u001b[0m \u001b[0mbv_f\u001b[0m\u001b[1;33m.\u001b[0m\u001b[0mrender_tree_view\u001b[0m\u001b[1;33m(\u001b[0m\u001b[0mplot_view\u001b[0m\u001b[1;33m,\u001b[0m\u001b[0mt\u001b[0m\u001b[1;33m,\u001b[0m\u001b[0mviewer\u001b[0m\u001b[1;33m)\u001b[0m\u001b[1;33m\u001b[0m\u001b[1;33m\u001b[0m\u001b[0m\n\u001b[0m",
      "\u001b[1;32mD:\\BARC\\tracking_pipeline\\libraries\\napari_build_viewer.py\u001b[0m in \u001b[0;36mrender_tree_view\u001b[1;34m(plot_view, t, viewer)\u001b[0m\n\u001b[0;32m    373\u001b[0m \u001b[1;33m\u001b[0m\u001b[0m\n\u001b[0;32m    374\u001b[0m             \u001b[1;31m# get rendered position (y axis)\u001b[0m\u001b[1;33m\u001b[0m\u001b[1;33m\u001b[0m\u001b[1;33m\u001b[0m\u001b[0m\n\u001b[1;32m--> 375\u001b[1;33m             \u001b[0my_signal\u001b[0m \u001b[1;33m=\u001b[0m \u001b[1;33m[\u001b[0m\u001b[0mn\u001b[0m\u001b[1;33m.\u001b[0m\u001b[0my\u001b[0m\u001b[1;33m,\u001b[0m\u001b[0mn\u001b[0m\u001b[1;33m.\u001b[0m\u001b[0my\u001b[0m\u001b[1;33m]\u001b[0m\u001b[1;33m\u001b[0m\u001b[1;33m\u001b[0m\u001b[0m\n\u001b[0m\u001b[0;32m    376\u001b[0m \u001b[1;33m\u001b[0m\u001b[0m\n\u001b[0;32m    377\u001b[0m             \u001b[0mlabel_color\u001b[0m \u001b[1;33m=\u001b[0m \u001b[0mlabels_layer\u001b[0m\u001b[1;33m.\u001b[0m\u001b[0mget_color\u001b[0m\u001b[1;33m(\u001b[0m\u001b[0mnode_name\u001b[0m\u001b[1;33m)\u001b[0m\u001b[1;33m\u001b[0m\u001b[1;33m\u001b[0m\u001b[0m\n",
      "\u001b[1;31mAttributeError\u001b[0m: 'TreeNode' object has no attribute 'y'"
     ]
    }
   ],
   "source": [
    "update_lineage_display()"
   ]
  },
  {
   "cell_type": "code",
   "execution_count": 121,
   "id": "86cf93de",
   "metadata": {},
   "outputs": [
    {
     "data": {
      "text/plain": [
       "<napari._qt.widgets.qt_viewer_dock_widget.QtViewerDockWidget at 0x1ba3f18f1f8>"
      ]
     },
     "execution_count": 121,
     "metadata": {},
     "output_type": "execute_result"
    }
   ],
   "source": [
    "plot_widget = pg.GraphicsLayoutWidget()\n",
    "plot_view = plot_widget.addPlot(title=\"Lineage tree\", labels={\"bottom\": \"Time\"})\n",
    "plot_view.setXRange(0, 100)\n",
    "viewer.window.add_dock_widget(plot_widget,area='bottom',name='family')"
   ]
  },
  {
   "cell_type": "code",
   "execution_count": 125,
   "id": "7356a507",
   "metadata": {},
   "outputs": [
    {
     "data": {
      "text/plain": [
       "<pyqtgraph.widgets.GraphicsLayoutWidget.GraphicsLayoutWidget at 0x1ba2dfacaf8>"
      ]
     },
     "execution_count": 125,
     "metadata": {},
     "output_type": "execute_result"
    }
   ],
   "source": [
    "plot_widget"
   ]
  },
  {
   "cell_type": "code",
   "execution_count": 126,
   "id": "587b75e9",
   "metadata": {},
   "outputs": [
    {
     "ename": "AttributeError",
     "evalue": "'QtViewerDockWidget' object has no attribute 'clear'",
     "output_type": "error",
     "traceback": [
      "\u001b[1;31m---------------------------------------------------------------------------\u001b[0m",
      "\u001b[1;31mAttributeError\u001b[0m                            Traceback (most recent call last)",
      "\u001b[1;32m~\\AppData\\Local\\Temp/ipykernel_10924/2807250932.py\u001b[0m in \u001b[0;36m<module>\u001b[1;34m\u001b[0m\n\u001b[0;32m      1\u001b[0m \u001b[0mtest\u001b[0m \u001b[1;33m=\u001b[0m \u001b[0mviewer\u001b[0m\u001b[1;33m.\u001b[0m\u001b[0mwindow\u001b[0m\u001b[1;33m.\u001b[0m\u001b[0m_dock_widgets\u001b[0m\u001b[1;33m[\u001b[0m\u001b[1;34m'family'\u001b[0m\u001b[1;33m]\u001b[0m\u001b[1;33m\u001b[0m\u001b[1;33m\u001b[0m\u001b[0m\n\u001b[1;32m----> 2\u001b[1;33m \u001b[0mtest\u001b[0m\u001b[1;33m.\u001b[0m\u001b[0mclear\u001b[0m\u001b[1;33m(\u001b[0m\u001b[1;33m)\u001b[0m\u001b[1;33m\u001b[0m\u001b[1;33m\u001b[0m\u001b[0m\n\u001b[0m",
      "\u001b[1;31mAttributeError\u001b[0m: 'QtViewerDockWidget' object has no attribute 'clear'"
     ]
    }
   ],
   "source": [
    "test = viewer.window._dock_widgets['family']\n",
    "test.clear()"
   ]
  },
  {
   "cell_type": "code",
   "execution_count": 128,
   "id": "2eab3c64",
   "metadata": {},
   "outputs": [],
   "source": [
    "def render_tree_view(plot_view,t_rendering):\n",
    "\n",
    "    for n in t.traverse():\n",
    "\n",
    "        if n.is_root():\n",
    "            pass\n",
    "        else:\n",
    "\n",
    "            node_name = n.name\n",
    "\n",
    "            # get position in time\n",
    "            x1 = n.start\n",
    "            x2 = n.stop\n",
    "            x_signal = [x1,x2]\n",
    "\n",
    "            # get rendered position (y axis)\n",
    "            y_signal = [n.y,n.y]\n",
    "\n",
    "            label_color = labels_layer.get_color(node_name)\n",
    "            pen = pg.mkPen(color=pg.mkColor((label_color*255).astype(int)),width=5)\n",
    "\n",
    "            plot_view.plot(x_signal, y_signal,pen=pen)\n",
    "\n",
    "            text_item = pg.TextItem(str(node_name),anchor=(1,1))\n",
    "            text_item.setPos(x2,n.y)\n",
    "            plot_view.addItem(text_item)\n",
    "\n",
    "            # check if children are present\n",
    "            if len(n.children)>0:\n",
    "\n",
    "                for child in n.children:\n",
    "\n",
    "                    x_signal = [x2,x2]\n",
    "                    y_signal = [n.y,child.y]\n",
    "                    plot_view.plot(x_signal, y_signal,pen=pen)\n",
    "                \n",
    "    return plot_view"
   ]
  },
  {
   "cell_type": "code",
   "execution_count": 12,
   "id": "0ae6ceb6",
   "metadata": {},
   "outputs": [],
   "source": [
    "# create widget\n",
    "\n",
    "def show_family(event):\n",
    "    \n",
    "    global viewer\n",
    "    \n",
    "    active_label = viewer.layers['Labels'].selected_label\n",
    "    \n",
    "    family_im = my_napari.generate_family_image(df,labels_layer,active_label,graph_list[0])\n",
    "    \n",
    "    # remove previous graph\n",
    "    if 'family' in viewer.window._dock_widgets.keys():\n",
    "        h = viewer.window._dock_widgets['family']\n",
    "        viewer.window.remove_dock_widget(h)\n",
    "    \n",
    "    mpl_widget = FigureCanvas(Figure(tight_layout=True))\n",
    "\n",
    "    ax = mpl_widget.figure.subplots(1)\n",
    "\n",
    "    ax.imshow(family_im,extent=[0,220,0,50])\n",
    "    ax.get_yaxis().set_visible(False)\n",
    "    ax.tick_params(axis='x', colors='white')\n",
    "\n",
    "    viewer.window.add_dock_widget(mpl_widget,area='bottom',name='family')"
   ]
  },
  {
   "cell_type": "code",
   "execution_count": 146,
   "id": "b1bfffb2",
   "metadata": {},
   "outputs": [
    {
     "data": {
      "text/plain": [
       "<Labels layer 'Labels' at 0x1ba2ddf0308>"
      ]
     },
     "execution_count": 146,
     "metadata": {},
     "output_type": "execute_result"
    }
   ],
   "source": [
    "viewer.layers['Labels']"
   ]
  },
  {
   "cell_type": "code",
   "execution_count": 100,
   "id": "b48806c8",
   "metadata": {},
   "outputs": [
    {
     "data": {
      "text/plain": [
       "<napari._qt.widgets.qt_viewer_dock_widget.QtViewerDockWidget at 0x1ba3a961ee8>"
      ]
     },
     "execution_count": 100,
     "metadata": {},
     "output_type": "execute_result"
    }
   ],
   "source": [
    "# add lineage graph\n",
    "plot_widget = bv_f.build_lineage_widget()\n",
    "viewer.window.add_dock_widget(plot_widget,area='bottom',name='family')"
   ]
  },
  {
   "cell_type": "code",
   "execution_count": 99,
   "id": "3f8816c0",
   "metadata": {},
   "outputs": [],
   "source": [
    "plot_widget.clear()"
   ]
  },
  {
   "cell_type": "code",
   "execution_count": 68,
   "id": "da1a2304",
   "metadata": {},
   "outputs": [],
   "source": [
    "plot_view.clear()"
   ]
  },
  {
   "cell_type": "code",
   "execution_count": 47,
   "id": "c5e6e667",
   "metadata": {},
   "outputs": [],
   "source": [
    "def node_info(track_ind,df):\n",
    "    \n",
    "    node_t = df.loc[df.track_id==track_ind,'t']\n",
    "    node_start = np.min(node_t)\n",
    "    node_stop = np.max(node_t)\n",
    "    \n",
    "    return node_start,node_stop\n",
    "\n",
    "def generate_tree_min(paths,df):\n",
    "\n",
    "    '''\n",
    "    Function that changes paths into a Newick tree \n",
    "    '''\n",
    "    \n",
    "    t=Tree()\n",
    "\n",
    "    n = 1\n",
    "    node_list = []\n",
    "\n",
    "    for sub in paths:\n",
    "\n",
    "        # creating a root\n",
    "        if (len(sub)==1):\n",
    "\n",
    "            node_start,node_stop = node_info(sub[0],df)\n",
    "            node_life = node_stop - node_start\n",
    "\n",
    "            # add empty trunk\n",
    "            if node_start > 0:\n",
    "\n",
    "                t.dist = node_start\n",
    "\n",
    "            else:\n",
    "\n",
    "                t.dist = 0  \n",
    "\n",
    "            temp = t.add_child(name=sub[0],dist=node_life)\n",
    "            exec(f'n{sub[0]} = temp')\n",
    "            exec(f'n{sub[0]}.add_feature(\"start\", {node_start})')\n",
    "            exec(f'n{sub[0]}.add_feature(\"stop\", {node_stop})')\n",
    "            exec(f'n{sub[0]}.add_feature(\"n\", {n})')\n",
    "\n",
    "            node_list.append(sub[0])\n",
    "            n=n+1\n",
    "\n",
    "\n",
    "        if (len(sub)>1):\n",
    "            for node in sub[1:]:\n",
    "\n",
    "                if not(node in node_list):\n",
    "\n",
    "                    node_start,node_stop = node_info(node,df)\n",
    "                    node_life = node_stop-node_start\n",
    "\n",
    "                    exec(f'n{node}=n{sub[0]}.add_child(name={node},dist={node_life})')\n",
    "                    exec(f'n{node}.add_feature(\"start\", {node_start})')\n",
    "                    exec(f'n{node}.add_feature(\"stop\", {node_stop})')\n",
    "                    exec(f'n{node}.add_feature(\"n\", {n})')\n",
    "                    \n",
    "\n",
    "                    node_list.append(node)\n",
    "                    n=n+1\n",
    "\n",
    "    return t"
   ]
  },
  {
   "cell_type": "code",
   "execution_count": 87,
   "id": "1be4a1a3",
   "metadata": {},
   "outputs": [],
   "source": [
    "plot_view.clear()"
   ]
  },
  {
   "cell_type": "code",
   "execution_count": 88,
   "id": "1a953c2d",
   "metadata": {},
   "outputs": [],
   "source": [
    "current_track = 146\n",
    "\n"
   ]
  },
  {
   "cell_type": "code",
   "execution_count": 89,
   "id": "f362a003",
   "metadata": {},
   "outputs": [],
   "source": [
    "def add_y_rendering(t,t_rendering):\n",
    "\n",
    "    for n in t.traverse():\n",
    "\n",
    "        if n.is_root():\n",
    "            pass\n",
    "        else:\n",
    "            y1 = t_rendering['node_areas'][n.n][1]\n",
    "            y2 = t_rendering['node_areas'][n.n][3]\n",
    "            y = (y1+y2)/2\n",
    "            n.add_feature('y',y)\n",
    "            \n",
    "        return t"
   ]
  },
  {
   "cell_type": "code",
   "execution_count": 83,
   "id": "a40222f2",
   "metadata": {},
   "outputs": [
    {
     "name": "stdout",
     "output_type": "stream",
     "text": [
      "[Tree node '146' (-0x7fffffe45d20cdf4)]\n",
      "[Tree node '181' (-0x7fffffe45d262478)]\n",
      "[]\n"
     ]
    }
   ],
   "source": [
    "for n in t.traverse():\n",
    "    \n",
    "    print(n.children)"
   ]
  },
  {
   "cell_type": "code",
   "execution_count": 104,
   "id": "1023eb51",
   "metadata": {},
   "outputs": [
    {
     "data": {
      "text/plain": [
       "220.0"
      ]
     },
     "execution_count": 104,
     "metadata": {},
     "output_type": "execute_result"
    }
   ],
   "source": [
    "viewer.dims.range[0][1]"
   ]
  },
  {
   "cell_type": "code",
   "execution_count": 90,
   "id": "81afb290",
   "metadata": {},
   "outputs": [],
   "source": []
  },
  {
   "cell_type": "code",
   "execution_count": 40,
   "id": "006bc5fa",
   "metadata": {},
   "outputs": [],
   "source": [
    "for key in list(test['node_areas'].keys())[1:]:\n",
    "    \n",
    "    # name of the node\n",
    "    node_name = int(test['faces'][key*2][5])\n",
    "    \n",
    "    # get position in time\n",
    "    t_axis = df.loc[df.track_id==node_name,'t']\n",
    "    x1 = np.min(t_axis)\n",
    "    x2 = np.max(t_axis)\n",
    "    x_signal = [x1,x2]\n",
    "    \n",
    "    # get rendered position (y axis)\n",
    "    y1 = test['node_areas'][key][1]\n",
    "    y2 = test['node_areas'][key][3]\n",
    "    y = (y1+y2)/2\n",
    "    y_signal = [y,y]\n",
    "\n",
    "    label_color = labels_layer.get_color(node_name)\n",
    "    pen = pg.mkPen(color=pg.mkColor((label_color*255).astype(int)),width=5)\n",
    "    \n",
    "    plot_view.plot(x_signal, y_signal,pen=pen)\n",
    "    \n",
    "    text_item = pg.TextItem(str(node_name))\n",
    "    plot_view.addItem(text_item)\n",
    "    text_item.setPos(x2,y)\n",
    "    \n",
    "\n",
    "t_max = np.max(df.t)\n",
    "plot_view.setXRange(0, t_max)"
   ]
  },
  {
   "cell_type": "code",
   "execution_count": 28,
   "id": "a11f8baa",
   "metadata": {},
   "outputs": [
    {
     "name": "stdout",
     "output_type": "stream",
     "text": [
      "None\n",
      "\n",
      "      /-651\n",
      "-- /-|\n",
      "      \\-660\n",
      "\n",
      "   /-651\n",
      "--|\n",
      "   \\-660\n",
      "\n",
      "   /-651\n",
      "--|\n",
      "   \\-660\n"
     ]
    }
   ],
   "source": [
    "for n in t.traverse():\n",
    "    \n",
    "    print(n.up)"
   ]
  },
  {
   "cell_type": "code",
   "execution_count": null,
   "id": "bdd73fe0",
   "metadata": {},
   "outputs": [
    {
     "ename": "KeyboardInterrupt",
     "evalue": "",
     "output_type": "error",
     "traceback": [
      "\u001b[1;31m---------------------------------------------------------------------------\u001b[0m",
      "\u001b[1;31mKeyboardInterrupt\u001b[0m                         Traceback (most recent call last)",
      "\u001b[1;32mC:\\ProgramData\\Anaconda3\\envs\\cellpose\\lib\\site-packages\\pyqtgraph\\examples\\ExampleApp.py\u001b[0m in \u001b[0;36mshowFile\u001b[1;34m(self)\u001b[0m\n\u001b[0;32m    371\u001b[0m                 \u001b[0mos\u001b[0m\u001b[1;33m.\u001b[0m\u001b[0mspawnle\u001b[0m\u001b[1;33m(\u001b[0m\u001b[1;33m*\u001b[0m\u001b[0margs\u001b[0m\u001b[1;33m)\u001b[0m\u001b[1;33m\u001b[0m\u001b[1;33m\u001b[0m\u001b[0m\n\u001b[0;32m    372\u001b[0m \u001b[1;33m\u001b[0m\u001b[0m\n\u001b[1;32m--> 373\u001b[1;33m     \u001b[1;32mdef\u001b[0m \u001b[0mshowFile\u001b[0m\u001b[1;33m(\u001b[0m\u001b[0mself\u001b[0m\u001b[1;33m)\u001b[0m\u001b[1;33m:\u001b[0m\u001b[1;33m\u001b[0m\u001b[1;33m\u001b[0m\u001b[0m\n\u001b[0m\u001b[0;32m    374\u001b[0m         \u001b[0mfn\u001b[0m \u001b[1;33m=\u001b[0m \u001b[0mself\u001b[0m\u001b[1;33m.\u001b[0m\u001b[0mcurrentFile\u001b[0m\u001b[1;33m(\u001b[0m\u001b[1;33m)\u001b[0m\u001b[1;33m\u001b[0m\u001b[1;33m\u001b[0m\u001b[0m\n\u001b[0;32m    375\u001b[0m         \u001b[1;32mif\u001b[0m \u001b[0mfn\u001b[0m \u001b[1;32mis\u001b[0m \u001b[1;32mNone\u001b[0m\u001b[1;33m:\u001b[0m\u001b[1;33m\u001b[0m\u001b[1;33m\u001b[0m\u001b[0m\n",
      "\u001b[1;31mKeyboardInterrupt\u001b[0m: "
     ]
    },
    {
     "ename": "KeyboardInterrupt",
     "evalue": "",
     "output_type": "error",
     "traceback": [
      "\u001b[1;31m---------------------------------------------------------------------------\u001b[0m",
      "\u001b[1;31mKeyboardInterrupt\u001b[0m                         Traceback (most recent call last)",
      "\u001b[1;32mC:\\ProgramData\\Anaconda3\\envs\\cellpose\\lib\\site-packages\\napari\\_qt\\qt_main_window.py\u001b[0m in \u001b[0;36mevent\u001b[1;34m(self, e)\u001b[0m\n\u001b[0;32m    114\u001b[0m         \u001b[1;32mreturn\u001b[0m \u001b[0mcls\u001b[0m\u001b[1;33m.\u001b[0m\u001b[0m_instances\u001b[0m\u001b[1;33m[\u001b[0m\u001b[1;33m-\u001b[0m\u001b[1;36m1\u001b[0m\u001b[1;33m]\u001b[0m \u001b[1;32mif\u001b[0m \u001b[0mcls\u001b[0m\u001b[1;33m.\u001b[0m\u001b[0m_instances\u001b[0m \u001b[1;32melse\u001b[0m \u001b[1;32mNone\u001b[0m\u001b[1;33m\u001b[0m\u001b[1;33m\u001b[0m\u001b[0m\n\u001b[0;32m    115\u001b[0m \u001b[1;33m\u001b[0m\u001b[0m\n\u001b[1;32m--> 116\u001b[1;33m     \u001b[1;32mdef\u001b[0m \u001b[0mevent\u001b[0m\u001b[1;33m(\u001b[0m\u001b[0mself\u001b[0m\u001b[1;33m,\u001b[0m \u001b[0me\u001b[0m\u001b[1;33m)\u001b[0m\u001b[1;33m:\u001b[0m\u001b[1;33m\u001b[0m\u001b[1;33m\u001b[0m\u001b[0m\n\u001b[0m\u001b[0;32m    117\u001b[0m         \u001b[1;32mif\u001b[0m \u001b[0me\u001b[0m\u001b[1;33m.\u001b[0m\u001b[0mtype\u001b[0m\u001b[1;33m(\u001b[0m\u001b[1;33m)\u001b[0m \u001b[1;33m==\u001b[0m \u001b[0mQEvent\u001b[0m\u001b[1;33m.\u001b[0m\u001b[0mClose\u001b[0m\u001b[1;33m:\u001b[0m\u001b[1;33m\u001b[0m\u001b[1;33m\u001b[0m\u001b[0m\n\u001b[0;32m    118\u001b[0m             \u001b[1;31m# when we close the MainWindow, remove it from the instances list\u001b[0m\u001b[1;33m\u001b[0m\u001b[1;33m\u001b[0m\u001b[1;33m\u001b[0m\u001b[0m\n",
      "\u001b[1;31mKeyboardInterrupt\u001b[0m: "
     ]
    }
   ],
   "source": [
    "import pyqtgraph.examples\n",
    "pyqtgraph.examples.run()"
   ]
  },
  {
   "cell_type": "code",
   "execution_count": 22,
   "id": "69c2884a",
   "metadata": {},
   "outputs": [],
   "source": [
    "current_track = 651\n",
    "\n",
    "# find graph for everyone\n",
    "_,_,graph = gen.trackData_from_df(df,col_list = ['track_id'])\n",
    "\n",
    "# find the root\n",
    "my_root = int(list(df.loc[df.track_id==current_track,'root'])[0])\n",
    "paths=gen.find_all_paths(graph,my_root)\n",
    "\n",
    "# generate the family tree\n",
    "t = my_napari.generate_tree(paths,df)\n",
    "\n",
    "def mylayout(node):\n",
    "\n",
    "    node_name = faces.TextFace(node.name,fsize=2)\n",
    "    faces.add_face_to_node(node_name, node, column=0,position = \"branch-top\")"
   ]
  },
  {
   "cell_type": "code",
   "execution_count": null,
   "id": "102d9a68",
   "metadata": {},
   "outputs": [],
   "source": [
    "ts = TreeStyle()\n",
    "ts.show_branch_length = True\n",
    "ts.show_leaf_name = False\n",
    "ts.scale = 1 \n",
    "ts.layout_fn = mylayout\n",
    "test = t.show(tree_style=ts) \n",
    "test"
   ]
  },
  {
   "cell_type": "code",
   "execution_count": 19,
   "id": "a4e875e3",
   "metadata": {},
   "outputs": [
    {
     "name": "stdout",
     "output_type": "stream",
     "text": [
      "\n",
      "      /-651\n",
      "-- /-|\n",
      "      \\-660\n"
     ]
    }
   ],
   "source": [
    "print(t)"
   ]
  },
  {
   "cell_type": "code",
   "execution_count": 26,
   "id": "5763b58d",
   "metadata": {},
   "outputs": [
    {
     "name": "stdout",
     "output_type": "stream",
     "text": [
      "\n",
      "132\n",
      "651\n",
      "660\n"
     ]
    }
   ],
   "source": [
    "for n in t.traverse():\n",
    "    \n",
    "    print(n.name)"
   ]
  },
  {
   "cell_type": "code",
   "execution_count": 30,
   "id": "8c0b38ab",
   "metadata": {},
   "outputs": [
    {
     "data": {
      "application/javascript": [
       "/* Put everything inside the global mpl namespace */\n",
       "/* global mpl */\n",
       "window.mpl = {};\n",
       "\n",
       "mpl.get_websocket_type = function () {\n",
       "    if (typeof WebSocket !== 'undefined') {\n",
       "        return WebSocket;\n",
       "    } else if (typeof MozWebSocket !== 'undefined') {\n",
       "        return MozWebSocket;\n",
       "    } else {\n",
       "        alert(\n",
       "            'Your browser does not have WebSocket support. ' +\n",
       "                'Please try Chrome, Safari or Firefox ≥ 6. ' +\n",
       "                'Firefox 4 and 5 are also supported but you ' +\n",
       "                'have to enable WebSockets in about:config.'\n",
       "        );\n",
       "    }\n",
       "};\n",
       "\n",
       "mpl.figure = function (figure_id, websocket, ondownload, parent_element) {\n",
       "    this.id = figure_id;\n",
       "\n",
       "    this.ws = websocket;\n",
       "\n",
       "    this.supports_binary = this.ws.binaryType !== undefined;\n",
       "\n",
       "    if (!this.supports_binary) {\n",
       "        var warnings = document.getElementById('mpl-warnings');\n",
       "        if (warnings) {\n",
       "            warnings.style.display = 'block';\n",
       "            warnings.textContent =\n",
       "                'This browser does not support binary websocket messages. ' +\n",
       "                'Performance may be slow.';\n",
       "        }\n",
       "    }\n",
       "\n",
       "    this.imageObj = new Image();\n",
       "\n",
       "    this.context = undefined;\n",
       "    this.message = undefined;\n",
       "    this.canvas = undefined;\n",
       "    this.rubberband_canvas = undefined;\n",
       "    this.rubberband_context = undefined;\n",
       "    this.format_dropdown = undefined;\n",
       "\n",
       "    this.image_mode = 'full';\n",
       "\n",
       "    this.root = document.createElement('div');\n",
       "    this.root.setAttribute('style', 'display: inline-block');\n",
       "    this._root_extra_style(this.root);\n",
       "\n",
       "    parent_element.appendChild(this.root);\n",
       "\n",
       "    this._init_header(this);\n",
       "    this._init_canvas(this);\n",
       "    this._init_toolbar(this);\n",
       "\n",
       "    var fig = this;\n",
       "\n",
       "    this.waiting = false;\n",
       "\n",
       "    this.ws.onopen = function () {\n",
       "        fig.send_message('supports_binary', { value: fig.supports_binary });\n",
       "        fig.send_message('send_image_mode', {});\n",
       "        if (fig.ratio !== 1) {\n",
       "            fig.send_message('set_dpi_ratio', { dpi_ratio: fig.ratio });\n",
       "        }\n",
       "        fig.send_message('refresh', {});\n",
       "    };\n",
       "\n",
       "    this.imageObj.onload = function () {\n",
       "        if (fig.image_mode === 'full') {\n",
       "            // Full images could contain transparency (where diff images\n",
       "            // almost always do), so we need to clear the canvas so that\n",
       "            // there is no ghosting.\n",
       "            fig.context.clearRect(0, 0, fig.canvas.width, fig.canvas.height);\n",
       "        }\n",
       "        fig.context.drawImage(fig.imageObj, 0, 0);\n",
       "    };\n",
       "\n",
       "    this.imageObj.onunload = function () {\n",
       "        fig.ws.close();\n",
       "    };\n",
       "\n",
       "    this.ws.onmessage = this._make_on_message_function(this);\n",
       "\n",
       "    this.ondownload = ondownload;\n",
       "};\n",
       "\n",
       "mpl.figure.prototype._init_header = function () {\n",
       "    var titlebar = document.createElement('div');\n",
       "    titlebar.classList =\n",
       "        'ui-dialog-titlebar ui-widget-header ui-corner-all ui-helper-clearfix';\n",
       "    var titletext = document.createElement('div');\n",
       "    titletext.classList = 'ui-dialog-title';\n",
       "    titletext.setAttribute(\n",
       "        'style',\n",
       "        'width: 100%; text-align: center; padding: 3px;'\n",
       "    );\n",
       "    titlebar.appendChild(titletext);\n",
       "    this.root.appendChild(titlebar);\n",
       "    this.header = titletext;\n",
       "};\n",
       "\n",
       "mpl.figure.prototype._canvas_extra_style = function (_canvas_div) {};\n",
       "\n",
       "mpl.figure.prototype._root_extra_style = function (_canvas_div) {};\n",
       "\n",
       "mpl.figure.prototype._init_canvas = function () {\n",
       "    var fig = this;\n",
       "\n",
       "    var canvas_div = (this.canvas_div = document.createElement('div'));\n",
       "    canvas_div.setAttribute(\n",
       "        'style',\n",
       "        'border: 1px solid #ddd;' +\n",
       "            'box-sizing: content-box;' +\n",
       "            'clear: both;' +\n",
       "            'min-height: 1px;' +\n",
       "            'min-width: 1px;' +\n",
       "            'outline: 0;' +\n",
       "            'overflow: hidden;' +\n",
       "            'position: relative;' +\n",
       "            'resize: both;'\n",
       "    );\n",
       "\n",
       "    function on_keyboard_event_closure(name) {\n",
       "        return function (event) {\n",
       "            return fig.key_event(event, name);\n",
       "        };\n",
       "    }\n",
       "\n",
       "    canvas_div.addEventListener(\n",
       "        'keydown',\n",
       "        on_keyboard_event_closure('key_press')\n",
       "    );\n",
       "    canvas_div.addEventListener(\n",
       "        'keyup',\n",
       "        on_keyboard_event_closure('key_release')\n",
       "    );\n",
       "\n",
       "    this._canvas_extra_style(canvas_div);\n",
       "    this.root.appendChild(canvas_div);\n",
       "\n",
       "    var canvas = (this.canvas = document.createElement('canvas'));\n",
       "    canvas.classList.add('mpl-canvas');\n",
       "    canvas.setAttribute('style', 'box-sizing: content-box;');\n",
       "\n",
       "    this.context = canvas.getContext('2d');\n",
       "\n",
       "    var backingStore =\n",
       "        this.context.backingStorePixelRatio ||\n",
       "        this.context.webkitBackingStorePixelRatio ||\n",
       "        this.context.mozBackingStorePixelRatio ||\n",
       "        this.context.msBackingStorePixelRatio ||\n",
       "        this.context.oBackingStorePixelRatio ||\n",
       "        this.context.backingStorePixelRatio ||\n",
       "        1;\n",
       "\n",
       "    this.ratio = (window.devicePixelRatio || 1) / backingStore;\n",
       "\n",
       "    var rubberband_canvas = (this.rubberband_canvas = document.createElement(\n",
       "        'canvas'\n",
       "    ));\n",
       "    rubberband_canvas.setAttribute(\n",
       "        'style',\n",
       "        'box-sizing: content-box; position: absolute; left: 0; top: 0; z-index: 1;'\n",
       "    );\n",
       "\n",
       "    // Apply a ponyfill if ResizeObserver is not implemented by browser.\n",
       "    if (this.ResizeObserver === undefined) {\n",
       "        if (window.ResizeObserver !== undefined) {\n",
       "            this.ResizeObserver = window.ResizeObserver;\n",
       "        } else {\n",
       "            var obs = _JSXTOOLS_RESIZE_OBSERVER({});\n",
       "            this.ResizeObserver = obs.ResizeObserver;\n",
       "        }\n",
       "    }\n",
       "\n",
       "    this.resizeObserverInstance = new this.ResizeObserver(function (entries) {\n",
       "        var nentries = entries.length;\n",
       "        for (var i = 0; i < nentries; i++) {\n",
       "            var entry = entries[i];\n",
       "            var width, height;\n",
       "            if (entry.contentBoxSize) {\n",
       "                if (entry.contentBoxSize instanceof Array) {\n",
       "                    // Chrome 84 implements new version of spec.\n",
       "                    width = entry.contentBoxSize[0].inlineSize;\n",
       "                    height = entry.contentBoxSize[0].blockSize;\n",
       "                } else {\n",
       "                    // Firefox implements old version of spec.\n",
       "                    width = entry.contentBoxSize.inlineSize;\n",
       "                    height = entry.contentBoxSize.blockSize;\n",
       "                }\n",
       "            } else {\n",
       "                // Chrome <84 implements even older version of spec.\n",
       "                width = entry.contentRect.width;\n",
       "                height = entry.contentRect.height;\n",
       "            }\n",
       "\n",
       "            // Keep the size of the canvas and rubber band canvas in sync with\n",
       "            // the canvas container.\n",
       "            if (entry.devicePixelContentBoxSize) {\n",
       "                // Chrome 84 implements new version of spec.\n",
       "                canvas.setAttribute(\n",
       "                    'width',\n",
       "                    entry.devicePixelContentBoxSize[0].inlineSize\n",
       "                );\n",
       "                canvas.setAttribute(\n",
       "                    'height',\n",
       "                    entry.devicePixelContentBoxSize[0].blockSize\n",
       "                );\n",
       "            } else {\n",
       "                canvas.setAttribute('width', width * fig.ratio);\n",
       "                canvas.setAttribute('height', height * fig.ratio);\n",
       "            }\n",
       "            canvas.setAttribute(\n",
       "                'style',\n",
       "                'width: ' + width + 'px; height: ' + height + 'px;'\n",
       "            );\n",
       "\n",
       "            rubberband_canvas.setAttribute('width', width);\n",
       "            rubberband_canvas.setAttribute('height', height);\n",
       "\n",
       "            // And update the size in Python. We ignore the initial 0/0 size\n",
       "            // that occurs as the element is placed into the DOM, which should\n",
       "            // otherwise not happen due to the minimum size styling.\n",
       "            if (fig.ws.readyState == 1 && width != 0 && height != 0) {\n",
       "                fig.request_resize(width, height);\n",
       "            }\n",
       "        }\n",
       "    });\n",
       "    this.resizeObserverInstance.observe(canvas_div);\n",
       "\n",
       "    function on_mouse_event_closure(name) {\n",
       "        return function (event) {\n",
       "            return fig.mouse_event(event, name);\n",
       "        };\n",
       "    }\n",
       "\n",
       "    rubberband_canvas.addEventListener(\n",
       "        'mousedown',\n",
       "        on_mouse_event_closure('button_press')\n",
       "    );\n",
       "    rubberband_canvas.addEventListener(\n",
       "        'mouseup',\n",
       "        on_mouse_event_closure('button_release')\n",
       "    );\n",
       "    rubberband_canvas.addEventListener(\n",
       "        'dblclick',\n",
       "        on_mouse_event_closure('dblclick')\n",
       "    );\n",
       "    // Throttle sequential mouse events to 1 every 20ms.\n",
       "    rubberband_canvas.addEventListener(\n",
       "        'mousemove',\n",
       "        on_mouse_event_closure('motion_notify')\n",
       "    );\n",
       "\n",
       "    rubberband_canvas.addEventListener(\n",
       "        'mouseenter',\n",
       "        on_mouse_event_closure('figure_enter')\n",
       "    );\n",
       "    rubberband_canvas.addEventListener(\n",
       "        'mouseleave',\n",
       "        on_mouse_event_closure('figure_leave')\n",
       "    );\n",
       "\n",
       "    canvas_div.addEventListener('wheel', function (event) {\n",
       "        if (event.deltaY < 0) {\n",
       "            event.step = 1;\n",
       "        } else {\n",
       "            event.step = -1;\n",
       "        }\n",
       "        on_mouse_event_closure('scroll')(event);\n",
       "    });\n",
       "\n",
       "    canvas_div.appendChild(canvas);\n",
       "    canvas_div.appendChild(rubberband_canvas);\n",
       "\n",
       "    this.rubberband_context = rubberband_canvas.getContext('2d');\n",
       "    this.rubberband_context.strokeStyle = '#000000';\n",
       "\n",
       "    this._resize_canvas = function (width, height, forward) {\n",
       "        if (forward) {\n",
       "            canvas_div.style.width = width + 'px';\n",
       "            canvas_div.style.height = height + 'px';\n",
       "        }\n",
       "    };\n",
       "\n",
       "    // Disable right mouse context menu.\n",
       "    this.rubberband_canvas.addEventListener('contextmenu', function (_e) {\n",
       "        event.preventDefault();\n",
       "        return false;\n",
       "    });\n",
       "\n",
       "    function set_focus() {\n",
       "        canvas.focus();\n",
       "        canvas_div.focus();\n",
       "    }\n",
       "\n",
       "    window.setTimeout(set_focus, 100);\n",
       "};\n",
       "\n",
       "mpl.figure.prototype._init_toolbar = function () {\n",
       "    var fig = this;\n",
       "\n",
       "    var toolbar = document.createElement('div');\n",
       "    toolbar.classList = 'mpl-toolbar';\n",
       "    this.root.appendChild(toolbar);\n",
       "\n",
       "    function on_click_closure(name) {\n",
       "        return function (_event) {\n",
       "            return fig.toolbar_button_onclick(name);\n",
       "        };\n",
       "    }\n",
       "\n",
       "    function on_mouseover_closure(tooltip) {\n",
       "        return function (event) {\n",
       "            if (!event.currentTarget.disabled) {\n",
       "                return fig.toolbar_button_onmouseover(tooltip);\n",
       "            }\n",
       "        };\n",
       "    }\n",
       "\n",
       "    fig.buttons = {};\n",
       "    var buttonGroup = document.createElement('div');\n",
       "    buttonGroup.classList = 'mpl-button-group';\n",
       "    for (var toolbar_ind in mpl.toolbar_items) {\n",
       "        var name = mpl.toolbar_items[toolbar_ind][0];\n",
       "        var tooltip = mpl.toolbar_items[toolbar_ind][1];\n",
       "        var image = mpl.toolbar_items[toolbar_ind][2];\n",
       "        var method_name = mpl.toolbar_items[toolbar_ind][3];\n",
       "\n",
       "        if (!name) {\n",
       "            /* Instead of a spacer, we start a new button group. */\n",
       "            if (buttonGroup.hasChildNodes()) {\n",
       "                toolbar.appendChild(buttonGroup);\n",
       "            }\n",
       "            buttonGroup = document.createElement('div');\n",
       "            buttonGroup.classList = 'mpl-button-group';\n",
       "            continue;\n",
       "        }\n",
       "\n",
       "        var button = (fig.buttons[name] = document.createElement('button'));\n",
       "        button.classList = 'mpl-widget';\n",
       "        button.setAttribute('role', 'button');\n",
       "        button.setAttribute('aria-disabled', 'false');\n",
       "        button.addEventListener('click', on_click_closure(method_name));\n",
       "        button.addEventListener('mouseover', on_mouseover_closure(tooltip));\n",
       "\n",
       "        var icon_img = document.createElement('img');\n",
       "        icon_img.src = '_images/' + image + '.png';\n",
       "        icon_img.srcset = '_images/' + image + '_large.png 2x';\n",
       "        icon_img.alt = tooltip;\n",
       "        button.appendChild(icon_img);\n",
       "\n",
       "        buttonGroup.appendChild(button);\n",
       "    }\n",
       "\n",
       "    if (buttonGroup.hasChildNodes()) {\n",
       "        toolbar.appendChild(buttonGroup);\n",
       "    }\n",
       "\n",
       "    var fmt_picker = document.createElement('select');\n",
       "    fmt_picker.classList = 'mpl-widget';\n",
       "    toolbar.appendChild(fmt_picker);\n",
       "    this.format_dropdown = fmt_picker;\n",
       "\n",
       "    for (var ind in mpl.extensions) {\n",
       "        var fmt = mpl.extensions[ind];\n",
       "        var option = document.createElement('option');\n",
       "        option.selected = fmt === mpl.default_extension;\n",
       "        option.innerHTML = fmt;\n",
       "        fmt_picker.appendChild(option);\n",
       "    }\n",
       "\n",
       "    var status_bar = document.createElement('span');\n",
       "    status_bar.classList = 'mpl-message';\n",
       "    toolbar.appendChild(status_bar);\n",
       "    this.message = status_bar;\n",
       "};\n",
       "\n",
       "mpl.figure.prototype.request_resize = function (x_pixels, y_pixels) {\n",
       "    // Request matplotlib to resize the figure. Matplotlib will then trigger a resize in the client,\n",
       "    // which will in turn request a refresh of the image.\n",
       "    this.send_message('resize', { width: x_pixels, height: y_pixels });\n",
       "};\n",
       "\n",
       "mpl.figure.prototype.send_message = function (type, properties) {\n",
       "    properties['type'] = type;\n",
       "    properties['figure_id'] = this.id;\n",
       "    this.ws.send(JSON.stringify(properties));\n",
       "};\n",
       "\n",
       "mpl.figure.prototype.send_draw_message = function () {\n",
       "    if (!this.waiting) {\n",
       "        this.waiting = true;\n",
       "        this.ws.send(JSON.stringify({ type: 'draw', figure_id: this.id }));\n",
       "    }\n",
       "};\n",
       "\n",
       "mpl.figure.prototype.handle_save = function (fig, _msg) {\n",
       "    var format_dropdown = fig.format_dropdown;\n",
       "    var format = format_dropdown.options[format_dropdown.selectedIndex].value;\n",
       "    fig.ondownload(fig, format);\n",
       "};\n",
       "\n",
       "mpl.figure.prototype.handle_resize = function (fig, msg) {\n",
       "    var size = msg['size'];\n",
       "    if (size[0] !== fig.canvas.width || size[1] !== fig.canvas.height) {\n",
       "        fig._resize_canvas(size[0], size[1], msg['forward']);\n",
       "        fig.send_message('refresh', {});\n",
       "    }\n",
       "};\n",
       "\n",
       "mpl.figure.prototype.handle_rubberband = function (fig, msg) {\n",
       "    var x0 = msg['x0'] / fig.ratio;\n",
       "    var y0 = (fig.canvas.height - msg['y0']) / fig.ratio;\n",
       "    var x1 = msg['x1'] / fig.ratio;\n",
       "    var y1 = (fig.canvas.height - msg['y1']) / fig.ratio;\n",
       "    x0 = Math.floor(x0) + 0.5;\n",
       "    y0 = Math.floor(y0) + 0.5;\n",
       "    x1 = Math.floor(x1) + 0.5;\n",
       "    y1 = Math.floor(y1) + 0.5;\n",
       "    var min_x = Math.min(x0, x1);\n",
       "    var min_y = Math.min(y0, y1);\n",
       "    var width = Math.abs(x1 - x0);\n",
       "    var height = Math.abs(y1 - y0);\n",
       "\n",
       "    fig.rubberband_context.clearRect(\n",
       "        0,\n",
       "        0,\n",
       "        fig.canvas.width / fig.ratio,\n",
       "        fig.canvas.height / fig.ratio\n",
       "    );\n",
       "\n",
       "    fig.rubberband_context.strokeRect(min_x, min_y, width, height);\n",
       "};\n",
       "\n",
       "mpl.figure.prototype.handle_figure_label = function (fig, msg) {\n",
       "    // Updates the figure title.\n",
       "    fig.header.textContent = msg['label'];\n",
       "};\n",
       "\n",
       "mpl.figure.prototype.handle_cursor = function (fig, msg) {\n",
       "    var cursor = msg['cursor'];\n",
       "    switch (cursor) {\n",
       "        case 0:\n",
       "            cursor = 'pointer';\n",
       "            break;\n",
       "        case 1:\n",
       "            cursor = 'default';\n",
       "            break;\n",
       "        case 2:\n",
       "            cursor = 'crosshair';\n",
       "            break;\n",
       "        case 3:\n",
       "            cursor = 'move';\n",
       "            break;\n",
       "    }\n",
       "    fig.rubberband_canvas.style.cursor = cursor;\n",
       "};\n",
       "\n",
       "mpl.figure.prototype.handle_message = function (fig, msg) {\n",
       "    fig.message.textContent = msg['message'];\n",
       "};\n",
       "\n",
       "mpl.figure.prototype.handle_draw = function (fig, _msg) {\n",
       "    // Request the server to send over a new figure.\n",
       "    fig.send_draw_message();\n",
       "};\n",
       "\n",
       "mpl.figure.prototype.handle_image_mode = function (fig, msg) {\n",
       "    fig.image_mode = msg['mode'];\n",
       "};\n",
       "\n",
       "mpl.figure.prototype.handle_history_buttons = function (fig, msg) {\n",
       "    for (var key in msg) {\n",
       "        if (!(key in fig.buttons)) {\n",
       "            continue;\n",
       "        }\n",
       "        fig.buttons[key].disabled = !msg[key];\n",
       "        fig.buttons[key].setAttribute('aria-disabled', !msg[key]);\n",
       "    }\n",
       "};\n",
       "\n",
       "mpl.figure.prototype.handle_navigate_mode = function (fig, msg) {\n",
       "    if (msg['mode'] === 'PAN') {\n",
       "        fig.buttons['Pan'].classList.add('active');\n",
       "        fig.buttons['Zoom'].classList.remove('active');\n",
       "    } else if (msg['mode'] === 'ZOOM') {\n",
       "        fig.buttons['Pan'].classList.remove('active');\n",
       "        fig.buttons['Zoom'].classList.add('active');\n",
       "    } else {\n",
       "        fig.buttons['Pan'].classList.remove('active');\n",
       "        fig.buttons['Zoom'].classList.remove('active');\n",
       "    }\n",
       "};\n",
       "\n",
       "mpl.figure.prototype.updated_canvas_event = function () {\n",
       "    // Called whenever the canvas gets updated.\n",
       "    this.send_message('ack', {});\n",
       "};\n",
       "\n",
       "// A function to construct a web socket function for onmessage handling.\n",
       "// Called in the figure constructor.\n",
       "mpl.figure.prototype._make_on_message_function = function (fig) {\n",
       "    return function socket_on_message(evt) {\n",
       "        if (evt.data instanceof Blob) {\n",
       "            var img = evt.data;\n",
       "            if (img.type !== 'image/png') {\n",
       "                /* FIXME: We get \"Resource interpreted as Image but\n",
       "                 * transferred with MIME type text/plain:\" errors on\n",
       "                 * Chrome.  But how to set the MIME type?  It doesn't seem\n",
       "                 * to be part of the websocket stream */\n",
       "                img.type = 'image/png';\n",
       "            }\n",
       "\n",
       "            /* Free the memory for the previous frames */\n",
       "            if (fig.imageObj.src) {\n",
       "                (window.URL || window.webkitURL).revokeObjectURL(\n",
       "                    fig.imageObj.src\n",
       "                );\n",
       "            }\n",
       "\n",
       "            fig.imageObj.src = (window.URL || window.webkitURL).createObjectURL(\n",
       "                img\n",
       "            );\n",
       "            fig.updated_canvas_event();\n",
       "            fig.waiting = false;\n",
       "            return;\n",
       "        } else if (\n",
       "            typeof evt.data === 'string' &&\n",
       "            evt.data.slice(0, 21) === 'data:image/png;base64'\n",
       "        ) {\n",
       "            fig.imageObj.src = evt.data;\n",
       "            fig.updated_canvas_event();\n",
       "            fig.waiting = false;\n",
       "            return;\n",
       "        }\n",
       "\n",
       "        var msg = JSON.parse(evt.data);\n",
       "        var msg_type = msg['type'];\n",
       "\n",
       "        // Call the  \"handle_{type}\" callback, which takes\n",
       "        // the figure and JSON message as its only arguments.\n",
       "        try {\n",
       "            var callback = fig['handle_' + msg_type];\n",
       "        } catch (e) {\n",
       "            console.log(\n",
       "                \"No handler for the '\" + msg_type + \"' message type: \",\n",
       "                msg\n",
       "            );\n",
       "            return;\n",
       "        }\n",
       "\n",
       "        if (callback) {\n",
       "            try {\n",
       "                // console.log(\"Handling '\" + msg_type + \"' message: \", msg);\n",
       "                callback(fig, msg);\n",
       "            } catch (e) {\n",
       "                console.log(\n",
       "                    \"Exception inside the 'handler_\" + msg_type + \"' callback:\",\n",
       "                    e,\n",
       "                    e.stack,\n",
       "                    msg\n",
       "                );\n",
       "            }\n",
       "        }\n",
       "    };\n",
       "};\n",
       "\n",
       "// from http://stackoverflow.com/questions/1114465/getting-mouse-location-in-canvas\n",
       "mpl.findpos = function (e) {\n",
       "    //this section is from http://www.quirksmode.org/js/events_properties.html\n",
       "    var targ;\n",
       "    if (!e) {\n",
       "        e = window.event;\n",
       "    }\n",
       "    if (e.target) {\n",
       "        targ = e.target;\n",
       "    } else if (e.srcElement) {\n",
       "        targ = e.srcElement;\n",
       "    }\n",
       "    if (targ.nodeType === 3) {\n",
       "        // defeat Safari bug\n",
       "        targ = targ.parentNode;\n",
       "    }\n",
       "\n",
       "    // pageX,Y are the mouse positions relative to the document\n",
       "    var boundingRect = targ.getBoundingClientRect();\n",
       "    var x = e.pageX - (boundingRect.left + document.body.scrollLeft);\n",
       "    var y = e.pageY - (boundingRect.top + document.body.scrollTop);\n",
       "\n",
       "    return { x: x, y: y };\n",
       "};\n",
       "\n",
       "/*\n",
       " * return a copy of an object with only non-object keys\n",
       " * we need this to avoid circular references\n",
       " * http://stackoverflow.com/a/24161582/3208463\n",
       " */\n",
       "function simpleKeys(original) {\n",
       "    return Object.keys(original).reduce(function (obj, key) {\n",
       "        if (typeof original[key] !== 'object') {\n",
       "            obj[key] = original[key];\n",
       "        }\n",
       "        return obj;\n",
       "    }, {});\n",
       "}\n",
       "\n",
       "mpl.figure.prototype.mouse_event = function (event, name) {\n",
       "    var canvas_pos = mpl.findpos(event);\n",
       "\n",
       "    if (name === 'button_press') {\n",
       "        this.canvas.focus();\n",
       "        this.canvas_div.focus();\n",
       "    }\n",
       "\n",
       "    var x = canvas_pos.x * this.ratio;\n",
       "    var y = canvas_pos.y * this.ratio;\n",
       "\n",
       "    this.send_message(name, {\n",
       "        x: x,\n",
       "        y: y,\n",
       "        button: event.button,\n",
       "        step: event.step,\n",
       "        guiEvent: simpleKeys(event),\n",
       "    });\n",
       "\n",
       "    /* This prevents the web browser from automatically changing to\n",
       "     * the text insertion cursor when the button is pressed.  We want\n",
       "     * to control all of the cursor setting manually through the\n",
       "     * 'cursor' event from matplotlib */\n",
       "    event.preventDefault();\n",
       "    return false;\n",
       "};\n",
       "\n",
       "mpl.figure.prototype._key_event_extra = function (_event, _name) {\n",
       "    // Handle any extra behaviour associated with a key event\n",
       "};\n",
       "\n",
       "mpl.figure.prototype.key_event = function (event, name) {\n",
       "    // Prevent repeat events\n",
       "    if (name === 'key_press') {\n",
       "        if (event.key === this._key) {\n",
       "            return;\n",
       "        } else {\n",
       "            this._key = event.key;\n",
       "        }\n",
       "    }\n",
       "    if (name === 'key_release') {\n",
       "        this._key = null;\n",
       "    }\n",
       "\n",
       "    var value = '';\n",
       "    if (event.ctrlKey && event.key !== 'Control') {\n",
       "        value += 'ctrl+';\n",
       "    }\n",
       "    else if (event.altKey && event.key !== 'Alt') {\n",
       "        value += 'alt+';\n",
       "    }\n",
       "    else if (event.shiftKey && event.key !== 'Shift') {\n",
       "        value += 'shift+';\n",
       "    }\n",
       "\n",
       "    value += 'k' + event.key;\n",
       "\n",
       "    this._key_event_extra(event, name);\n",
       "\n",
       "    this.send_message(name, { key: value, guiEvent: simpleKeys(event) });\n",
       "    return false;\n",
       "};\n",
       "\n",
       "mpl.figure.prototype.toolbar_button_onclick = function (name) {\n",
       "    if (name === 'download') {\n",
       "        this.handle_save(this, null);\n",
       "    } else {\n",
       "        this.send_message('toolbar_button', { name: name });\n",
       "    }\n",
       "};\n",
       "\n",
       "mpl.figure.prototype.toolbar_button_onmouseover = function (tooltip) {\n",
       "    this.message.textContent = tooltip;\n",
       "};\n",
       "\n",
       "///////////////// REMAINING CONTENT GENERATED BY embed_js.py /////////////////\n",
       "// prettier-ignore\n",
       "var _JSXTOOLS_RESIZE_OBSERVER=function(A){var t,i=new WeakMap,n=new WeakMap,a=new WeakMap,r=new WeakMap,o=new Set;function s(e){if(!(this instanceof s))throw new TypeError(\"Constructor requires 'new' operator\");i.set(this,e)}function h(){throw new TypeError(\"Function is not a constructor\")}function c(e,t,i,n){e=0 in arguments?Number(arguments[0]):0,t=1 in arguments?Number(arguments[1]):0,i=2 in arguments?Number(arguments[2]):0,n=3 in arguments?Number(arguments[3]):0,this.right=(this.x=this.left=e)+(this.width=i),this.bottom=(this.y=this.top=t)+(this.height=n),Object.freeze(this)}function d(){t=requestAnimationFrame(d);var s=new WeakMap,p=new Set;o.forEach((function(t){r.get(t).forEach((function(i){var r=t instanceof window.SVGElement,o=a.get(t),d=r?0:parseFloat(o.paddingTop),f=r?0:parseFloat(o.paddingRight),l=r?0:parseFloat(o.paddingBottom),u=r?0:parseFloat(o.paddingLeft),g=r?0:parseFloat(o.borderTopWidth),m=r?0:parseFloat(o.borderRightWidth),w=r?0:parseFloat(o.borderBottomWidth),b=u+f,F=d+l,v=(r?0:parseFloat(o.borderLeftWidth))+m,W=g+w,y=r?0:t.offsetHeight-W-t.clientHeight,E=r?0:t.offsetWidth-v-t.clientWidth,R=b+v,z=F+W,M=r?t.width:parseFloat(o.width)-R-E,O=r?t.height:parseFloat(o.height)-z-y;if(n.has(t)){var k=n.get(t);if(k[0]===M&&k[1]===O)return}n.set(t,[M,O]);var S=Object.create(h.prototype);S.target=t,S.contentRect=new c(u,d,M,O),s.has(i)||(s.set(i,[]),p.add(i)),s.get(i).push(S)}))})),p.forEach((function(e){i.get(e).call(e,s.get(e),e)}))}return s.prototype.observe=function(i){if(i instanceof window.Element){r.has(i)||(r.set(i,new Set),o.add(i),a.set(i,window.getComputedStyle(i)));var n=r.get(i);n.has(this)||n.add(this),cancelAnimationFrame(t),t=requestAnimationFrame(d)}},s.prototype.unobserve=function(i){if(i instanceof window.Element&&r.has(i)){var n=r.get(i);n.has(this)&&(n.delete(this),n.size||(r.delete(i),o.delete(i))),n.size||r.delete(i),o.size||cancelAnimationFrame(t)}},A.DOMRectReadOnly=c,A.ResizeObserver=s,A.ResizeObserverEntry=h,A}; // eslint-disable-line\n",
       "mpl.toolbar_items = [[\"Home\", \"Reset original view\", \"fa fa-home icon-home\", \"home\"], [\"Back\", \"Back to previous view\", \"fa fa-arrow-left icon-arrow-left\", \"back\"], [\"Forward\", \"Forward to next view\", \"fa fa-arrow-right icon-arrow-right\", \"forward\"], [\"\", \"\", \"\", \"\"], [\"Pan\", \"Left button pans, Right button zooms\\nx/y fixes axis, CTRL fixes aspect\", \"fa fa-arrows icon-move\", \"pan\"], [\"Zoom\", \"Zoom to rectangle\\nx/y fixes axis, CTRL fixes aspect\", \"fa fa-square-o icon-check-empty\", \"zoom\"], [\"\", \"\", \"\", \"\"], [\"Download\", \"Download plot\", \"fa fa-floppy-o icon-save\", \"download\"]];\n",
       "\n",
       "mpl.extensions = [\"eps\", \"jpeg\", \"pgf\", \"pdf\", \"png\", \"ps\", \"raw\", \"svg\", \"tif\"];\n",
       "\n",
       "mpl.default_extension = \"png\";/* global mpl */\n",
       "\n",
       "var comm_websocket_adapter = function (comm) {\n",
       "    // Create a \"websocket\"-like object which calls the given IPython comm\n",
       "    // object with the appropriate methods. Currently this is a non binary\n",
       "    // socket, so there is still some room for performance tuning.\n",
       "    var ws = {};\n",
       "\n",
       "    ws.binaryType = comm.kernel.ws.binaryType;\n",
       "    ws.readyState = comm.kernel.ws.readyState;\n",
       "    function updateReadyState(_event) {\n",
       "        if (comm.kernel.ws) {\n",
       "            ws.readyState = comm.kernel.ws.readyState;\n",
       "        } else {\n",
       "            ws.readyState = 3; // Closed state.\n",
       "        }\n",
       "    }\n",
       "    comm.kernel.ws.addEventListener('open', updateReadyState);\n",
       "    comm.kernel.ws.addEventListener('close', updateReadyState);\n",
       "    comm.kernel.ws.addEventListener('error', updateReadyState);\n",
       "\n",
       "    ws.close = function () {\n",
       "        comm.close();\n",
       "    };\n",
       "    ws.send = function (m) {\n",
       "        //console.log('sending', m);\n",
       "        comm.send(m);\n",
       "    };\n",
       "    // Register the callback with on_msg.\n",
       "    comm.on_msg(function (msg) {\n",
       "        //console.log('receiving', msg['content']['data'], msg);\n",
       "        var data = msg['content']['data'];\n",
       "        if (data['blob'] !== undefined) {\n",
       "            data = {\n",
       "                data: new Blob(msg['buffers'], { type: data['blob'] }),\n",
       "            };\n",
       "        }\n",
       "        // Pass the mpl event to the overridden (by mpl) onmessage function.\n",
       "        ws.onmessage(data);\n",
       "    });\n",
       "    return ws;\n",
       "};\n",
       "\n",
       "mpl.mpl_figure_comm = function (comm, msg) {\n",
       "    // This is the function which gets called when the mpl process\n",
       "    // starts-up an IPython Comm through the \"matplotlib\" channel.\n",
       "\n",
       "    var id = msg.content.data.id;\n",
       "    // Get hold of the div created by the display call when the Comm\n",
       "    // socket was opened in Python.\n",
       "    var element = document.getElementById(id);\n",
       "    var ws_proxy = comm_websocket_adapter(comm);\n",
       "\n",
       "    function ondownload(figure, _format) {\n",
       "        window.open(figure.canvas.toDataURL());\n",
       "    }\n",
       "\n",
       "    var fig = new mpl.figure(id, ws_proxy, ondownload, element);\n",
       "\n",
       "    // Call onopen now - mpl needs it, as it is assuming we've passed it a real\n",
       "    // web socket which is closed, not our websocket->open comm proxy.\n",
       "    ws_proxy.onopen();\n",
       "\n",
       "    fig.parent_element = element;\n",
       "    fig.cell_info = mpl.find_output_cell(\"<div id='\" + id + \"'></div>\");\n",
       "    if (!fig.cell_info) {\n",
       "        console.error('Failed to find cell for figure', id, fig);\n",
       "        return;\n",
       "    }\n",
       "    fig.cell_info[0].output_area.element.on(\n",
       "        'cleared',\n",
       "        { fig: fig },\n",
       "        fig._remove_fig_handler\n",
       "    );\n",
       "};\n",
       "\n",
       "mpl.figure.prototype.handle_close = function (fig, msg) {\n",
       "    var width = fig.canvas.width / fig.ratio;\n",
       "    fig.cell_info[0].output_area.element.off(\n",
       "        'cleared',\n",
       "        fig._remove_fig_handler\n",
       "    );\n",
       "    fig.resizeObserverInstance.unobserve(fig.canvas_div);\n",
       "\n",
       "    // Update the output cell to use the data from the current canvas.\n",
       "    fig.push_to_output();\n",
       "    var dataURL = fig.canvas.toDataURL();\n",
       "    // Re-enable the keyboard manager in IPython - without this line, in FF,\n",
       "    // the notebook keyboard shortcuts fail.\n",
       "    IPython.keyboard_manager.enable();\n",
       "    fig.parent_element.innerHTML =\n",
       "        '<img src=\"' + dataURL + '\" width=\"' + width + '\">';\n",
       "    fig.close_ws(fig, msg);\n",
       "};\n",
       "\n",
       "mpl.figure.prototype.close_ws = function (fig, msg) {\n",
       "    fig.send_message('closing', msg);\n",
       "    // fig.ws.close()\n",
       "};\n",
       "\n",
       "mpl.figure.prototype.push_to_output = function (_remove_interactive) {\n",
       "    // Turn the data on the canvas into data in the output cell.\n",
       "    var width = this.canvas.width / this.ratio;\n",
       "    var dataURL = this.canvas.toDataURL();\n",
       "    this.cell_info[1]['text/html'] =\n",
       "        '<img src=\"' + dataURL + '\" width=\"' + width + '\">';\n",
       "};\n",
       "\n",
       "mpl.figure.prototype.updated_canvas_event = function () {\n",
       "    // Tell IPython that the notebook contents must change.\n",
       "    IPython.notebook.set_dirty(true);\n",
       "    this.send_message('ack', {});\n",
       "    var fig = this;\n",
       "    // Wait a second, then push the new image to the DOM so\n",
       "    // that it is saved nicely (might be nice to debounce this).\n",
       "    setTimeout(function () {\n",
       "        fig.push_to_output();\n",
       "    }, 1000);\n",
       "};\n",
       "\n",
       "mpl.figure.prototype._init_toolbar = function () {\n",
       "    var fig = this;\n",
       "\n",
       "    var toolbar = document.createElement('div');\n",
       "    toolbar.classList = 'btn-toolbar';\n",
       "    this.root.appendChild(toolbar);\n",
       "\n",
       "    function on_click_closure(name) {\n",
       "        return function (_event) {\n",
       "            return fig.toolbar_button_onclick(name);\n",
       "        };\n",
       "    }\n",
       "\n",
       "    function on_mouseover_closure(tooltip) {\n",
       "        return function (event) {\n",
       "            if (!event.currentTarget.disabled) {\n",
       "                return fig.toolbar_button_onmouseover(tooltip);\n",
       "            }\n",
       "        };\n",
       "    }\n",
       "\n",
       "    fig.buttons = {};\n",
       "    var buttonGroup = document.createElement('div');\n",
       "    buttonGroup.classList = 'btn-group';\n",
       "    var button;\n",
       "    for (var toolbar_ind in mpl.toolbar_items) {\n",
       "        var name = mpl.toolbar_items[toolbar_ind][0];\n",
       "        var tooltip = mpl.toolbar_items[toolbar_ind][1];\n",
       "        var image = mpl.toolbar_items[toolbar_ind][2];\n",
       "        var method_name = mpl.toolbar_items[toolbar_ind][3];\n",
       "\n",
       "        if (!name) {\n",
       "            /* Instead of a spacer, we start a new button group. */\n",
       "            if (buttonGroup.hasChildNodes()) {\n",
       "                toolbar.appendChild(buttonGroup);\n",
       "            }\n",
       "            buttonGroup = document.createElement('div');\n",
       "            buttonGroup.classList = 'btn-group';\n",
       "            continue;\n",
       "        }\n",
       "\n",
       "        button = fig.buttons[name] = document.createElement('button');\n",
       "        button.classList = 'btn btn-default';\n",
       "        button.href = '#';\n",
       "        button.title = name;\n",
       "        button.innerHTML = '<i class=\"fa ' + image + ' fa-lg\"></i>';\n",
       "        button.addEventListener('click', on_click_closure(method_name));\n",
       "        button.addEventListener('mouseover', on_mouseover_closure(tooltip));\n",
       "        buttonGroup.appendChild(button);\n",
       "    }\n",
       "\n",
       "    if (buttonGroup.hasChildNodes()) {\n",
       "        toolbar.appendChild(buttonGroup);\n",
       "    }\n",
       "\n",
       "    // Add the status bar.\n",
       "    var status_bar = document.createElement('span');\n",
       "    status_bar.classList = 'mpl-message pull-right';\n",
       "    toolbar.appendChild(status_bar);\n",
       "    this.message = status_bar;\n",
       "\n",
       "    // Add the close button to the window.\n",
       "    var buttongrp = document.createElement('div');\n",
       "    buttongrp.classList = 'btn-group inline pull-right';\n",
       "    button = document.createElement('button');\n",
       "    button.classList = 'btn btn-mini btn-primary';\n",
       "    button.href = '#';\n",
       "    button.title = 'Stop Interaction';\n",
       "    button.innerHTML = '<i class=\"fa fa-power-off icon-remove icon-large\"></i>';\n",
       "    button.addEventListener('click', function (_evt) {\n",
       "        fig.handle_close(fig, {});\n",
       "    });\n",
       "    button.addEventListener(\n",
       "        'mouseover',\n",
       "        on_mouseover_closure('Stop Interaction')\n",
       "    );\n",
       "    buttongrp.appendChild(button);\n",
       "    var titlebar = this.root.querySelector('.ui-dialog-titlebar');\n",
       "    titlebar.insertBefore(buttongrp, titlebar.firstChild);\n",
       "};\n",
       "\n",
       "mpl.figure.prototype._remove_fig_handler = function (event) {\n",
       "    var fig = event.data.fig;\n",
       "    if (event.target !== this) {\n",
       "        // Ignore bubbled events from children.\n",
       "        return;\n",
       "    }\n",
       "    fig.close_ws(fig, {});\n",
       "};\n",
       "\n",
       "mpl.figure.prototype._root_extra_style = function (el) {\n",
       "    el.style.boxSizing = 'content-box'; // override notebook setting of border-box.\n",
       "};\n",
       "\n",
       "mpl.figure.prototype._canvas_extra_style = function (el) {\n",
       "    // this is important to make the div 'focusable\n",
       "    el.setAttribute('tabindex', 0);\n",
       "    // reach out to IPython and tell the keyboard manager to turn it's self\n",
       "    // off when our div gets focus\n",
       "\n",
       "    // location in version 3\n",
       "    if (IPython.notebook.keyboard_manager) {\n",
       "        IPython.notebook.keyboard_manager.register_events(el);\n",
       "    } else {\n",
       "        // location in version 2\n",
       "        IPython.keyboard_manager.register_events(el);\n",
       "    }\n",
       "};\n",
       "\n",
       "mpl.figure.prototype._key_event_extra = function (event, _name) {\n",
       "    var manager = IPython.notebook.keyboard_manager;\n",
       "    if (!manager) {\n",
       "        manager = IPython.keyboard_manager;\n",
       "    }\n",
       "\n",
       "    // Check for shift+enter\n",
       "    if (event.shiftKey && event.which === 13) {\n",
       "        this.canvas_div.blur();\n",
       "        // select the cell after this one\n",
       "        var index = IPython.notebook.find_cell_index(this.cell_info[0]);\n",
       "        IPython.notebook.select(index + 1);\n",
       "    }\n",
       "};\n",
       "\n",
       "mpl.figure.prototype.handle_save = function (fig, _msg) {\n",
       "    fig.ondownload(fig, null);\n",
       "};\n",
       "\n",
       "mpl.find_output_cell = function (html_output) {\n",
       "    // Return the cell and output element which can be found *uniquely* in the notebook.\n",
       "    // Note - this is a bit hacky, but it is done because the \"notebook_saving.Notebook\"\n",
       "    // IPython event is triggered only after the cells have been serialised, which for\n",
       "    // our purposes (turning an active figure into a static one), is too late.\n",
       "    var cells = IPython.notebook.get_cells();\n",
       "    var ncells = cells.length;\n",
       "    for (var i = 0; i < ncells; i++) {\n",
       "        var cell = cells[i];\n",
       "        if (cell.cell_type === 'code') {\n",
       "            for (var j = 0; j < cell.output_area.outputs.length; j++) {\n",
       "                var data = cell.output_area.outputs[j];\n",
       "                if (data.data) {\n",
       "                    // IPython >= 3 moved mimebundle to data attribute of output\n",
       "                    data = data.data;\n",
       "                }\n",
       "                if (data['text/html'] === html_output) {\n",
       "                    return [cell, data, j];\n",
       "                }\n",
       "            }\n",
       "        }\n",
       "    }\n",
       "};\n",
       "\n",
       "// Register the function which deals with the matplotlib target/channel.\n",
       "// The kernel may be null if the page has been refreshed.\n",
       "if (IPython.notebook.kernel !== null) {\n",
       "    IPython.notebook.kernel.comm_manager.register_target(\n",
       "        'matplotlib',\n",
       "        mpl.mpl_figure_comm\n",
       "    );\n",
       "}\n"
      ],
      "text/plain": [
       "<IPython.core.display.Javascript object>"
      ]
     },
     "metadata": {},
     "output_type": "display_data"
    },
    {
     "data": {
      "text/html": [
       "<img src=\"data:image/png;base64,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\" width=\"640\">"
      ],
      "text/plain": [
       "<IPython.core.display.HTML object>"
      ]
     },
     "metadata": {},
     "output_type": "display_data"
    }
   ],
   "source": [
    "%matplotlib notebook\n",
    "\n",
    "fig,ax = plt.subplots(1)\n",
    "\n",
    "for key in list(test['node_areas'].keys())[1:]:\n",
    "    \n",
    "    x1 = test['node_areas'][key][0]\n",
    "    width = int(test['faces'][key*2+1][5])\n",
    "    \n",
    "    height=3\n",
    "    y1 = test['node_areas'][key][1]\n",
    "    y2 = test['node_areas'][key][3]\n",
    "    y = (y1+y2)/2 - height/2\n",
    "\n",
    "    p = plt.Rectangle((x1, y), width=width, height=height,facecolor='black',alpha = 0.3)\n",
    "    \n",
    "    text_content = test['faces'][key*2][5]\n",
    "    \n",
    "    text_x = test['faces'][key*2][0]\n",
    "    text_y = test['faces'][key*2+1][3]\n",
    "    \n",
    "    plt.text(text_x, text_y, text_content,color='black',verticalalignment='center')\n",
    "    \n",
    "    ax.add_patch(p)\n",
    "\n",
    "y_min = test['node_areas'][0][1]\n",
    "y_max = test['node_areas'][0][3]\n",
    "\n",
    "plt.xlim([-10,400])\n",
    "plt.ylim([y_min,y_max])\n",
    "\n",
    "plt.show()"
   ]
  },
  {
   "cell_type": "code",
   "execution_count": null,
   "id": "d723da64",
   "metadata": {},
   "outputs": [],
   "source": []
  },
  {
   "cell_type": "code",
   "execution_count": 16,
   "id": "7d7692e1",
   "metadata": {},
   "outputs": [
    {
     "name": "stdout",
     "output_type": "stream",
     "text": [
      "The autoreload extension is already loaded. To reload it, use:\n",
      "  %reload_ext autoreload\n"
     ]
    }
   ],
   "source": [
    "%load_ext autoreload\n",
    "%autoreload 2\n",
    "\n",
    "import napari_display_functions as my_napari\n",
    "from ete3 import Tree, TreeStyle"
   ]
  },
  {
   "cell_type": "code",
   "execution_count": 21,
   "id": "a913f652",
   "metadata": {},
   "outputs": [
    {
     "ename": "NameError",
     "evalue": "name 'plt' is not defined",
     "output_type": "error",
     "traceback": [
      "\u001b[1;31m---------------------------------------------------------------------------\u001b[0m",
      "\u001b[1;31mNameError\u001b[0m                                 Traceback (most recent call last)",
      "\u001b[1;32m~\\AppData\\Local\\Temp/ipykernel_28916/1650291219.py\u001b[0m in \u001b[0;36m<module>\u001b[1;34m\u001b[0m\n\u001b[0;32m      2\u001b[0m \u001b[1;33m\u001b[0m\u001b[0m\n\u001b[0;32m      3\u001b[0m \u001b[0mfamily_im\u001b[0m \u001b[1;33m=\u001b[0m \u001b[0mmy_napari\u001b[0m\u001b[1;33m.\u001b[0m\u001b[0mgenerate_family_image\u001b[0m\u001b[1;33m(\u001b[0m\u001b[0mdf\u001b[0m\u001b[1;33m,\u001b[0m\u001b[0mlabels_layer\u001b[0m\u001b[1;33m,\u001b[0m\u001b[0mcurrent_track\u001b[0m\u001b[1;33m,\u001b[0m\u001b[0mgraph_list\u001b[0m\u001b[1;33m[\u001b[0m\u001b[1;36m0\u001b[0m\u001b[1;33m]\u001b[0m\u001b[1;33m)\u001b[0m\u001b[1;33m\u001b[0m\u001b[1;33m\u001b[0m\u001b[0m\n\u001b[1;32m----> 4\u001b[1;33m \u001b[0mplt\u001b[0m\u001b[1;33m.\u001b[0m\u001b[0mimshow\u001b[0m\u001b[1;33m(\u001b[0m\u001b[0mfamily_im\u001b[0m\u001b[1;33m)\u001b[0m\u001b[1;33m\u001b[0m\u001b[1;33m\u001b[0m\u001b[0m\n\u001b[0m",
      "\u001b[1;31mNameError\u001b[0m: name 'plt' is not defined"
     ]
    }
   ],
   "source": [
    "\n",
    "\n",
    "family_im = my_napari.generate_family_image(df,labels_layer,current_track,graph_list[0])\n",
    "plt.imshow(family_im)"
   ]
  },
  {
   "cell_type": "code",
   "execution_count": 93,
   "id": "f0e4235e",
   "metadata": {},
   "outputs": [
    {
     "data": {
      "image/png": "[encoded data removed]",
      "text/plain": [
       "<IPython.core.display.Image object>"
      ]
     },
     "execution_count": 93,
     "metadata": {},
     "output_type": "execute_result"
    }
   ],
   "source": [
    "t.render(\"%%inline\",tree_style=ts) "
   ]
  },
  {
   "cell_type": "code",
   "execution_count": 81,
   "id": "d267d181",
   "metadata": {},
   "outputs": [
    {
     "data": {
      "text/plain": [
       "112"
      ]
     },
     "execution_count": 81,
     "metadata": {},
     "output_type": "execute_result"
    }
   ],
   "source": [
    "track_id = 651\n",
    "np.max(df.loc[df.track_id==track_id,'t'])-np.min(df.loc[df.track_id==track_id,'t'])"
   ]
  },
  {
   "cell_type": "code",
   "execution_count": 69,
   "id": "92166b06",
   "metadata": {},
   "outputs": [
    {
     "data": {
      "text/plain": [
       "True"
      ]
     },
     "execution_count": 69,
     "metadata": {},
     "output_type": "execute_result"
    }
   ],
   "source": [
    "ts.show_branch_length"
   ]
  },
  {
   "cell_type": "code",
   "execution_count": 90,
   "id": "981e7fdf",
   "metadata": {},
   "outputs": [
    {
     "data": {
      "text/plain": [
       "[75.66666666666667, 15.5, 93.66666666666667, 29.5, 1, '104']"
      ]
     },
     "execution_count": 90,
     "metadata": {},
     "output_type": "execute_result"
    }
   ],
   "source": [
    "test['faces'][1]"
   ]
  },
  {
   "cell_type": "code",
   "execution_count": 108,
   "id": "cb549caa",
   "metadata": {},
   "outputs": [
    {
     "data": {
      "text/plain": [
       "[1, 2, 3]"
      ]
     },
     "execution_count": 108,
     "metadata": {},
     "output_type": "execute_result"
    }
   ],
   "source": [
    "list(test['node_areas'].keys())[1:]"
   ]
  },
  {
   "cell_type": "code",
   "execution_count": 55,
   "id": "fc948730",
   "metadata": {},
   "outputs": [
    {
     "data": {
      "image/png": "[encoded data removed]",
      "text/plain": [
       "<Figure size 432x288 with 1 Axes>"
      ]
     },
     "metadata": {
      "needs_background": "light"
     },
     "output_type": "display_data"
    }
   ],
   "source": [
    "import numpy as np\n",
    "import matplotlib.pyplot as plt\n",
    "from matplotlib.transforms import Bbox\n",
    "from matplotlib.path import Path\n",
    "\n",
    "# Fixing random state for reproducibility\n",
    "np.random.seed(19680801)\n",
    "\n",
    "\n",
    "left, bottom, width, height = (-1, -1, 2, 2)\n",
    "rect = plt.Rectangle((left, bottom), width, height,\n",
    "                     facecolor=\"black\", alpha=0.1)\n",
    "\n",
    "fig, ax = plt.subplots()\n",
    "ax.add_patch(rect)\n",
    "\n",
    "plt.xlim([-10,10])\n",
    "plt.ylim([-10,10])\n",
    "\n",
    "plt.show()"
   ]
  },
  {
   "cell_type": "code",
   "execution_count": null,
   "id": "ebe21704",
   "metadata": {},
   "outputs": [],
   "source": [
    "p = plt.Rectangle((left, bottom), width, height, fill=False)\n"
   ]
  },
  {
   "cell_type": "code",
   "execution_count": 33,
   "id": "66358fc8",
   "metadata": {},
   "outputs": [
    {
     "data": {
      "text/plain": [
       "{'nodes': [],\n",
       " 'faces': [[135.3778801843318, 2.0, 156.3778801843318, 18.0, 4, '660']],\n",
       " 'node_areas': {0: [1.0, 1.0, 183.4884792626728, 18.0],\n",
       "  1: [3.488479262672811, 1.0, 183.4884792626728, 18.0],\n",
       "  2: [89.75576036866359, 1.0, 183.4884792626728, 2.0],\n",
       "  3: [182.65898617511522, 1.0, 183.48847926267283, 2.0],\n",
       "  4: [89.75576036866359, 2.0, 156.3778801843318, 18.0]}}"
      ]
     },
     "execution_count": 33,
     "metadata": {},
     "output_type": "execute_result"
    }
   ],
   "source": [
    "test = t.render('test.pdf') \n",
    "test"
   ]
  },
  {
   "cell_type": "code",
   "execution_count": 18,
   "id": "e18f8203",
   "metadata": {},
   "outputs": [],
   "source": [
    "ts = TreeStyle()\n",
    "ts.show_leaf_name = True\n",
    "\n",
    "test = t.render('family_tree.png',tree_style=ts,w=150,units='mm',dpi=800)"
   ]
  },
  {
   "cell_type": "code",
   "execution_count": 21,
   "id": "e734d97c",
   "metadata": {},
   "outputs": [
    {
     "data": {
      "image/png": "[encoded data removed]",
      "text/plain": [
       "<IPython.core.display.Image object>"
      ]
     },
     "execution_count": 21,
     "metadata": {},
     "output_type": "execute_result"
    }
   ],
   "source": [
    "t.render(\"%%inline\")  "
   ]
  },
  {
   "cell_type": "code",
   "execution_count": 19,
   "id": "607f8fa8",
   "metadata": {},
   "outputs": [
    {
     "data": {
      "text/plain": [
       "{'nodes': [],\n",
       " 'faces': [[3466.777644911525,\n",
       "   51.216308605085686,\n",
       "   4004.5488852649246,\n",
       "   460.9467774457712,\n",
       "   4,\n",
       "   '660']],\n",
       " 'node_areas': {0: [25.60815430254284,\n",
       "   25.608154302542843,\n",
       "   4698.801289697457,\n",
       "   460.9467774457712],\n",
       "  1: [89.33351523974622,\n",
       "   25.608154302542843,\n",
       "   4698.801289697457,\n",
       "   460.9467774457712],\n",
       "  2: [2298.4793610627967,\n",
       "   25.608154302542843,\n",
       "   4698.801289697457,\n",
       "   51.216308605085686],\n",
       "  3: [4677.55950271839,\n",
       "   25.608154302542843,\n",
       "   4698.801289697458,\n",
       "   51.216308605085686],\n",
       "  4: [2298.4793610627967,\n",
       "   51.216308605085686,\n",
       "   4004.5488852649246,\n",
       "   460.9467774457712]}}"
      ]
     },
     "execution_count": 19,
     "metadata": {},
     "output_type": "execute_result"
    }
   ],
   "source": [
    "test"
   ]
  },
  {
   "cell_type": "code",
   "execution_count": 154,
   "id": "cd942d74",
   "metadata": {},
   "outputs": [],
   "source": [
    "family_im = my_napari.generate_family_image(df,labels_layer,active_label,graph_list[0])"
   ]
  },
  {
   "cell_type": "code",
   "execution_count": 156,
   "id": "eb62fc78",
   "metadata": {},
   "outputs": [
    {
     "data": {
      "text/plain": [
       "(240, 4724, 4)"
      ]
     },
     "execution_count": 156,
     "metadata": {},
     "output_type": "execute_result"
    }
   ],
   "source": [
    "family_im.shape"
   ]
  },
  {
   "cell_type": "code",
   "execution_count": 124,
   "id": "3b6f2805",
   "metadata": {},
   "outputs": [],
   "source": [
    "def show_family():\n",
    "    \n",
    "    print('test')"
   ]
  },
  {
   "cell_type": "code",
   "execution_count": 114,
   "id": "c2802140",
   "metadata": {},
   "outputs": [],
   "source": [
    "show_family()"
   ]
  },
  {
   "cell_type": "code",
   "execution_count": 14,
   "id": "eb5dbfa8",
   "metadata": {},
   "outputs": [],
   "source": [
    "import napari_display_functions as my_napari\n",
    "import matplotlib.pyplot as plt\n",
    "from matplotlib.backends.backend_qt5agg import FigureCanvas\n",
    "from matplotlib.figure import Figure"
   ]
  },
  {
   "cell_type": "code",
   "execution_count": 26,
   "id": "676c5642",
   "metadata": {},
   "outputs": [
    {
     "data": {
      "image/png": "[encoded data removed]",
      "text/plain": [
       "<IPython.core.display.Image object>"
      ]
     },
     "execution_count": 26,
     "metadata": {},
     "output_type": "execute_result"
    }
   ],
   "source": [
    "t = Tree()\n",
    "t.populate(10)\n",
    "ts = TreeStyle()\n",
    "ts.show_leaf_name = True\n",
    "ts.show_branch_length = True\n",
    "ts.show_branch_support = True\n",
    "test = t.render('test.pdf') \n",
    "t.render(\"%%inline\")  "
   ]
  },
  {
   "cell_type": "code",
   "execution_count": 27,
   "id": "c2b873ab",
   "metadata": {},
   "outputs": [
    {
     "data": {
      "text/plain": [
       "{'nodes': [[26.214285714285715, 76.875, 30.214285714285715, 80.875, 0, None],\n",
       "  [54.92857142857143, 22.75, 58.92857142857143, 26.75, 1, None],\n",
       "  [83.64285714285715, 7.0, 87.64285714285715, 11.0, 2, None],\n",
       "  [83.64285714285714, 38.5, 87.64285714285714, 42.5, 3, None],\n",
       "  [112.35714285714286, 23.0, 116.35714285714286, 27.0, 4, None],\n",
       "  [112.35714285714286, 54.0, 116.35714285714286, 58.0, 5, None],\n",
       "  [141.07142857142858, 39.0, 145.07142857142858, 43.0, 6, None],\n",
       "  [141.07142857142858, 69.0, 145.07142857142858, 73.0, 7, None],\n",
       "  [169.7857142857143, 55.0, 173.7857142857143, 59.0, 8, None],\n",
       "  [169.7857142857143, 83.0, 173.7857142857143, 87.0, 9, None],\n",
       "  [198.50000000000003, 71.0, 202.50000000000003, 75.0, 10, None],\n",
       "  [198.50000000000003, 95.0, 202.50000000000003, 99.0, 11, None],\n",
       "  [227.21428571428575, 87.0, 231.21428571428575, 91.0, 12, None],\n",
       "  [227.21428571428575, 103.0, 231.21428571428575, 107.0, 13, None],\n",
       "  [54.92857142857143, 131.0, 58.92857142857143, 135.0, 14, None],\n",
       "  [83.64285714285715, 119.0, 87.64285714285715, 123.0, 15, None],\n",
       "  [83.64285714285714, 143.0, 87.64285714285714, 147.0, 16, None],\n",
       "  [112.35714285714286, 135.0, 116.35714285714286, 139.0, 17, None],\n",
       "  [112.35714285714286, 151.0, 116.35714285714286, 155.0, 18, None]],\n",
       " 'faces': [[87.14285714285715, 1.0, 157.14285714285717, 17.0, 2, 'aaaaaaaaaa'],\n",
       "  [115.85714285714286, 17.0, 185.85714285714286, 33.0, 4, 'aaaaaaaaab'],\n",
       "  [144.57142857142858, 33.0, 214.57142857142858, 49.0, 6, 'aaaaaaaaac'],\n",
       "  [173.2857142857143, 49.0, 243.2857142857143, 65.0, 8, 'aaaaaaaaad'],\n",
       "  [202.00000000000003, 65.0, 272.0, 81.0, 10, 'aaaaaaaaae'],\n",
       "  [230.71428571428575, 81.0, 297.7142857142858, 97.0, 12, 'aaaaaaaaaf'],\n",
       "  [230.71428571428575, 97.0, 300.7142857142858, 113.0, 13, 'aaaaaaaaag'],\n",
       "  [87.14285714285715, 113.0, 157.14285714285717, 129.0, 15, 'aaaaaaaaah'],\n",
       "  [115.85714285714286, 129.0, 181.85714285714286, 145.0, 17, 'aaaaaaaaai'],\n",
       "  [115.85714285714286, 145.0, 181.85714285714286, 161.0, 18, 'aaaaaaaaaj']],\n",
       " 'node_areas': {0: [1.0, 1.0, 300.7142857142858, 161.0],\n",
       "  1: [29.714285714285715, 1.0, 300.7142857142858, 113.0],\n",
       "  2: [58.42857142857143, 1.0, 157.14285714285717, 17.0],\n",
       "  3: [58.42857142857143, 17.0, 300.7142857142858, 113.0],\n",
       "  4: [87.14285714285714, 17.0, 185.85714285714286, 33.0],\n",
       "  5: [87.14285714285714, 33.0, 300.7142857142858, 113.0],\n",
       "  6: [115.85714285714286, 33.0, 214.57142857142858, 49.0],\n",
       "  7: [115.85714285714286, 49.0, 300.7142857142858, 113.0],\n",
       "  8: [144.57142857142858, 49.0, 243.2857142857143, 65.0],\n",
       "  9: [144.57142857142858, 65.0, 300.7142857142858, 113.0],\n",
       "  10: [173.2857142857143, 65.0, 272.0, 81.0],\n",
       "  11: [173.2857142857143, 81.0, 300.7142857142858, 113.0],\n",
       "  12: [202.00000000000003, 81.0, 297.7142857142858, 97.0],\n",
       "  13: [202.00000000000003, 97.0, 300.7142857142858, 113.0],\n",
       "  14: [29.714285714285715, 113.0, 181.8571428571429, 161.0],\n",
       "  15: [58.42857142857143, 113.0, 157.14285714285717, 129.0],\n",
       "  16: [58.42857142857143, 129.0, 181.8571428571429, 161.0],\n",
       "  17: [87.14285714285714, 129.0, 181.85714285714286, 145.0],\n",
       "  18: [87.14285714285714, 145.0, 181.85714285714286, 161.0]}}"
      ]
     },
     "execution_count": 27,
     "metadata": {},
     "output_type": "execute_result"
    }
   ],
   "source": [
    "test"
   ]
  },
  {
   "cell_type": "code",
   "execution_count": 18,
   "id": "5c937a0d",
   "metadata": {},
   "outputs": [
    {
     "data": {
      "text/plain": [
       "<matplotlib.image.AxesImage at 0x23b10fa6788>"
      ]
     },
     "execution_count": 18,
     "metadata": {},
     "output_type": "execute_result"
    },
    {
     "data": {
      "image/png": "[encoded data removed]",
      "text/plain": [
       "<Figure size 432x288 with 1 Axes>"
      ]
     },
     "metadata": {
      "needs_background": "light"
     },
     "output_type": "display_data"
    }
   ],
   "source": [
    "plt.imshow(family_im)"
   ]
  },
  {
   "cell_type": "code",
   "execution_count": 78,
   "id": "91ec6022",
   "metadata": {},
   "outputs": [
    {
     "data": {
      "text/plain": [
       "<napari._qt.widgets.qt_viewer_dock_widget.QtViewerDockWidget at 0x23b11535948>"
      ]
     },
     "execution_count": 78,
     "metadata": {},
     "output_type": "execute_result"
    }
   ],
   "source": [
    "# add family graph display button\n",
    "\n",
    "family_button = magicgui(show_family, call_button='Show Family')\n",
    "viewer.window.add_dock_widget(family_button,area='right')"
   ]
  },
  {
   "cell_type": "code",
   "execution_count": 34,
   "id": "bbe6d236",
   "metadata": {},
   "outputs": [
    {
     "data": {
      "text/plain": [
       "{299: 278, 300: 278, 651: 132, 660: 132, 677: 669, 678: 669}"
      ]
     },
     "execution_count": 34,
     "metadata": {},
     "output_type": "execute_result"
    }
   ],
   "source": [
    "graph"
   ]
  },
  {
   "cell_type": "code",
   "execution_count": 26,
   "id": "efc02af1",
   "metadata": {},
   "outputs": [
    {
     "data": {
      "text/plain": [
       "<matplotlib.image.AxesImage at 0x23b0defc188>"
      ]
     },
     "execution_count": 26,
     "metadata": {},
     "output_type": "execute_result"
    },
    {
     "data": {
      "image/png": "[encoded data removed]",
      "text/plain": [
       "<Figure size 432x288 with 1 Axes>"
      ]
     },
     "metadata": {
      "needs_background": "light"
     },
     "output_type": "display_data"
    },
    {
     "name": "stderr",
     "output_type": "stream",
     "text": [
      "WARNING: QMainWindow::saveState(): 'objectName' not set for QDockWidget 0x23b0fcd1b80 ';\n",
      "WARNING: QMainWindow::saveState(): 'objectName' not set for QDockWidget 0x23b0fccfd50 ';\n"
     ]
    }
   ],
   "source": [
    "active_label = viewer.layers['Labels'].selected_label\n",
    "test = my_napari.generate_family_image(df,labels_layer,active_label,graph_list[0])\n",
    "plt.imshow(test)"
   ]
  },
  {
   "cell_type": "code",
   "execution_count": 54,
   "id": "5f7ba522",
   "metadata": {},
   "outputs": [],
   "source": [
    "viewer.layers['Labels'].selected_label = 5"
   ]
  },
  {
   "cell_type": "code",
   "execution_count": 131,
   "id": "86feb951",
   "metadata": {},
   "outputs": [],
   "source": [
    "df = bv_f.df"
   ]
  },
  {
   "cell_type": "code",
   "execution_count": 132,
   "id": "96738403",
   "metadata": {},
   "outputs": [
    {
     "data": {
      "text/html": [
       "<div>\n",
       "<style scoped>\n",
       "    .dataframe tbody tr th:only-of-type {\n",
       "        vertical-align: middle;\n",
       "    }\n",
       "\n",
       "    .dataframe tbody tr th {\n",
       "        vertical-align: top;\n",
       "    }\n",
       "\n",
       "    .dataframe thead th {\n",
       "        text-align: right;\n",
       "    }\n",
       "</style>\n",
       "<table border=\"1\" class=\"dataframe\">\n",
       "  <thead>\n",
       "    <tr style=\"text-align: right;\">\n",
       "      <th></th>\n",
       "      <th>t</th>\n",
       "      <th>track_id</th>\n",
       "      <th>root</th>\n",
       "      <th>parent</th>\n",
       "      <th>generation</th>\n",
       "    </tr>\n",
       "  </thead>\n",
       "  <tbody>\n",
       "    <tr>\n",
       "      <th>13118</th>\n",
       "      <td>169</td>\n",
       "      <td>7.0</td>\n",
       "      <td>7.0</td>\n",
       "      <td>7.0</td>\n",
       "      <td>0.0</td>\n",
       "    </tr>\n",
       "    <tr>\n",
       "      <th>13119</th>\n",
       "      <td>170</td>\n",
       "      <td>7.0</td>\n",
       "      <td>7.0</td>\n",
       "      <td>7.0</td>\n",
       "      <td>0.0</td>\n",
       "    </tr>\n",
       "  </tbody>\n",
       "</table>\n",
       "</div>"
      ],
      "text/plain": [
       "         t  track_id  root  parent  generation\n",
       "13118  169       7.0   7.0     7.0         0.0\n",
       "13119  170       7.0   7.0     7.0         0.0"
      ]
     },
     "execution_count": 132,
     "metadata": {},
     "output_type": "execute_result"
    }
   ],
   "source": [
    "df.loc[df.track_id==7,['t','track_id','root','parent','generation']]"
   ]
  },
  {
   "cell_type": "code",
   "execution_count": 80,
   "id": "fae0f6d8",
   "metadata": {},
   "outputs": [
    {
     "data": {
      "text/plain": [
       "<function __main__.points_modified(event)>"
      ]
     },
     "execution_count": 80,
     "metadata": {},
     "output_type": "execute_result"
    },
    {
     "name": "stdout",
     "output_type": "stream",
     "text": [
      "selected label changed\n",
      "selected label changed\n",
      "selected label changed\n"
     ]
    }
   ],
   "source": [
    "labels_layer.events.selected_label.connect(points_modified)"
   ]
  },
  {
   "cell_type": "code",
   "execution_count": null,
   "id": "7cacd375",
   "metadata": {},
   "outputs": [],
   "source": []
  }
 ],
 "metadata": {
  "kernelspec": {
   "display_name": "Python 3 (ipykernel)",
   "language": "python",
   "name": "python3"
  },
  "language_info": {
   "codemirror_mode": {
    "name": "ipython",
    "version": 3
   },
   "file_extension": ".py",
   "mimetype": "text/x-python",
   "name": "python",
   "nbconvert_exporter": "python",
   "pygments_lexer": "ipython3",
   "version": "3.7.10"
  }
 },
 "nbformat": 4,
 "nbformat_minor": 5
}
