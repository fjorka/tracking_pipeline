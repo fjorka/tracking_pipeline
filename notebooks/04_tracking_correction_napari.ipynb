{
 "cells": [
  {
   "cell_type": "code",
   "execution_count": 1,
   "id": "f49352f4",
   "metadata": {},
   "outputs": [],
   "source": [
    "%load_ext autoreload\n",
    "%autoreload 2\n",
    "\n",
    "import os\n",
    "import sys\n",
    "import warnings\n",
    "import pandas as pd\n",
    "import numpy as np\n",
    "from tifffile import imread\n",
    "from nd2reader import ND2Reader\n",
    "\n",
    "import napari\n",
    "from napari import Viewer\n",
    "from magicgui.widgets import Container,Label,Dropdown\n",
    "from magicgui import magicgui\n",
    "\n",
    "sys.path.append('../libraries')\n",
    "import general_functions as gen\n",
    "import napari_build_viewer as bv_f\n",
    "import input_functions as inp_f"
   ]
  },
  {
   "cell_type": "code",
   "execution_count": 2,
   "id": "af34d0ec",
   "metadata": {},
   "outputs": [],
   "source": [
    "warnings.filterwarnings('ignore')"
   ]
  },
  {
   "cell_type": "markdown",
   "id": "e43bd461",
   "metadata": {},
   "source": [
    "## Define experiment"
   ]
  },
  {
   "cell_type": "code",
   "execution_count": 21,
   "id": "40d35e83",
   "metadata": {},
   "outputs": [],
   "source": [
    "#info_file_path = r'D:\\BARC\\BARC_Wanjuan\\210603_B3_5\\210603_halo_B3_5_info.txt'\n",
    "info_file_path = r'Z:\\Wayne\\20210928_timelapse_arrest\\210928_fov_03\\210928_fov_03_info.txt'"
   ]
  },
  {
   "cell_type": "code",
   "execution_count": 22,
   "id": "5123d1f1",
   "metadata": {},
   "outputs": [],
   "source": [
    "# read the file\n",
    "info_file = open(info_file_path, 'r')\n",
    "info_lines = info_file.readlines()\n",
    "info_file.close()\n",
    "\n",
    "# read info about the data frame\n",
    "exp_dir,df_name = inp_f.read_df_info(info_lines)\n",
    "\n",
    "# read in the data frame\n",
    "df = pd.read_pickle(os.path.join(exp_dir,'df',df_name))\n",
    "\n",
    "# get info about the channels\n",
    "channel_list = inp_f.read_channels(info_lines,check=True,df=df,exp_dir=exp_dir)\n",
    "\n",
    "# get info about the tags (for annotating tracks)\n",
    "tag_list = inp_f.read_tags(info_lines,df=df)\n",
    "\n",
    "# get info about the tags (for annotating tracks)\n",
    "flag_list = inp_f.read_flags(info_lines,df=df)\n",
    "\n",
    "# get info about what will be plotted\n",
    "graph_list = inp_f.read_graphs(info_lines,df,channel_list)\n",
    "\n",
    "# get info about the general settings\n",
    "time_threshold,small_im_size,label_contour,gen_track_columns = inp_f.read_settings(info_lines)\n",
    "\n",
    "# get info about the caluclations \n",
    "object_properties = inp_f.read_properties(info_lines)\n",
    "# consider pushing properties_ring too"
   ]
  },
  {
   "cell_type": "markdown",
   "id": "be7b999a",
   "metadata": {},
   "source": [
    "## Extract info from the data frame"
   ]
  },
  {
   "cell_type": "code",
   "execution_count": 5,
   "id": "b18a3561",
   "metadata": {},
   "outputs": [],
   "source": [
    "# sort \n",
    "df = df.sort_values(by=['track_id','t'])"
   ]
  },
  {
   "cell_type": "markdown",
   "id": "5f421af9",
   "metadata": {},
   "source": [
    "Expected execution time < 1min."
   ]
  },
  {
   "cell_type": "code",
   "execution_count": 7,
   "id": "54c16abc",
   "metadata": {},
   "outputs": [
    {
     "name": "stdout",
     "output_type": "stream",
     "text": [
      "Wall time: 7.13 s\n"
     ]
    }
   ],
   "source": [
    "%%time\n",
    "\n",
    "# generate labels layer\n",
    "labels = gen.labels_from_df(df)"
   ]
  },
  {
   "cell_type": "code",
   "execution_count": 8,
   "id": "b2924595",
   "metadata": {},
   "outputs": [],
   "source": [
    "# generate data for the tracking layer\n",
    "data,properties,graph = gen.trackData_from_df(df,col_list = gen_track_columns)"
   ]
  },
  {
   "cell_type": "code",
   "execution_count": 9,
   "id": "8c174de8",
   "metadata": {},
   "outputs": [],
   "source": [
    "# create data for tagging\n",
    "tag_data = gen.tags_from_df(df,tag_list)"
   ]
  },
  {
   "cell_type": "markdown",
   "id": "c450ffba",
   "metadata": {},
   "source": [
    "## Read in images"
   ]
  },
  {
   "cell_type": "markdown",
   "id": "a34e96b9",
   "metadata": {},
   "source": [
    "Expected execution time ~ 10s/1GB"
   ]
  },
  {
   "cell_type": "code",
   "execution_count": 10,
   "id": "51b68f1e",
   "metadata": {},
   "outputs": [
    {
     "name": "stdout",
     "output_type": "stream",
     "text": [
      "Wall time: 18.5 s\n"
     ]
    }
   ],
   "source": [
    "%%time\n",
    "\n",
    "for ind,ch in enumerate(channel_list):\n",
    "    \n",
    "    im_path = os.path.join(exp_dir,'data',ch['file_name'])\n",
    "    c = ch['channel_in_file']\n",
    "    \n",
    "    channel_list[ind]['image'] = inp_f.open_movie(im_path,c)"
   ]
  },
  {
   "cell_type": "markdown",
   "id": "f8077a1f",
   "metadata": {},
   "source": [
    "## Create a viewer"
   ]
  },
  {
   "cell_type": "code",
   "execution_count": 11,
   "id": "8887aa3d",
   "metadata": {},
   "outputs": [],
   "source": [
    "viewer = napari.Viewer()\n",
    "\n",
    "# add a helper layer\n",
    "layer_mod = viewer.add_points([],name='Helper Points',face_color='red',ndim=3)\n",
    "\n",
    "# add tracks annotations\n",
    "for tag,tag_points in zip(tag_list,tag_data): \n",
    "    \n",
    "    viewer.add_points(tag_points,name=tag['tag_name'],face_color=tag['tag_color'],opacity = 1,ndim = 3)\n",
    "\n",
    "# add image layers\n",
    "for ind,ch in reversed(list(enumerate(channel_list))):\n",
    "    \n",
    "    viewer.add_image(ch['image'],name=ch['channel_name'],colormap=ch['color'],blending='additive')\n",
    "\n",
    "# add a tracking layer\n",
    "track_layer=viewer.add_tracks(data, properties=properties,graph={},name='Tracking',color_by='track_id')\n",
    "track_layer.display_id=True\n",
    "    \n",
    "# add a labels layer\n",
    "labels_layer = viewer.add_labels(labels,name='Labels',opacity = 0.4)"
   ]
  },
  {
   "cell_type": "code",
   "execution_count": 12,
   "id": "87da1d8c",
   "metadata": {},
   "outputs": [],
   "source": [
    "# create a plot widget\n",
    "t_max = viewer.dims.range[0][1]\n",
    "plot_widget = bv_f.build_lineage_widget(t_max)\n",
    "\n",
    "# create a list of promising tracks\n",
    "promise_list = [int(x) for x in set(df.loc[df.promise==True,'track_id'])]\n",
    "promise_list.append(0)\n",
    "promise_list.sort()"
   ]
  },
  {
   "cell_type": "markdown",
   "id": "45397f71",
   "metadata": {},
   "source": [
    "## Build viewer functionality"
   ]
  },
  {
   "cell_type": "code",
   "execution_count": 13,
   "id": "b11ffa1a",
   "metadata": {},
   "outputs": [],
   "source": [
    "# inject global variables to the module\n",
    "\n",
    "global_variables = ['viewer','plot_widget',\n",
    "                    'exp_dir','df_name','df',\n",
    "                    'channel_list','graph_list',\n",
    "                    'object_properties','promise_list',\n",
    "                    'time_threshold','flag_list',\n",
    "                    'tag_list','gen_track_columns',\n",
    "                    'small_im_size',\n",
    "                    'label_contour'\n",
    "                   ]\n",
    "\n",
    "for var in global_variables:\n",
    "    \n",
    "    exec(f'bv_f.{var} = {var}')"
   ]
  },
  {
   "cell_type": "code",
   "execution_count": 14,
   "id": "d4a876af",
   "metadata": {},
   "outputs": [],
   "source": [
    "######################################################################\n",
    "# add saving button\n",
    "save_data = magicgui(bv_f.save_data, call_button='Save Data')\n",
    "viewer.window.add_dock_widget(save_data,area='right')\n",
    "\n",
    "######################################################################\n",
    "# add right-click to make a label active\n",
    "labels_layer.mouse_drag_callbacks.append(bv_f.select_label)\n",
    "\n",
    "######################################################################\n",
    "# add label modifications\n",
    "\n",
    "mod_label = magicgui(bv_f.mod_label,call_button='Modify Label')\n",
    "viewer.window.add_dock_widget(mod_label,area='right')\n",
    "\n",
    "mod_key = viewer.bind_key('Shift-Enter',overwrite=True,func=bv_f.mod_label)\n",
    "\n",
    "######################################################################\n",
    "# add track modifying buttons\n",
    "\n",
    "cut_track = magicgui(bv_f.cut_track, call_button='Cut Track')\n",
    "merge_track = magicgui(bv_f.merge_track, call_button='Merge Track')\n",
    "connect_track = magicgui(bv_f.connect_track, call_button='Connect Track')\n",
    "\n",
    "container_tracks = Container(widgets=[cut_track,merge_track,connect_track],labels=False)\n",
    "viewer.window.add_dock_widget(container_tracks,area='right') \n",
    "\n",
    "######################################################################\n",
    "# add right-click toggle track tags\n",
    "for tag_name in [x['tag_name'] for x in tag_list]:\n",
    "    \n",
    "    viewer.layers[tag_name].mouse_drag_callbacks.append(bv_f.toggle_track)\n",
    "\n",
    "######################################################################\n",
    "# add navigation in the track\n",
    "begin_button= magicgui(bv_f.go_to_track_beginning,call_button=\"<\")\n",
    "end_button= magicgui(bv_f.go_to_track_end,call_button=\">\")\n",
    "center_button = magicgui(bv_f.center_the_cell,call_button=\"<>\")\n",
    "\n",
    "c = Container(widgets=[begin_button,center_button, end_button],layout='horizontal',labels=False)\n",
    "viewer.window.add_dock_widget(c,area='right',name='Navigate Track')\n",
    "    \n",
    "######################################################################\n",
    "# add small stack display button\n",
    "\n",
    "stack_button = magicgui(bv_f.show_stack, call_button='Show Stack')\n",
    "viewer.window.add_dock_widget(stack_button,area='right')\n",
    "\n",
    "#####################################################################\n",
    "# button for next available track\n",
    "next_label_button = magicgui(bv_f.next_label, call_button='Next Label')\n",
    "viewer.window.add_dock_widget(next_label_button,area='left',name='Next Available Label')\n",
    "\n",
    "######################################################################\n",
    "# add navigation over promising tracks\n",
    "\n",
    "widget_label_promise = Label(value=f'Number of promising tracks: {(len(promise_list)-1)}', label=\"Promising tracks:\")\n",
    "widget_list_promise = Dropdown(choices=promise_list, value = 0)\n",
    "bv_f.select_promising_track = widget_list_promise.changed.connect(bv_f.select_promising_track)\n",
    "\n",
    "prom_c = Container(widgets=[widget_label_promise,widget_list_promise],layout='horizontal',labels=False)\n",
    "\n",
    "viewer.window.add_dock_widget(prom_c,area='left',name='Choose a promising track')\n",
    "\n",
    "########################################################################\n",
    "# add lineage graph\n",
    "viewer.window.add_dock_widget(plot_widget,area='bottom',name='family')\n",
    "\n",
    "# connect lineage graph update\n",
    "labels_layer.events.selected_label.connect(bv_f.update_lineage_display)\n",
    "\n",
    "# init family line\n",
    "bv_f.init_family_line(0)\n",
    "\n",
    "\n",
    "########################################################################\n",
    "# share menu specific elements\n",
    "widget_variables=['promise_list','widget_label_promise','widget_list_promise']\n",
    "for var in widget_variables:\n",
    "    \n",
    "    exec(f'bv_f.{var} = {var}')"
   ]
  }
 ],
 "metadata": {
  "kernelspec": {
   "display_name": "Python 3 (ipykernel)",
   "language": "python",
   "name": "python3"
  },
  "language_info": {
   "codemirror_mode": {
    "name": "ipython",
    "version": 3
   },
   "file_extension": ".py",
   "mimetype": "text/x-python",
   "name": "python",
   "nbconvert_exporter": "python",
   "pygments_lexer": "ipython3",
   "version": "3.7.10"
  }
 },
 "nbformat": 4,
 "nbformat_minor": 5
}
