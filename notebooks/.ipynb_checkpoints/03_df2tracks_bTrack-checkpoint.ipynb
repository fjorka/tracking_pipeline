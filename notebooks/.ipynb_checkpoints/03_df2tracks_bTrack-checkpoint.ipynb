{
 "cells": [
  {
   "cell_type": "code",
   "execution_count": 1,
   "id": "f49352f4",
   "metadata": {},
   "outputs": [],
   "source": [
    "%load_ext autoreload\n",
    "%autoreload 2\n",
    "\n",
    "import os\n",
    "import sys\n",
    "import time\n",
    "import pickle\n",
    "import napari\n",
    "import numpy as np\n",
    "import pandas as pd\n",
    "\n",
    "from skimage.io import imread\n",
    "\n",
    "import btrack\n",
    "from btrack.constants import BayesianUpdates\n",
    "\n",
    "sys.path.append('../libraries')\n",
    "import input_functions as inp_f"
   ]
  },
  {
   "cell_type": "code",
   "execution_count": 2,
   "id": "ace00128",
   "metadata": {},
   "outputs": [],
   "source": [
    "info_file_path = r'Z:\\Sonja\\210910_endo_meso_52\\210910_endo_meso_52_info.txt'"
   ]
  },
  {
   "cell_type": "code",
   "execution_count": 3,
   "id": "ade417d1",
   "metadata": {},
   "outputs": [],
   "source": [
    "# read the file\n",
    "info_file = open(info_file_path, 'r')\n",
    "info_lines = info_file.readlines()\n",
    "info_file.close()\n",
    "\n",
    "# read info about the data frame\n",
    "exp_dir,df_name = inp_f.read_df_info(info_lines)\n",
    "\n",
    "df_dir = os.path.join(exp_dir,'df')\n",
    "save_dir = df_dir\n",
    "\n",
    "frames_to_exclude = inp_f.read_frames_2_exclude(info_lines)\n",
    "frames_to_exclude = eval(frames_to_exclude)\n",
    "\n",
    "modelPath = os.path.join(exp_dir,'code','libraries','cell_config.json')"
   ]
  },
  {
   "cell_type": "markdown",
   "id": "6e12d00b",
   "metadata": {},
   "source": [
    "## Read in the data frame objects data"
   ]
  },
  {
   "cell_type": "code",
   "execution_count": 4,
   "id": "b1afb219",
   "metadata": {},
   "outputs": [],
   "source": [
    "data_df = pd.read_pickle(os.path.join(df_dir,df_name))"
   ]
  },
  {
   "cell_type": "code",
   "execution_count": 5,
   "id": "ba6b00e6",
   "metadata": {},
   "outputs": [
    {
     "data": {
      "text/html": [
       "<div>\n",
       "<style scoped>\n",
       "    .dataframe tbody tr th:only-of-type {\n",
       "        vertical-align: middle;\n",
       "    }\n",
       "\n",
       "    .dataframe tbody tr th {\n",
       "        vertical-align: top;\n",
       "    }\n",
       "\n",
       "    .dataframe thead th {\n",
       "        text-align: right;\n",
       "    }\n",
       "</style>\n",
       "<table border=\"1\" class=\"dataframe\">\n",
       "  <thead>\n",
       "    <tr style=\"text-align: right;\">\n",
       "      <th></th>\n",
       "      <th>label</th>\n",
       "      <th>area</th>\n",
       "      <th>centroid-0</th>\n",
       "      <th>centroid-1</th>\n",
       "      <th>orientation</th>\n",
       "      <th>major_axis_length</th>\n",
       "      <th>minor_axis_length</th>\n",
       "      <th>bbox-0</th>\n",
       "      <th>bbox-1</th>\n",
       "      <th>bbox-2</th>\n",
       "      <th>...</th>\n",
       "      <th>size_y</th>\n",
       "      <th>track_id</th>\n",
       "      <th>x</th>\n",
       "      <th>y</th>\n",
       "      <th>parent</th>\n",
       "      <th>generation</th>\n",
       "      <th>root</th>\n",
       "      <th>accepted</th>\n",
       "      <th>rejected</th>\n",
       "      <th>promise</th>\n",
       "    </tr>\n",
       "  </thead>\n",
       "  <tbody>\n",
       "    <tr>\n",
       "      <th>0</th>\n",
       "      <td>7</td>\n",
       "      <td>1338</td>\n",
       "      <td>37.109118</td>\n",
       "      <td>1727.743647</td>\n",
       "      <td>-0.369780</td>\n",
       "      <td>54.154746</td>\n",
       "      <td>32.189471</td>\n",
       "      <td>8</td>\n",
       "      <td>1708</td>\n",
       "      <td>62</td>\n",
       "      <td>...</td>\n",
       "      <td>2048</td>\n",
       "      <td>NaN</td>\n",
       "      <td>NaN</td>\n",
       "      <td>NaN</td>\n",
       "      <td>NaN</td>\n",
       "      <td>NaN</td>\n",
       "      <td>NaN</td>\n",
       "      <td>False</td>\n",
       "      <td>False</td>\n",
       "      <td>False</td>\n",
       "    </tr>\n",
       "    <tr>\n",
       "      <th>1</th>\n",
       "      <td>8</td>\n",
       "      <td>1373</td>\n",
       "      <td>40.700655</td>\n",
       "      <td>604.683176</td>\n",
       "      <td>-1.136684</td>\n",
       "      <td>48.529689</td>\n",
       "      <td>36.937616</td>\n",
       "      <td>22</td>\n",
       "      <td>579</td>\n",
       "      <td>63</td>\n",
       "      <td>...</td>\n",
       "      <td>2048</td>\n",
       "      <td>NaN</td>\n",
       "      <td>NaN</td>\n",
       "      <td>NaN</td>\n",
       "      <td>NaN</td>\n",
       "      <td>NaN</td>\n",
       "      <td>NaN</td>\n",
       "      <td>False</td>\n",
       "      <td>False</td>\n",
       "      <td>False</td>\n",
       "    </tr>\n",
       "    <tr>\n",
       "      <th>2</th>\n",
       "      <td>9</td>\n",
       "      <td>1246</td>\n",
       "      <td>42.348315</td>\n",
       "      <td>389.571429</td>\n",
       "      <td>0.927465</td>\n",
       "      <td>53.063363</td>\n",
       "      <td>30.931133</td>\n",
       "      <td>24</td>\n",
       "      <td>364</td>\n",
       "      <td>64</td>\n",
       "      <td>...</td>\n",
       "      <td>2048</td>\n",
       "      <td>NaN</td>\n",
       "      <td>NaN</td>\n",
       "      <td>NaN</td>\n",
       "      <td>NaN</td>\n",
       "      <td>NaN</td>\n",
       "      <td>NaN</td>\n",
       "      <td>False</td>\n",
       "      <td>False</td>\n",
       "      <td>False</td>\n",
       "    </tr>\n",
       "    <tr>\n",
       "      <th>3</th>\n",
       "      <td>10</td>\n",
       "      <td>1119</td>\n",
       "      <td>47.858803</td>\n",
       "      <td>847.581769</td>\n",
       "      <td>1.024182</td>\n",
       "      <td>53.249772</td>\n",
       "      <td>27.858318</td>\n",
       "      <td>30</td>\n",
       "      <td>826</td>\n",
       "      <td>67</td>\n",
       "      <td>...</td>\n",
       "      <td>2048</td>\n",
       "      <td>NaN</td>\n",
       "      <td>NaN</td>\n",
       "      <td>NaN</td>\n",
       "      <td>NaN</td>\n",
       "      <td>NaN</td>\n",
       "      <td>NaN</td>\n",
       "      <td>False</td>\n",
       "      <td>False</td>\n",
       "      <td>False</td>\n",
       "    </tr>\n",
       "    <tr>\n",
       "      <th>4</th>\n",
       "      <td>11</td>\n",
       "      <td>1532</td>\n",
       "      <td>49.441906</td>\n",
       "      <td>1182.359661</td>\n",
       "      <td>-0.666132</td>\n",
       "      <td>57.934427</td>\n",
       "      <td>34.102222</td>\n",
       "      <td>23</td>\n",
       "      <td>1159</td>\n",
       "      <td>74</td>\n",
       "      <td>...</td>\n",
       "      <td>2048</td>\n",
       "      <td>NaN</td>\n",
       "      <td>NaN</td>\n",
       "      <td>NaN</td>\n",
       "      <td>NaN</td>\n",
       "      <td>NaN</td>\n",
       "      <td>NaN</td>\n",
       "      <td>False</td>\n",
       "      <td>False</td>\n",
       "      <td>False</td>\n",
       "    </tr>\n",
       "  </tbody>\n",
       "</table>\n",
       "<p>5 rows × 31 columns</p>\n",
       "</div>"
      ],
      "text/plain": [
       "   label  area  centroid-0   centroid-1  orientation  major_axis_length  \\\n",
       "0      7  1338   37.109118  1727.743647    -0.369780          54.154746   \n",
       "1      8  1373   40.700655   604.683176    -1.136684          48.529689   \n",
       "2      9  1246   42.348315   389.571429     0.927465          53.063363   \n",
       "3     10  1119   47.858803   847.581769     1.024182          53.249772   \n",
       "4     11  1532   49.441906  1182.359661    -0.666132          57.934427   \n",
       "\n",
       "   minor_axis_length  bbox-0  bbox-1  bbox-2  ...  size_y track_id   x   y  \\\n",
       "0          32.189471       8    1708      62  ...    2048      NaN NaN NaN   \n",
       "1          36.937616      22     579      63  ...    2048      NaN NaN NaN   \n",
       "2          30.931133      24     364      64  ...    2048      NaN NaN NaN   \n",
       "3          27.858318      30     826      67  ...    2048      NaN NaN NaN   \n",
       "4          34.102222      23    1159      74  ...    2048      NaN NaN NaN   \n",
       "\n",
       "  parent  generation  root  accepted  rejected  promise  \n",
       "0    NaN         NaN   NaN     False     False    False  \n",
       "1    NaN         NaN   NaN     False     False    False  \n",
       "2    NaN         NaN   NaN     False     False    False  \n",
       "3    NaN         NaN   NaN     False     False    False  \n",
       "4    NaN         NaN   NaN     False     False    False  \n",
       "\n",
       "[5 rows x 31 columns]"
      ]
     },
     "execution_count": 5,
     "metadata": {},
     "output_type": "execute_result"
    }
   ],
   "source": [
    "data_df.head()"
   ]
  },
  {
   "cell_type": "code",
   "execution_count": 6,
   "id": "e56aae03",
   "metadata": {},
   "outputs": [
    {
     "data": {
      "text/plain": [
       "223543"
      ]
     },
     "execution_count": 6,
     "metadata": {},
     "output_type": "execute_result"
    }
   ],
   "source": [
    "len(data_df)"
   ]
  },
  {
   "cell_type": "code",
   "execution_count": 8,
   "id": "753a5c18",
   "metadata": {},
   "outputs": [
    {
     "data": {
      "text/plain": [
       "Index(['label', 'area', 'centroid-0', 'centroid-1', 'orientation',\n",
       "       'major_axis_length', 'minor_axis_length', 'bbox-0', 'bbox-1', 'bbox-2',\n",
       "       'bbox-3', 'image', 'mean_intensity-0_nuc', 'mean_intensity-1_nuc',\n",
       "       'file', 't', 'centroid-0_ring', 'centroid-1_ring',\n",
       "       'mean_intensity-0_ring', 'mean_intensity-1_ring', 'size_x', 'size_y',\n",
       "       'track_id', 'x', 'y', 'parent', 'generation', 'root', 'accepted',\n",
       "       'rejected', 'promise'],\n",
       "      dtype='object')"
      ]
     },
     "execution_count": 8,
     "metadata": {},
     "output_type": "execute_result"
    }
   ],
   "source": [
    "data_df.columns"
   ]
  },
  {
   "cell_type": "code",
   "execution_count": 24,
   "id": "70555df4",
   "metadata": {},
   "outputs": [
    {
     "data": {
      "text/html": [
       "<div>\n",
       "<style scoped>\n",
       "    .dataframe tbody tr th:only-of-type {\n",
       "        vertical-align: middle;\n",
       "    }\n",
       "\n",
       "    .dataframe tbody tr th {\n",
       "        vertical-align: top;\n",
       "    }\n",
       "\n",
       "    .dataframe thead th {\n",
       "        text-align: right;\n",
       "    }\n",
       "</style>\n",
       "<table border=\"1\" class=\"dataframe\">\n",
       "  <thead>\n",
       "    <tr style=\"text-align: right;\">\n",
       "      <th></th>\n",
       "      <th>ID</th>\n",
       "      <th>area</th>\n",
       "      <th>x</th>\n",
       "      <th>y</th>\n",
       "      <th>major_axis_length</th>\n",
       "      <th>minor_axis_length</th>\n",
       "      <th>t</th>\n",
       "      <th>z</th>\n",
       "      <th>label</th>\n",
       "      <th>prob</th>\n",
       "      <th>dummy</th>\n",
       "      <th>states</th>\n",
       "    </tr>\n",
       "  </thead>\n",
       "  <tbody>\n",
       "    <tr>\n",
       "      <th>0</th>\n",
       "      <td>1</td>\n",
       "      <td>468</td>\n",
       "      <td>242.927350</td>\n",
       "      <td>116.311966</td>\n",
       "      <td>31.789823</td>\n",
       "      <td>19.717788</td>\n",
       "      <td>0</td>\n",
       "      <td>0</td>\n",
       "      <td>5</td>\n",
       "      <td>0</td>\n",
       "      <td>False</td>\n",
       "      <td>0</td>\n",
       "    </tr>\n",
       "    <tr>\n",
       "      <th>1</th>\n",
       "      <td>2</td>\n",
       "      <td>884</td>\n",
       "      <td>653.042986</td>\n",
       "      <td>129.785068</td>\n",
       "      <td>34.679214</td>\n",
       "      <td>32.570490</td>\n",
       "      <td>0</td>\n",
       "      <td>0</td>\n",
       "      <td>5</td>\n",
       "      <td>0</td>\n",
       "      <td>False</td>\n",
       "      <td>0</td>\n",
       "    </tr>\n",
       "    <tr>\n",
       "      <th>2</th>\n",
       "      <td>3</td>\n",
       "      <td>456</td>\n",
       "      <td>2286.605263</td>\n",
       "      <td>150.692982</td>\n",
       "      <td>27.568883</td>\n",
       "      <td>21.199744</td>\n",
       "      <td>0</td>\n",
       "      <td>0</td>\n",
       "      <td>5</td>\n",
       "      <td>0</td>\n",
       "      <td>False</td>\n",
       "      <td>0</td>\n",
       "    </tr>\n",
       "    <tr>\n",
       "      <th>3</th>\n",
       "      <td>4</td>\n",
       "      <td>220</td>\n",
       "      <td>110.900000</td>\n",
       "      <td>199.009091</td>\n",
       "      <td>20.282340</td>\n",
       "      <td>14.171414</td>\n",
       "      <td>0</td>\n",
       "      <td>0</td>\n",
       "      <td>5</td>\n",
       "      <td>0</td>\n",
       "      <td>False</td>\n",
       "      <td>0</td>\n",
       "    </tr>\n",
       "    <tr>\n",
       "      <th>4</th>\n",
       "      <td>5</td>\n",
       "      <td>436</td>\n",
       "      <td>50.940367</td>\n",
       "      <td>246.500000</td>\n",
       "      <td>26.015226</td>\n",
       "      <td>21.884491</td>\n",
       "      <td>0</td>\n",
       "      <td>0</td>\n",
       "      <td>5</td>\n",
       "      <td>0</td>\n",
       "      <td>False</td>\n",
       "      <td>0</td>\n",
       "    </tr>\n",
       "  </tbody>\n",
       "</table>\n",
       "</div>"
      ],
      "text/plain": [
       "   ID  area            x           y  major_axis_length  minor_axis_length  t  \\\n",
       "0   1   468   242.927350  116.311966          31.789823          19.717788  0   \n",
       "1   2   884   653.042986  129.785068          34.679214          32.570490  0   \n",
       "2   3   456  2286.605263  150.692982          27.568883          21.199744  0   \n",
       "3   4   220   110.900000  199.009091          20.282340          14.171414  0   \n",
       "4   5   436    50.940367  246.500000          26.015226          21.884491  0   \n",
       "\n",
       "   z  label  prob  dummy  states  \n",
       "0  0      5     0  False       0  \n",
       "1  0      5     0  False       0  \n",
       "2  0      5     0  False       0  \n",
       "3  0      5     0  False       0  \n",
       "4  0      5     0  False       0  "
      ]
     },
     "execution_count": 24,
     "metadata": {},
     "output_type": "execute_result"
    }
   ],
   "source": [
    "# create a structure suitable for tracking\n",
    "\n",
    "# choose objects \n",
    "sel_vector = [not(x in frames_to_exclude) for x in data_df.t]\n",
    "\n",
    "objects_gen = data_df.loc[sel_vector,['label','area','centroid-1','centroid-0','major_axis_length','minor_axis_length','t']]\n",
    "\n",
    "objects_gen.columns=['ID', 'area', 'x', 'y', 'major_axis_length','minor_axis_length','t']\n",
    "objects_gen['z']=0\n",
    "objects_gen['label']=5\n",
    "objects_gen['prob']=0\n",
    "objects_gen['dummy']=False\n",
    "objects_gen['states']=0\n",
    "\n",
    "objects_gen.head()"
   ]
  },
  {
   "cell_type": "code",
   "execution_count": 25,
   "id": "6b974e07",
   "metadata": {},
   "outputs": [
    {
     "data": {
      "text/plain": [
       "131375"
      ]
     },
     "execution_count": 25,
     "metadata": {},
     "output_type": "execute_result"
    }
   ],
   "source": [
    "len(objects_gen)"
   ]
  },
  {
   "cell_type": "markdown",
   "id": "c87b43d6",
   "metadata": {},
   "source": [
    "## Tracking proper"
   ]
  },
  {
   "cell_type": "code",
   "execution_count": 26,
   "id": "52a3c0da",
   "metadata": {},
   "outputs": [
    {
     "name": "stderr",
     "output_type": "stream",
     "text": [
      "[INFO][2021/11/24 11:42:22 AM] Loaded btrack: C:\\Users\\kmkedz\\AppData\\Roaming\\Python\\Python37\\site-packages\\btrack\\libs\\libtracker.DLL\n",
      "[INFO][2021/11/24 11:42:22 AM] btrack (v0.4.2) library imported\n",
      "[INFO][2021/11/24 11:42:22 AM] Setting max XYZ search radius to: 100\n",
      "[INFO][2021/11/24 11:42:22 AM] Starting BayesianTracker session\n",
      "[INFO][2021/11/24 11:42:22 AM] Loading configuration file: Z:\\Wayne\\20210928_timelapse_arrest\\210928_fov_03\\code\\libraries\\cell_config.json\n",
      "[INFO][2021/11/24 11:42:22 AM] Loading motion model: b'cell_motion'\n",
      "[INFO][2021/11/24 11:42:22 AM] Setting Bayesian update method to: BayesianUpdates.APPROXIMATE\n",
      "[INFO][2021/11/24 11:42:22 AM] Setting max XYZ search radius to: 100\n",
      "[INFO][2021/11/24 11:42:22 AM] Objects are of type: <class 'pandas.core.frame.DataFrame'>\n",
      "[INFO][2021/11/24 11:42:25 AM] Set volume to ((0, 2765), (0, 2765), (-100000.0, 100000.0))\n",
      "[INFO][2021/11/24 11:42:25 AM] Starting tracking... \n",
      "[INFO][2021/11/24 11:42:25 AM] Tracking objects in frames 0 to 99 (of 287)...\n",
      "[INFO][2021/11/24 11:42:25 AM]  - Timing (Bayesian updates: 3.00ms, Linking: 4.00ms)\n",
      "[INFO][2021/11/24 11:42:25 AM]  - Probabilities (Link: 1.00000, Lost: 1.00000)\n",
      "[INFO][2021/11/24 11:42:25 AM]  - Stats (Active: 435, Lost: 7618, Conflicts resolved: 989)\n",
      "[INFO][2021/11/24 11:42:25 AM] Tracking objects in frames 100 to 199 (of 287)...\n",
      "[INFO][2021/11/24 11:42:27 AM]  - Timing (Bayesian updates: 10.00ms, Linking: 6.00ms)\n",
      "[INFO][2021/11/24 11:42:27 AM]  - Probabilities (Link: 1.00000, Lost: 0.70469)\n",
      "[INFO][2021/11/24 11:42:27 AM]  - Stats (Active: 758, Lost: 17873, Conflicts resolved: 3571)\n",
      "[INFO][2021/11/24 11:42:27 AM] Tracking objects in frames 200 to 287 (of 287)...\n",
      "[INFO][2021/11/24 11:42:28 AM]  - Timing (Bayesian updates: 11.00ms, Linking: 6.00ms)\n",
      "[INFO][2021/11/24 11:42:28 AM]  - Probabilities (Link: 0.99991, Lost: 1.00000)\n",
      "[INFO][2021/11/24 11:42:28 AM] SUCCESS.\n",
      "[INFO][2021/11/24 11:42:28 AM]  - Found 6524 tracks in 287 frames (in 0.0s)\n",
      "[INFO][2021/11/24 11:42:28 AM]  - Inserted 5170 dummy objects to fill tracking gaps\n",
      "[INFO][2021/11/24 11:42:28 AM] Loading hypothesis model: cell_hypothesis\n",
      "[INFO][2021/11/24 11:42:28 AM] Calculating hypotheses (relax: True)...\n",
      "[INFO][2021/11/24 11:42:29 AM] Setting up constraints matrix for global optimisation...\n",
      "[INFO][2021/11/24 11:42:29 AM] Optimizing...\n",
      "[INFO][2021/11/24 11:42:31 AM] Optimization complete. (Solution: optimal)\n",
      "[INFO][2021/11/24 11:42:31 AM]  - Fates.FALSE_POSITIVE: 2401 (of 6524)\n",
      "[INFO][2021/11/24 11:42:31 AM]  - Fates.LINK: 1779 (of 2473)\n",
      "[INFO][2021/11/24 11:42:31 AM]  - Fates.DIVIDE: 89 (of 269)\n",
      "[INFO][2021/11/24 11:42:31 AM]  - Fates.INITIALIZE_BORDER: 336 (of 498)\n",
      "[INFO][2021/11/24 11:42:31 AM]  - Fates.INITIALIZE_FRONT: 126 (of 198)\n",
      "[INFO][2021/11/24 11:42:31 AM]  - Fates.INITIALIZE_LAZY: 1704 (of 5828)\n",
      "[INFO][2021/11/24 11:42:31 AM]  - Fates.TERMINATE_BORDER: 276 (of 433)\n",
      "[INFO][2021/11/24 11:42:31 AM]  - Fates.TERMINATE_BACK: 689 (of 831)\n",
      "[INFO][2021/11/24 11:42:31 AM]  - Fates.TERMINATE_LAZY: 1290 (of 5260)\n",
      "[INFO][2021/11/24 11:42:31 AM]  - TOTAL: 22314 hypotheses\n",
      "[INFO][2021/11/24 11:42:31 AM] Completed optimization with 4745 tracks\n",
      "[INFO][2021/11/24 11:42:33 AM] Ending BayesianTracker session\n"
     ]
    }
   ],
   "source": [
    "# initialise a tracker session using a context manager\n",
    "with btrack.BayesianTracker() as tracker:\n",
    "\n",
    "    # configure the tracker using a config file\n",
    "    tracker.configure_from_file(modelPath)\n",
    "    \n",
    "    # approximate\n",
    "    tracker.update_method = BayesianUpdates.APPROXIMATE\n",
    "    tracker.max_search_radius = 100\n",
    "\n",
    "    # append the objects to be tracked\n",
    "    tracker.append(objects_gen)\n",
    "\n",
    "    # set the volume (Z axis volume is set very large for 2D data)\n",
    "    tracker.volume=((0, data_df.size_x[0]), (0, data_df.size_y[0]), (-1e5, 1e5))\n",
    "\n",
    "    # track them (in interactive mode)\n",
    "    tracker.track_interactive(step_size=100)\n",
    "\n",
    "    # generate hypotheses and run the global optimizer\n",
    "    tracker.optimize()\n",
    "\n",
    "    # optional: get the data in a format for napari\n",
    "    data, properties, graph = tracker.to_napari(ndim=2)\n",
    "    # pickle Napari data\n",
    "    with open(os.path.join(df_dir,'track.pkl'),'wb') as f:\n",
    "        pickle.dump([data,properties,graph],f)"
   ]
  },
  {
   "cell_type": "markdown",
   "id": "ed80fdcf",
   "metadata": {},
   "source": [
    "## Merging objects and tracking information"
   ]
  },
  {
   "cell_type": "code",
   "execution_count": 27,
   "id": "8b0841c1",
   "metadata": {},
   "outputs": [],
   "source": [
    "trackDataAll = pd.DataFrame(data,columns=['track_id','t','x','y'])\n",
    "trackDataAll['parent'] = properties['parent']\n",
    "trackDataAll['generation'] = properties['generation']\n",
    "trackDataAll['root'] = properties['root']"
   ]
  },
  {
   "cell_type": "code",
   "execution_count": 28,
   "id": "47a321d3",
   "metadata": {},
   "outputs": [
    {
     "data": {
      "text/plain": [
       "136544"
      ]
     },
     "execution_count": 28,
     "metadata": {},
     "output_type": "execute_result"
    }
   ],
   "source": [
    "len(trackDataAll)"
   ]
  },
  {
   "cell_type": "code",
   "execution_count": 29,
   "id": "f9b1de5f",
   "metadata": {},
   "outputs": [
    {
     "data": {
      "text/html": [
       "<div>\n",
       "<style scoped>\n",
       "    .dataframe tbody tr th:only-of-type {\n",
       "        vertical-align: middle;\n",
       "    }\n",
       "\n",
       "    .dataframe tbody tr th {\n",
       "        vertical-align: top;\n",
       "    }\n",
       "\n",
       "    .dataframe thead th {\n",
       "        text-align: right;\n",
       "    }\n",
       "</style>\n",
       "<table border=\"1\" class=\"dataframe\">\n",
       "  <thead>\n",
       "    <tr style=\"text-align: right;\">\n",
       "      <th></th>\n",
       "      <th>track_id</th>\n",
       "      <th>t</th>\n",
       "      <th>x</th>\n",
       "      <th>y</th>\n",
       "      <th>parent</th>\n",
       "      <th>generation</th>\n",
       "      <th>root</th>\n",
       "    </tr>\n",
       "  </thead>\n",
       "  <tbody>\n",
       "    <tr>\n",
       "      <th>0</th>\n",
       "      <td>1.0</td>\n",
       "      <td>0.0</td>\n",
       "      <td>1840.193878</td>\n",
       "      <td>2217.806122</td>\n",
       "      <td>1</td>\n",
       "      <td>0</td>\n",
       "      <td>1</td>\n",
       "    </tr>\n",
       "    <tr>\n",
       "      <th>1</th>\n",
       "      <td>1.0</td>\n",
       "      <td>1.0</td>\n",
       "      <td>1849.055556</td>\n",
       "      <td>2211.253086</td>\n",
       "      <td>1</td>\n",
       "      <td>0</td>\n",
       "      <td>1</td>\n",
       "    </tr>\n",
       "    <tr>\n",
       "      <th>2</th>\n",
       "      <td>1.0</td>\n",
       "      <td>2.0</td>\n",
       "      <td>1864.229412</td>\n",
       "      <td>2201.476471</td>\n",
       "      <td>1</td>\n",
       "      <td>0</td>\n",
       "      <td>1</td>\n",
       "    </tr>\n",
       "    <tr>\n",
       "      <th>3</th>\n",
       "      <td>2.0</td>\n",
       "      <td>0.0</td>\n",
       "      <td>1681.365854</td>\n",
       "      <td>1790.182927</td>\n",
       "      <td>2</td>\n",
       "      <td>0</td>\n",
       "      <td>2</td>\n",
       "    </tr>\n",
       "    <tr>\n",
       "      <th>4</th>\n",
       "      <td>2.0</td>\n",
       "      <td>1.0</td>\n",
       "      <td>1681.313953</td>\n",
       "      <td>1786.500000</td>\n",
       "      <td>2</td>\n",
       "      <td>0</td>\n",
       "      <td>2</td>\n",
       "    </tr>\n",
       "    <tr>\n",
       "      <th>...</th>\n",
       "      <td>...</td>\n",
       "      <td>...</td>\n",
       "      <td>...</td>\n",
       "      <td>...</td>\n",
       "      <td>...</td>\n",
       "      <td>...</td>\n",
       "      <td>...</td>\n",
       "    </tr>\n",
       "    <tr>\n",
       "      <th>136539</th>\n",
       "      <td>6520.0</td>\n",
       "      <td>286.0</td>\n",
       "      <td>1322.763158</td>\n",
       "      <td>371.868421</td>\n",
       "      <td>6520</td>\n",
       "      <td>0</td>\n",
       "      <td>6520</td>\n",
       "    </tr>\n",
       "    <tr>\n",
       "      <th>136540</th>\n",
       "      <td>6521.0</td>\n",
       "      <td>286.0</td>\n",
       "      <td>888.220000</td>\n",
       "      <td>2453.300000</td>\n",
       "      <td>6521</td>\n",
       "      <td>0</td>\n",
       "      <td>6521</td>\n",
       "    </tr>\n",
       "    <tr>\n",
       "      <th>136541</th>\n",
       "      <td>6522.0</td>\n",
       "      <td>286.0</td>\n",
       "      <td>1031.000000</td>\n",
       "      <td>2156.863636</td>\n",
       "      <td>6522</td>\n",
       "      <td>0</td>\n",
       "      <td>6522</td>\n",
       "    </tr>\n",
       "    <tr>\n",
       "      <th>136542</th>\n",
       "      <td>6523.0</td>\n",
       "      <td>286.0</td>\n",
       "      <td>1041.694030</td>\n",
       "      <td>636.171642</td>\n",
       "      <td>6523</td>\n",
       "      <td>0</td>\n",
       "      <td>6523</td>\n",
       "    </tr>\n",
       "    <tr>\n",
       "      <th>136543</th>\n",
       "      <td>6524.0</td>\n",
       "      <td>286.0</td>\n",
       "      <td>898.625786</td>\n",
       "      <td>1611.625786</td>\n",
       "      <td>6524</td>\n",
       "      <td>0</td>\n",
       "      <td>6524</td>\n",
       "    </tr>\n",
       "  </tbody>\n",
       "</table>\n",
       "<p>136544 rows × 7 columns</p>\n",
       "</div>"
      ],
      "text/plain": [
       "        track_id      t            x            y  parent  generation  root\n",
       "0            1.0    0.0  1840.193878  2217.806122       1           0     1\n",
       "1            1.0    1.0  1849.055556  2211.253086       1           0     1\n",
       "2            1.0    2.0  1864.229412  2201.476471       1           0     1\n",
       "3            2.0    0.0  1681.365854  1790.182927       2           0     2\n",
       "4            2.0    1.0  1681.313953  1786.500000       2           0     2\n",
       "...          ...    ...          ...          ...     ...         ...   ...\n",
       "136539    6520.0  286.0  1322.763158   371.868421    6520           0  6520\n",
       "136540    6521.0  286.0   888.220000  2453.300000    6521           0  6521\n",
       "136541    6522.0  286.0  1031.000000  2156.863636    6522           0  6522\n",
       "136542    6523.0  286.0  1041.694030   636.171642    6523           0  6523\n",
       "136543    6524.0  286.0   898.625786  1611.625786    6524           0  6524\n",
       "\n",
       "[136544 rows x 7 columns]"
      ]
     },
     "execution_count": 29,
     "metadata": {},
     "output_type": "execute_result"
    }
   ],
   "source": [
    "trackDataAll"
   ]
  },
  {
   "cell_type": "code",
   "execution_count": 30,
   "id": "6851c7dc",
   "metadata": {
    "scrolled": true
   },
   "outputs": [],
   "source": [
    "allData = pd.merge(left=data_df,right=trackDataAll,left_on=['centroid-0','centroid-1','t'],right_on=['x','y','t'],how='left')"
   ]
  },
  {
   "cell_type": "code",
   "execution_count": 31,
   "id": "a0f4ff1f",
   "metadata": {},
   "outputs": [
    {
     "name": "stdout",
     "output_type": "stream",
     "text": [
      "Number of all objects: 131375\n"
     ]
    }
   ],
   "source": [
    "print(f'Number of all objects: {len(allData)}')"
   ]
  },
  {
   "cell_type": "code",
   "execution_count": 32,
   "id": "124c8613",
   "metadata": {},
   "outputs": [
    {
     "name": "stdout",
     "output_type": "stream",
     "text": [
      "Number of objects without track_id: 1\n"
     ]
    }
   ],
   "source": [
    "# check how many objects doesn't have a track_id\n",
    "test = np.sum(allData.track_id!=allData.track_id)\n",
    "print(f'Number of objects without track_id: {test}')"
   ]
  },
  {
   "cell_type": "markdown",
   "id": "e187e177",
   "metadata": {},
   "source": [
    "## Be careful!!!"
   ]
  },
  {
   "cell_type": "code",
   "execution_count": 33,
   "id": "f1335a55",
   "metadata": {},
   "outputs": [
    {
     "name": "stdout",
     "output_type": "stream",
     "text": [
      "Number of all objects: 131374\n"
     ]
    }
   ],
   "source": [
    "# consider removing\n",
    "allData = allData.loc[allData.track_id==allData.track_id,:]\n",
    "print(f'Number of all objects: {len(allData)}')"
   ]
  },
  {
   "cell_type": "markdown",
   "id": "47b83438",
   "metadata": {},
   "source": [
    "## Define promising tracks"
   ]
  },
  {
   "cell_type": "markdown",
   "id": "69a7b8cb",
   "metadata": {},
   "source": [
    "This part is manual at the moment."
   ]
  },
  {
   "cell_type": "code",
   "execution_count": 34,
   "id": "13e7d358",
   "metadata": {},
   "outputs": [
    {
     "name": "stdout",
     "output_type": "stream",
     "text": [
      "4745\n"
     ]
    }
   ],
   "source": [
    "my_tracks = set(allData.track_id)\n",
    "print(len(my_tracks))"
   ]
  },
  {
   "cell_type": "code",
   "execution_count": 35,
   "id": "b9462e1b",
   "metadata": {},
   "outputs": [],
   "source": [
    "allData['accepted'] = False\n",
    "allData['rejected'] = False\n",
    "allData['promise'] = False\n",
    "\n",
    "# mark tracks longer than 100 as promising\n",
    "tracks_set = set(allData.track_id)\n",
    "\n",
    "track_len=[]\n",
    "promise_list = []\n",
    "for track in tracks_set:\n",
    "    \n",
    "    # prepare signals for this track\n",
    "    sel_signal = allData.loc[allData.track_id == track,['t','mean_intensity-0_nuc','mean_intensity-0_ring']]\n",
    "    sel_signal.sort_values(by='t',inplace=True)\n",
    "    sel_mean = sel_signal.rolling(9,min_periods = 9,center=True).mean()\n",
    "    \n",
    "    # test - length\n",
    "    track_test = len(sel_signal)>50\n",
    "    \n",
    "    track_len.append(len(sel_signal))\n",
    "    \n",
    "    # test - DHB presence\n",
    "    dhb_test = np.sum(sel_mean['mean_intensity-0_nuc'] > (sel_mean['mean_intensity-0_ring']+100)) > 10\n",
    "    \n",
    "    if (track_test and dhb_test):\n",
    "        \n",
    "        promise_list.append(track)\n",
    "        \n",
    "        allData.loc[allData.track_id==track,'promise'] = True"
   ]
  },
  {
   "cell_type": "code",
   "execution_count": 36,
   "id": "5eaaf398",
   "metadata": {},
   "outputs": [
    {
     "data": {
      "text/plain": [
       "199"
      ]
     },
     "execution_count": 36,
     "metadata": {},
     "output_type": "execute_result"
    }
   ],
   "source": [
    "len(promise_list)"
   ]
  },
  {
   "cell_type": "markdown",
   "id": "a062a940",
   "metadata": {},
   "source": [
    "## Create columns for requested annotations"
   ]
  },
  {
   "cell_type": "code",
   "execution_count": 37,
   "id": "a2034586",
   "metadata": {},
   "outputs": [],
   "source": [
    "# get info about the tags (for annotating points on the tracks)\n",
    "flag_list = inp_f.read_flags(info_lines,df=allData)\n",
    "\n",
    "for flag in flag_list:\n",
    "    \n",
    "    allData[flag['flag_column']]=False"
   ]
  },
  {
   "cell_type": "code",
   "execution_count": 38,
   "id": "84b4e584",
   "metadata": {},
   "outputs": [],
   "source": [
    "# save df\n",
    "allData.to_pickle(os.path.join(df_dir,df_name))\n",
    "allData.to_csv(os.path.join(df_dir,df_name.replace('pkl','csv')),index=False)"
   ]
  },
  {
   "cell_type": "code",
   "execution_count": null,
   "id": "2e65640d",
   "metadata": {},
   "outputs": [],
   "source": []
  }
 ],
 "metadata": {
  "kernelspec": {
   "display_name": "Python 3 (ipykernel)",
   "language": "python",
   "name": "python3"
  },
  "language_info": {
   "codemirror_mode": {
    "name": "ipython",
    "version": 3
   },
   "file_extension": ".py",
   "mimetype": "text/x-python",
   "name": "python",
   "nbconvert_exporter": "python",
   "pygments_lexer": "ipython3",
   "version": "3.7.10"
  }
 },
 "nbformat": 4,
 "nbformat_minor": 5
}
