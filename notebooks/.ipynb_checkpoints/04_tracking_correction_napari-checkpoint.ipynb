{
 "cells": [
  {
   "cell_type": "code",
   "execution_count": 1,
   "id": "f49352f4",
   "metadata": {},
   "outputs": [],
   "source": [
    "%load_ext autoreload\n",
    "%autoreload 2\n",
    "\n",
    "import os\n",
    "import sys\n",
    "import warnings\n",
    "import pandas as pd\n",
    "import numpy as np\n",
    "from tifffile import imread\n",
    "from nd2reader import ND2Reader\n",
    "\n",
    "import napari\n",
    "from napari import Viewer\n",
    "from magicgui.widgets import Container,Label,Dropdown\n",
    "from magicgui import magicgui\n",
    "\n",
    "sys.path.append('../libraries')\n",
    "import general_functions as gen\n",
    "import napari_build_viewer as bv_f\n",
    "import input_functions as inp_f"
   ]
  },
  {
   "cell_type": "code",
   "execution_count": 2,
   "id": "af34d0ec",
   "metadata": {},
   "outputs": [],
   "source": [
    "warnings.filterwarnings('ignore')"
   ]
  },
  {
   "cell_type": "markdown",
   "id": "e43bd461",
   "metadata": {},
   "source": [
    "## Define experiment"
   ]
  },
  {
   "cell_type": "code",
   "execution_count": 3,
   "id": "40d35e83",
   "metadata": {},
   "outputs": [],
   "source": [
    "info_file_path = r'D:\\BARC\\BARC_Wanjuan\\210603_B3_5\\210603_halo_B3_5_info.txt'\n",
    "#info_file_path = r'Z:\\Wayne\\20210928_timelapse_arrest\\210928_fov_03\\210928_fov_03_info.txt'"
   ]
  },
  {
   "cell_type": "code",
   "execution_count": 4,
   "id": "5123d1f1",
   "metadata": {},
   "outputs": [],
   "source": [
    "# read the file\n",
    "info_file = open(info_file_path, 'r')\n",
    "info_lines = info_file.readlines()\n",
    "info_file.close()\n",
    "\n",
    "# read info about the data frame\n",
    "exp_dir,df_name = inp_f.read_df_info(info_lines)\n",
    "\n",
    "# read in the data frame\n",
    "df = pd.read_pickle(os.path.join(exp_dir,'df',df_name))\n",
    "\n",
    "# get info about the channels\n",
    "channel_list = inp_f.read_channels(info_lines,check=True,df=df,exp_dir=exp_dir)\n",
    "\n",
    "# get info about the tags (for annotating tracks)\n",
    "tag_list = inp_f.read_tags(info_lines,df=df)\n",
    "\n",
    "# get info about the tags (for annotating tracks)\n",
    "flag_list = inp_f.read_flags(info_lines,df=df)\n",
    "\n",
    "# get info about what will be plotted\n",
    "graph_list = inp_f.read_graphs(info_lines,df,channel_list)\n",
    "\n",
    "# get info about the general settings\n",
    "time_threshold,small_im_size,label_contour,gen_track_columns = inp_f.read_settings(info_lines)\n",
    "\n",
    "# get info about the caluclations \n",
    "object_properties = inp_f.read_properties(info_lines)\n",
    "# consider pushing properties_ring too"
   ]
  },
  {
   "cell_type": "markdown",
   "id": "be7b999a",
   "metadata": {},
   "source": [
    "## Extract info from the data frame"
   ]
  },
  {
   "cell_type": "code",
   "execution_count": 5,
   "id": "b18a3561",
   "metadata": {},
   "outputs": [],
   "source": [
    "# sort \n",
    "df = df.sort_values(by=['track_id','t'])"
   ]
  },
  {
   "cell_type": "markdown",
   "id": "5f421af9",
   "metadata": {},
   "source": [
    "Expected execution time < 1min."
   ]
  },
  {
   "cell_type": "code",
   "execution_count": 6,
   "id": "54c16abc",
   "metadata": {},
   "outputs": [
    {
     "name": "stdout",
     "output_type": "stream",
     "text": [
      "Wall time: 6.63 s\n"
     ]
    }
   ],
   "source": [
    "%%time\n",
    "\n",
    "# generate labels layer\n",
    "labels = gen.labels_from_df(df)"
   ]
  },
  {
   "cell_type": "code",
   "execution_count": 7,
   "id": "b2924595",
   "metadata": {},
   "outputs": [],
   "source": [
    "# generate data for the tracking layer\n",
    "data,properties,graph = gen.trackData_from_df(df,col_list = gen_track_columns)"
   ]
  },
  {
   "cell_type": "code",
   "execution_count": 8,
   "id": "8c174de8",
   "metadata": {},
   "outputs": [],
   "source": [
    "# create data for tagging\n",
    "tag_data = gen.tags_from_df(df,tag_list)"
   ]
  },
  {
   "cell_type": "markdown",
   "id": "c450ffba",
   "metadata": {},
   "source": [
    "## Read in images"
   ]
  },
  {
   "cell_type": "markdown",
   "id": "a34e96b9",
   "metadata": {},
   "source": [
    "Expected execution time ~ 10s/1GB"
   ]
  },
  {
   "cell_type": "code",
   "execution_count": 9,
   "id": "51b68f1e",
   "metadata": {},
   "outputs": [
    {
     "name": "stdout",
     "output_type": "stream",
     "text": [
      "Wall time: 19.2 s\n"
     ]
    }
   ],
   "source": [
    "%%time\n",
    "\n",
    "for ind,ch in enumerate(channel_list):\n",
    "    \n",
    "    im_path = os.path.join(exp_dir,'data',ch['file_name'])\n",
    "    c = ch['channel_in_file']\n",
    "    \n",
    "    channel_list[ind]['image'] = inp_f.open_movie(im_path,c)"
   ]
  },
  {
   "cell_type": "markdown",
   "id": "f8077a1f",
   "metadata": {},
   "source": [
    "## Create a viewer"
   ]
  },
  {
   "cell_type": "code",
   "execution_count": 74,
   "id": "8887aa3d",
   "metadata": {},
   "outputs": [],
   "source": [
    "viewer = napari.Viewer()\n",
    "\n",
    "# add a helper layer\n",
    "layer_mod = viewer.add_points([],name='Helper Points',face_color='red',ndim=3)\n",
    "\n",
    "# add tracks annotations\n",
    "for tag,tag_points in zip(tag_list,tag_data): \n",
    "    \n",
    "    viewer.add_points(tag_points,name=tag['tag_name'],face_color=tag['tag_color'],opacity = 1,ndim = 3)\n",
    "\n",
    "# add image layers\n",
    "for ind,ch in reversed(list(enumerate(channel_list))):\n",
    "    \n",
    "    viewer.add_image(ch['image'],name=ch['channel_name'],colormap=ch['color'],blending='additive')\n",
    "\n",
    "# add a tracking layer\n",
    "track_layer=viewer.add_tracks(data, properties=properties,graph={},name='Tracking',color_by='track_id')\n",
    "track_layer.display_id=True\n",
    "    \n",
    "# add a labels layer\n",
    "labels_layer = viewer.add_labels(labels,name='Labels',opacity = 0.4)"
   ]
  },
  {
   "cell_type": "code",
   "execution_count": 75,
   "id": "87da1d8c",
   "metadata": {},
   "outputs": [],
   "source": [
    "# create a plot widget\n",
    "t_max = viewer.dims.range[0][1]\n",
    "plot_widget = bv_f.build_lineage_widget(t_max)\n",
    "\n",
    "# create a list of promising tracks\n",
    "promise_list = [int(x) for x in set(df.loc[df.promise==True,'track_id'])]\n",
    "promise_list.append(0)\n",
    "promise_list.sort()"
   ]
  },
  {
   "cell_type": "markdown",
   "id": "45397f71",
   "metadata": {},
   "source": [
    "## Build viewer functionality"
   ]
  },
  {
   "cell_type": "code",
   "execution_count": 76,
   "id": "b11ffa1a",
   "metadata": {},
   "outputs": [],
   "source": [
    "# inject global variables to the module\n",
    "\n",
    "global_variables = ['viewer','plot_widget',\n",
    "                    'exp_dir','df_name','df',\n",
    "                    'channel_list','graph_list',\n",
    "                    'object_properties','promise_list',\n",
    "                    'time_threshold','flag_list',\n",
    "                    'tag_list','gen_track_columns',\n",
    "                    'small_im_size',\n",
    "                    'label_contour'\n",
    "                   ]\n",
    "\n",
    "for var in global_variables:\n",
    "    \n",
    "    exec(f'bv_f.{var} = {var}')"
   ]
  },
  {
   "cell_type": "code",
   "execution_count": 77,
   "id": "d4a876af",
   "metadata": {},
   "outputs": [],
   "source": [
    "######################################################################\n",
    "# add saving button\n",
    "save_data = magicgui(bv_f.save_data, call_button='Save Data')\n",
    "viewer.window.add_dock_widget(save_data,area='right')\n",
    "\n",
    "######################################################################\n",
    "# add right-click to make a label active\n",
    "labels_layer.mouse_drag_callbacks.append(bv_f.select_label)\n",
    "\n",
    "######################################################################\n",
    "# add label modifications\n",
    "\n",
    "mod_label = magicgui(bv_f.mod_label,call_button='Modify Label')\n",
    "viewer.window.add_dock_widget(mod_label,area='right')\n",
    "\n",
    "mod_key = viewer.bind_key('Shift-Enter',overwrite=True,func=bv_f.mod_label)\n",
    "\n",
    "######################################################################\n",
    "# add track modifying buttons\n",
    "\n",
    "cut_track = magicgui(bv_f.cut_track, call_button='Cut Track')\n",
    "merge_track = magicgui(bv_f.merge_track, call_button='Merge Track')\n",
    "connect_track = magicgui(bv_f.connect_track, call_button='Connect Track')\n",
    "\n",
    "container_tracks = Container(widgets=[cut_track,merge_track,connect_track],labels=False)\n",
    "viewer.window.add_dock_widget(container_tracks,area='right') \n",
    "\n",
    "######################################################################\n",
    "# add right-click toggle track tags\n",
    "for tag_name in [x['tag_name'] for x in tag_list]:\n",
    "    \n",
    "    viewer.layers[tag_name].mouse_drag_callbacks.append(bv_f.toggle_track)\n",
    "\n",
    "######################################################################\n",
    "# add navigation in the track\n",
    "begin_button= magicgui(bv_f.go_to_track_beginning,call_button=\"<\")\n",
    "end_button= magicgui(bv_f.go_to_track_end,call_button=\">\")\n",
    "center_button = magicgui(bv_f.center_the_cell,call_button=\"<>\")\n",
    "\n",
    "c = Container(widgets=[begin_button,center_button, end_button],layout='horizontal',labels=False)\n",
    "viewer.window.add_dock_widget(c,area='right',name='Navigate Track')\n",
    "    \n",
    "######################################################################\n",
    "# add small stack display button\n",
    "\n",
    "stack_button = magicgui(bv_f.show_stack, call_button='Show Stack')\n",
    "viewer.window.add_dock_widget(stack_button,area='right')\n",
    "\n",
    "#####################################################################\n",
    "# button for next available track\n",
    "next_label_button = magicgui(bv_f.next_label, call_button='Next Label')\n",
    "viewer.window.add_dock_widget(next_label_button,area='left')\n",
    "\n",
    "######################################################################\n",
    "# add navigation over promising tracks\n",
    "\n",
    "widget_label_promise = Label(value=f'Number of promising tracks: {(len(promise_list)-1)}', label=\"Promising tracks:\")\n",
    "widget_list_promise = Dropdown(choices=promise_list, value = 0)\n",
    "bv_f.select_promising_track = widget_list_promise.changed.connect(bv_f.select_promising_track)\n",
    "\n",
    "prom_c = Container(widgets=[widget_label_promise,widget_list_promise],layout='horizontal',labels=False)\n",
    "\n",
    "viewer.window.add_dock_widget(prom_c,area='left',name='Choose a promising track')\n",
    "\n",
    "########################################################################\n",
    "# add lineage graph\n",
    "viewer.window.add_dock_widget(plot_widget,area='bottom',name='family')\n",
    "\n",
    "# connect lineage graph update\n",
    "labels_layer.events.selected_label.connect(bv_f.update_lineage_display)\n",
    "\n",
    "# init family line\n",
    "bv_f.init_family_line(0)\n",
    "\n",
    "\n",
    "########################################################################\n",
    "# share menu specific elements\n",
    "widget_variables=['promise_list','widget_label_promise','widget_list_promise']\n",
    "for var in widget_variables:\n",
    "    \n",
    "    exec(f'bv_f.{var} = {var}')"
   ]
  },
  {
   "cell_type": "code",
   "execution_count": 78,
   "id": "0ebb016d",
   "metadata": {},
   "outputs": [],
   "source": []
  },
  {
   "cell_type": "code",
   "execution_count": 79,
   "id": "dee5e053",
   "metadata": {},
   "outputs": [
    {
     "data": {
      "text/plain": [
       "<napari._qt.widgets.qt_viewer_dock_widget.QtViewerDockWidget at 0x2026acc6828>"
      ]
     },
     "execution_count": 79,
     "metadata": {},
     "output_type": "execute_result"
    }
   ],
   "source": []
  },
  {
   "cell_type": "code",
   "execution_count": 69,
   "id": "5f52d38e",
   "metadata": {},
   "outputs": [
    {
     "ename": "IndexError",
     "evalue": "list index out of range",
     "output_type": "error",
     "traceback": [
      "\u001b[1;31m---------------------------------------------------------------------------\u001b[0m",
      "\u001b[1;31mIndexError\u001b[0m                                Traceback (most recent call last)",
      "\u001b[1;32m~\\AppData\\Local\\Temp/ipykernel_27908/3930596938.py\u001b[0m in \u001b[0;36m<module>\u001b[1;34m\u001b[0m\n\u001b[0;32m      2\u001b[0m \u001b[1;33m\u001b[0m\u001b[0m\n\u001b[0;32m      3\u001b[0m \u001b[1;31m# set new track id\u001b[0m\u001b[1;33m\u001b[0m\u001b[1;33m\u001b[0m\u001b[1;33m\u001b[0m\u001b[0m\n\u001b[1;32m----> 4\u001b[1;33m \u001b[0mviewer\u001b[0m\u001b[1;33m.\u001b[0m\u001b[0mlayers\u001b[0m\u001b[1;33m[\u001b[0m\u001b[1;34m'Labels'\u001b[0m\u001b[1;33m]\u001b[0m\u001b[1;33m.\u001b[0m\u001b[0mselected_label\u001b[0m \u001b[1;33m=\u001b[0m \u001b[0mnewTrack\u001b[0m\u001b[1;33m\u001b[0m\u001b[1;33m\u001b[0m\u001b[0m\n\u001b[0m",
      "\u001b[1;32mC:\\ProgramData\\Anaconda3\\envs\\cellpose\\lib\\site-packages\\napari\\layers\\labels\\labels.py\u001b[0m in \u001b[0;36mselected_label\u001b[1;34m(self, selected_label)\u001b[0m\n\u001b[0;32m    547\u001b[0m         \u001b[0mself\u001b[0m\u001b[1;33m.\u001b[0m\u001b[0m_selected_label\u001b[0m \u001b[1;33m=\u001b[0m \u001b[0mselected_label\u001b[0m\u001b[1;33m\u001b[0m\u001b[1;33m\u001b[0m\u001b[0m\n\u001b[0;32m    548\u001b[0m         \u001b[0mself\u001b[0m\u001b[1;33m.\u001b[0m\u001b[0m_selected_color\u001b[0m \u001b[1;33m=\u001b[0m \u001b[0mself\u001b[0m\u001b[1;33m.\u001b[0m\u001b[0mget_color\u001b[0m\u001b[1;33m(\u001b[0m\u001b[0mselected_label\u001b[0m\u001b[1;33m)\u001b[0m\u001b[1;33m\u001b[0m\u001b[1;33m\u001b[0m\u001b[0m\n\u001b[1;32m--> 549\u001b[1;33m         \u001b[0mself\u001b[0m\u001b[1;33m.\u001b[0m\u001b[0mevents\u001b[0m\u001b[1;33m.\u001b[0m\u001b[0mselected_label\u001b[0m\u001b[1;33m(\u001b[0m\u001b[1;33m)\u001b[0m\u001b[1;33m\u001b[0m\u001b[1;33m\u001b[0m\u001b[0m\n\u001b[0m\u001b[0;32m    550\u001b[0m \u001b[1;33m\u001b[0m\u001b[0m\n\u001b[0;32m    551\u001b[0m         \u001b[1;31m# note: self.color_mode returns a string and this comparison fails,\u001b[0m\u001b[1;33m\u001b[0m\u001b[1;33m\u001b[0m\u001b[1;33m\u001b[0m\u001b[0m\n",
      "\u001b[1;32mC:\\ProgramData\\Anaconda3\\envs\\cellpose\\lib\\site-packages\\napari\\utils\\events\\event.py\u001b[0m in \u001b[0;36m__call__\u001b[1;34m(self, *args, **kwargs)\u001b[0m\n\u001b[0;32m    571\u001b[0m                     \u001b[1;32mcontinue\u001b[0m\u001b[1;33m\u001b[0m\u001b[1;33m\u001b[0m\u001b[0m\n\u001b[0;32m    572\u001b[0m \u001b[1;33m\u001b[0m\u001b[0m\n\u001b[1;32m--> 573\u001b[1;33m                 \u001b[0mself\u001b[0m\u001b[1;33m.\u001b[0m\u001b[0m_invoke_callback\u001b[0m\u001b[1;33m(\u001b[0m\u001b[0mcb\u001b[0m\u001b[1;33m,\u001b[0m \u001b[0mevent\u001b[0m\u001b[1;33m)\u001b[0m\u001b[1;33m\u001b[0m\u001b[1;33m\u001b[0m\u001b[0m\n\u001b[0m\u001b[0;32m    574\u001b[0m                 \u001b[1;32mif\u001b[0m \u001b[0mevent\u001b[0m\u001b[1;33m.\u001b[0m\u001b[0mblocked\u001b[0m\u001b[1;33m:\u001b[0m\u001b[1;33m\u001b[0m\u001b[1;33m\u001b[0m\u001b[0m\n\u001b[0;32m    575\u001b[0m                     \u001b[1;32mbreak\u001b[0m\u001b[1;33m\u001b[0m\u001b[1;33m\u001b[0m\u001b[0m\n",
      "\u001b[1;32mC:\\ProgramData\\Anaconda3\\envs\\cellpose\\lib\\site-packages\\napari\\utils\\events\\event.py\u001b[0m in \u001b[0;36m_invoke_callback\u001b[1;34m(self, cb, event)\u001b[0m\n\u001b[0;32m    597\u001b[0m                 \u001b[0mself\u001b[0m\u001b[1;33m.\u001b[0m\u001b[0mprint_callback_errors\u001b[0m\u001b[1;33m,\u001b[0m\u001b[1;33m\u001b[0m\u001b[1;33m\u001b[0m\u001b[0m\n\u001b[0;32m    598\u001b[0m                 \u001b[0mself\u001b[0m\u001b[1;33m,\u001b[0m\u001b[1;33m\u001b[0m\u001b[1;33m\u001b[0m\u001b[0m\n\u001b[1;32m--> 599\u001b[1;33m                 \u001b[0mcb_event\u001b[0m\u001b[1;33m=\u001b[0m\u001b[1;33m(\u001b[0m\u001b[0mcb\u001b[0m\u001b[1;33m,\u001b[0m \u001b[0mevent\u001b[0m\u001b[1;33m)\u001b[0m\u001b[1;33m,\u001b[0m\u001b[1;33m\u001b[0m\u001b[1;33m\u001b[0m\u001b[0m\n\u001b[0m\u001b[0;32m    600\u001b[0m             )\n\u001b[0;32m    601\u001b[0m \u001b[1;33m\u001b[0m\u001b[0m\n",
      "\u001b[1;32mC:\\ProgramData\\Anaconda3\\envs\\cellpose\\lib\\site-packages\\napari\\utils\\events\\event.py\u001b[0m in \u001b[0;36m_invoke_callback\u001b[1;34m(self, cb, event)\u001b[0m\n\u001b[0;32m    591\u001b[0m     \u001b[1;32mdef\u001b[0m \u001b[0m_invoke_callback\u001b[0m\u001b[1;33m(\u001b[0m\u001b[0mself\u001b[0m\u001b[1;33m,\u001b[0m \u001b[0mcb\u001b[0m\u001b[1;33m:\u001b[0m \u001b[0mCallback\u001b[0m\u001b[1;33m,\u001b[0m \u001b[0mevent\u001b[0m\u001b[1;33m:\u001b[0m \u001b[0mEvent\u001b[0m\u001b[1;33m)\u001b[0m\u001b[1;33m:\u001b[0m\u001b[1;33m\u001b[0m\u001b[1;33m\u001b[0m\u001b[0m\n\u001b[0;32m    592\u001b[0m         \u001b[1;32mtry\u001b[0m\u001b[1;33m:\u001b[0m\u001b[1;33m\u001b[0m\u001b[1;33m\u001b[0m\u001b[0m\n\u001b[1;32m--> 593\u001b[1;33m             \u001b[0mcb\u001b[0m\u001b[1;33m(\u001b[0m\u001b[0mevent\u001b[0m\u001b[1;33m)\u001b[0m\u001b[1;33m\u001b[0m\u001b[1;33m\u001b[0m\u001b[0m\n\u001b[0m\u001b[0;32m    594\u001b[0m         \u001b[1;32mexcept\u001b[0m \u001b[0mException\u001b[0m\u001b[1;33m:\u001b[0m\u001b[1;33m\u001b[0m\u001b[1;33m\u001b[0m\u001b[0m\n\u001b[0;32m    595\u001b[0m             _handle_exception(\n",
      "\u001b[1;32mD:\\BARC\\tracking_pipeline\\libraries\\napari_build_viewer.py\u001b[0m in \u001b[0;36mupdate_lineage_display\u001b[1;34m(event)\u001b[0m\n\u001b[0;32m    390\u001b[0m \u001b[1;33m\u001b[0m\u001b[0m\n\u001b[0;32m    391\u001b[0m         \u001b[1;31m# find the root\u001b[0m\u001b[1;33m\u001b[0m\u001b[1;33m\u001b[0m\u001b[1;33m\u001b[0m\u001b[0m\n\u001b[1;32m--> 392\u001b[1;33m         \u001b[0mmy_root\u001b[0m \u001b[1;33m=\u001b[0m \u001b[0mint\u001b[0m\u001b[1;33m(\u001b[0m\u001b[0mlist\u001b[0m\u001b[1;33m(\u001b[0m\u001b[0mdf\u001b[0m\u001b[1;33m.\u001b[0m\u001b[0mloc\u001b[0m\u001b[1;33m[\u001b[0m\u001b[0mdf\u001b[0m\u001b[1;33m.\u001b[0m\u001b[0mtrack_id\u001b[0m\u001b[1;33m==\u001b[0m\u001b[0mactive_label\u001b[0m\u001b[1;33m,\u001b[0m\u001b[1;34m'root'\u001b[0m\u001b[1;33m]\u001b[0m\u001b[1;33m)\u001b[0m\u001b[1;33m[\u001b[0m\u001b[1;36m0\u001b[0m\u001b[1;33m]\u001b[0m\u001b[1;33m)\u001b[0m\u001b[1;33m\u001b[0m\u001b[1;33m\u001b[0m\u001b[0m\n\u001b[0m\u001b[0;32m    393\u001b[0m         \u001b[0mpaths\u001b[0m\u001b[1;33m=\u001b[0m\u001b[0mgen\u001b[0m\u001b[1;33m.\u001b[0m\u001b[0mfind_all_paths\u001b[0m\u001b[1;33m(\u001b[0m\u001b[0mgraph\u001b[0m\u001b[1;33m,\u001b[0m\u001b[0mmy_root\u001b[0m\u001b[1;33m)\u001b[0m\u001b[1;33m\u001b[0m\u001b[1;33m\u001b[0m\u001b[0m\n\u001b[0;32m    394\u001b[0m \u001b[1;33m\u001b[0m\u001b[0m\n",
      "\u001b[1;31mIndexError\u001b[0m: list index out of range"
     ]
    }
   ],
   "source": [
    "newTrack = gen.newTrack_number(df.track_id)\n",
    "\n",
    "# set new track id\n",
    "viewer.layers['Labels'].selected_label = newTrack"
   ]
  },
  {
   "cell_type": "code",
   "execution_count": 71,
   "id": "b1878560",
   "metadata": {},
   "outputs": [
    {
     "data": {
      "text/html": [
       "<div>\n",
       "<style scoped>\n",
       "    .dataframe tbody tr th:only-of-type {\n",
       "        vertical-align: middle;\n",
       "    }\n",
       "\n",
       "    .dataframe tbody tr th {\n",
       "        vertical-align: top;\n",
       "    }\n",
       "\n",
       "    .dataframe thead th {\n",
       "        text-align: right;\n",
       "    }\n",
       "</style>\n",
       "<table border=\"1\" class=\"dataframe\">\n",
       "  <thead>\n",
       "    <tr style=\"text-align: right;\">\n",
       "      <th></th>\n",
       "      <th>label</th>\n",
       "      <th>area</th>\n",
       "      <th>centroid-0</th>\n",
       "      <th>centroid-1</th>\n",
       "      <th>orientation</th>\n",
       "      <th>major_axis_length</th>\n",
       "      <th>minor_axis_length</th>\n",
       "      <th>bbox-0</th>\n",
       "      <th>bbox-1</th>\n",
       "      <th>bbox-2</th>\n",
       "      <th>...</th>\n",
       "      <th>x</th>\n",
       "      <th>y</th>\n",
       "      <th>parent</th>\n",
       "      <th>generation</th>\n",
       "      <th>root</th>\n",
       "      <th>accepted</th>\n",
       "      <th>rejected</th>\n",
       "      <th>promise</th>\n",
       "      <th>CDK2_drop_annotation</th>\n",
       "      <th>CDK2_rise_annotation</th>\n",
       "    </tr>\n",
       "  </thead>\n",
       "  <tbody>\n",
       "  </tbody>\n",
       "</table>\n",
       "<p>0 rows × 31 columns</p>\n",
       "</div>"
      ],
      "text/plain": [
       "Empty DataFrame\n",
       "Columns: [label, area, centroid-0, centroid-1, orientation, major_axis_length, minor_axis_length, bbox-0, bbox-1, bbox-2, bbox-3, image, mean_intensity-0_nuc, file, t, centroid-0_ring, centroid-1_ring, mean_intensity-0_ring, size_x, size_y, track_id, x, y, parent, generation, root, accepted, rejected, promise, CDK2_drop_annotation, CDK2_rise_annotation]\n",
       "Index: []\n",
       "\n",
       "[0 rows x 31 columns]"
      ]
     },
     "execution_count": 71,
     "metadata": {},
     "output_type": "execute_result"
    }
   ],
   "source": [
    "df.loc[df.track_id==191,:]"
   ]
  },
  {
   "cell_type": "code",
   "execution_count": 73,
   "id": "7d433a76",
   "metadata": {},
   "outputs": [
    {
     "data": {
      "text/plain": [
       "False"
      ]
     },
     "execution_count": 73,
     "metadata": {},
     "output_type": "execute_result"
    }
   ],
   "source": [
    "191 in list(df.track_id)"
   ]
  },
  {
   "cell_type": "code",
   "execution_count": 64,
   "id": "271490d1",
   "metadata": {},
   "outputs": [],
   "source": [
    "viewer.layers['Labels'].selected_label = 191"
   ]
  },
  {
   "cell_type": "code",
   "execution_count": 63,
   "id": "bb82fd24",
   "metadata": {},
   "outputs": [
    {
     "data": {
      "text/plain": [
       "<Labels layer 'Labels' at 0x2025c5d24c8>"
      ]
     },
     "execution_count": 63,
     "metadata": {},
     "output_type": "execute_result"
    }
   ],
   "source": [
    "viewer = napari.Viewer()\n",
    "viewer.add_labels(labels,name='Labels')"
   ]
  },
  {
   "cell_type": "code",
   "execution_count": 26,
   "id": "317a6dd3",
   "metadata": {},
   "outputs": [],
   "source": [
    "promise_list = bv_f.promise_list"
   ]
  },
  {
   "cell_type": "code",
   "execution_count": 27,
   "id": "7cc2cfa5",
   "metadata": {},
   "outputs": [
    {
     "data": {
      "text/plain": [
       "[0,\n",
       " 83,\n",
       " 111,\n",
       " 124,\n",
       " 126,\n",
       " 127,\n",
       " 129,\n",
       " 130,\n",
       " 133,\n",
       " 134,\n",
       " 137,\n",
       " 138,\n",
       " 140,\n",
       " 141,\n",
       " 144,\n",
       " 162,\n",
       " 174,\n",
       " 185,\n",
       " 188,\n",
       " 261,\n",
       " 262,\n",
       " 276,\n",
       " 299,\n",
       " 309,\n",
       " 325,\n",
       " 333,\n",
       " 346,\n",
       " 354,\n",
       " 356,\n",
       " 365,\n",
       " 375,\n",
       " 459,\n",
       " 466,\n",
       " 514,\n",
       " 520,\n",
       " 521,\n",
       " 559,\n",
       " 569,\n",
       " 572,\n",
       " 615,\n",
       " 620,\n",
       " 633,\n",
       " 635,\n",
       " 640,\n",
       " 673,\n",
       " 690,\n",
       " 715,\n",
       " 717,\n",
       " 721,\n",
       " 730,\n",
       " 739,\n",
       " 743,\n",
       " 755,\n",
       " 761,\n",
       " 764,\n",
       " 775,\n",
       " 782,\n",
       " 805,\n",
       " 816,\n",
       " 824,\n",
       " 826,\n",
       " 830,\n",
       " 834,\n",
       " 857,\n",
       " 888,\n",
       " 903,\n",
       " 917,\n",
       " 924,\n",
       " 939,\n",
       " 940,\n",
       " 943]"
      ]
     },
     "execution_count": 27,
     "metadata": {},
     "output_type": "execute_result"
    }
   ],
   "source": [
    "promise_list"
   ]
  },
  {
   "cell_type": "code",
   "execution_count": 116,
   "id": "0c12aa7c",
   "metadata": {},
   "outputs": [
    {
     "data": {
      "text/html": [
       "<div>\n",
       "<style scoped>\n",
       "    .dataframe tbody tr th:only-of-type {\n",
       "        vertical-align: middle;\n",
       "    }\n",
       "\n",
       "    .dataframe tbody tr th {\n",
       "        vertical-align: top;\n",
       "    }\n",
       "\n",
       "    .dataframe thead th {\n",
       "        text-align: right;\n",
       "    }\n",
       "</style>\n",
       "<table border=\"1\" class=\"dataframe\">\n",
       "  <thead>\n",
       "    <tr style=\"text-align: right;\">\n",
       "      <th></th>\n",
       "      <th>track_id</th>\n",
       "      <th>t</th>\n",
       "      <th>x</th>\n",
       "      <th>y</th>\n",
       "      <th>parent</th>\n",
       "      <th>generation</th>\n",
       "    </tr>\n",
       "  </thead>\n",
       "  <tbody>\n",
       "    <tr>\n",
       "      <th>13508</th>\n",
       "      <td>132.0</td>\n",
       "      <td>3</td>\n",
       "      <td>1045.217949</td>\n",
       "      <td>1375.679487</td>\n",
       "      <td>132.0</td>\n",
       "      <td>0.0</td>\n",
       "    </tr>\n",
       "    <tr>\n",
       "      <th>13864</th>\n",
       "      <td>132.0</td>\n",
       "      <td>4</td>\n",
       "      <td>1045.244681</td>\n",
       "      <td>1366.487234</td>\n",
       "      <td>132.0</td>\n",
       "      <td>0.0</td>\n",
       "    </tr>\n",
       "    <tr>\n",
       "      <th>13448</th>\n",
       "      <td>132.0</td>\n",
       "      <td>5</td>\n",
       "      <td>1044.430526</td>\n",
       "      <td>1360.868421</td>\n",
       "      <td>132.0</td>\n",
       "      <td>0.0</td>\n",
       "    </tr>\n",
       "    <tr>\n",
       "      <th>13391</th>\n",
       "      <td>132.0</td>\n",
       "      <td>6</td>\n",
       "      <td>1043.796296</td>\n",
       "      <td>1358.141975</td>\n",
       "      <td>132.0</td>\n",
       "      <td>0.0</td>\n",
       "    </tr>\n",
       "    <tr>\n",
       "      <th>13334</th>\n",
       "      <td>132.0</td>\n",
       "      <td>7</td>\n",
       "      <td>1043.008475</td>\n",
       "      <td>1366.864407</td>\n",
       "      <td>132.0</td>\n",
       "      <td>0.0</td>\n",
       "    </tr>\n",
       "    <tr>\n",
       "      <th>...</th>\n",
       "      <td>...</td>\n",
       "      <td>...</td>\n",
       "      <td>...</td>\n",
       "      <td>...</td>\n",
       "      <td>...</td>\n",
       "      <td>...</td>\n",
       "    </tr>\n",
       "    <tr>\n",
       "      <th>1115</th>\n",
       "      <td>132.0</td>\n",
       "      <td>96</td>\n",
       "      <td>371.904145</td>\n",
       "      <td>1864.391192</td>\n",
       "      <td>132.0</td>\n",
       "      <td>0.0</td>\n",
       "    </tr>\n",
       "    <tr>\n",
       "      <th>1116</th>\n",
       "      <td>132.0</td>\n",
       "      <td>97</td>\n",
       "      <td>NaN</td>\n",
       "      <td>NaN</td>\n",
       "      <td>132.0</td>\n",
       "      <td>0.0</td>\n",
       "    </tr>\n",
       "    <tr>\n",
       "      <th>1117</th>\n",
       "      <td>132.0</td>\n",
       "      <td>98</td>\n",
       "      <td>NaN</td>\n",
       "      <td>NaN</td>\n",
       "      <td>132.0</td>\n",
       "      <td>0.0</td>\n",
       "    </tr>\n",
       "    <tr>\n",
       "      <th>1118</th>\n",
       "      <td>132.0</td>\n",
       "      <td>99</td>\n",
       "      <td>350.720000</td>\n",
       "      <td>1876.626667</td>\n",
       "      <td>132.0</td>\n",
       "      <td>0.0</td>\n",
       "    </tr>\n",
       "    <tr>\n",
       "      <th>1119</th>\n",
       "      <td>132.0</td>\n",
       "      <td>100</td>\n",
       "      <td>NaN</td>\n",
       "      <td>NaN</td>\n",
       "      <td>132.0</td>\n",
       "      <td>0.0</td>\n",
       "    </tr>\n",
       "  </tbody>\n",
       "</table>\n",
       "<p>98 rows × 6 columns</p>\n",
       "</div>"
      ],
      "text/plain": [
       "       track_id    t            x            y  parent  generation\n",
       "13508     132.0    3  1045.217949  1375.679487   132.0         0.0\n",
       "13864     132.0    4  1045.244681  1366.487234   132.0         0.0\n",
       "13448     132.0    5  1044.430526  1360.868421   132.0         0.0\n",
       "13391     132.0    6  1043.796296  1358.141975   132.0         0.0\n",
       "13334     132.0    7  1043.008475  1366.864407   132.0         0.0\n",
       "...         ...  ...          ...          ...     ...         ...\n",
       "1115      132.0   96   371.904145  1864.391192   132.0         0.0\n",
       "1116      132.0   97          NaN          NaN   132.0         0.0\n",
       "1117      132.0   98          NaN          NaN   132.0         0.0\n",
       "1118      132.0   99   350.720000  1876.626667   132.0         0.0\n",
       "1119      132.0  100          NaN          NaN   132.0         0.0\n",
       "\n",
       "[98 rows x 6 columns]"
      ]
     },
     "execution_count": 116,
     "metadata": {},
     "output_type": "execute_result"
    }
   ],
   "source": [
    "df.loc[df.track_id==132,['track_id','t','x','y','parent','generation']]"
   ]
  },
  {
   "cell_type": "code",
   "execution_count": 117,
   "id": "e65291bf",
   "metadata": {},
   "outputs": [],
   "source": [
    "df.loc[df.track_id==180,'generation']=0\n",
    "df.loc[df.track_id==180,'parent']=180\n",
    "\n",
    "df.to_pickle(os.path.join(exp_dir,'df',df_name))"
   ]
  },
  {
   "cell_type": "code",
   "execution_count": 113,
   "id": "7db9e64c",
   "metadata": {},
   "outputs": [],
   "source": [
    "data,properties,graph = gen.trackData_from_df(df,col_list = gen_track_columns)"
   ]
  },
  {
   "cell_type": "code",
   "execution_count": 114,
   "id": "0c2b1e7a",
   "metadata": {},
   "outputs": [
    {
     "data": {
      "text/plain": [
       "{143: 132,\n",
       " 166: 155,\n",
       " 168: 132,\n",
       " 176: 155,\n",
       " 179: 171,\n",
       " 180: 323,\n",
       " 181: 125,\n",
       " 182: 125,\n",
       " 183: 254,\n",
       " 184: 254,\n",
       " 187: 146,\n",
       " 189: 146,\n",
       " 299: 278,\n",
       " 300: 278,\n",
       " 677: 669,\n",
       " 678: 669}"
      ]
     },
     "execution_count": 114,
     "metadata": {},
     "output_type": "execute_result"
    }
   ],
   "source": [
    "graph"
   ]
  },
  {
   "cell_type": "code",
   "execution_count": 58,
   "id": "4b0232a9",
   "metadata": {},
   "outputs": [],
   "source": [
    "from magicgui import magicgui\n",
    "from magicgui.widgets import Container,Label,Dropdown\n",
    "from magicgui import widgets"
   ]
  },
  {
   "cell_type": "code",
   "execution_count": 50,
   "id": "7c8713fb",
   "metadata": {},
   "outputs": [],
   "source": [
    "my_list = [int(x) for x in set(df.loc[df.promise==True,'track_id'])]\n",
    "my_list.append(0)"
   ]
  },
  {
   "cell_type": "code",
   "execution_count": 51,
   "id": "948160ac",
   "metadata": {},
   "outputs": [
    {
     "data": {
      "text/plain": [
       "<napari._qt.widgets.qt_viewer_dock_widget.QtViewerDockWidget at 0x25a12586288>"
      ]
     },
     "execution_count": 51,
     "metadata": {},
     "output_type": "execute_result"
    }
   ],
   "source": [
    "widget_label_promise = widgets.Label(value=f'Number of promising tracks: {(len(my_list)-1)}', label=\"Promising tracks:\")\n",
    "widget_list_promise = widgets.Dropdown(choices=my_list, value = 0)\n",
    "\n",
    "c = Container(widgets=[widget_label_promise,widget_list_promise],layout='horizontal',labels=False)\n",
    "\n",
    "viewer.window.add_dock_widget(c,area='left',name='Choose a promising track')"
   ]
  },
  {
   "cell_type": "code",
   "execution_count": 18,
   "id": "d26a1a4f",
   "metadata": {},
   "outputs": [
    {
     "data": {
      "text/plain": [
       "2"
      ]
     },
     "execution_count": 18,
     "metadata": {},
     "output_type": "execute_result"
    }
   ],
   "source": [
    "widget_list_promise.value"
   ]
  },
  {
   "cell_type": "code",
   "execution_count": 21,
   "id": "85161032",
   "metadata": {},
   "outputs": [],
   "source": [
    "my_list.remove(0)"
   ]
  },
  {
   "cell_type": "code",
   "execution_count": 22,
   "id": "9f8e45f1",
   "metadata": {},
   "outputs": [
    {
     "data": {
      "text/plain": [
       "[1, 2, 5, 6]"
      ]
     },
     "execution_count": 22,
     "metadata": {},
     "output_type": "execute_result"
    }
   ],
   "source": [
    "my_list"
   ]
  },
  {
   "cell_type": "code",
   "execution_count": 23,
   "id": "f7ca7f9d",
   "metadata": {},
   "outputs": [],
   "source": [
    "widget_list_promise.choices=my_list"
   ]
  },
  {
   "cell_type": "code",
   "execution_count": 52,
   "id": "8b092b5d",
   "metadata": {},
   "outputs": [],
   "source": [
    "def select_promising_track(event):\n",
    "    \n",
    "    # make selected track active\n",
    "    viewer.layers['Labels'].selected_label = event.value\n",
    "\n",
    "    # center the selected track\n",
    "    bv_f.center_the_cell()"
   ]
  },
  {
   "cell_type": "code",
   "execution_count": 53,
   "id": "074510a1",
   "metadata": {},
   "outputs": [],
   "source": [
    "select_promising_track = widget_list_promise.changed.connect(select_promising_track)"
   ]
  },
  {
   "cell_type": "code",
   "execution_count": 33,
   "id": "ade829ea",
   "metadata": {},
   "outputs": [],
   "source": [
    "bv_f.center_the_cell()"
   ]
  },
  {
   "cell_type": "code",
   "execution_count": 17,
   "id": "70ccf2bf",
   "metadata": {},
   "outputs": [
    {
     "data": {
      "image/png": "[encoded data removed]",
      "text/plain": [
       "<FunctionGui my_widget(pick_some=[1])>"
      ]
     },
     "execution_count": 17,
     "metadata": {},
     "output_type": "execute_result"
    }
   ],
   "source": [
    "@magicgui(pick_some={\"choices\": [1, 2, 3, 4, 5], \"allow_multiple\": True})\n",
    "def my_widget(pick_some=[1]):\n",
    "    if 4 in pick_some:\n",
    "        pick_some.remove(4)\n",
    "\n",
    "    # this is the important line, just set the value to whatever\n",
    "    # you want it to be\n",
    "    my_widget.pick_some.value = pick_some\n",
    "\n",
    "my_widget.show(run=True)"
   ]
  },
  {
   "cell_type": "code",
   "execution_count": 461,
   "id": "91c0f035",
   "metadata": {},
   "outputs": [],
   "source": [
    "widget_label_promise.value=9"
   ]
  },
  {
   "cell_type": "code",
   "execution_count": 442,
   "id": "83ce5536",
   "metadata": {},
   "outputs": [
    {
     "data": {
      "text/plain": [
       "<napari._qt.widgets.qt_viewer_dock_widget.QtViewerDockWidget at 0x1a7be3fcca8>"
      ]
     },
     "execution_count": 442,
     "metadata": {},
     "output_type": "execute_result"
    }
   ],
   "source": [
    "lab = widgets.Label(value=5, label=\"Promising tracks:\")\n",
    "viewer.window.add_dock_widget(lab,area='left')"
   ]
  },
  {
   "cell_type": "code",
   "execution_count": 435,
   "id": "707fc1c3",
   "metadata": {},
   "outputs": [
    {
     "data": {
      "text/plain": [
       "['BoundedFloatText',\n",
       " 'BoundedIntText',\n",
       " 'Box',\n",
       " 'CheckBox',\n",
       " 'Checkbox',\n",
       " 'ComboBox',\n",
       " 'Combobox',\n",
       " 'Container',\n",
       " 'DateEdit',\n",
       " 'DatePicker',\n",
       " 'DateTimeEdit',\n",
       " 'Dropdown',\n",
       " 'EmptyWidget',\n",
       " 'FileEdit',\n",
       " 'FloatLogSlider',\n",
       " 'FloatSlider',\n",
       " 'FloatSpinBox',\n",
       " 'FloatText',\n",
       " 'FunctionGui',\n",
       " 'HBox',\n",
       " 'Image',\n",
       " 'IntSlider',\n",
       " 'IntText',\n",
       " 'Label',\n",
       " 'LineEdit',\n",
       " 'LiteralEvalLineEdit',\n",
       " 'LogSlider',\n",
       " 'MainFunctionGui',\n",
       " 'MainWindow',\n",
       " 'ProgressBar',\n",
       " 'PushButton',\n",
       " 'RadioButton',\n",
       " 'RadioButtons',\n",
       " 'RangeEdit',\n",
       " 'SliceEdit',\n",
       " 'Slider',\n",
       " 'SpinBox',\n",
       " 'Table',\n",
       " 'Text',\n",
       " 'TextEdit',\n",
       " 'Textarea',\n",
       " 'TimeEdit',\n",
       " 'ToggleButton',\n",
       " 'VBox',\n",
       " 'Widget',\n",
       " '__all__',\n",
       " '__builtins__',\n",
       " '__cached__',\n",
       " '__doc__',\n",
       " '__file__',\n",
       " '__loader__',\n",
       " '__name__',\n",
       " '__package__',\n",
       " '__path__',\n",
       " '__spec__',\n",
       " '_bases',\n",
       " '_concrete',\n",
       " '_function_gui',\n",
       " '_image',\n",
       " '_protocols',\n",
       " '_table',\n",
       " 'create_widget']"
      ]
     },
     "execution_count": 435,
     "metadata": {},
     "output_type": "execute_result"
    }
   ],
   "source": [
    "def select_track_function:"
   ]
  },
  {
   "cell_type": "code",
   "execution_count": 425,
   "id": "815a5927",
   "metadata": {},
   "outputs": [
    {
     "data": {
      "image/png": "[encoded data removed]",
      "text/plain": [
       "<FunctionGui my_function(x=[1, 2, 5, 6])>"
      ]
     },
     "execution_count": 425,
     "metadata": {},
     "output_type": "execute_result"
    }
   ],
   "source": [
    "@magicgui\n",
    "def my_function(x=[1,2,5,6]): \n",
    "    \n",
    "    print(x)\n",
    "\n",
    "my_function.show()"
   ]
  },
  {
   "cell_type": "code",
   "execution_count": 128,
   "id": "7ac89e8a",
   "metadata": {},
   "outputs": [
    {
     "data": {
      "image/png": "[encoded data removed]",
      "text/plain": [
       "<Container ()>"
      ]
     },
     "execution_count": 128,
     "metadata": {},
     "output_type": "execute_result"
    },
    {
     "name": "stdout",
     "output_type": "stream",
     "text": [
      "b2 clicked\n",
      "b1 clicked\n"
     ]
    }
   ],
   "source": [
    "w1 = widgets.PushButton(value=True, text='<')\n",
    "w2 = widgets.PushButton(value=True, text='>')\n",
    "container = widgets.Container(widgets=[w1, w2],layout='horizontal')\n",
    "\n",
    "@w1.changed.connect\n",
    "def _on_n1_changed(viewer: Viewer):\n",
    "    viewer.dims.set_point(0, 100)\n",
    "    print(\"b1 clicked\")\n",
    "\n",
    "@w2.changed.connect\n",
    "def _on_n1_changed(value):\n",
    "    print(\"b2 clicked\")\n",
    "    \n",
    "container.show()"
   ]
  },
  {
   "cell_type": "code",
   "execution_count": 120,
   "id": "dba6f586",
   "metadata": {},
   "outputs": [
    {
     "ename": "AttributeError",
     "evalue": "'Container' object has no attribute 'w1'",
     "output_type": "error",
     "traceback": [
      "\u001b[1;31m---------------------------------------------------------------------------\u001b[0m",
      "\u001b[1;31mAttributeError\u001b[0m                            Traceback (most recent call last)",
      "\u001b[1;32m~\\AppData\\Local\\Temp/ipykernel_18968/854984746.py\u001b[0m in \u001b[0;36m<module>\u001b[1;34m\u001b[0m\n\u001b[1;32m----> 1\u001b[1;33m \u001b[1;33m@\u001b[0m\u001b[0mcontainer\u001b[0m\u001b[1;33m.\u001b[0m\u001b[0mw1\u001b[0m\u001b[1;33m.\u001b[0m\u001b[0mchanged\u001b[0m\u001b[1;33m.\u001b[0m\u001b[0mconnect\u001b[0m\u001b[1;33m\u001b[0m\u001b[1;33m\u001b[0m\u001b[0m\n\u001b[0m\u001b[0;32m      2\u001b[0m \u001b[1;32mdef\u001b[0m \u001b[0m_on_n1_changed\u001b[0m\u001b[1;33m(\u001b[0m\u001b[0mvalue\u001b[0m\u001b[1;33m:\u001b[0m \u001b[0mstr\u001b[0m\u001b[1;33m)\u001b[0m\u001b[1;33m:\u001b[0m\u001b[1;33m\u001b[0m\u001b[1;33m\u001b[0m\u001b[0m\n\u001b[0;32m      3\u001b[0m     \u001b[0mprint\u001b[0m\u001b[1;33m(\u001b[0m\u001b[1;34mf\"b1 clicked\"\u001b[0m\u001b[1;33m)\u001b[0m\u001b[1;33m\u001b[0m\u001b[1;33m\u001b[0m\u001b[0m\n",
      "\u001b[1;32mC:\\ProgramData\\Anaconda3\\envs\\cellpose\\lib\\site-packages\\magicgui\\widgets\\_bases\\container_widget.py\u001b[0m in \u001b[0;36m__getattr__\u001b[1;34m(self, name)\u001b[0m\n\u001b[0;32m     82\u001b[0m             \u001b[1;32mif\u001b[0m \u001b[0mname\u001b[0m \u001b[1;33m==\u001b[0m \u001b[0mwidget\u001b[0m\u001b[1;33m.\u001b[0m\u001b[0mname\u001b[0m\u001b[1;33m:\u001b[0m\u001b[1;33m\u001b[0m\u001b[1;33m\u001b[0m\u001b[0m\n\u001b[0;32m     83\u001b[0m                 \u001b[1;32mreturn\u001b[0m \u001b[0mwidget\u001b[0m\u001b[1;33m\u001b[0m\u001b[1;33m\u001b[0m\u001b[0m\n\u001b[1;32m---> 84\u001b[1;33m         \u001b[1;32mreturn\u001b[0m \u001b[0mobject\u001b[0m\u001b[1;33m.\u001b[0m\u001b[0m__getattribute__\u001b[0m\u001b[1;33m(\u001b[0m\u001b[0mself\u001b[0m\u001b[1;33m,\u001b[0m \u001b[0mname\u001b[0m\u001b[1;33m)\u001b[0m\u001b[1;33m\u001b[0m\u001b[1;33m\u001b[0m\u001b[0m\n\u001b[0m\u001b[0;32m     85\u001b[0m \u001b[1;33m\u001b[0m\u001b[0m\n\u001b[0;32m     86\u001b[0m     \u001b[1;32mdef\u001b[0m \u001b[0m__setattr__\u001b[0m\u001b[1;33m(\u001b[0m\u001b[0mself\u001b[0m\u001b[1;33m,\u001b[0m \u001b[0mname\u001b[0m\u001b[1;33m:\u001b[0m \u001b[0mstr\u001b[0m\u001b[1;33m,\u001b[0m \u001b[0mvalue\u001b[0m\u001b[1;33m:\u001b[0m \u001b[0mAny\u001b[0m\u001b[1;33m)\u001b[0m\u001b[1;33m:\u001b[0m\u001b[1;33m\u001b[0m\u001b[1;33m\u001b[0m\u001b[0m\n",
      "\u001b[1;31mAttributeError\u001b[0m: 'Container' object has no attribute 'w1'"
     ]
    }
   ],
   "source": [
    "@container.w1.changed.connect\n",
    "def _on_n1_changed(value: str):\n",
    "    print(f\"b1 clicked\")"
   ]
  },
  {
   "cell_type": "code",
   "execution_count": 68,
   "id": "dc716b25",
   "metadata": {},
   "outputs": [],
   "source": [
    "def b1():\n",
    "    b1.__name__ = 'no way'\n",
    "    print('yes')"
   ]
  },
  {
   "cell_type": "code",
   "execution_count": 72,
   "id": "8cccdb03",
   "metadata": {},
   "outputs": [
    {
     "ename": "AttributeError",
     "evalue": "'FunctionGui' object has no attribute '__name__'",
     "output_type": "error",
     "traceback": [
      "\u001b[1;31m---------------------------------------------------------------------------\u001b[0m",
      "\u001b[1;31mAttributeError\u001b[0m                            Traceback (most recent call last)",
      "\u001b[1;32m~\\AppData\\Local\\Temp/ipykernel_18968/3783974016.py\u001b[0m in \u001b[0;36m<module>\u001b[1;34m\u001b[0m\n\u001b[1;32m----> 1\u001b[1;33m \u001b[0mb1\u001b[0m\u001b[1;33m.\u001b[0m\u001b[0m__name__\u001b[0m\u001b[1;33m\u001b[0m\u001b[1;33m\u001b[0m\u001b[0m\n\u001b[0m",
      "\u001b[1;32mC:\\ProgramData\\Anaconda3\\envs\\cellpose\\lib\\site-packages\\magicgui\\widgets\\_bases\\container_widget.py\u001b[0m in \u001b[0;36m__getattr__\u001b[1;34m(self, name)\u001b[0m\n\u001b[0;32m     82\u001b[0m             \u001b[1;32mif\u001b[0m \u001b[0mname\u001b[0m \u001b[1;33m==\u001b[0m \u001b[0mwidget\u001b[0m\u001b[1;33m.\u001b[0m\u001b[0mname\u001b[0m\u001b[1;33m:\u001b[0m\u001b[1;33m\u001b[0m\u001b[1;33m\u001b[0m\u001b[0m\n\u001b[0;32m     83\u001b[0m                 \u001b[1;32mreturn\u001b[0m \u001b[0mwidget\u001b[0m\u001b[1;33m\u001b[0m\u001b[1;33m\u001b[0m\u001b[0m\n\u001b[1;32m---> 84\u001b[1;33m         \u001b[1;32mreturn\u001b[0m \u001b[0mobject\u001b[0m\u001b[1;33m.\u001b[0m\u001b[0m__getattribute__\u001b[0m\u001b[1;33m(\u001b[0m\u001b[0mself\u001b[0m\u001b[1;33m,\u001b[0m \u001b[0mname\u001b[0m\u001b[1;33m)\u001b[0m\u001b[1;33m\u001b[0m\u001b[1;33m\u001b[0m\u001b[0m\n\u001b[0m\u001b[0;32m     85\u001b[0m \u001b[1;33m\u001b[0m\u001b[0m\n\u001b[0;32m     86\u001b[0m     \u001b[1;32mdef\u001b[0m \u001b[0m__setattr__\u001b[0m\u001b[1;33m(\u001b[0m\u001b[0mself\u001b[0m\u001b[1;33m,\u001b[0m \u001b[0mname\u001b[0m\u001b[1;33m:\u001b[0m \u001b[0mstr\u001b[0m\u001b[1;33m,\u001b[0m \u001b[0mvalue\u001b[0m\u001b[1;33m:\u001b[0m \u001b[0mAny\u001b[0m\u001b[1;33m)\u001b[0m\u001b[1;33m:\u001b[0m\u001b[1;33m\u001b[0m\u001b[1;33m\u001b[0m\u001b[0m\n",
      "\u001b[1;31mAttributeError\u001b[0m: 'FunctionGui' object has no attribute '__name__'"
     ]
    }
   ],
   "source": [
    "b1.__name__"
   ]
  },
  {
   "cell_type": "code",
   "execution_count": 63,
   "id": "8e36b3a9",
   "metadata": {},
   "outputs": [
    {
     "data": {
      "image/png": "[encoded data removed]",
      "text/plain": [
       "<Container (b1: NoneType, b2: NoneType)>"
      ]
     },
     "execution_count": 63,
     "metadata": {},
     "output_type": "execute_result"
    }
   ],
   "source": [
    "c.show()"
   ]
  },
  {
   "cell_type": "code",
   "execution_count": 44,
   "id": "28484450",
   "metadata": {},
   "outputs": [
    {
     "data": {
      "text/plain": [
       "15"
      ]
     },
     "execution_count": 44,
     "metadata": {},
     "output_type": "execute_result"
    }
   ],
   "source": [
    "empty_frames_list[empty_frames_list > current_frame][0]"
   ]
  },
  {
   "cell_type": "code",
   "execution_count": 30,
   "id": "e9fa5d5f",
   "metadata": {},
   "outputs": [],
   "source": [
    "df_sel = df.loc[df.track_id == 559,:]\n",
    "df_sel = df_sel.sort_values(by='t')"
   ]
  },
  {
   "cell_type": "code",
   "execution_count": 34,
   "id": "f5e61780",
   "metadata": {},
   "outputs": [],
   "source": [
    "import numpy as np\n",
    "\n",
    "def find_empty_frames(t):\n",
    "     \n",
    "    t_min = np.min(t)\n",
    "    t_max = np.max(t)\n",
    "    \n",
    "    empty_frames_list = list(set(np.arange(t_min,t_max+1)) - set(t))\n",
    "    empty_frames_list.sort()\n",
    "\n",
    "    return empty_frames_list"
   ]
  },
  {
   "cell_type": "code",
   "execution_count": 35,
   "id": "11c72af3",
   "metadata": {},
   "outputs": [
    {
     "data": {
      "text/plain": [
       "[95, 100, 103]"
      ]
     },
     "execution_count": 35,
     "metadata": {},
     "output_type": "execute_result"
    }
   ],
   "source": [
    "find_empty_frames(df_sel.t)"
   ]
  },
  {
   "cell_type": "code",
   "execution_count": 24,
   "id": "7b6cf5e3",
   "metadata": {},
   "outputs": [],
   "source": [
    "import pyqtgraph as pg\n",
    "import matplotlib"
   ]
  },
  {
   "cell_type": "code",
   "execution_count": 25,
   "id": "bf8db6f3",
   "metadata": {},
   "outputs": [
    {
     "data": {
      "text/plain": [
       "'#9ACD32'"
      ]
     },
     "execution_count": 25,
     "metadata": {},
     "output_type": "execute_result"
    }
   ],
   "source": [
    "matplotlib.colors.cnames['yellowgreen']"
   ]
  },
  {
   "cell_type": "code",
   "execution_count": 22,
   "id": "b805baa7",
   "metadata": {},
   "outputs": [
    {
     "ename": "ValueError",
     "evalue": "invalid literal for int() with base 16: 'rr'",
     "output_type": "error",
     "traceback": [
      "\u001b[1;31m---------------------------------------------------------------------------\u001b[0m",
      "\u001b[1;31mValueError\u001b[0m                                Traceback (most recent call last)",
      "\u001b[1;32m~\\AppData\\Local\\Temp/ipykernel_18968/2681216784.py\u001b[0m in \u001b[0;36m<module>\u001b[1;34m\u001b[0m\n\u001b[0;32m      2\u001b[0m \u001b[0mplot_view\u001b[0m \u001b[1;33m=\u001b[0m \u001b[0mstack_plot_widget\u001b[0m\u001b[1;33m.\u001b[0m\u001b[0maddPlot\u001b[0m\u001b[1;33m(\u001b[0m\u001b[0mtitle\u001b[0m\u001b[1;33m=\u001b[0m\u001b[1;34m'test'\u001b[0m\u001b[1;33m)\u001b[0m\u001b[1;33m\u001b[0m\u001b[1;33m\u001b[0m\u001b[0m\n\u001b[0;32m      3\u001b[0m \u001b[1;33m\u001b[0m\u001b[0m\n\u001b[1;32m----> 4\u001b[1;33m \u001b[0mpen\u001b[0m \u001b[1;33m=\u001b[0m \u001b[0mpg\u001b[0m\u001b[1;33m.\u001b[0m\u001b[0mmkPen\u001b[0m\u001b[1;33m(\u001b[0m\u001b[0mcolor\u001b[0m\u001b[1;33m=\u001b[0m\u001b[1;34m'red'\u001b[0m\u001b[1;33m,\u001b[0m\u001b[0mwidth\u001b[0m\u001b[1;33m=\u001b[0m\u001b[1;36m3\u001b[0m\u001b[1;33m)\u001b[0m\u001b[1;33m\u001b[0m\u001b[1;33m\u001b[0m\u001b[0m\n\u001b[0m\u001b[0;32m      5\u001b[0m \u001b[0mplot_view\u001b[0m\u001b[1;33m.\u001b[0m\u001b[0mplot\u001b[0m\u001b[1;33m(\u001b[0m\u001b[0mnp\u001b[0m\u001b[1;33m.\u001b[0m\u001b[0marray\u001b[0m\u001b[1;33m(\u001b[0m\u001b[0mdf_sel\u001b[0m\u001b[1;33m.\u001b[0m\u001b[0mt\u001b[0m\u001b[1;33m)\u001b[0m\u001b[1;33m,\u001b[0m\u001b[0mnp\u001b[0m\u001b[1;33m.\u001b[0m\u001b[0marray\u001b[0m\u001b[1;33m(\u001b[0m\u001b[0msub_signal\u001b[0m\u001b[1;33m)\u001b[0m\u001b[1;33m,\u001b[0m\u001b[0mpen\u001b[0m\u001b[1;33m=\u001b[0m\u001b[0mpen\u001b[0m\u001b[1;33m)\u001b[0m\u001b[1;33m\u001b[0m\u001b[1;33m\u001b[0m\u001b[0m\n\u001b[0;32m      6\u001b[0m \u001b[0mstack_plot_widget\u001b[0m\u001b[1;33m.\u001b[0m\u001b[0mshow\u001b[0m\u001b[1;33m(\u001b[0m\u001b[1;33m)\u001b[0m\u001b[1;33m\u001b[0m\u001b[1;33m\u001b[0m\u001b[0m\n",
      "\u001b[1;32mC:\\ProgramData\\Anaconda3\\envs\\cellpose\\lib\\site-packages\\pyqtgraph\\functions.py\u001b[0m in \u001b[0;36mmkPen\u001b[1;34m(*args, **kargs)\u001b[0m\n\u001b[0;32m    362\u001b[0m         \u001b[0mcolor\u001b[0m \u001b[1;33m=\u001b[0m \u001b[0mhsvColor\u001b[0m\u001b[1;33m(\u001b[0m\u001b[1;33m*\u001b[0m\u001b[0mhsv\u001b[0m\u001b[1;33m)\u001b[0m\u001b[1;33m\u001b[0m\u001b[1;33m\u001b[0m\u001b[0m\n\u001b[0;32m    363\u001b[0m     \u001b[1;32melse\u001b[0m\u001b[1;33m:\u001b[0m\u001b[1;33m\u001b[0m\u001b[1;33m\u001b[0m\u001b[0m\n\u001b[1;32m--> 364\u001b[1;33m         \u001b[0mcolor\u001b[0m \u001b[1;33m=\u001b[0m \u001b[0mmkColor\u001b[0m\u001b[1;33m(\u001b[0m\u001b[0mcolor\u001b[0m\u001b[1;33m)\u001b[0m\u001b[1;33m\u001b[0m\u001b[1;33m\u001b[0m\u001b[0m\n\u001b[0m\u001b[0;32m    365\u001b[0m \u001b[1;33m\u001b[0m\u001b[0m\n\u001b[0;32m    366\u001b[0m     \u001b[0mpen\u001b[0m \u001b[1;33m=\u001b[0m \u001b[0mQtGui\u001b[0m\u001b[1;33m.\u001b[0m\u001b[0mQPen\u001b[0m\u001b[1;33m(\u001b[0m\u001b[0mQtGui\u001b[0m\u001b[1;33m.\u001b[0m\u001b[0mQBrush\u001b[0m\u001b[1;33m(\u001b[0m\u001b[0mcolor\u001b[0m\u001b[1;33m)\u001b[0m\u001b[1;33m,\u001b[0m \u001b[0mwidth\u001b[0m\u001b[1;33m)\u001b[0m\u001b[1;33m\u001b[0m\u001b[1;33m\u001b[0m\u001b[0m\n",
      "\u001b[1;32mC:\\ProgramData\\Anaconda3\\envs\\cellpose\\lib\\site-packages\\pyqtgraph\\functions.py\u001b[0m in \u001b[0;36mmkColor\u001b[1;34m(*args)\u001b[0m\n\u001b[0;32m    250\u001b[0m                 )\n\u001b[0;32m    251\u001b[0m             \u001b[1;32mif\u001b[0m \u001b[0mlen\u001b[0m\u001b[1;33m(\u001b[0m\u001b[0mc\u001b[0m\u001b[1;33m)\u001b[0m \u001b[1;33m==\u001b[0m \u001b[1;36m3\u001b[0m\u001b[1;33m:\u001b[0m\u001b[1;33m\u001b[0m\u001b[1;33m\u001b[0m\u001b[0m\n\u001b[1;32m--> 252\u001b[1;33m                 \u001b[0mr\u001b[0m \u001b[1;33m=\u001b[0m \u001b[0mint\u001b[0m\u001b[1;33m(\u001b[0m\u001b[0mc\u001b[0m\u001b[1;33m[\u001b[0m\u001b[1;36m0\u001b[0m\u001b[1;33m]\u001b[0m\u001b[1;33m*\u001b[0m\u001b[1;36m2\u001b[0m\u001b[1;33m,\u001b[0m \u001b[1;36m16\u001b[0m\u001b[1;33m)\u001b[0m\u001b[1;33m\u001b[0m\u001b[1;33m\u001b[0m\u001b[0m\n\u001b[0m\u001b[0;32m    253\u001b[0m                 \u001b[0mg\u001b[0m \u001b[1;33m=\u001b[0m \u001b[0mint\u001b[0m\u001b[1;33m(\u001b[0m\u001b[0mc\u001b[0m\u001b[1;33m[\u001b[0m\u001b[1;36m1\u001b[0m\u001b[1;33m]\u001b[0m\u001b[1;33m*\u001b[0m\u001b[1;36m2\u001b[0m\u001b[1;33m,\u001b[0m \u001b[1;36m16\u001b[0m\u001b[1;33m)\u001b[0m\u001b[1;33m\u001b[0m\u001b[1;33m\u001b[0m\u001b[0m\n\u001b[0;32m    254\u001b[0m                 \u001b[0mb\u001b[0m \u001b[1;33m=\u001b[0m \u001b[0mint\u001b[0m\u001b[1;33m(\u001b[0m\u001b[0mc\u001b[0m\u001b[1;33m[\u001b[0m\u001b[1;36m2\u001b[0m\u001b[1;33m]\u001b[0m\u001b[1;33m*\u001b[0m\u001b[1;36m2\u001b[0m\u001b[1;33m,\u001b[0m \u001b[1;36m16\u001b[0m\u001b[1;33m)\u001b[0m\u001b[1;33m\u001b[0m\u001b[1;33m\u001b[0m\u001b[0m\n",
      "\u001b[1;31mValueError\u001b[0m: invalid literal for int() with base 16: 'rr'"
     ]
    }
   ],
   "source": [
    "stack_plot_widget = pg.GraphicsLayoutWidget()\n",
    "plot_view = stack_plot_widget.addPlot(title='test')\n",
    "\n",
    "pen = pg.mkPen(color='red',width=3)\n",
    "plot_view.plot(np.array(df_sel.t),np.array(sub_signal),pen=pen)\n",
    "stack_plot_widget.show()"
   ]
  },
  {
   "cell_type": "code",
   "execution_count": 408,
   "id": "e3dd1453",
   "metadata": {},
   "outputs": [
    {
     "data": {
      "text/plain": [
       "Index(['label', 'area', 'centroid-0', 'centroid-1', 'orientation',\n",
       "       'major_axis_length', 'minor_axis_length', 'bbox-0', 'bbox-1', 'bbox-2',\n",
       "       'bbox-3', 'image', 'mean_intensity-0_nuc', 'file', 't',\n",
       "       'centroid-0_ring', 'centroid-1_ring', 'mean_intensity-0_ring', 'size_x',\n",
       "       'size_y', 'track_id', 'x', 'y', 'parent', 'generation', 'root',\n",
       "       'accepted', 'rejected', 'promise'],\n",
       "      dtype='object')"
      ]
     },
     "execution_count": 408,
     "metadata": {},
     "output_type": "execute_result"
    }
   ],
   "source": [
    "df.columns"
   ]
  },
  {
   "cell_type": "code",
   "execution_count": null,
   "id": "b52858a5",
   "metadata": {},
   "outputs": [],
   "source": []
  },
  {
   "cell_type": "code",
   "execution_count": 14,
   "id": "858a7bd0",
   "metadata": {},
   "outputs": [
    {
     "name": "stdout",
     "output_type": "stream",
     "text": [
      "The autoreload extension is already loaded. To reload it, use:\n",
      "  %reload_ext autoreload\n"
     ]
    }
   ],
   "source": [
    "%load_ext autoreload\n",
    "%autoreload 2\n",
    "\n",
    "import napari_display_functions as my_napari"
   ]
  },
  {
   "cell_type": "code",
   "execution_count": 15,
   "id": "a5c34095",
   "metadata": {},
   "outputs": [],
   "source": [
    "current_track = 463"
   ]
  },
  {
   "cell_type": "code",
   "execution_count": 16,
   "id": "e8f29717",
   "metadata": {},
   "outputs": [],
   "source": [
    "# select appropriate data\n",
    "df_sel = df.loc[df.track_id == current_track,:]\n",
    "df_sel = df_sel.sort_values(by='t')\n",
    "results_list = gen.extract_graph_data(graph_list,df_sel)"
   ]
  },
  {
   "cell_type": "code",
   "execution_count": null,
   "id": "60cec31b",
   "metadata": {},
   "outputs": [],
   "source": [
    "import as pg"
   ]
  },
  {
   "cell_type": "code",
   "execution_count": null,
   "id": "f4bf7261",
   "metadata": {},
   "outputs": [],
   "source": [
    "graphs_widget = pg.GraphicsLayoutWidget()\n",
    "\n",
    "# populate\n",
    "for i,graph in enumerate(graph_list):\n",
    "    \n",
    "    signal = results_list[i]\n",
    "     \n",
    "    # plot from list or a single series\n",
    "    if type(signal) == list:\n",
    "\n",
    "        for sub_signal in signal:\n",
    "\n",
    "            plot_widget.addPlot(title=\"Lineage tree\", labels={\"bottom\": \"Time\"})\n",
    "            \n",
    "            static_ax[i].plot(df_sel.t,sub_signal,color=graph['color'])\n",
    "\n",
    "    else:\n",
    "            static_ax[i].plot(df_sel.t,signal,color=graph['color'])\n",
    "                "
   ]
  },
  {
   "cell_type": "code",
   "execution_count": 137,
   "id": "43993743",
   "metadata": {},
   "outputs": [
    {
     "data": {
      "text/plain": [
       "183.0"
      ]
     },
     "execution_count": 137,
     "metadata": {},
     "output_type": "execute_result"
    }
   ],
   "source": [
    "def create_graph_widget(graph_list,df,current_track,viewer):\n",
    "    \n",
    "    # select appropriate data\n",
    "    df_sel = df.loc[df.track_id == current_track,:]\n",
    "    df_sel = df_sel.sort_values(by='t')\n",
    "    results_list = gen.extract_graph_data(graph_list,df_sel)\n",
    "\n",
    "    # create widget\n",
    "    mpl_widget = FigureCanvas(Figure(tight_layout=True))\n",
    "\n",
    "    ax_number = len(graph_list)\n",
    "    static_ax = mpl_widget.figure.subplots(ax_number,1)\n",
    "\n",
    "    if type(static_ax) == np.ndarray:\n",
    "        pass\n",
    "    else:\n",
    "        static_ax = [static_ax]\n",
    "\n",
    "    # populate\n",
    "    for i,graph in enumerate(graph_list):\n",
    "\n",
    "        if graph['function']=='family':\n",
    "\n",
    "            # add an additional leaf to re-scale the graph\n",
    "            movie_len = np.max(df['t'])\n",
    "            labels_layer = viewer.layers['Labels']\n",
    "            family_im = generate_family_image(df,labels_layer,current_track,graph_details=graph)\n",
    "\n",
    "            static_ax[i].imshow(family_im,extent=[0,movie_len,0,100])\n",
    "            static_ax[i].get_yaxis().set_visible(False)\n",
    "\n",
    "        else:\n",
    "        \n",
    "            signal = results_list[i]\n",
    "            \n",
    "            # plot from list or a single series\n",
    "            if type(signal) == list:\n",
    "                \n",
    "                for sub_signal in signal:\n",
    "            \n",
    "                    static_ax[i].plot(df_sel.t,sub_signal,color=graph['color'])\n",
    "            \n",
    "            else:\n",
    "                    static_ax[i].plot(df_sel.t,signal,color=graph['color'])\n",
    "                \n",
    "            \n",
    "            static_ax[i].tick_params(axis='x', colors='black')\n",
    "            static_ax[i].tick_params(axis='y', colors='black')\n",
    "\n",
    "        static_ax[i].set_title(graph['graph_name'],color='black')\n",
    "        static_ax[i].grid(color='0.95')\n",
    "        \n",
    "    return mpl_widget"
   ]
  },
  {
   "cell_type": "code",
   "execution_count": 409,
   "id": "e9f2cbc9",
   "metadata": {},
   "outputs": [],
   "source": [
    "df['CDK2_drop_annotation']=False\n",
    "df['CDK2_rise_annotation']=False"
   ]
  },
  {
   "cell_type": "code",
   "execution_count": 410,
   "id": "a9ed8d58",
   "metadata": {},
   "outputs": [],
   "source": [
    "df.to_pickle(os.path.join(exp_dir,'df',df_name), protocol=4)"
   ]
  },
  {
   "cell_type": "code",
   "execution_count": null,
   "id": "c9da5968",
   "metadata": {},
   "outputs": [],
   "source": []
  }
 ],
 "metadata": {
  "kernelspec": {
   "display_name": "Python 3 (ipykernel)",
   "language": "python",
   "name": "python3"
  },
  "language_info": {
   "codemirror_mode": {
    "name": "ipython",
    "version": 3
   },
   "file_extension": ".py",
   "mimetype": "text/x-python",
   "name": "python",
   "nbconvert_exporter": "python",
   "pygments_lexer": "ipython3",
   "version": "3.7.10"
  }
 },
 "nbformat": 4,
 "nbformat_minor": 5
}
