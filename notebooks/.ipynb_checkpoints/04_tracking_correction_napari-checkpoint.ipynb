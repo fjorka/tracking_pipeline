{
 "cells": [
  {
   "cell_type": "code",
   "execution_count": 1,
   "id": "f49352f4",
   "metadata": {},
   "outputs": [],
   "source": [
    "%load_ext autoreload\n",
    "%autoreload 2\n",
    "\n",
    "import os\n",
    "import sys\n",
    "import warnings\n",
    "import pandas as pd\n",
    "import numpy as np\n",
    "from tifffile import imread\n",
    "from nd2reader import ND2Reader\n",
    "\n",
    "import napari\n",
    "from napari import Viewer\n",
    "from magicgui.widgets import Container\n",
    "from magicgui import magicgui\n",
    "\n",
    "sys.path.append('../libraries')\n",
    "import general_functions as gen\n",
    "import napari_build_viewer as bv_f\n",
    "import input_functions as inp_f"
   ]
  },
  {
   "cell_type": "code",
   "execution_count": 2,
   "id": "af34d0ec",
   "metadata": {},
   "outputs": [],
   "source": [
    "warnings.filterwarnings('ignore')"
   ]
  },
  {
   "cell_type": "markdown",
   "id": "e43bd461",
   "metadata": {},
   "source": [
    "## Define experiment"
   ]
  },
  {
   "cell_type": "code",
   "execution_count": 3,
   "id": "40d35e83",
   "metadata": {},
   "outputs": [],
   "source": [
    "info_file_path = r'D:\\BARC\\BARC_Wanjuan\\210603_B3_5\\210603_halo_B3_5_info.txt'"
   ]
  },
  {
   "cell_type": "code",
   "execution_count": 5,
   "id": "5123d1f1",
   "metadata": {},
   "outputs": [],
   "source": [
    "# read the file\n",
    "info_file = open(info_file_path, 'r')\n",
    "info_lines = info_file.readlines()\n",
    "info_file.close()\n",
    "\n",
    "# read info about the data frame\n",
    "exp_dir,df_name = inp_f.read_df_info(info_lines)\n",
    "\n",
    "# read in the data frame\n",
    "df = pd.read_pickle(os.path.join(exp_dir,'df',df_name))\n",
    "\n",
    "# get info about the channels\n",
    "channel_list = inp_f.read_channels(info_lines,check=True,df=df,exp_dir=exp_dir)\n",
    "\n",
    "# get info about the tags\n",
    "tag_list = inp_f.read_tags(info_lines,df=df)\n",
    "\n",
    "# get info about what will be plotted\n",
    "graph_list = inp_f.read_graphs(info_lines,df,channel_list)\n",
    "\n",
    "# get info about the general settings\n",
    "time_threshold,small_im_size,label_contour,gen_track_columns = inp_f.read_settings(info_lines)\n",
    "\n",
    "# get info about the caluclations \n",
    "object_properties = inp_f.read_properties(info_lines)\n",
    "# consider pushing properties_ring too"
   ]
  },
  {
   "cell_type": "markdown",
   "id": "be7b999a",
   "metadata": {},
   "source": [
    "## Extract info from the data frame"
   ]
  },
  {
   "cell_type": "code",
   "execution_count": 6,
   "id": "b18a3561",
   "metadata": {},
   "outputs": [],
   "source": [
    "# sort \n",
    "df = df.sort_values(by=['track_id','t'])"
   ]
  },
  {
   "cell_type": "markdown",
   "id": "5f421af9",
   "metadata": {},
   "source": [
    "Expected execution time < 1min."
   ]
  },
  {
   "cell_type": "code",
   "execution_count": 7,
   "id": "54c16abc",
   "metadata": {},
   "outputs": [
    {
     "name": "stdout",
     "output_type": "stream",
     "text": [
      "Wall time: 6.33 s\n"
     ]
    }
   ],
   "source": [
    "%%time\n",
    "\n",
    "# generate labels layer\n",
    "labels = gen.labels_from_df(df)"
   ]
  },
  {
   "cell_type": "code",
   "execution_count": 29,
   "id": "b2924595",
   "metadata": {},
   "outputs": [],
   "source": [
    "# generate data for the tracking layer\n",
    "data,properties,graph = gen.trackData_from_df(df,col_list = gen_track_columns)"
   ]
  },
  {
   "cell_type": "code",
   "execution_count": 9,
   "id": "8c174de8",
   "metadata": {},
   "outputs": [],
   "source": [
    "# create data for tagging\n",
    "tag_data = gen.tags_from_df(df,tag_list)"
   ]
  },
  {
   "cell_type": "markdown",
   "id": "c450ffba",
   "metadata": {},
   "source": [
    "## Read in images"
   ]
  },
  {
   "cell_type": "markdown",
   "id": "a34e96b9",
   "metadata": {},
   "source": [
    "Expected execution time ~ 10s/1GB"
   ]
  },
  {
   "cell_type": "code",
   "execution_count": 10,
   "id": "51b68f1e",
   "metadata": {},
   "outputs": [
    {
     "name": "stdout",
     "output_type": "stream",
     "text": [
      "Wall time: 935 ms\n"
     ]
    }
   ],
   "source": [
    "%%time\n",
    "\n",
    "for ind,ch in enumerate(channel_list):\n",
    "    \n",
    "    im_path = os.path.join(exp_dir,'data',ch['file_name'])\n",
    "    c = ch['channel_in_file']\n",
    "    \n",
    "    channel_list[ind]['image'] = inp_f.open_movie(im_path,c)"
   ]
  },
  {
   "cell_type": "markdown",
   "id": "f8077a1f",
   "metadata": {},
   "source": [
    "## Create a viewer"
   ]
  },
  {
   "cell_type": "code",
   "execution_count": 15,
   "id": "8887aa3d",
   "metadata": {},
   "outputs": [],
   "source": [
    "viewer = napari.Viewer()\n",
    "\n",
    "# add a labels layer\n",
    "labels_layer = viewer.add_labels(labels,name='Labels',opacity = 0.4)\n",
    "\n",
    "# add a helper layer\n",
    "layer_mod = viewer.add_points([],name='Helper Points',face_color='red',ndim=3)\n",
    "\n",
    "# add a tracking layer\n",
    "track_layer=viewer.add_tracks(data, properties=properties,graph=graph,name='Tracking') #graph=graph\n",
    "\n",
    "track_layer.display_id=True\n",
    "\n",
    "# add tracks annotations\n",
    "for tag,tag_points in zip(tag_list,tag_data): \n",
    "    \n",
    "    viewer.add_points(tag_points,name=tag['tag_name'],face_color=tag['tag_color'],opacity = 1,ndim = 3)\n",
    "\n",
    "# add image layers\n",
    "for ind,ch in reversed(list(enumerate(channel_list))):\n",
    "    \n",
    "    viewer.add_image(ch['image'],name=ch['channel_name'],colormap=ch['color'],blending='additive')\n"
   ]
  },
  {
   "cell_type": "markdown",
   "id": "45397f71",
   "metadata": {},
   "source": [
    "## Build viewer functionality"
   ]
  },
  {
   "cell_type": "code",
   "execution_count": 16,
   "id": "b11ffa1a",
   "metadata": {},
   "outputs": [],
   "source": [
    "# inject global variables to the module\n",
    "\n",
    "global_variables = ['viewer',\n",
    "                    'exp_dir','df_name','df',\n",
    "                    'channel_list','graph_list',\n",
    "                    'object_properties',\n",
    "                    'time_threshold',\n",
    "                    'tag_list','gen_track_columns',\n",
    "                    'small_im_size',\n",
    "                    'label_contour'\n",
    "                   ]\n",
    "\n",
    "for var in global_variables:\n",
    "    \n",
    "    exec(f'bv_f.{var} = {var}')"
   ]
  },
  {
   "cell_type": "code",
   "execution_count": 17,
   "id": "d4a876af",
   "metadata": {},
   "outputs": [
    {
     "data": {
      "text/plain": [
       "<napari._qt.widgets.qt_viewer_dock_widget.QtViewerDockWidget at 0x27d52fbfd38>"
      ]
     },
     "execution_count": 17,
     "metadata": {},
     "output_type": "execute_result"
    },
    {
     "name": "stdout",
     "output_type": "stream",
     "text": [
      "<class 'numpy.ndarray'>\n"
     ]
    }
   ],
   "source": [
    "######################################################################\n",
    "# add saving button\n",
    "save_data = magicgui(bv_f.save_data, call_button='Save Data')\n",
    "viewer.window.add_dock_widget(save_data,area='right')\n",
    "\n",
    "######################################################################\n",
    "# add right-click to make a label active\n",
    "select_label = labels_layer.mouse_drag_callbacks.append(bv_f.select_label)\n",
    "\n",
    "######################################################################\n",
    "# add label modifications\n",
    "\n",
    "mod_label = magicgui(bv_f.mod_label,call_button='Modify Label')\n",
    "viewer.window.add_dock_widget(mod_label,area='right')\n",
    "\n",
    "mod_key = viewer.bind_key('Enter',overwrite=True,func=bv_f.mod_label)\n",
    "\n",
    "######################################################################\n",
    "# add track modifying buttons\n",
    "\n",
    "cut_track = magicgui(bv_f.cut_track, call_button='Cut Track')\n",
    "merge_track = magicgui(bv_f.merge_track, call_button='Merge Track')\n",
    "connect_track = magicgui(bv_f.connect_track, call_button='Connect Track')\n",
    "\n",
    "container_tracks = Container(widgets=[cut_track,merge_track,connect_track],labels=False)\n",
    "viewer.window.add_dock_widget(container_tracks,area='right') \n",
    "\n",
    "######################################################################\n",
    "# add right-click toggle track tags\n",
    "for tag_name in [x['tag_name'] for x in tag_list]:\n",
    "    \n",
    "    viewer.layers[tag_name].mouse_drag_callbacks.append(bv_f.toggle_track)\n",
    "    \n",
    "######################################################################\n",
    "# add small stack display button\n",
    "\n",
    "stack_button = magicgui(bv_f.show_stack, call_button='Show Stack')\n",
    "viewer.window.add_dock_widget(stack_button,area='right')"
   ]
  },
  {
   "cell_type": "code",
   "execution_count": 33,
   "id": "3daa3de6",
   "metadata": {},
   "outputs": [
    {
     "ename": "SyntaxError",
     "evalue": "invalid syntax (Temp/ipykernel_23896/2784534267.py, line 131)",
     "output_type": "error",
     "traceback": [
      "\u001b[1;36m  File \u001b[1;32m\"C:\\Users\\kmkedz\\AppData\\Local\\Temp/ipykernel_23896/2784534267.py\"\u001b[1;36m, line \u001b[1;32m131\u001b[0m\n\u001b[1;33m    family_im = render_family_tree(t)\u001b[0m\n\u001b[1;37m            ^\u001b[0m\n\u001b[1;31mSyntaxError\u001b[0m\u001b[1;31m:\u001b[0m invalid syntax\n"
     ]
    }
   ],
   "source": [
    "def node_info(track_ind,df):\n",
    "    \n",
    "    node_t = df.loc[df.track_id==track_ind,'t']\n",
    "    node_start = np.min(node_t)\n",
    "    node_stop = np.max(node_t)\n",
    "    \n",
    "    return node_start,node_stop\n",
    "\n",
    "def mylayout(node):\n",
    "\n",
    "    node_name = faces.TextFace(node.name,fsize=2)\n",
    "    faces.add_face_to_node(node_name, node, column=0,position = \"branch-top\")\n",
    "\n",
    "def generate_tree(paths,movie_len):\n",
    "\n",
    "    '''\n",
    "    Function that changes paths into a Newick tree \n",
    "    '''\n",
    "    \n",
    "    # define root style\n",
    "    style_root = NodeStyle()\n",
    "    style_root[\"size\"] = 0\n",
    "    style_root[\"vt_line_color\"] = \"white\"\n",
    "    style_root[\"hz_line_color\"] = \"white\"\n",
    "    \n",
    "    t=Tree()\n",
    "\n",
    "    node_list = []\n",
    "\n",
    "    for sub in paths:\n",
    "\n",
    "        # creating a root\n",
    "        if (len(sub)==1):\n",
    "\n",
    "            node_start,node_stop = node_info(sub[0],df)\n",
    "            node_life = node_stop-node_start\n",
    "\n",
    "            # add empty trunk\n",
    "            if node_start>0:\n",
    "\n",
    "                t.dist = node_start\n",
    "                t.img_style = style_root\n",
    "\n",
    "            else:\n",
    "\n",
    "                t.dist = 0 \n",
    "                t.img_style = style_root\n",
    "\n",
    "            temp = t.add_child(name=sub[0],dist=node_life)\n",
    "            temp.img_style[\"size\"] = 0\n",
    "            temp.img_style[\"hz_line_width\"] = 1\n",
    "            exec(f'n{sub[0]} = temp')\n",
    "\n",
    "            node_list.append(sub[0])\n",
    "\n",
    "\n",
    "        if (len(sub)>1):\n",
    "            for node in sub[1:]:\n",
    "\n",
    "                if not(node in node_list):\n",
    "\n",
    "                    node_start,node_stop = node_info(node,df)\n",
    "                    node_life = node_stop-node_start\n",
    "\n",
    "                    exec(f'n{node}=n{sub[0]}.add_child(name={node},dist={node_life})')\n",
    "                    exec(f'n{node}.img_style[\"size\"] = 0')\n",
    "                    exec(f'n{node}.img_style[\"hz_line_width\"] = 1')\n",
    "\n",
    "                    node_list.append(node)\n",
    "\n",
    "    # add an additional leaf to re-scale the graph\n",
    "    far_leaf = t.get_farthest_leaf()\n",
    "    tree_size = far_leaf[1]+t.dist\n",
    "\n",
    "    fake_leaf = far_leaf[0].add_child(name='',dist=(movie_len-tree_size))\n",
    "    fake_leaf.img_style=style_root  \n",
    "    \n",
    "    return t\n",
    "\n",
    "def color_tree(t,labels_layer,color_style):\n",
    "    \n",
    "    for n in t.traverse():\n",
    "    \n",
    "        if not(n.name==''):\n",
    "            \n",
    "            if color_style == 'track':\n",
    "                label_color = matplotlib.colors.to_hex(labels_layer.get_color(n.name))\n",
    "            else:\n",
    "                label_color = 'black'\n",
    "            \n",
    "            n.img_style[\"hz_line_color\"] = label_color\n",
    "            \n",
    "    return t\n",
    "   \n",
    "def render_family_tree(t):\n",
    "    \n",
    "    ts = TreeStyle()\n",
    "    ts.show_scale=False\n",
    "    ts.show_leaf_name = False\n",
    "    \n",
    "    # add names of all branches\n",
    "    ts.layout_fn = mylayout\n",
    "    \n",
    "    ts.branch_vertical_margin = 1\n",
    "    ts.scale = 1 \n",
    "    test=t.render('test.png',tree_style=ts,w=200,units='mm',dpi=800)\n",
    "\n",
    "    im = plt.imread('test.png')\n",
    "\n",
    "    return im\n",
    "    \n",
    "    \n",
    "def generate_family_image(df,labels_layer,current_track,graph_details):\n",
    "    \n",
    "    # find graph for everyone\n",
    "    _,_,graph = gen.trackData_from_df(df,col_list = ['track_id'])\n",
    "    \n",
    "    # find the root\n",
    "    my_root = int(list(df.loc[df.track_id==current_track,'root'])[0])\n",
    "    paths=gen.find_all_paths(graph,my_root)\n",
    "    \n",
    "    # generate the family tree\n",
    "    movie_len = np.max(df['t'])\n",
    "    t = generate_tree(paths,movie_len)\n",
    "    \n",
    "    # color the tree\n",
    "    color_style = graph_details['color']\n",
    "    t = color_tree(t,labels_layer,color_style)\n",
    "                   \n",
    "    # render the tree\n",
    "    family_im = render_family_tree(t)\n",
    "\n",
    "    return family_im\n",
    "                   \n",
    "### \n",
    "# you need to PROPAGATE labels_layer "
   ]
  },
  {
   "cell_type": "code",
   "execution_count": 30,
   "id": "bbe6d236",
   "metadata": {},
   "outputs": [
    {
     "data": {
      "text/plain": [
       "{299: 278, 300: 278, 651: 132, 660: 132, 677: 669, 678: 669}"
      ]
     },
     "execution_count": 30,
     "metadata": {},
     "output_type": "execute_result"
    }
   ],
   "source": [
    "graph"
   ]
  },
  {
   "cell_type": "code",
   "execution_count": 31,
   "id": "e51c7f50",
   "metadata": {},
   "outputs": [],
   "source": [
    "current_track = 651\n",
    "\n",
    "generate_family_image(df,labels_layer,current_track,graph_details)"
   ]
  },
  {
   "cell_type": "code",
   "execution_count": 32,
   "id": "ebaea80a",
   "metadata": {},
   "outputs": [
    {
     "data": {
      "text/plain": [
       "[{'graph_name': 'Family Tree', 'function': 'family', 'color': 'track'},\n",
       " {'graph_name': '53BP1', 'function': '[nuc_0,ring_0]', 'color': 'red'}]"
      ]
     },
     "execution_count": 32,
     "metadata": {},
     "output_type": "execute_result"
    }
   ],
   "source": [
    "graph_list"
   ]
  },
  {
   "cell_type": "code",
   "execution_count": null,
   "id": "4858b3a0",
   "metadata": {},
   "outputs": [],
   "source": [
    "test = generate_family_image(df,current_track)"
   ]
  }
 ],
 "metadata": {
  "kernelspec": {
   "display_name": "Python 3 (ipykernel)",
   "language": "python",
   "name": "python3"
  },
  "language_info": {
   "codemirror_mode": {
    "name": "ipython",
    "version": 3
   },
   "file_extension": ".py",
   "mimetype": "text/x-python",
   "name": "python",
   "nbconvert_exporter": "python",
   "pygments_lexer": "ipython3",
   "version": "3.7.10"
  }
 },
 "nbformat": 4,
 "nbformat_minor": 5
}
