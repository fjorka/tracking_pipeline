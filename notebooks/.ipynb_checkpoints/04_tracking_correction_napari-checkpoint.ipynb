{
 "cells": [
  {
   "cell_type": "code",
   "execution_count": 1,
   "id": "f49352f4",
   "metadata": {},
   "outputs": [],
   "source": [
    "%load_ext autoreload\n",
    "%autoreload 2\n",
    "\n",
    "import os\n",
    "import sys\n",
    "import warnings\n",
    "import pandas as pd\n",
    "import numpy as np\n",
    "from tifffile import imread\n",
    "from nd2reader import ND2Reader\n",
    "\n",
    "import napari\n",
    "from napari import Viewer\n",
    "from magicgui.widgets import Container\n",
    "from magicgui import magicgui\n",
    "\n",
    "sys.path.append('../libraries')\n",
    "import general_functions as gen\n",
    "import napari_build_viewer as bv_f\n",
    "import input_functions as inp_f"
   ]
  },
  {
   "cell_type": "code",
   "execution_count": 2,
   "id": "af34d0ec",
   "metadata": {},
   "outputs": [],
   "source": [
    "warnings.filterwarnings('ignore')"
   ]
  },
  {
   "cell_type": "markdown",
   "id": "e43bd461",
   "metadata": {},
   "source": [
    "## Define experiment"
   ]
  },
  {
   "cell_type": "code",
   "execution_count": 3,
   "id": "40d35e83",
   "metadata": {},
   "outputs": [],
   "source": [
    "info_file_path = r'D:\\BARC\\BARC_Wanjuan\\210603_B3_5\\210603_halo_B3_5_info.txt'"
   ]
  },
  {
   "cell_type": "code",
   "execution_count": 4,
   "id": "5123d1f1",
   "metadata": {},
   "outputs": [],
   "source": [
    "# read the file\n",
    "info_file = open(info_file_path, 'r')\n",
    "info_lines = info_file.readlines()\n",
    "info_file.close()\n",
    "\n",
    "# read info about the data frame\n",
    "exp_dir,df_name = inp_f.read_df_info(info_lines)\n",
    "\n",
    "# read in the data frame\n",
    "df = pd.read_pickle(os.path.join(exp_dir,'df',df_name))\n",
    "\n",
    "# get info about the channels\n",
    "channel_list = inp_f.read_channels(info_lines,check=True,df=df,exp_dir=exp_dir)\n",
    "\n",
    "# get info about the tags\n",
    "tag_list = inp_f.read_tags(info_lines,df=df)\n",
    "\n",
    "# get info about what will be plotted\n",
    "graph_list = inp_f.read_graphs(info_lines,df,channel_list)\n",
    "\n",
    "# get info about the general settings\n",
    "time_threshold,small_im_size,label_contour,gen_track_columns = inp_f.read_settings(info_lines)\n",
    "\n",
    "# get info about the caluclations \n",
    "object_properties = inp_f.read_properties(info_lines)\n",
    "# consider pushing properties_ring too"
   ]
  },
  {
   "cell_type": "markdown",
   "id": "be7b999a",
   "metadata": {},
   "source": [
    "## Extract info from the data frame"
   ]
  },
  {
   "cell_type": "code",
   "execution_count": 5,
   "id": "b18a3561",
   "metadata": {},
   "outputs": [],
   "source": [
    "# sort \n",
    "df = df.sort_values(by=['track_id','t'])"
   ]
  },
  {
   "cell_type": "markdown",
   "id": "5f421af9",
   "metadata": {},
   "source": [
    "Expected execution time < 1min."
   ]
  },
  {
   "cell_type": "code",
   "execution_count": 6,
   "id": "54c16abc",
   "metadata": {},
   "outputs": [
    {
     "name": "stdout",
     "output_type": "stream",
     "text": [
      "Wall time: 6.84 s\n"
     ]
    }
   ],
   "source": [
    "%%time\n",
    "\n",
    "# generate labels layer\n",
    "labels = gen.labels_from_df(df)"
   ]
  },
  {
   "cell_type": "code",
   "execution_count": 7,
   "id": "b2924595",
   "metadata": {},
   "outputs": [],
   "source": [
    "# generate data for the tracking layer\n",
    "data,properties,graph = gen.trackData_from_df(df,col_list = gen_track_columns)"
   ]
  },
  {
   "cell_type": "code",
   "execution_count": 8,
   "id": "8c174de8",
   "metadata": {},
   "outputs": [],
   "source": [
    "# create data for tagging\n",
    "tag_data = gen.tags_from_df(df,tag_list)"
   ]
  },
  {
   "cell_type": "markdown",
   "id": "c450ffba",
   "metadata": {},
   "source": [
    "## Read in images"
   ]
  },
  {
   "cell_type": "markdown",
   "id": "a34e96b9",
   "metadata": {},
   "source": [
    "Expected execution time ~ 10s/1GB"
   ]
  },
  {
   "cell_type": "code",
   "execution_count": 9,
   "id": "51b68f1e",
   "metadata": {},
   "outputs": [
    {
     "name": "stdout",
     "output_type": "stream",
     "text": [
      "Wall time: 865 ms\n"
     ]
    }
   ],
   "source": [
    "%%time\n",
    "\n",
    "for ind,ch in enumerate(channel_list):\n",
    "    \n",
    "    im_path = os.path.join(exp_dir,'data',ch['file_name'])\n",
    "    c = ch['channel_in_file']\n",
    "    \n",
    "    channel_list[ind]['image'] = inp_f.open_movie(im_path,c)"
   ]
  },
  {
   "cell_type": "markdown",
   "id": "f8077a1f",
   "metadata": {},
   "source": [
    "## Create a viewer"
   ]
  },
  {
   "cell_type": "code",
   "execution_count": 10,
   "id": "8887aa3d",
   "metadata": {},
   "outputs": [],
   "source": [
    "viewer = napari.Viewer()\n",
    "\n",
    "# add a labels layer\n",
    "labels_layer = viewer.add_labels(labels,name='Labels',opacity = 0.4)\n",
    "\n",
    "# add a helper layer\n",
    "layer_mod = viewer.add_points([],name='Helper Points',face_color='red',ndim=3)\n",
    "\n",
    "# add a tracking layer\n",
    "track_layer=viewer.add_tracks(data, properties=properties,graph={},name='Tracking')\n",
    "\n",
    "track_layer.display_id=True\n",
    "\n",
    "# add tracks annotations\n",
    "for tag,tag_points in zip(tag_list,tag_data): \n",
    "    \n",
    "    viewer.add_points(tag_points,name=tag['tag_name'],face_color=tag['tag_color'],opacity = 1,ndim = 3)\n",
    "\n",
    "# add image layers\n",
    "for ind,ch in reversed(list(enumerate(channel_list))):\n",
    "    \n",
    "    viewer.add_image(ch['image'],name=ch['channel_name'],colormap=ch['color'],blending='additive')\n"
   ]
  },
  {
   "cell_type": "code",
   "execution_count": 11,
   "id": "5c26b570",
   "metadata": {},
   "outputs": [],
   "source": [
    "# create a plot widget\n",
    "t_max = viewer.dims.range[0][1]\n",
    "plot_widget = bv_f.build_lineage_widget(t_max)"
   ]
  },
  {
   "cell_type": "markdown",
   "id": "45397f71",
   "metadata": {},
   "source": [
    "## Build viewer functionality"
   ]
  },
  {
   "cell_type": "code",
   "execution_count": 12,
   "id": "b11ffa1a",
   "metadata": {},
   "outputs": [],
   "source": [
    "# inject global variables to the module\n",
    "\n",
    "global_variables = ['viewer','plot_widget',\n",
    "                    'exp_dir','df_name','df',\n",
    "                    'channel_list','graph_list',\n",
    "                    'object_properties',\n",
    "                    'time_threshold',\n",
    "                    'tag_list','gen_track_columns',\n",
    "                    'small_im_size',\n",
    "                    'label_contour'\n",
    "                   ]\n",
    "\n",
    "for var in global_variables:\n",
    "    \n",
    "    exec(f'bv_f.{var} = {var}')"
   ]
  },
  {
   "cell_type": "code",
   "execution_count": 13,
   "id": "d4a876af",
   "metadata": {},
   "outputs": [
    {
     "data": {
      "text/plain": [
       "<function napari_build_viewer.update_lineage_display(event)>"
      ]
     },
     "execution_count": 13,
     "metadata": {},
     "output_type": "execute_result"
    }
   ],
   "source": [
    "######################################################################\n",
    "# add saving button\n",
    "save_data = magicgui(bv_f.save_data, call_button='Save Data')\n",
    "viewer.window.add_dock_widget(save_data,area='right')\n",
    "\n",
    "######################################################################\n",
    "# add right-click to make a label active\n",
    "select_label = labels_layer.mouse_drag_callbacks.append(bv_f.select_label)\n",
    "\n",
    "######################################################################\n",
    "# add label modifications\n",
    "\n",
    "mod_label = magicgui(bv_f.mod_label,call_button='Modify Label')\n",
    "viewer.window.add_dock_widget(mod_label,area='right')\n",
    "\n",
    "mod_key = viewer.bind_key('Enter',overwrite=True,func=bv_f.mod_label)\n",
    "\n",
    "######################################################################\n",
    "# add track modifying buttons\n",
    "\n",
    "cut_track = magicgui(bv_f.cut_track, call_button='Cut Track')\n",
    "merge_track = magicgui(bv_f.merge_track, call_button='Merge Track')\n",
    "connect_track = magicgui(bv_f.connect_track, call_button='Connect Track')\n",
    "\n",
    "container_tracks = Container(widgets=[cut_track,merge_track,connect_track],labels=False)\n",
    "viewer.window.add_dock_widget(container_tracks,area='right') \n",
    "\n",
    "######################################################################\n",
    "# add right-click toggle track tags\n",
    "for tag_name in [x['tag_name'] for x in tag_list]:\n",
    "    \n",
    "    viewer.layers[tag_name].mouse_drag_callbacks.append(bv_f.toggle_track)\n",
    "    \n",
    "######################################################################\n",
    "# add small stack display button\n",
    "\n",
    "stack_button = magicgui(bv_f.show_stack, call_button='Show Stack')\n",
    "viewer.window.add_dock_widget(stack_button,area='right')\n",
    "\n",
    "########################################################################\n",
    "# add lineage graph\n",
    "viewer.window.add_dock_widget(plot_widget,area='bottom',name='family')\n",
    "\n",
    "# connect lineage graph update\n",
    "labels_layer.events.selected_label.connect(bv_f.update_lineage_display)"
   ]
  },
  {
   "cell_type": "code",
   "execution_count": 22,
   "id": "1e80f567",
   "metadata": {},
   "outputs": [
    {
     "name": "stdout",
     "output_type": "stream",
     "text": [
      "The autoreload extension is already loaded. To reload it, use:\n",
      "  %reload_ext autoreload\n"
     ]
    }
   ],
   "source": [
    "%load_ext autoreload\n",
    "%autoreload 2\n",
    "import napari_display_functions as my_napari"
   ]
  },
  {
   "cell_type": "code",
   "execution_count": 14,
   "id": "fae0f6d8",
   "metadata": {},
   "outputs": [],
   "source": [
    "df= bv_f.df"
   ]
  },
  {
   "cell_type": "code",
   "execution_count": 47,
   "id": "429cb45a",
   "metadata": {},
   "outputs": [],
   "source": [
    "def update_family_line(step_event):\n",
    "    \n",
    "    global plot_widget\n",
    "    \n",
    "    slider_pos = step_event.value\n",
    "\n",
    "    plot_view = plot_widget.getItem(0,0)\n",
    "    y_range = plot_view.viewRange()[1]\n",
    "    \n",
    "               \n",
    "    pen = pg.mkPen(xwidth=2)#slider_pos\n",
    "    plot_view.plot([slider_pos[0],slider_pos[0]], y_range,pen=pen)\n"
   ]
  },
  {
   "cell_type": "code",
   "execution_count": 48,
   "id": "2b750fbb",
   "metadata": {},
   "outputs": [
    {
     "data": {
      "text/plain": [
       "<function __main__.update_family_line(step_event)>"
      ]
     },
     "execution_count": 48,
     "metadata": {},
     "output_type": "execute_result"
    },
    {
     "name": "stdout",
     "output_type": "stream",
     "text": [
      "(132, 0, 0)\n",
      "(147, 0, 0)\n",
      "(163, 0, 0)\n"
     ]
    }
   ],
   "source": [
    "# connect the function to the dims axis\n",
    "viewer.dims.events.current_step.connect(update_family_line)"
   ]
  },
  {
   "cell_type": "code",
   "execution_count": 15,
   "id": "7cacd375",
   "metadata": {},
   "outputs": [
    {
     "data": {
      "text/html": [
       "<div>\n",
       "<style scoped>\n",
       "    .dataframe tbody tr th:only-of-type {\n",
       "        vertical-align: middle;\n",
       "    }\n",
       "\n",
       "    .dataframe tbody tr th {\n",
       "        vertical-align: top;\n",
       "    }\n",
       "\n",
       "    .dataframe thead th {\n",
       "        text-align: right;\n",
       "    }\n",
       "</style>\n",
       "<table border=\"1\" class=\"dataframe\">\n",
       "  <thead>\n",
       "    <tr style=\"text-align: right;\">\n",
       "      <th></th>\n",
       "      <th>t</th>\n",
       "      <th>track_id</th>\n",
       "      <th>root</th>\n",
       "      <th>generation</th>\n",
       "      <th>parent</th>\n",
       "    </tr>\n",
       "  </thead>\n",
       "  <tbody>\n",
       "    <tr>\n",
       "      <th>1621</th>\n",
       "      <td>3</td>\n",
       "      <td>132.0</td>\n",
       "      <td>132.0</td>\n",
       "      <td>0.0</td>\n",
       "      <td>132.0</td>\n",
       "    </tr>\n",
       "    <tr>\n",
       "      <th>1622</th>\n",
       "      <td>4</td>\n",
       "      <td>132.0</td>\n",
       "      <td>132.0</td>\n",
       "      <td>0.0</td>\n",
       "      <td>132.0</td>\n",
       "    </tr>\n",
       "    <tr>\n",
       "      <th>1623</th>\n",
       "      <td>5</td>\n",
       "      <td>132.0</td>\n",
       "      <td>132.0</td>\n",
       "      <td>0.0</td>\n",
       "      <td>132.0</td>\n",
       "    </tr>\n",
       "    <tr>\n",
       "      <th>1624</th>\n",
       "      <td>6</td>\n",
       "      <td>132.0</td>\n",
       "      <td>132.0</td>\n",
       "      <td>0.0</td>\n",
       "      <td>132.0</td>\n",
       "    </tr>\n",
       "    <tr>\n",
       "      <th>1625</th>\n",
       "      <td>7</td>\n",
       "      <td>132.0</td>\n",
       "      <td>132.0</td>\n",
       "      <td>0.0</td>\n",
       "      <td>132.0</td>\n",
       "    </tr>\n",
       "    <tr>\n",
       "      <th>...</th>\n",
       "      <td>...</td>\n",
       "      <td>...</td>\n",
       "      <td>...</td>\n",
       "      <td>...</td>\n",
       "      <td>...</td>\n",
       "    </tr>\n",
       "    <tr>\n",
       "      <th>1716</th>\n",
       "      <td>102</td>\n",
       "      <td>132.0</td>\n",
       "      <td>132.0</td>\n",
       "      <td>0.0</td>\n",
       "      <td>132.0</td>\n",
       "    </tr>\n",
       "    <tr>\n",
       "      <th>1717</th>\n",
       "      <td>103</td>\n",
       "      <td>132.0</td>\n",
       "      <td>132.0</td>\n",
       "      <td>0.0</td>\n",
       "      <td>132.0</td>\n",
       "    </tr>\n",
       "    <tr>\n",
       "      <th>1718</th>\n",
       "      <td>104</td>\n",
       "      <td>132.0</td>\n",
       "      <td>132.0</td>\n",
       "      <td>0.0</td>\n",
       "      <td>132.0</td>\n",
       "    </tr>\n",
       "    <tr>\n",
       "      <th>1719</th>\n",
       "      <td>105</td>\n",
       "      <td>132.0</td>\n",
       "      <td>132.0</td>\n",
       "      <td>0.0</td>\n",
       "      <td>132.0</td>\n",
       "    </tr>\n",
       "    <tr>\n",
       "      <th>1720</th>\n",
       "      <td>107</td>\n",
       "      <td>132.0</td>\n",
       "      <td>132.0</td>\n",
       "      <td>0.0</td>\n",
       "      <td>132.0</td>\n",
       "    </tr>\n",
       "  </tbody>\n",
       "</table>\n",
       "<p>100 rows × 5 columns</p>\n",
       "</div>"
      ],
      "text/plain": [
       "        t  track_id   root  generation  parent\n",
       "1621    3     132.0  132.0         0.0   132.0\n",
       "1622    4     132.0  132.0         0.0   132.0\n",
       "1623    5     132.0  132.0         0.0   132.0\n",
       "1624    6     132.0  132.0         0.0   132.0\n",
       "1625    7     132.0  132.0         0.0   132.0\n",
       "...   ...       ...    ...         ...     ...\n",
       "1716  102     132.0  132.0         0.0   132.0\n",
       "1717  103     132.0  132.0         0.0   132.0\n",
       "1718  104     132.0  132.0         0.0   132.0\n",
       "1719  105     132.0  132.0         0.0   132.0\n",
       "1720  107     132.0  132.0         0.0   132.0\n",
       "\n",
       "[100 rows x 5 columns]"
      ]
     },
     "execution_count": 15,
     "metadata": {},
     "output_type": "execute_result"
    }
   ],
   "source": [
    "df.loc[df.track_id==132,['t','track_id','root','generation','parent']]"
   ]
  },
  {
   "cell_type": "code",
   "execution_count": 16,
   "id": "c690ed48",
   "metadata": {},
   "outputs": [
    {
     "data": {
      "text/plain": [
       "132"
      ]
     },
     "execution_count": 16,
     "metadata": {},
     "output_type": "execute_result"
    }
   ],
   "source": [
    "viewer.layers['Labels'].selected_label"
   ]
  },
  {
   "cell_type": "code",
   "execution_count": 17,
   "id": "d1845fb1",
   "metadata": {},
   "outputs": [],
   "source": [
    "_,_,graph = gen.trackData_from_df(df,col_list = ['track_id'])"
   ]
  },
  {
   "cell_type": "code",
   "execution_count": 18,
   "id": "fe8051fa",
   "metadata": {},
   "outputs": [
    {
     "data": {
      "text/plain": [
       "{7: 272,\n",
       " 9: 272,\n",
       " 55: 180,\n",
       " 74: 180,\n",
       " 181: 146,\n",
       " 182: 147,\n",
       " 299: 278,\n",
       " 300: 278,\n",
       " 651: 132,\n",
       " 660: 132,\n",
       " 677: 669,\n",
       " 678: 669}"
      ]
     },
     "execution_count": 18,
     "metadata": {},
     "output_type": "execute_result"
    }
   ],
   "source": [
    "graph"
   ]
  },
  {
   "cell_type": "code",
   "execution_count": 21,
   "id": "7c855757",
   "metadata": {},
   "outputs": [
    {
     "data": {
      "text/plain": [
       "[[132], [132, 651], [132, 660]]"
      ]
     },
     "execution_count": 21,
     "metadata": {},
     "output_type": "execute_result"
    }
   ],
   "source": [
    "active_label = viewer.layers['Labels'].selected_label\n",
    "my_root = int(list(df.loc[df.track_id==active_label,'root'])[0])\n",
    "paths=gen.find_all_paths(graph,my_root)\n",
    "paths"
   ]
  },
  {
   "cell_type": "code",
   "execution_count": 23,
   "id": "a1a16869",
   "metadata": {},
   "outputs": [
    {
     "data": {
      "text/plain": [
       "Tree node '' (-0x7fffffe717b8cca4)"
      ]
     },
     "execution_count": 23,
     "metadata": {},
     "output_type": "execute_result"
    }
   ],
   "source": [
    "t = my_napari.generate_tree_min(paths,df)\n",
    "t"
   ]
  },
  {
   "cell_type": "code",
   "execution_count": 34,
   "id": "28596578",
   "metadata": {},
   "outputs": [
    {
     "name": "stdout",
     "output_type": "stream",
     "text": [
      "132\n",
      "3\n",
      "17.0\n",
      "651\n",
      "108\n",
      "9.0\n",
      "660\n",
      "109\n",
      "25.0\n"
     ]
    }
   ],
   "source": [
    "for n in t.traverse():\n",
    "\n",
    "    if n.is_root():\n",
    "        pass\n",
    "    else:\n",
    "\n",
    "        print(n.name)\n",
    "        print(n.start)\n",
    "        print(n.y)"
   ]
  },
  {
   "cell_type": "code",
   "execution_count": 36,
   "id": "ac595e06",
   "metadata": {},
   "outputs": [],
   "source": [
    "plot_view.setYRange(0, 30)\n",
    "plot_view.setXRange(0, 220)"
   ]
  },
  {
   "cell_type": "code",
   "execution_count": null,
   "id": "515c9e0d",
   "metadata": {},
   "outputs": [],
   "source": []
  },
  {
   "cell_type": "code",
   "execution_count": 25,
   "id": "78e8308c",
   "metadata": {},
   "outputs": [],
   "source": [
    "t_rendering = t.render('family_tree.png')"
   ]
  },
  {
   "cell_type": "code",
   "execution_count": 26,
   "id": "29394db7",
   "metadata": {},
   "outputs": [],
   "source": [
    "t = my_napari.add_y_rendering(t,t_rendering)"
   ]
  },
  {
   "cell_type": "code",
   "execution_count": 31,
   "id": "4036951b",
   "metadata": {},
   "outputs": [
    {
     "data": {
      "text/plain": [
       "<pyqtgraph.graphicsItems.PlotItem.PlotItem.PlotItem at 0x18e924e39d8>"
      ]
     },
     "execution_count": 31,
     "metadata": {},
     "output_type": "execute_result"
    }
   ],
   "source": [
    "plot_view = plot_widget.getItem(0,0)\n",
    "bv_f.render_tree_view(plot_view,t,viewer)"
   ]
  },
  {
   "cell_type": "code",
   "execution_count": 48,
   "id": "968c9bb7",
   "metadata": {},
   "outputs": [
    {
     "ename": "NameError",
     "evalue": "name 'col_list' is not defined",
     "output_type": "error",
     "traceback": [
      "\u001b[1;31m---------------------------------------------------------------------------\u001b[0m",
      "\u001b[1;31mNameError\u001b[0m                                 Traceback (most recent call last)",
      "\u001b[1;32m~\\AppData\\Local\\Temp/ipykernel_13588/3006858252.py\u001b[0m in \u001b[0;36m<module>\u001b[1;34m\u001b[0m\n\u001b[0;32m      4\u001b[0m \u001b[0msel_vector\u001b[0m \u001b[1;33m=\u001b[0m \u001b[1;32mFalse\u001b[0m\u001b[1;33m*\u001b[0m\u001b[0mlen\u001b[0m\u001b[1;33m(\u001b[0m\u001b[0mdf\u001b[0m\u001b[1;33m)\u001b[0m\u001b[1;33m\u001b[0m\u001b[1;33m\u001b[0m\u001b[0m\n\u001b[0;32m      5\u001b[0m \u001b[1;33m\u001b[0m\u001b[0m\n\u001b[1;32m----> 6\u001b[1;33m \u001b[1;32mfor\u001b[0m \u001b[0mi\u001b[0m \u001b[1;32min\u001b[0m \u001b[0mrange\u001b[0m\u001b[1;33m(\u001b[0m\u001b[0mlen\u001b[0m\u001b[1;33m(\u001b[0m\u001b[0mcol_list\u001b[0m\u001b[1;33m)\u001b[0m\u001b[1;33m)\u001b[0m\u001b[1;33m:\u001b[0m\u001b[1;33m\u001b[0m\u001b[1;33m\u001b[0m\u001b[0m\n\u001b[0m\u001b[0;32m      7\u001b[0m \u001b[1;33m\u001b[0m\u001b[0m\n\u001b[0;32m      8\u001b[0m     \u001b[0msel_vector\u001b[0m \u001b[1;33m=\u001b[0m \u001b[0msel_vector\u001b[0m \u001b[1;33m|\u001b[0m \u001b[0mdf\u001b[0m\u001b[1;33m[\u001b[0m\u001b[0mcol_list\u001b[0m\u001b[1;33m[\u001b[0m\u001b[0mi\u001b[0m\u001b[1;33m]\u001b[0m\u001b[1;33m]\u001b[0m\u001b[1;33m.\u001b[0m\u001b[0mastype\u001b[0m\u001b[1;33m(\u001b[0m\u001b[1;34m'bool'\u001b[0m\u001b[1;33m)\u001b[0m\u001b[1;33m\u001b[0m\u001b[1;33m\u001b[0m\u001b[0m\n",
      "\u001b[1;31mNameError\u001b[0m: name 'col_list' is not defined"
     ]
    }
   ],
   "source": [
    "exist_vector = (df['track_id']==df['track_id'])\n",
    "\n",
    "# select only objects that have specific labels\n",
    "sel_vector = False*len(df)\n",
    "\n",
    "for i in range(len(col_list)):\n",
    "\n",
    "    sel_vector = sel_vector | df[col_list[i]].astype('bool')\n",
    "\n",
    "selVector = exist_vector & sel_vector"
   ]
  },
  {
   "cell_type": "code",
   "execution_count": 46,
   "id": "3ebdf5db",
   "metadata": {},
   "outputs": [],
   "source": [
    "data,properties,graph = gen.trackData_from_df(df)"
   ]
  },
  {
   "cell_type": "code",
   "execution_count": 47,
   "id": "ce3932f1",
   "metadata": {},
   "outputs": [
    {
     "data": {
      "text/plain": [
       "{74: 180,\n",
       " 23: 166,\n",
       " 182: 147,\n",
       " 44: 149,\n",
       " 7: 272,\n",
       " 651: 132,\n",
       " 660: 132,\n",
       " 677: 669,\n",
       " 9: 272}"
      ]
     },
     "execution_count": 47,
     "metadata": {},
     "output_type": "execute_result"
    }
   ],
   "source": [
    "graph"
   ]
  },
  {
   "cell_type": "code",
   "execution_count": null,
   "id": "2957fa2b",
   "metadata": {},
   "outputs": [],
   "source": [
    "def forward_df(df,current_frame,active_label,newTrack,connectTo=0):\n",
    "    \n",
    "    '''\n",
    "    Function to modify forward data frame structure after linking changes\n",
    "    input:\n",
    "        df\n",
    "        current_frame\n",
    "        active_label\n",
    "        newTrack\n",
    "        graph\n",
    "    output:\n",
    "        df\n",
    "    '''\n",
    "    \n",
    "    # find info about the cut track\n",
    "    active_label_generation = list(df.loc[df.track_id==active_label,'generation'].drop_duplicates())[0]\n",
    "    \n",
    "    # find info about the new label\n",
    "    genList = list(df.loc[df.track_id==newTrack,'generation'].drop_duplicates())\n",
    "    if len(genList)>0:\n",
    "        new_generation = genList[0]\n",
    "        new_root = list(df.loc[df.track_id==newTrack,'root'].drop_duplicates())[0]\n",
    "        new_parent = list(df.loc[df.track_id==newTrack,'parent'].drop_duplicates())[0]\n",
    "        \n",
    "    else: # so this is a completely new number for a track\n",
    "        \n",
    "        if connectTo == 0: # and nothing to connect to\n",
    "            \n",
    "            new_generation = 0\n",
    "            new_root = newTrack\n",
    "            new_parent = newTrack\n",
    "        \n",
    "        else: # check data of a track we connect to\n",
    "        \n",
    "            new_generation = list(df.loc[df.track_id==connectTo,'generation'].drop_duplicates())[0] + 1\n",
    "            new_root = list(df.loc[df.track_id==connectTo,'root'].drop_duplicates())[0]\n",
    "            new_parent = connectTo\n",
    "            \n",
    "    \n",
    "    # get a graph\n",
    "    data,properties,graph = trackData_from_df(df)\n",
    "    \n",
    "    # find kids\n",
    "    kids_list = []\n",
    "    for key, value in graph.items():   # iter on both keys and values\n",
    "            if (value == [active_label]):\n",
    "                kids_list.append(key)\n",
    "    \n",
    "    # find all family members\n",
    "    all_paths = find_all_paths(graph, active_label)\n",
    "    family_members = [item for sublist in all_paths for item in sublist]\n",
    "    \n",
    "    for myDescendant in family_members:\n",
    "        \n",
    "        # find which rows need to be changed\n",
    "        changeIndex = (df.t>=current_frame) & (df.track_id==myDescendant)\n",
    "        \n",
    "        df.loc[changeIndex,'root'] = new_root\n",
    "        df.loc[changeIndex,'generation'] = df.loc[changeIndex,'generation'] - active_label_generation + new_generation\n",
    "        \n",
    "        if(myDescendant == active_label):\n",
    "        \n",
    "            df.loc[changeIndex,'track_id'] = newTrack\n",
    "            df.loc[changeIndex,'parent'] = new_parent\n",
    "              \n",
    "        elif (myDescendant in kids_list): #2nd generation\n",
    "            \n",
    "            df.loc[changeIndex,'parent'] = newTrack\n",
    "            \n",
    "    return df"
   ]
  }
 ],
 "metadata": {
  "kernelspec": {
   "display_name": "Python 3 (ipykernel)",
   "language": "python",
   "name": "python3"
  },
  "language_info": {
   "codemirror_mode": {
    "name": "ipython",
    "version": 3
   },
   "file_extension": ".py",
   "mimetype": "text/x-python",
   "name": "python",
   "nbconvert_exporter": "python",
   "pygments_lexer": "ipython3",
   "version": "3.7.10"
  }
 },
 "nbformat": 4,
 "nbformat_minor": 5
}
