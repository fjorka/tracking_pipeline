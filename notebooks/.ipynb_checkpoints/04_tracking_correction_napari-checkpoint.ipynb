{
 "cells": [
  {
   "cell_type": "code",
   "execution_count": 1,
   "id": "f49352f4",
   "metadata": {},
   "outputs": [],
   "source": [
    "%load_ext autoreload\n",
    "%autoreload 2\n",
    "\n",
    "import os\n",
    "import sys\n",
    "import warnings\n",
    "import pandas as pd\n",
    "import numpy as np\n",
    "from tifffile import imread\n",
    "from nd2reader import ND2Reader\n",
    "\n",
    "import napari\n",
    "from napari import Viewer\n",
    "from magicgui.widgets import Container\n",
    "from magicgui import magicgui\n",
    "\n",
    "sys.path.append('../libraries')\n",
    "import general_functions as gen\n",
    "import napari_build_viewer as bv_f\n",
    "import input_functions as inp_f"
   ]
  },
  {
   "cell_type": "code",
   "execution_count": 2,
   "id": "af34d0ec",
   "metadata": {},
   "outputs": [],
   "source": [
    "warnings.filterwarnings('ignore')"
   ]
  },
  {
   "cell_type": "markdown",
   "id": "e43bd461",
   "metadata": {},
   "source": [
    "## Define experiment"
   ]
  },
  {
   "cell_type": "code",
   "execution_count": 3,
   "id": "40d35e83",
   "metadata": {},
   "outputs": [],
   "source": [
    "info_file_path = r'D:\\BARC\\BARC_Wanjuan\\210603_B3_5\\210603_halo_B3_5_info.txt'"
   ]
  },
  {
   "cell_type": "code",
   "execution_count": 4,
   "id": "5123d1f1",
   "metadata": {},
   "outputs": [],
   "source": [
    "# read the file\n",
    "info_file = open(info_file_path, 'r')\n",
    "info_lines = info_file.readlines()\n",
    "info_file.close()\n",
    "\n",
    "# read info about the data frame\n",
    "exp_dir,df_name = inp_f.read_df_info(info_lines)\n",
    "\n",
    "# read in the data frame\n",
    "df = pd.read_pickle(os.path.join(exp_dir,'df',df_name))\n",
    "\n",
    "# get info about the channels\n",
    "channel_list = inp_f.read_channels(info_lines,check=True,df=df,exp_dir=exp_dir)\n",
    "\n",
    "# get info about the tags\n",
    "tag_list = inp_f.read_tags(info_lines,df=df)\n",
    "\n",
    "# get info about what will be plotted\n",
    "graph_list = inp_f.read_graphs(info_lines,df,channel_list)\n",
    "\n",
    "# get info about the general settings\n",
    "time_threshold,small_im_size,label_contour,gen_track_columns = inp_f.read_settings(info_lines)\n",
    "\n",
    "# get info about the caluclations \n",
    "object_properties = inp_f.read_properties(info_lines)\n",
    "# consider pushing properties_ring too"
   ]
  },
  {
   "cell_type": "markdown",
   "id": "be7b999a",
   "metadata": {},
   "source": [
    "## Extract info from the data frame"
   ]
  },
  {
   "cell_type": "code",
   "execution_count": 5,
   "id": "b18a3561",
   "metadata": {},
   "outputs": [],
   "source": [
    "# sort \n",
    "df = df.sort_values(by=['track_id','t'])"
   ]
  },
  {
   "cell_type": "markdown",
   "id": "5f421af9",
   "metadata": {},
   "source": [
    "Expected execution time < 1min."
   ]
  },
  {
   "cell_type": "code",
   "execution_count": 6,
   "id": "54c16abc",
   "metadata": {},
   "outputs": [
    {
     "name": "stdout",
     "output_type": "stream",
     "text": [
      "Wall time: 6.53 s\n"
     ]
    }
   ],
   "source": [
    "%%time\n",
    "\n",
    "# generate labels layer\n",
    "labels = gen.labels_from_df(df)"
   ]
  },
  {
   "cell_type": "code",
   "execution_count": 7,
   "id": "b2924595",
   "metadata": {},
   "outputs": [],
   "source": [
    "# generate data for the tracking layer\n",
    "data,properties,graph = gen.trackData_from_df(df,col_list = gen_track_columns)"
   ]
  },
  {
   "cell_type": "code",
   "execution_count": 8,
   "id": "8c174de8",
   "metadata": {},
   "outputs": [],
   "source": [
    "# create data for tagging\n",
    "tag_data = gen.tags_from_df(df,tag_list)"
   ]
  },
  {
   "cell_type": "markdown",
   "id": "c450ffba",
   "metadata": {},
   "source": [
    "## Read in images"
   ]
  },
  {
   "cell_type": "markdown",
   "id": "a34e96b9",
   "metadata": {},
   "source": [
    "Expected execution time ~ 10s/1GB"
   ]
  },
  {
   "cell_type": "code",
   "execution_count": 9,
   "id": "51b68f1e",
   "metadata": {},
   "outputs": [
    {
     "name": "stdout",
     "output_type": "stream",
     "text": [
      "Wall time: 843 ms\n"
     ]
    }
   ],
   "source": [
    "%%time\n",
    "\n",
    "for ind,ch in enumerate(channel_list):\n",
    "    \n",
    "    im_path = os.path.join(exp_dir,'data',ch['file_name'])\n",
    "    c = ch['channel_in_file']\n",
    "    \n",
    "    channel_list[ind]['image'] = inp_f.open_movie(im_path,c)"
   ]
  },
  {
   "cell_type": "markdown",
   "id": "f8077a1f",
   "metadata": {},
   "source": [
    "## Create a viewer"
   ]
  },
  {
   "cell_type": "code",
   "execution_count": 10,
   "id": "8887aa3d",
   "metadata": {},
   "outputs": [],
   "source": [
    "viewer = napari.Viewer()\n",
    "\n",
    "# add a labels layer\n",
    "labels_layer = viewer.add_labels(labels,name='Labels',opacity = 0.4)\n",
    "\n",
    "# add a helper layer\n",
    "layer_mod = viewer.add_points([],name='Helper Points',face_color='red',ndim=3)\n",
    "\n",
    "# add a tracking layer\n",
    "track_layer=viewer.add_tracks(data, properties=properties,graph=graph,name='Tracking') #graph=graph\n",
    "\n",
    "track_layer.display_id=True\n",
    "\n",
    "# add tracks annotations\n",
    "for tag,tag_points in zip(tag_list,tag_data): \n",
    "    \n",
    "    viewer.add_points(tag_points,name=tag['tag_name'],face_color=tag['tag_color'],opacity = 1,ndim = 3)\n",
    "\n",
    "# add image layers\n",
    "for ind,ch in reversed(list(enumerate(channel_list))):\n",
    "    \n",
    "    viewer.add_image(ch['image'],name=ch['channel_name'],colormap=ch['color'],blending='additive')\n"
   ]
  },
  {
   "cell_type": "markdown",
   "id": "45397f71",
   "metadata": {},
   "source": [
    "## Build viewer functionality"
   ]
  },
  {
   "cell_type": "code",
   "execution_count": 11,
   "id": "b11ffa1a",
   "metadata": {},
   "outputs": [],
   "source": [
    "# inject global variables to the module\n",
    "\n",
    "global_variables = ['viewer',\n",
    "                    'exp_dir','df_name','df',\n",
    "                    'channel_list','graph_list',\n",
    "                    'object_properties',\n",
    "                    'time_threshold',\n",
    "                    'tag_list','gen_track_columns',\n",
    "                    'small_im_size',\n",
    "                    'label_contour'\n",
    "                   ]\n",
    "\n",
    "for var in global_variables:\n",
    "    \n",
    "    exec(f'bv_f.{var} = {var}')"
   ]
  },
  {
   "cell_type": "code",
   "execution_count": 20,
   "id": "0ae6ceb6",
   "metadata": {},
   "outputs": [],
   "source": [
    "# create widget\n",
    "\n",
    "def show_family(event):\n",
    "    \n",
    "    global viewer\n",
    "    \n",
    "    active_label = viewer.layers['Labels'].selected_label\n",
    "    \n",
    "    family_im = my_napari.generate_family_image(df,labels_layer,active_label,graph_list[0])\n",
    "    \n",
    "    # remove previous graph\n",
    "    if 'family' in viewer.window._dock_widgets.keys():\n",
    "        h = viewer.window._dock_widgets['family']\n",
    "        viewer.window.remove_dock_widget(h)\n",
    "    \n",
    "    mpl_widget = FigureCanvas(Figure(tight_layout=True))\n",
    "\n",
    "    ax = mpl_widget.figure.subplots(1)\n",
    "\n",
    "    ax.imshow(family_im,extent=[0,220,0,50])\n",
    "    ax.get_yaxis().set_visible(False)\n",
    "    ax.tick_params(axis='x', colors='white')\n",
    "\n",
    "    viewer.window.add_dock_widget(mpl_widget,area='bottom',name='family')"
   ]
  },
  {
   "cell_type": "code",
   "execution_count": 12,
   "id": "d4a876af",
   "metadata": {},
   "outputs": [
    {
     "data": {
      "text/plain": [
       "<napari._qt.widgets.qt_viewer_dock_widget.QtViewerDockWidget at 0x21f8f3a0dc8>"
      ]
     },
     "execution_count": 12,
     "metadata": {},
     "output_type": "execute_result"
    }
   ],
   "source": [
    "######################################################################\n",
    "# add saving button\n",
    "save_data = magicgui(bv_f.save_data, call_button='Save Data')\n",
    "viewer.window.add_dock_widget(save_data,area='right')\n",
    "\n",
    "######################################################################\n",
    "# add right-click to make a label active\n",
    "select_label = labels_layer.mouse_drag_callbacks.append(bv_f.select_label)\n",
    "\n",
    "######################################################################\n",
    "# add label modifications\n",
    "\n",
    "mod_label = magicgui(bv_f.mod_label,call_button='Modify Label')\n",
    "viewer.window.add_dock_widget(mod_label,area='right')\n",
    "\n",
    "mod_key = viewer.bind_key('Enter',overwrite=True,func=bv_f.mod_label)\n",
    "\n",
    "######################################################################\n",
    "# add track modifying buttons\n",
    "\n",
    "cut_track = magicgui(bv_f.cut_track, call_button='Cut Track')\n",
    "merge_track = magicgui(bv_f.merge_track, call_button='Merge Track')\n",
    "connect_track = magicgui(bv_f.connect_track, call_button='Connect Track')\n",
    "\n",
    "container_tracks = Container(widgets=[cut_track,merge_track,connect_track],labels=False)\n",
    "viewer.window.add_dock_widget(container_tracks,area='right') \n",
    "\n",
    "######################################################################\n",
    "# add right-click toggle track tags\n",
    "for tag_name in [x['tag_name'] for x in tag_list]:\n",
    "    \n",
    "    viewer.layers[tag_name].mouse_drag_callbacks.append(bv_f.toggle_track)\n",
    "    \n",
    "######################################################################\n",
    "# add small stack display button\n",
    "\n",
    "stack_button = magicgui(bv_f.show_stack, call_button='Show Stack')\n",
    "viewer.window.add_dock_widget(stack_button,area='right')"
   ]
  },
  {
   "cell_type": "code",
   "execution_count": 22,
   "id": "ee223566",
   "metadata": {},
   "outputs": [],
   "source": [
    "import pyqtgraph as pg\n",
    "from qtpy.QtCore import Qt\n",
    "from qtpy.QtWidgets import QVBoxLayout, QWidget"
   ]
  },
  {
   "cell_type": "code",
   "execution_count": 23,
   "id": "83661c64",
   "metadata": {},
   "outputs": [],
   "source": [
    "# this is creating a graph\n",
    "\n",
    "layout = QVBoxLayout()\n",
    "plot_widget = pg.GraphicsLayoutWidget()\n",
    "plot_view = plot_widget.addPlot(title=\"Lineage tree\", labels={\"bottom\": \"Time\"})\n",
    "plot_view.hideAxis(\"left\")\n",
    "layout.addWidget(plot_widget)\n",
    "layout.setAlignment(Qt.AlignTop)\n",
    "layout.setSpacing(4)"
   ]
  },
  {
   "cell_type": "code",
   "execution_count": 24,
   "id": "7369ac57",
   "metadata": {},
   "outputs": [
    {
     "data": {
      "text/plain": [
       "<napari._qt.widgets.qt_viewer_dock_widget.QtViewerDockWidget at 0x26f8c2cfd38>"
      ]
     },
     "execution_count": 24,
     "metadata": {},
     "output_type": "execute_result"
    }
   ],
   "source": [
    "viewer.window.add_dock_widget(plot_widget,area='bottom',name='family')"
   ]
  },
  {
   "cell_type": "code",
   "execution_count": 13,
   "id": "f2b9972d",
   "metadata": {},
   "outputs": [],
   "source": [
    "import napari_display_functions as my_napari\n",
    "from ete3 import Tree, TreeStyle"
   ]
  },
  {
   "cell_type": "code",
   "execution_count": 16,
   "id": "a913f652",
   "metadata": {},
   "outputs": [
    {
     "data": {
      "text/plain": [
       "<matplotlib.image.AxesImage at 0x21f8d352308>"
      ]
     },
     "execution_count": 16,
     "metadata": {},
     "output_type": "execute_result"
    },
    {
     "data": {
      "image/png": "[encoded data removed]",
      "text/plain": [
       "<Figure size 432x288 with 1 Axes>"
      ]
     },
     "metadata": {
      "needs_background": "light"
     },
     "output_type": "display_data"
    }
   ],
   "source": [
    "current_track = 651\n",
    "\n",
    "family_im = my_napari.generate_family_image(df,labels_layer,current_track,graph_list[0])\n",
    "plt.imshow(family_im)"
   ]
  },
  {
   "cell_type": "code",
   "execution_count": 17,
   "id": "afb5646c",
   "metadata": {},
   "outputs": [],
   "source": [
    "# find graph for everyone\n",
    "_,_,graph = gen.trackData_from_df(df,col_list = ['track_id'])\n",
    "\n",
    "# find the root\n",
    "my_root = int(list(df.loc[df.track_id==current_track,'root'])[0])\n",
    "paths=gen.find_all_paths(graph,my_root)\n",
    "\n",
    "# generate the family tree\n",
    "t = my_napari.generate_tree(paths,df)"
   ]
  },
  {
   "cell_type": "code",
   "execution_count": 18,
   "id": "5a902059",
   "metadata": {},
   "outputs": [],
   "source": [
    "ts = TreeStyle()\n",
    "ts.show_leaf_name = True\n",
    "\n",
    "test = t.render('family_tree.png',tree_style=ts,w=150,units='mm',dpi=800)"
   ]
  },
  {
   "cell_type": "code",
   "execution_count": 19,
   "id": "84ccfdfd",
   "metadata": {},
   "outputs": [
    {
     "data": {
      "text/plain": [
       "{'nodes': [],\n",
       " 'faces': [[3466.777644911525,\n",
       "   51.216308605085686,\n",
       "   4004.5488852649246,\n",
       "   460.9467774457712,\n",
       "   4,\n",
       "   '660']],\n",
       " 'node_areas': {0: [25.60815430254284,\n",
       "   25.608154302542843,\n",
       "   4698.801289697457,\n",
       "   460.9467774457712],\n",
       "  1: [89.33351523974622,\n",
       "   25.608154302542843,\n",
       "   4698.801289697457,\n",
       "   460.9467774457712],\n",
       "  2: [2298.4793610627967,\n",
       "   25.608154302542843,\n",
       "   4698.801289697457,\n",
       "   51.216308605085686],\n",
       "  3: [4677.55950271839,\n",
       "   25.608154302542843,\n",
       "   4698.801289697458,\n",
       "   51.216308605085686],\n",
       "  4: [2298.4793610627967,\n",
       "   51.216308605085686,\n",
       "   4004.5488852649246,\n",
       "   460.9467774457712]}}"
      ]
     },
     "execution_count": 19,
     "metadata": {},
     "output_type": "execute_result"
    }
   ],
   "source": [
    "test"
   ]
  },
  {
   "cell_type": "code",
   "execution_count": 154,
   "id": "c7ce4efa",
   "metadata": {},
   "outputs": [],
   "source": [
    "family_im = my_napari.generate_family_image(df,labels_layer,active_label,graph_list[0])"
   ]
  },
  {
   "cell_type": "code",
   "execution_count": 156,
   "id": "e1fffd92",
   "metadata": {},
   "outputs": [
    {
     "data": {
      "text/plain": [
       "(240, 4724, 4)"
      ]
     },
     "execution_count": 156,
     "metadata": {},
     "output_type": "execute_result"
    }
   ],
   "source": [
    "family_im.shape"
   ]
  },
  {
   "cell_type": "code",
   "execution_count": 124,
   "id": "1485df64",
   "metadata": {},
   "outputs": [],
   "source": [
    "def show_family():\n",
    "    \n",
    "    print('test')"
   ]
  },
  {
   "cell_type": "code",
   "execution_count": 114,
   "id": "2b0c6daf",
   "metadata": {},
   "outputs": [],
   "source": [
    "show_family()"
   ]
  },
  {
   "cell_type": "code",
   "execution_count": 14,
   "id": "eb5dbfa8",
   "metadata": {},
   "outputs": [],
   "source": [
    "import napari_display_functions as my_napari\n",
    "import matplotlib.pyplot as plt\n",
    "from matplotlib.backends.backend_qt5agg import FigureCanvas\n",
    "from matplotlib.figure import Figure"
   ]
  },
  {
   "cell_type": "code",
   "execution_count": 130,
   "id": "b6af2e5a",
   "metadata": {},
   "outputs": [
    {
     "data": {
      "text/plain": [
       "<function __main__.show_family(event)>"
      ]
     },
     "execution_count": 130,
     "metadata": {},
     "output_type": "execute_result"
    }
   ],
   "source": []
  },
  {
   "cell_type": "code",
   "execution_count": 18,
   "id": "5c937a0d",
   "metadata": {},
   "outputs": [
    {
     "data": {
      "text/plain": [
       "<matplotlib.image.AxesImage at 0x23b10fa6788>"
      ]
     },
     "execution_count": 18,
     "metadata": {},
     "output_type": "execute_result"
    },
    {
     "data": {
      "image/png": "[encoded data removed]",
      "text/plain": [
       "<Figure size 432x288 with 1 Axes>"
      ]
     },
     "metadata": {
      "needs_background": "light"
     },
     "output_type": "display_data"
    }
   ],
   "source": [
    "plt.imshow(family_im)"
   ]
  },
  {
   "cell_type": "code",
   "execution_count": 78,
   "id": "91ec6022",
   "metadata": {},
   "outputs": [
    {
     "data": {
      "text/plain": [
       "<napari._qt.widgets.qt_viewer_dock_widget.QtViewerDockWidget at 0x23b11535948>"
      ]
     },
     "execution_count": 78,
     "metadata": {},
     "output_type": "execute_result"
    }
   ],
   "source": [
    "# add family graph display button\n",
    "\n",
    "family_button = magicgui(show_family, call_button='Show Family')\n",
    "viewer.window.add_dock_widget(family_button,area='right')"
   ]
  },
  {
   "cell_type": "code",
   "execution_count": 34,
   "id": "bbe6d236",
   "metadata": {},
   "outputs": [
    {
     "data": {
      "text/plain": [
       "{299: 278, 300: 278, 651: 132, 660: 132, 677: 669, 678: 669}"
      ]
     },
     "execution_count": 34,
     "metadata": {},
     "output_type": "execute_result"
    }
   ],
   "source": [
    "graph"
   ]
  },
  {
   "cell_type": "code",
   "execution_count": 26,
   "id": "efc02af1",
   "metadata": {},
   "outputs": [
    {
     "data": {
      "text/plain": [
       "<matplotlib.image.AxesImage at 0x23b0defc188>"
      ]
     },
     "execution_count": 26,
     "metadata": {},
     "output_type": "execute_result"
    },
    {
     "data": {
      "image/png": "[encoded data removed]",
      "text/plain": [
       "<Figure size 432x288 with 1 Axes>"
      ]
     },
     "metadata": {
      "needs_background": "light"
     },
     "output_type": "display_data"
    },
    {
     "name": "stderr",
     "output_type": "stream",
     "text": [
      "WARNING: QMainWindow::saveState(): 'objectName' not set for QDockWidget 0x23b0fcd1b80 ';\n",
      "WARNING: QMainWindow::saveState(): 'objectName' not set for QDockWidget 0x23b0fccfd50 ';\n"
     ]
    }
   ],
   "source": [
    "active_label = viewer.layers['Labels'].selected_label\n",
    "test = my_napari.generate_family_image(df,labels_layer,active_label,graph_list[0])\n",
    "plt.imshow(test)"
   ]
  },
  {
   "cell_type": "code",
   "execution_count": 54,
   "id": "0631a02b",
   "metadata": {},
   "outputs": [],
   "source": [
    "viewer.layers['Labels'].selected_label = 5"
   ]
  },
  {
   "cell_type": "code",
   "execution_count": 131,
   "id": "5fceb678",
   "metadata": {},
   "outputs": [],
   "source": [
    "df = bv_f.df"
   ]
  },
  {
   "cell_type": "code",
   "execution_count": 132,
   "id": "91556cba",
   "metadata": {},
   "outputs": [
    {
     "data": {
      "text/html": [
       "<div>\n",
       "<style scoped>\n",
       "    .dataframe tbody tr th:only-of-type {\n",
       "        vertical-align: middle;\n",
       "    }\n",
       "\n",
       "    .dataframe tbody tr th {\n",
       "        vertical-align: top;\n",
       "    }\n",
       "\n",
       "    .dataframe thead th {\n",
       "        text-align: right;\n",
       "    }\n",
       "</style>\n",
       "<table border=\"1\" class=\"dataframe\">\n",
       "  <thead>\n",
       "    <tr style=\"text-align: right;\">\n",
       "      <th></th>\n",
       "      <th>t</th>\n",
       "      <th>track_id</th>\n",
       "      <th>root</th>\n",
       "      <th>parent</th>\n",
       "      <th>generation</th>\n",
       "    </tr>\n",
       "  </thead>\n",
       "  <tbody>\n",
       "    <tr>\n",
       "      <th>13118</th>\n",
       "      <td>169</td>\n",
       "      <td>7.0</td>\n",
       "      <td>7.0</td>\n",
       "      <td>7.0</td>\n",
       "      <td>0.0</td>\n",
       "    </tr>\n",
       "    <tr>\n",
       "      <th>13119</th>\n",
       "      <td>170</td>\n",
       "      <td>7.0</td>\n",
       "      <td>7.0</td>\n",
       "      <td>7.0</td>\n",
       "      <td>0.0</td>\n",
       "    </tr>\n",
       "  </tbody>\n",
       "</table>\n",
       "</div>"
      ],
      "text/plain": [
       "         t  track_id  root  parent  generation\n",
       "13118  169       7.0   7.0     7.0         0.0\n",
       "13119  170       7.0   7.0     7.0         0.0"
      ]
     },
     "execution_count": 132,
     "metadata": {},
     "output_type": "execute_result"
    }
   ],
   "source": [
    "df.loc[df.track_id==7,['t','track_id','root','parent','generation']]"
   ]
  },
  {
   "cell_type": "code",
   "execution_count": 80,
   "id": "1ff56b17",
   "metadata": {},
   "outputs": [
    {
     "data": {
      "text/plain": [
       "<function __main__.points_modified(event)>"
      ]
     },
     "execution_count": 80,
     "metadata": {},
     "output_type": "execute_result"
    },
    {
     "name": "stdout",
     "output_type": "stream",
     "text": [
      "selected label changed\n",
      "selected label changed\n",
      "selected label changed\n"
     ]
    }
   ],
   "source": [
    "labels_layer.events.selected_label.connect(points_modified)"
   ]
  },
  {
   "cell_type": "code",
   "execution_count": null,
   "id": "bddcadca",
   "metadata": {},
   "outputs": [],
   "source": []
  }
 ],
 "metadata": {
  "kernelspec": {
   "display_name": "Python 3 (ipykernel)",
   "language": "python",
   "name": "python3"
  },
  "language_info": {
   "codemirror_mode": {
    "name": "ipython",
    "version": 3
   },
   "file_extension": ".py",
   "mimetype": "text/x-python",
   "name": "python",
   "nbconvert_exporter": "python",
   "pygments_lexer": "ipython3",
   "version": "3.7.10"
  }
 },
 "nbformat": 4,
 "nbformat_minor": 5
}
