{
 "cells": [
  {
   "cell_type": "code",
   "execution_count": 43,
   "id": "fb02ff19",
   "metadata": {},
   "outputs": [
    {
     "name": "stdout",
     "output_type": "stream",
     "text": [
      "The autoreload extension is already loaded. To reload it, use:\n",
      "  %reload_ext autoreload\n"
     ]
    }
   ],
   "source": [
    "%load_ext autoreload\n",
    "%autoreload 2\n",
    "\n",
    "import os\n",
    "import sys\n",
    "import numpy as np\n",
    "import pandas as pd\n",
    "\n",
    "from skimage import measure\n",
    "from skimage.io import imread\n",
    "from skimage.segmentation import clear_border\n",
    "\n",
    "import ipywidgets as widgets\n",
    "\n",
    "sys.path.append('../libraries')\n",
    "from ring_functions import make_rings\n",
    "import input_functions as inp_f"
   ]
  },
  {
   "cell_type": "code",
   "execution_count": 44,
   "id": "f122e19d",
   "metadata": {},
   "outputs": [],
   "source": [
    "info_file_path = r'Z:\\Sonja\\210910_endo_meso_52\\210910_endo_meso_52_info.txt'"
   ]
  },
  {
   "cell_type": "code",
   "execution_count": 45,
   "id": "da1bd8aa",
   "metadata": {},
   "outputs": [],
   "source": [
    "# read the info file\n",
    "info_file = open(info_file_path, 'r')\n",
    "info_lines = info_file.readlines()\n",
    "info_file.close()\n",
    "\n",
    "# read info about the data frame\n",
    "exp_dir,df_name = inp_f.read_df_info(info_lines)\n",
    "\n",
    "# get info about the channels\n",
    "channel_list = inp_f.read_channels(info_lines)\n",
    "\n",
    "# setting directories\n",
    "labels_dir = os.path.join(exp_dir,'segmentation')\n",
    "im_dir = os.path.join(exp_dir,'data')\n",
    "df_dir = os.path.join(exp_dir,'df')\n",
    "\n",
    "# reading labels \n",
    "file_list = [x for x in os.listdir(labels_dir) if 'label' in x]"
   ]
  },
  {
   "cell_type": "code",
   "execution_count": 46,
   "id": "ab3507df",
   "metadata": {},
   "outputs": [],
   "source": [
    "# setting properties to calculate\n",
    "properties = ['label', 'area','centroid','orientation','major_axis_length','minor_axis_length','bbox','image','mean_intensity']\n",
    "properties_ring = ['label','centroid','mean_intensity']"
   ]
  },
  {
   "cell_type": "code",
   "execution_count": 47,
   "id": "22f9a6fe",
   "metadata": {},
   "outputs": [],
   "source": [
    "# create slider\n",
    "progress_bar = widgets.IntProgress(\n",
    "    step=1,\n",
    "    description='Processing:',\n",
    "    orientation='horizontal',\n",
    "    min = 0,\n",
    "    max = len(file_list)-1,\n",
    "    value = 0\n",
    ")"
   ]
  },
  {
   "cell_type": "code",
   "execution_count": 48,
   "id": "84c06bcd",
   "metadata": {},
   "outputs": [
    {
     "data": {
      "application/vnd.jupyter.widget-view+json": {
       "model_id": "5475a55b6c3c45d4a8237af177a2b19c",
       "version_major": 2,
       "version_minor": 0
      },
      "text/plain": [
       "IntProgress(value=0, description='Processing:', max=1032)"
      ]
     },
     "metadata": {},
     "output_type": "display_data"
    }
   ],
   "source": [
    "#%%time\n",
    "\n",
    "display(progress_bar)\n",
    "cellDataList=[]\n",
    "\n",
    "for label_file in file_list:\n",
    "\n",
    "    frame = int(label_file.split('_')[-2])\n",
    "    \n",
    "    # update about progress\n",
    "    progress_bar.value = frame\n",
    "    \n",
    "    # open labels\n",
    "    label_path = os.path.join(labels_dir,label_file)\n",
    "    labels_2D = imread(label_path)\n",
    "    \n",
    "    # clear border objects\n",
    "    labels_2D = clear_border(labels_2D)\n",
    "    \n",
    "    # read images for intensity calculations\n",
    "    intensity_list = []\n",
    "    for i in np.arange(len(channel_list)):\n",
    "        \n",
    "        im_name = [ch['file_name'] for ch in channel_list if ch['channel_number']==i][0]\n",
    "        ch_number = [ch['channel_in_file'] for ch in channel_list if ch['channel_number']==i][0]\n",
    "        im_path = os.path.join(exp_dir,'data',im_name)\n",
    "        im = inp_f.open_image(im_path,c=ch_number,t=frame)\n",
    "        \n",
    "        intensity_list.append(im)\n",
    "\n",
    "    int_im = np.moveaxis(np.array(intensity_list),0,2)\n",
    "\n",
    "    # calculate properties of regions\n",
    "    cellData = pd.DataFrame(measure.regionprops_table(labels_2D, properties=properties,intensity_image=int_im))\n",
    "\n",
    "    # add info of these measurements\n",
    "    cellData['file'] = label_file\n",
    "    cellData['t'] = frame\n",
    "    \n",
    "    # calculate signals in rings\n",
    "    rings = make_rings(labels_2D,width=6,gap=1)\n",
    "    rings_prop = measure.regionprops_table(rings, properties=properties_ring,intensity_image=int_im)\n",
    "    rings_prop = pd.DataFrame(rings_prop)\n",
    "\n",
    "    cellData = pd.merge(cellData,rings_prop,how='inner',on='label',suffixes=('_nuc', '_ring'))\n",
    "\n",
    "    cellDataList.append(cellData)\n",
    "\n",
    "# put all together\n",
    "cellDataAll = pd.concat(cellDataList,ignore_index=True)\n",
    "\n",
    "# rename columns\n",
    "cellDataAll.columns = ['label', 'area', 'centroid-0', 'centroid-1',\n",
    "                       'orientation','major_axis_length', \n",
    "                       'minor_axis_length', 'bbox-0', 'bbox-1', 'bbox-2','bbox-3', \n",
    "                       'image'] + [f'mean_intensity-{x}_nuc' for x in np.arange(len(channel_list))]+['file', \n",
    "                        't', 'centroid-0_ring','centroid-1_ring'] + [f'mean_intensity-{x}_ring' \n",
    "                                                                     for x in np.arange(len(channel_list))]\n",
    "\n",
    "\n",
    "# add info\n",
    "cellDataAll['size_x'] = labels_2D.shape[0]\n",
    "cellDataAll['size_y'] = labels_2D.shape[1]\n",
    "\n",
    "# save calculations\n",
    "cellDataAll.to_pickle(os.path.join(df_dir,df_name))\n",
    "cellDataAll.to_csv(os.path.join(df_dir,df_name.replace('pkl','csv')),index=False)"
   ]
  },
  {
   "cell_type": "code",
   "execution_count": null,
   "id": "2b715701",
   "metadata": {},
   "outputs": [],
   "source": []
  }
 ],
 "metadata": {
  "kernelspec": {
   "display_name": "Python 3 (ipykernel)",
   "language": "python",
   "name": "python3"
  },
  "language_info": {
   "codemirror_mode": {
    "name": "ipython",
    "version": 3
   },
   "file_extension": ".py",
   "mimetype": "text/x-python",
   "name": "python",
   "nbconvert_exporter": "python",
   "pygments_lexer": "ipython3",
   "version": "3.7.10"
  }
 },
 "nbformat": 4,
 "nbformat_minor": 5
}
